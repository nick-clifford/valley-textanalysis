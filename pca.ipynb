{
 "cells": [
  {
   "cell_type": "markdown",
   "metadata": {},
   "source": [
    "Nick Clifford"
   ]
  },
  {
   "cell_type": "markdown",
   "metadata": {},
   "source": [
    "# Principal Component Anaylsis "
   ]
  },
  {
   "cell_type": "markdown",
   "metadata": {},
   "source": [
    "Next, I extract the principal components, or a reduced set of important features, of the original and modern texts from scratch. I hope to use these  components to explore the latent properties of the documents, authors, and era in which they lived in. "
   ]
  },
  {
   "cell_type": "markdown",
   "metadata": {},
   "source": [
    "# Setup"
   ]
  },
  {
   "cell_type": "code",
   "execution_count": 1,
   "metadata": {},
   "outputs": [],
   "source": [
    "import numpy as np\n",
    "import pandas as pd\n",
    "from scipy.linalg import eigh\n",
    "from scipy.linalg import norm\n",
    "import plotly_express as px"
   ]
  },
  {
   "cell_type": "code",
   "execution_count": 75,
   "metadata": {},
   "outputs": [],
   "source": [
    "OHCO = 'author year doc_id'.split()\n",
    "\n",
    "datadir = '/Users/nickclifford/Documents/UVA/Spring 2020/DS 5001 Exploratory Text Analysis/final/data/'\n",
    "table_out = datadir + 'tables/'\n",
    "\n",
    "LIB = pd.read_csv(datadir + 'tables/LIB_mod.csv', parse_dates=['date']).set_index('doc_id')\n",
    "TOKEN = pd.read_csv(datadir + 'tables/TOKEN_mod.csv').set_index('doc_id')\n",
    "VOCAB = pd.read_csv(datadir + 'tables/VOCAB_mod.csv').set_index('term_id')"
   ]
  },
  {
   "cell_type": "markdown",
   "metadata": {},
   "source": [
    "# Generate reduced `TFIDF` Table"
   ]
  },
  {
   "cell_type": "code",
   "execution_count": 249,
   "metadata": {},
   "outputs": [],
   "source": [
    "def get_TFIDF(TOKEN, VOCAB, LIB, OHCO=OHCO, bagging='doc_id', tf_method='sum', idf_method='standard', item='term_id'):\n",
    "    \"\"\"From TOKEN table and specified methods and OHCO bagging,\n",
    "    creates a TFIDF table along with respective DTCM tables\"\"\"\n",
    "    \n",
    "    # add author/county/date col to token\n",
    "    TOKEN = TOKEN.merge(LIB[['author', 'county', 'date']], left_index=True, right_index=True).reset_index()\n",
    "    # add stem col to token\n",
    "    TOKEN['year'] = TOKEN.date.dt.year\n",
    "    TOKEN['month'] = TOKEN.date.dt.month\n",
    "    TOKEN['stem_porter'] = TOKEN.term_id.map(VOCAB.stem_porter)\n",
    "\n",
    "    TOKEN = TOKEN[~TOKEN.pos.str.match('NNPS?')]\n",
    "    TOKEN = TOKEN.query('year != 2018')\n",
    "    \n",
    "    bag = OHCO[:OHCO.index(bagging) + 1]\n",
    "    \n",
    "    if item == 'term_str':\n",
    "        BOW = TOKEN.groupby(bag+['term_str']).term_str.count()\\\n",
    "        .to_frame().rename(columns={'term_str':'n'})\n",
    "    elif item == 'term_id':\n",
    "        BOW = TOKEN.groupby(bag+['term_id']).term_id.count()\\\n",
    "        .to_frame().rename(columns={'term_id':'n'})\n",
    "    elif item == 'stem':\n",
    "        BOW = TOKEN.groupby(bag+['stem_porter']).stem_porter.count()\\\n",
    "        .to_frame().rename(columns={'stem_porter':'n'})\n",
    "        \n",
    "    BOW['c'] = BOW.n.astype('bool').astype('int')\n",
    "    DTCM = BOW['n'].unstack().fillna(0).astype('int')\n",
    "    \n",
    "    \n",
    "    if tf_method == 'sum':\n",
    "        TF = DTCM.T / DTCM.T.sum()\n",
    "\n",
    "    elif tf_method == 'max':\n",
    "        TF = DTCM.T / DTCM.T.max()\n",
    "\n",
    "    elif tf_method == 'log':\n",
    "        TF = np.log10(1 + DTCM.T)\n",
    "\n",
    "    elif tf_method == 'raw':\n",
    "        TF = DTCM.T\n",
    "\n",
    "    elif tf_method == 'double_norm':\n",
    "        TF = DTCM.T / DTCM.T.max()\n",
    "        TF = tf_norm_k + (1 - tf_norm_k) * TF[TF > 0] # EXPLAIN; may defeat purpose of norming\n",
    "\n",
    "    elif tf_method == 'binary':\n",
    "        TF = DTCM.T.astype('bool').astype('int')\n",
    "    \n",
    "    TF = TF.T\n",
    "    DF = DTCM[DTCM > 0].count()\n",
    "    N = DTCM.shape[0]\n",
    "    \n",
    "    if idf_method == 'standard':\n",
    "        IDF = np.log10(N / DF)\n",
    "\n",
    "    elif idf_method == 'max':\n",
    "        IDF = np.log10(DF.max() / DF) \n",
    "\n",
    "    elif idf_method == 'smooth':\n",
    "        IDF = np.log10((1 + N) / (1 + DF)) + 1 # Correct?\n",
    "\n",
    "    TFIDF = TF * IDF\n",
    "    \n",
    "    return TFIDF, DTCM"
   ]
  },
  {
   "cell_type": "code",
   "execution_count": 250,
   "metadata": {},
   "outputs": [],
   "source": [
    "TFIDF, DTCM = get_TFIDF(TOKEN, VOCAB, LIB, OHCO)"
   ]
  },
  {
   "cell_type": "markdown",
   "metadata": {},
   "source": [
    "Bag at higher level"
   ]
  },
  {
   "cell_type": "code",
   "execution_count": 251,
   "metadata": {},
   "outputs": [],
   "source": [
    "TFIDF = TFIDF.groupby(OHCO).mean()"
   ]
  },
  {
   "cell_type": "markdown",
   "metadata": {},
   "source": [
    "Reduce `TFIDF` to the upper 80% TFIDF sum"
   ]
  },
  {
   "cell_type": "code",
   "execution_count": 252,
   "metadata": {},
   "outputs": [],
   "source": [
    "sig_terms = TFIDF.sum()[TFIDF.sum() > TFIDF.sum().quantile(.80)]"
   ]
  },
  {
   "cell_type": "code",
   "execution_count": 253,
   "metadata": {},
   "outputs": [],
   "source": [
    "TFIDF = TFIDF.T.loc[pd.IndexSlice[sig_terms.index.tolist()],:].T"
   ]
  },
  {
   "cell_type": "code",
   "execution_count": 254,
   "metadata": {},
   "outputs": [
    {
     "data": {
      "text/plain": [
       "(1741, 3726)"
      ]
     },
     "execution_count": 254,
     "metadata": {},
     "output_type": "execute_result"
    }
   ],
   "source": [
    "TFIDF.shape"
   ]
  },
  {
   "cell_type": "markdown",
   "metadata": {},
   "source": [
    "## Normalize doc vector lengths\n",
    "\n",
    "We use L2 normalization"
   ]
  },
  {
   "cell_type": "code",
   "execution_count": 255,
   "metadata": {},
   "outputs": [],
   "source": [
    "TFIDF = TFIDF.apply(lambda x: x / np.sqrt(np.square(x).sum()), 1)"
   ]
  },
  {
   "cell_type": "markdown",
   "metadata": {},
   "source": [
    "## Normalize term vector variance\n",
    "\n",
    "We do **not** normalize variance, which we would normally do, such as with data containing divergent units of measure. \\\n",
    "This is because to do so would exaggerate the importance of rare words (see Ng, 2008: 6m40s &mdash; 8m00s)."
   ]
  },
  {
   "cell_type": "markdown",
   "metadata": {},
   "source": [
    "## Center the word vectors\n",
    "\n",
    "Note that we are taking the column-wise means -- the means for the term vectors. \\\n",
    "We don't really need to do this. But it is typical for PCA. \\\n",
    "**NOTE:** Some argue that centering alters the cosine angles."
   ]
  },
  {
   "cell_type": "code",
   "execution_count": 256,
   "metadata": {},
   "outputs": [],
   "source": [
    "TFIDF = TFIDF - TFIDF.mean()"
   ]
  },
  {
   "cell_type": "code",
   "execution_count": 257,
   "metadata": {},
   "outputs": [
    {
     "data": {
      "text/html": [
       "<div>\n",
       "<style scoped>\n",
       "    .dataframe tbody tr th:only-of-type {\n",
       "        vertical-align: middle;\n",
       "    }\n",
       "\n",
       "    .dataframe tbody tr th {\n",
       "        vertical-align: top;\n",
       "    }\n",
       "\n",
       "    .dataframe thead th {\n",
       "        text-align: right;\n",
       "    }\n",
       "</style>\n",
       "<table border=\"1\" class=\"dataframe\">\n",
       "  <thead>\n",
       "    <tr style=\"text-align: right;\">\n",
       "      <th></th>\n",
       "      <th></th>\n",
       "      <th>term_id</th>\n",
       "      <th>233</th>\n",
       "      <th>567</th>\n",
       "      <th>610</th>\n",
       "      <th>673</th>\n",
       "      <th>828</th>\n",
       "      <th>1048</th>\n",
       "      <th>1191</th>\n",
       "      <th>1306</th>\n",
       "      <th>1362</th>\n",
       "      <th>1406</th>\n",
       "      <th>...</th>\n",
       "      <th>4061</th>\n",
       "      <th>7325</th>\n",
       "      <th>10921</th>\n",
       "      <th>19558</th>\n",
       "      <th>21934</th>\n",
       "      <th>5083</th>\n",
       "      <th>16341</th>\n",
       "      <th>23534</th>\n",
       "      <th>14907</th>\n",
       "      <th>20003</th>\n",
       "    </tr>\n",
       "    <tr>\n",
       "      <th>author</th>\n",
       "      <th>year</th>\n",
       "      <th>doc_id</th>\n",
       "      <th></th>\n",
       "      <th></th>\n",
       "      <th></th>\n",
       "      <th></th>\n",
       "      <th></th>\n",
       "      <th></th>\n",
       "      <th></th>\n",
       "      <th></th>\n",
       "      <th></th>\n",
       "      <th></th>\n",
       "      <th></th>\n",
       "      <th></th>\n",
       "      <th></th>\n",
       "      <th></th>\n",
       "      <th></th>\n",
       "      <th></th>\n",
       "      <th></th>\n",
       "      <th></th>\n",
       "      <th></th>\n",
       "      <th></th>\n",
       "      <th></th>\n",
       "    </tr>\n",
       "  </thead>\n",
       "  <tbody>\n",
       "    <tr>\n",
       "      <th>\"A deserter from the Rebel army\"</th>\n",
       "      <th>1863.0</th>\n",
       "      <th>F0926</th>\n",
       "      <td>0.067383</td>\n",
       "      <td>0.066442</td>\n",
       "      <td>-0.003839</td>\n",
       "      <td>0.060992</td>\n",
       "      <td>0.237867</td>\n",
       "      <td>0.116931</td>\n",
       "      <td>-0.000358</td>\n",
       "      <td>0.003032</td>\n",
       "      <td>0.062275</td>\n",
       "      <td>-0.001529</td>\n",
       "      <td>...</td>\n",
       "      <td>-0.000261</td>\n",
       "      <td>-0.000261</td>\n",
       "      <td>-0.000261</td>\n",
       "      <td>-0.000234</td>\n",
       "      <td>-0.000234</td>\n",
       "      <td>-0.000303</td>\n",
       "      <td>-0.000308</td>\n",
       "      <td>-0.00025</td>\n",
       "      <td>-0.000264</td>\n",
       "      <td>-0.000272</td>\n",
       "    </tr>\n",
       "    <tr>\n",
       "      <th>(probably L. [Letitia?] R. Smiley)</th>\n",
       "      <th>1866.0</th>\n",
       "      <th>A1114</th>\n",
       "      <td>-0.003993</td>\n",
       "      <td>-0.004449</td>\n",
       "      <td>0.003893</td>\n",
       "      <td>-0.004702</td>\n",
       "      <td>-0.003378</td>\n",
       "      <td>-0.006174</td>\n",
       "      <td>0.001979</td>\n",
       "      <td>-0.015295</td>\n",
       "      <td>-0.004827</td>\n",
       "      <td>0.003808</td>\n",
       "      <td>...</td>\n",
       "      <td>-0.000261</td>\n",
       "      <td>-0.000261</td>\n",
       "      <td>-0.000261</td>\n",
       "      <td>-0.000234</td>\n",
       "      <td>-0.000234</td>\n",
       "      <td>-0.000303</td>\n",
       "      <td>-0.000308</td>\n",
       "      <td>-0.00025</td>\n",
       "      <td>-0.000264</td>\n",
       "      <td>-0.000272</td>\n",
       "    </tr>\n",
       "    <tr>\n",
       "      <th>A Brother</th>\n",
       "      <th>1863.0</th>\n",
       "      <th>F0039</th>\n",
       "      <td>-0.003993</td>\n",
       "      <td>-0.004449</td>\n",
       "      <td>-0.001859</td>\n",
       "      <td>-0.004702</td>\n",
       "      <td>-0.003378</td>\n",
       "      <td>-0.006174</td>\n",
       "      <td>0.003544</td>\n",
       "      <td>-0.015295</td>\n",
       "      <td>-0.004827</td>\n",
       "      <td>0.005793</td>\n",
       "      <td>...</td>\n",
       "      <td>-0.000261</td>\n",
       "      <td>-0.000261</td>\n",
       "      <td>-0.000261</td>\n",
       "      <td>-0.000234</td>\n",
       "      <td>-0.000234</td>\n",
       "      <td>-0.000303</td>\n",
       "      <td>-0.000308</td>\n",
       "      <td>-0.00025</td>\n",
       "      <td>-0.000264</td>\n",
       "      <td>-0.000272</td>\n",
       "    </tr>\n",
       "    <tr>\n",
       "      <th>A Son</th>\n",
       "      <th>1862.0</th>\n",
       "      <th>A0547</th>\n",
       "      <td>-0.003993</td>\n",
       "      <td>-0.004449</td>\n",
       "      <td>-0.007359</td>\n",
       "      <td>-0.004702</td>\n",
       "      <td>-0.003378</td>\n",
       "      <td>-0.006174</td>\n",
       "      <td>-0.010185</td>\n",
       "      <td>-0.005128</td>\n",
       "      <td>-0.004827</td>\n",
       "      <td>-0.003071</td>\n",
       "      <td>...</td>\n",
       "      <td>-0.000261</td>\n",
       "      <td>-0.000261</td>\n",
       "      <td>-0.000261</td>\n",
       "      <td>-0.000234</td>\n",
       "      <td>-0.000234</td>\n",
       "      <td>-0.000303</td>\n",
       "      <td>-0.000308</td>\n",
       "      <td>-0.00025</td>\n",
       "      <td>-0.000264</td>\n",
       "      <td>-0.000272</td>\n",
       "    </tr>\n",
       "    <tr>\n",
       "      <th>A wife</th>\n",
       "      <th>1883.0</th>\n",
       "      <th>A5063</th>\n",
       "      <td>-0.003993</td>\n",
       "      <td>-0.004449</td>\n",
       "      <td>-0.002465</td>\n",
       "      <td>-0.004702</td>\n",
       "      <td>-0.003378</td>\n",
       "      <td>0.072735</td>\n",
       "      <td>-0.009288</td>\n",
       "      <td>-0.003547</td>\n",
       "      <td>-0.004827</td>\n",
       "      <td>-0.000902</td>\n",
       "      <td>...</td>\n",
       "      <td>-0.000261</td>\n",
       "      <td>-0.000261</td>\n",
       "      <td>-0.000261</td>\n",
       "      <td>-0.000234</td>\n",
       "      <td>-0.000234</td>\n",
       "      <td>-0.000303</td>\n",
       "      <td>-0.000308</td>\n",
       "      <td>-0.00025</td>\n",
       "      <td>-0.000264</td>\n",
       "      <td>-0.000272</td>\n",
       "    </tr>\n",
       "  </tbody>\n",
       "</table>\n",
       "<p>5 rows × 3726 columns</p>\n",
       "</div>"
      ],
      "text/plain": [
       "term_id                                              233       567    \\\n",
       "author                             year   doc_id                       \n",
       "\"A deserter from the Rebel army\"   1863.0 F0926   0.067383  0.066442   \n",
       "(probably L. [Letitia?] R. Smiley) 1866.0 A1114  -0.003993 -0.004449   \n",
       "A Brother                          1863.0 F0039  -0.003993 -0.004449   \n",
       "A Son                              1862.0 A0547  -0.003993 -0.004449   \n",
       "A wife                             1883.0 A5063  -0.003993 -0.004449   \n",
       "\n",
       "term_id                                              610       673    \\\n",
       "author                             year   doc_id                       \n",
       "\"A deserter from the Rebel army\"   1863.0 F0926  -0.003839  0.060992   \n",
       "(probably L. [Letitia?] R. Smiley) 1866.0 A1114   0.003893 -0.004702   \n",
       "A Brother                          1863.0 F0039  -0.001859 -0.004702   \n",
       "A Son                              1862.0 A0547  -0.007359 -0.004702   \n",
       "A wife                             1883.0 A5063  -0.002465 -0.004702   \n",
       "\n",
       "term_id                                              828       1048   \\\n",
       "author                             year   doc_id                       \n",
       "\"A deserter from the Rebel army\"   1863.0 F0926   0.237867  0.116931   \n",
       "(probably L. [Letitia?] R. Smiley) 1866.0 A1114  -0.003378 -0.006174   \n",
       "A Brother                          1863.0 F0039  -0.003378 -0.006174   \n",
       "A Son                              1862.0 A0547  -0.003378 -0.006174   \n",
       "A wife                             1883.0 A5063  -0.003378  0.072735   \n",
       "\n",
       "term_id                                              1191      1306   \\\n",
       "author                             year   doc_id                       \n",
       "\"A deserter from the Rebel army\"   1863.0 F0926  -0.000358  0.003032   \n",
       "(probably L. [Letitia?] R. Smiley) 1866.0 A1114   0.001979 -0.015295   \n",
       "A Brother                          1863.0 F0039   0.003544 -0.015295   \n",
       "A Son                              1862.0 A0547  -0.010185 -0.005128   \n",
       "A wife                             1883.0 A5063  -0.009288 -0.003547   \n",
       "\n",
       "term_id                                              1362      1406   ...  \\\n",
       "author                             year   doc_id                      ...   \n",
       "\"A deserter from the Rebel army\"   1863.0 F0926   0.062275 -0.001529  ...   \n",
       "(probably L. [Letitia?] R. Smiley) 1866.0 A1114  -0.004827  0.003808  ...   \n",
       "A Brother                          1863.0 F0039  -0.004827  0.005793  ...   \n",
       "A Son                              1862.0 A0547  -0.004827 -0.003071  ...   \n",
       "A wife                             1883.0 A5063  -0.004827 -0.000902  ...   \n",
       "\n",
       "term_id                                              4061      7325   \\\n",
       "author                             year   doc_id                       \n",
       "\"A deserter from the Rebel army\"   1863.0 F0926  -0.000261 -0.000261   \n",
       "(probably L. [Letitia?] R. Smiley) 1866.0 A1114  -0.000261 -0.000261   \n",
       "A Brother                          1863.0 F0039  -0.000261 -0.000261   \n",
       "A Son                              1862.0 A0547  -0.000261 -0.000261   \n",
       "A wife                             1883.0 A5063  -0.000261 -0.000261   \n",
       "\n",
       "term_id                                              10921     19558  \\\n",
       "author                             year   doc_id                       \n",
       "\"A deserter from the Rebel army\"   1863.0 F0926  -0.000261 -0.000234   \n",
       "(probably L. [Letitia?] R. Smiley) 1866.0 A1114  -0.000261 -0.000234   \n",
       "A Brother                          1863.0 F0039  -0.000261 -0.000234   \n",
       "A Son                              1862.0 A0547  -0.000261 -0.000234   \n",
       "A wife                             1883.0 A5063  -0.000261 -0.000234   \n",
       "\n",
       "term_id                                              21934     5083   \\\n",
       "author                             year   doc_id                       \n",
       "\"A deserter from the Rebel army\"   1863.0 F0926  -0.000234 -0.000303   \n",
       "(probably L. [Letitia?] R. Smiley) 1866.0 A1114  -0.000234 -0.000303   \n",
       "A Brother                          1863.0 F0039  -0.000234 -0.000303   \n",
       "A Son                              1862.0 A0547  -0.000234 -0.000303   \n",
       "A wife                             1883.0 A5063  -0.000234 -0.000303   \n",
       "\n",
       "term_id                                              16341    23534     14907  \\\n",
       "author                             year   doc_id                                \n",
       "\"A deserter from the Rebel army\"   1863.0 F0926  -0.000308 -0.00025 -0.000264   \n",
       "(probably L. [Letitia?] R. Smiley) 1866.0 A1114  -0.000308 -0.00025 -0.000264   \n",
       "A Brother                          1863.0 F0039  -0.000308 -0.00025 -0.000264   \n",
       "A Son                              1862.0 A0547  -0.000308 -0.00025 -0.000264   \n",
       "A wife                             1883.0 A5063  -0.000308 -0.00025 -0.000264   \n",
       "\n",
       "term_id                                              20003  \n",
       "author                             year   doc_id            \n",
       "\"A deserter from the Rebel army\"   1863.0 F0926  -0.000272  \n",
       "(probably L. [Letitia?] R. Smiley) 1866.0 A1114  -0.000272  \n",
       "A Brother                          1863.0 F0039  -0.000272  \n",
       "A Son                              1862.0 A0547  -0.000272  \n",
       "A wife                             1883.0 A5063  -0.000272  \n",
       "\n",
       "[5 rows x 3726 columns]"
      ]
     },
     "execution_count": 257,
     "metadata": {},
     "output_type": "execute_result"
    }
   ],
   "source": [
    "TFIDF.head()"
   ]
  },
  {
   "cell_type": "markdown",
   "metadata": {},
   "source": [
    "# Compute Covariance Matrix\n",
    "\n",
    "$n = |X| = |Y|$\n",
    "\n",
    "$Cov(X,Y) = \\dfrac{\\sum_{i=1}^{n} (x_i - \\mu_X) (y_i - \\mu_Y)}{n - 1} = \\dfrac{XY}{n-1}$\n",
    "\n",
    "We could we use the built in Pandas method here, but compute it ourselves."
   ]
  },
  {
   "cell_type": "code",
   "execution_count": 258,
   "metadata": {},
   "outputs": [],
   "source": [
    "COV = TFIDF.T.dot(TFIDF) / (TFIDF.shape[0] - 1)"
   ]
  },
  {
   "cell_type": "code",
   "execution_count": 259,
   "metadata": {},
   "outputs": [
    {
     "data": {
      "text/html": [
       "<style  type=\"text/css\" >\n",
       "    #T_c289d1ee_8a22_11ea_b3a3_a45e60ec6c2frow0_col0 {\n",
       "            background-color:  #023858;\n",
       "            color:  #f1f1f1;\n",
       "        }    #T_c289d1ee_8a22_11ea_b3a3_a45e60ec6c2frow0_col1 {\n",
       "            background-color:  #f4eef6;\n",
       "            color:  #000000;\n",
       "        }    #T_c289d1ee_8a22_11ea_b3a3_a45e60ec6c2frow0_col2 {\n",
       "            background-color:  #faf2f8;\n",
       "            color:  #000000;\n",
       "        }    #T_c289d1ee_8a22_11ea_b3a3_a45e60ec6c2frow0_col3 {\n",
       "            background-color:  #f7f0f7;\n",
       "            color:  #000000;\n",
       "        }    #T_c289d1ee_8a22_11ea_b3a3_a45e60ec6c2frow0_col4 {\n",
       "            background-color:  #fdf5fa;\n",
       "            color:  #000000;\n",
       "        }    #T_c289d1ee_8a22_11ea_b3a3_a45e60ec6c2frow0_col5 {\n",
       "            background-color:  #fff7fb;\n",
       "            color:  #000000;\n",
       "        }    #T_c289d1ee_8a22_11ea_b3a3_a45e60ec6c2frow0_col6 {\n",
       "            background-color:  #8cb3d5;\n",
       "            color:  #000000;\n",
       "        }    #T_c289d1ee_8a22_11ea_b3a3_a45e60ec6c2frow0_col7 {\n",
       "            background-color:  #f1ebf5;\n",
       "            color:  #000000;\n",
       "        }    #T_c289d1ee_8a22_11ea_b3a3_a45e60ec6c2frow0_col8 {\n",
       "            background-color:  #2182b9;\n",
       "            color:  #000000;\n",
       "        }    #T_c289d1ee_8a22_11ea_b3a3_a45e60ec6c2frow0_col9 {\n",
       "            background-color:  #d2d3e7;\n",
       "            color:  #000000;\n",
       "        }    #T_c289d1ee_8a22_11ea_b3a3_a45e60ec6c2frow1_col0 {\n",
       "            background-color:  #f1ebf5;\n",
       "            color:  #000000;\n",
       "        }    #T_c289d1ee_8a22_11ea_b3a3_a45e60ec6c2frow1_col1 {\n",
       "            background-color:  #023858;\n",
       "            color:  #f1f1f1;\n",
       "        }    #T_c289d1ee_8a22_11ea_b3a3_a45e60ec6c2frow1_col2 {\n",
       "            background-color:  #f7f0f7;\n",
       "            color:  #000000;\n",
       "        }    #T_c289d1ee_8a22_11ea_b3a3_a45e60ec6c2frow1_col3 {\n",
       "            background-color:  #faf3f9;\n",
       "            color:  #000000;\n",
       "        }    #T_c289d1ee_8a22_11ea_b3a3_a45e60ec6c2frow1_col4 {\n",
       "            background-color:  #fdf5fa;\n",
       "            color:  #000000;\n",
       "        }    #T_c289d1ee_8a22_11ea_b3a3_a45e60ec6c2frow1_col5 {\n",
       "            background-color:  #fcf4fa;\n",
       "            color:  #000000;\n",
       "        }    #T_c289d1ee_8a22_11ea_b3a3_a45e60ec6c2frow1_col6 {\n",
       "            background-color:  #e2dfee;\n",
       "            color:  #000000;\n",
       "        }    #T_c289d1ee_8a22_11ea_b3a3_a45e60ec6c2frow1_col7 {\n",
       "            background-color:  #69a5cc;\n",
       "            color:  #000000;\n",
       "        }    #T_c289d1ee_8a22_11ea_b3a3_a45e60ec6c2frow1_col8 {\n",
       "            background-color:  #fff7fb;\n",
       "            color:  #000000;\n",
       "        }    #T_c289d1ee_8a22_11ea_b3a3_a45e60ec6c2frow1_col9 {\n",
       "            background-color:  #a9bfdc;\n",
       "            color:  #000000;\n",
       "        }    #T_c289d1ee_8a22_11ea_b3a3_a45e60ec6c2frow2_col0 {\n",
       "            background-color:  #fff7fb;\n",
       "            color:  #000000;\n",
       "        }    #T_c289d1ee_8a22_11ea_b3a3_a45e60ec6c2frow2_col1 {\n",
       "            background-color:  #fff7fb;\n",
       "            color:  #000000;\n",
       "        }    #T_c289d1ee_8a22_11ea_b3a3_a45e60ec6c2frow2_col2 {\n",
       "            background-color:  #023858;\n",
       "            color:  #f1f1f1;\n",
       "        }    #T_c289d1ee_8a22_11ea_b3a3_a45e60ec6c2frow2_col3 {\n",
       "            background-color:  #fef6fa;\n",
       "            color:  #000000;\n",
       "        }    #T_c289d1ee_8a22_11ea_b3a3_a45e60ec6c2frow2_col4 {\n",
       "            background-color:  #fff7fb;\n",
       "            color:  #000000;\n",
       "        }    #T_c289d1ee_8a22_11ea_b3a3_a45e60ec6c2frow2_col5 {\n",
       "            background-color:  #e6e2ef;\n",
       "            color:  #000000;\n",
       "        }    #T_c289d1ee_8a22_11ea_b3a3_a45e60ec6c2frow2_col6 {\n",
       "            background-color:  #023858;\n",
       "            color:  #f1f1f1;\n",
       "        }    #T_c289d1ee_8a22_11ea_b3a3_a45e60ec6c2frow2_col7 {\n",
       "            background-color:  #023858;\n",
       "            color:  #f1f1f1;\n",
       "        }    #T_c289d1ee_8a22_11ea_b3a3_a45e60ec6c2frow2_col8 {\n",
       "            background-color:  #023858;\n",
       "            color:  #f1f1f1;\n",
       "        }    #T_c289d1ee_8a22_11ea_b3a3_a45e60ec6c2frow2_col9 {\n",
       "            background-color:  #023858;\n",
       "            color:  #f1f1f1;\n",
       "        }    #T_c289d1ee_8a22_11ea_b3a3_a45e60ec6c2frow3_col0 {\n",
       "            background-color:  #f6eff7;\n",
       "            color:  #000000;\n",
       "        }    #T_c289d1ee_8a22_11ea_b3a3_a45e60ec6c2frow3_col1 {\n",
       "            background-color:  #fbf3f9;\n",
       "            color:  #000000;\n",
       "        }    #T_c289d1ee_8a22_11ea_b3a3_a45e60ec6c2frow3_col2 {\n",
       "            background-color:  #e4e1ef;\n",
       "            color:  #000000;\n",
       "        }    #T_c289d1ee_8a22_11ea_b3a3_a45e60ec6c2frow3_col3 {\n",
       "            background-color:  #023858;\n",
       "            color:  #f1f1f1;\n",
       "        }    #T_c289d1ee_8a22_11ea_b3a3_a45e60ec6c2frow3_col4 {\n",
       "            background-color:  #fef6fb;\n",
       "            color:  #000000;\n",
       "        }    #T_c289d1ee_8a22_11ea_b3a3_a45e60ec6c2frow3_col5 {\n",
       "            background-color:  #dedcec;\n",
       "            color:  #000000;\n",
       "        }    #T_c289d1ee_8a22_11ea_b3a3_a45e60ec6c2frow3_col6 {\n",
       "            background-color:  #d5d5e8;\n",
       "            color:  #000000;\n",
       "        }    #T_c289d1ee_8a22_11ea_b3a3_a45e60ec6c2frow3_col7 {\n",
       "            background-color:  #fff7fb;\n",
       "            color:  #000000;\n",
       "        }    #T_c289d1ee_8a22_11ea_b3a3_a45e60ec6c2frow3_col8 {\n",
       "            background-color:  #73a9cf;\n",
       "            color:  #000000;\n",
       "        }    #T_c289d1ee_8a22_11ea_b3a3_a45e60ec6c2frow3_col9 {\n",
       "            background-color:  #f6eff7;\n",
       "            color:  #000000;\n",
       "        }    #T_c289d1ee_8a22_11ea_b3a3_a45e60ec6c2frow4_col0 {\n",
       "            background-color:  #fef6fa;\n",
       "            color:  #000000;\n",
       "        }    #T_c289d1ee_8a22_11ea_b3a3_a45e60ec6c2frow4_col1 {\n",
       "            background-color:  #fef6fb;\n",
       "            color:  #000000;\n",
       "        }    #T_c289d1ee_8a22_11ea_b3a3_a45e60ec6c2frow4_col2 {\n",
       "            background-color:  #fff7fb;\n",
       "            color:  #000000;\n",
       "        }    #T_c289d1ee_8a22_11ea_b3a3_a45e60ec6c2frow4_col3 {\n",
       "            background-color:  #fff7fb;\n",
       "            color:  #000000;\n",
       "        }    #T_c289d1ee_8a22_11ea_b3a3_a45e60ec6c2frow4_col4 {\n",
       "            background-color:  #023858;\n",
       "            color:  #f1f1f1;\n",
       "        }    #T_c289d1ee_8a22_11ea_b3a3_a45e60ec6c2frow4_col5 {\n",
       "            background-color:  #023858;\n",
       "            color:  #f1f1f1;\n",
       "        }    #T_c289d1ee_8a22_11ea_b3a3_a45e60ec6c2frow4_col6 {\n",
       "            background-color:  #fff7fb;\n",
       "            color:  #000000;\n",
       "        }    #T_c289d1ee_8a22_11ea_b3a3_a45e60ec6c2frow4_col7 {\n",
       "            background-color:  #ced0e6;\n",
       "            color:  #000000;\n",
       "        }    #T_c289d1ee_8a22_11ea_b3a3_a45e60ec6c2frow4_col8 {\n",
       "            background-color:  #023858;\n",
       "            color:  #f1f1f1;\n",
       "        }    #T_c289d1ee_8a22_11ea_b3a3_a45e60ec6c2frow4_col9 {\n",
       "            background-color:  #fff7fb;\n",
       "            color:  #000000;\n",
       "        }</style><table id=\"T_c289d1ee_8a22_11ea_b3a3_a45e60ec6c2f\" ><thead>    <tr>        <th class=\"index_name level0\" >term_id</th>        <th class=\"col_heading level0 col0\" >233</th>        <th class=\"col_heading level0 col1\" >567</th>        <th class=\"col_heading level0 col2\" >610</th>        <th class=\"col_heading level0 col3\" >673</th>        <th class=\"col_heading level0 col4\" >828</th>        <th class=\"col_heading level0 col5\" >1048</th>        <th class=\"col_heading level0 col6\" >1191</th>        <th class=\"col_heading level0 col7\" >1306</th>        <th class=\"col_heading level0 col8\" >1362</th>        <th class=\"col_heading level0 col9\" >1406</th>    </tr>    <tr>        <th class=\"index_name level0\" >term_id</th>        <th class=\"blank\" ></th>        <th class=\"blank\" ></th>        <th class=\"blank\" ></th>        <th class=\"blank\" ></th>        <th class=\"blank\" ></th>        <th class=\"blank\" ></th>        <th class=\"blank\" ></th>        <th class=\"blank\" ></th>        <th class=\"blank\" ></th>        <th class=\"blank\" ></th>    </tr></thead><tbody>\n",
       "                <tr>\n",
       "                        <th id=\"T_c289d1ee_8a22_11ea_b3a3_a45e60ec6c2flevel0_row0\" class=\"row_heading level0 row0\" >233</th>\n",
       "                        <td id=\"T_c289d1ee_8a22_11ea_b3a3_a45e60ec6c2frow0_col0\" class=\"data row0 col0\" >0.000312</td>\n",
       "                        <td id=\"T_c289d1ee_8a22_11ea_b3a3_a45e60ec6c2frow0_col1\" class=\"data row0 col1\" >0.000029</td>\n",
       "                        <td id=\"T_c289d1ee_8a22_11ea_b3a3_a45e60ec6c2frow0_col2\" class=\"data row0 col2\" >0.000001</td>\n",
       "                        <td id=\"T_c289d1ee_8a22_11ea_b3a3_a45e60ec6c2frow0_col3\" class=\"data row0 col3\" >0.000021</td>\n",
       "                        <td id=\"T_c289d1ee_8a22_11ea_b3a3_a45e60ec6c2frow0_col4\" class=\"data row0 col4\" >0.000005</td>\n",
       "                        <td id=\"T_c289d1ee_8a22_11ea_b3a3_a45e60ec6c2frow0_col5\" class=\"data row0 col5\" >-0.000011</td>\n",
       "                        <td id=\"T_c289d1ee_8a22_11ea_b3a3_a45e60ec6c2frow0_col6\" class=\"data row0 col6\" >0.000004</td>\n",
       "                        <td id=\"T_c289d1ee_8a22_11ea_b3a3_a45e60ec6c2frow0_col7\" class=\"data row0 col7\" >-0.000007</td>\n",
       "                        <td id=\"T_c289d1ee_8a22_11ea_b3a3_a45e60ec6c2frow0_col8\" class=\"data row0 col8\" >0.000001</td>\n",
       "                        <td id=\"T_c289d1ee_8a22_11ea_b3a3_a45e60ec6c2frow0_col9\" class=\"data row0 col9\" >0.000004</td>\n",
       "            </tr>\n",
       "            <tr>\n",
       "                        <th id=\"T_c289d1ee_8a22_11ea_b3a3_a45e60ec6c2flevel0_row1\" class=\"row_heading level0 row1\" >567</th>\n",
       "                        <td id=\"T_c289d1ee_8a22_11ea_b3a3_a45e60ec6c2frow1_col0\" class=\"data row1 col0\" >0.000029</td>\n",
       "                        <td id=\"T_c289d1ee_8a22_11ea_b3a3_a45e60ec6c2frow1_col1\" class=\"data row1 col1\" >0.000393</td>\n",
       "                        <td id=\"T_c289d1ee_8a22_11ea_b3a3_a45e60ec6c2frow1_col2\" class=\"data row1 col2\" >0.000002</td>\n",
       "                        <td id=\"T_c289d1ee_8a22_11ea_b3a3_a45e60ec6c2frow1_col3\" class=\"data row1 col3\" >0.000013</td>\n",
       "                        <td id=\"T_c289d1ee_8a22_11ea_b3a3_a45e60ec6c2frow1_col4\" class=\"data row1 col4\" >0.000004</td>\n",
       "                        <td id=\"T_c289d1ee_8a22_11ea_b3a3_a45e60ec6c2frow1_col5\" class=\"data row1 col5\" >-0.000010</td>\n",
       "                        <td id=\"T_c289d1ee_8a22_11ea_b3a3_a45e60ec6c2frow1_col6\" class=\"data row1 col6\" >-0.000001</td>\n",
       "                        <td id=\"T_c289d1ee_8a22_11ea_b3a3_a45e60ec6c2frow1_col7\" class=\"data row1 col7\" >0.000002</td>\n",
       "                        <td id=\"T_c289d1ee_8a22_11ea_b3a3_a45e60ec6c2frow1_col8\" class=\"data row1 col8\" >-0.000015</td>\n",
       "                        <td id=\"T_c289d1ee_8a22_11ea_b3a3_a45e60ec6c2frow1_col9\" class=\"data row1 col9\" >0.000005</td>\n",
       "            </tr>\n",
       "            <tr>\n",
       "                        <th id=\"T_c289d1ee_8a22_11ea_b3a3_a45e60ec6c2flevel0_row2\" class=\"row_heading level0 row2\" >610</th>\n",
       "                        <td id=\"T_c289d1ee_8a22_11ea_b3a3_a45e60ec6c2frow2_col0\" class=\"data row2 col0\" >0.000001</td>\n",
       "                        <td id=\"T_c289d1ee_8a22_11ea_b3a3_a45e60ec6c2frow2_col1\" class=\"data row2 col1\" >0.000002</td>\n",
       "                        <td id=\"T_c289d1ee_8a22_11ea_b3a3_a45e60ec6c2frow2_col2\" class=\"data row2 col2\" >0.000025</td>\n",
       "                        <td id=\"T_c289d1ee_8a22_11ea_b3a3_a45e60ec6c2frow2_col3\" class=\"data row2 col3\" >0.000004</td>\n",
       "                        <td id=\"T_c289d1ee_8a22_11ea_b3a3_a45e60ec6c2frow2_col4\" class=\"data row2 col4\" >0.000000</td>\n",
       "                        <td id=\"T_c289d1ee_8a22_11ea_b3a3_a45e60ec6c2frow2_col5\" class=\"data row2 col5\" >-0.000003</td>\n",
       "                        <td id=\"T_c289d1ee_8a22_11ea_b3a3_a45e60ec6c2frow2_col6\" class=\"data row2 col6\" >0.000015</td>\n",
       "                        <td id=\"T_c289d1ee_8a22_11ea_b3a3_a45e60ec6c2frow2_col7\" class=\"data row2 col7\" >0.000011</td>\n",
       "                        <td id=\"T_c289d1ee_8a22_11ea_b3a3_a45e60ec6c2frow2_col8\" class=\"data row2 col8\" >0.000009</td>\n",
       "                        <td id=\"T_c289d1ee_8a22_11ea_b3a3_a45e60ec6c2frow2_col9\" class=\"data row2 col9\" >0.000012</td>\n",
       "            </tr>\n",
       "            <tr>\n",
       "                        <th id=\"T_c289d1ee_8a22_11ea_b3a3_a45e60ec6c2flevel0_row3\" class=\"row_heading level0 row3\" >673</th>\n",
       "                        <td id=\"T_c289d1ee_8a22_11ea_b3a3_a45e60ec6c2frow3_col0\" class=\"data row3 col0\" >0.000021</td>\n",
       "                        <td id=\"T_c289d1ee_8a22_11ea_b3a3_a45e60ec6c2frow3_col1\" class=\"data row3 col1\" >0.000013</td>\n",
       "                        <td id=\"T_c289d1ee_8a22_11ea_b3a3_a45e60ec6c2frow3_col2\" class=\"data row3 col2\" >0.000004</td>\n",
       "                        <td id=\"T_c289d1ee_8a22_11ea_b3a3_a45e60ec6c2frow3_col3\" class=\"data row3 col3\" >0.000332</td>\n",
       "                        <td id=\"T_c289d1ee_8a22_11ea_b3a3_a45e60ec6c2frow3_col4\" class=\"data row3 col4\" >0.000002</td>\n",
       "                        <td id=\"T_c289d1ee_8a22_11ea_b3a3_a45e60ec6c2frow3_col5\" class=\"data row3 col5\" >-0.000001</td>\n",
       "                        <td id=\"T_c289d1ee_8a22_11ea_b3a3_a45e60ec6c2frow3_col6\" class=\"data row3 col6\" >0.000000</td>\n",
       "                        <td id=\"T_c289d1ee_8a22_11ea_b3a3_a45e60ec6c2frow3_col7\" class=\"data row3 col7\" >-0.000009</td>\n",
       "                        <td id=\"T_c289d1ee_8a22_11ea_b3a3_a45e60ec6c2frow3_col8\" class=\"data row3 col8\" >-0.000003</td>\n",
       "                        <td id=\"T_c289d1ee_8a22_11ea_b3a3_a45e60ec6c2frow3_col9\" class=\"data row3 col9\" >0.000002</td>\n",
       "            </tr>\n",
       "            <tr>\n",
       "                        <th id=\"T_c289d1ee_8a22_11ea_b3a3_a45e60ec6c2flevel0_row4\" class=\"row_heading level0 row4\" >828</th>\n",
       "                        <td id=\"T_c289d1ee_8a22_11ea_b3a3_a45e60ec6c2frow4_col0\" class=\"data row4 col0\" >0.000005</td>\n",
       "                        <td id=\"T_c289d1ee_8a22_11ea_b3a3_a45e60ec6c2frow4_col1\" class=\"data row4 col1\" >0.000004</td>\n",
       "                        <td id=\"T_c289d1ee_8a22_11ea_b3a3_a45e60ec6c2frow4_col2\" class=\"data row4 col2\" >0.000000</td>\n",
       "                        <td id=\"T_c289d1ee_8a22_11ea_b3a3_a45e60ec6c2frow4_col3\" class=\"data row4 col3\" >0.000002</td>\n",
       "                        <td id=\"T_c289d1ee_8a22_11ea_b3a3_a45e60ec6c2frow4_col4\" class=\"data row4 col4\" >0.000329</td>\n",
       "                        <td id=\"T_c289d1ee_8a22_11ea_b3a3_a45e60ec6c2frow4_col5\" class=\"data row4 col5\" >0.000041</td>\n",
       "                        <td id=\"T_c289d1ee_8a22_11ea_b3a3_a45e60ec6c2frow4_col6\" class=\"data row4 col6\" >-0.000004</td>\n",
       "                        <td id=\"T_c289d1ee_8a22_11ea_b3a3_a45e60ec6c2frow4_col7\" class=\"data row4 col7\" >-0.000004</td>\n",
       "                        <td id=\"T_c289d1ee_8a22_11ea_b3a3_a45e60ec6c2frow4_col8\" class=\"data row4 col8\" >0.000009</td>\n",
       "                        <td id=\"T_c289d1ee_8a22_11ea_b3a3_a45e60ec6c2frow4_col9\" class=\"data row4 col9\" >0.000001</td>\n",
       "            </tr>\n",
       "    </tbody></table>"
      ],
      "text/plain": [
       "<pandas.io.formats.style.Styler at 0x628ab2b50>"
      ]
     },
     "execution_count": 259,
     "metadata": {},
     "output_type": "execute_result"
    }
   ],
   "source": [
    "COV.iloc[:5,:10].style.background_gradient()"
   ]
  },
  {
   "cell_type": "code",
   "execution_count": 260,
   "metadata": {},
   "outputs": [
    {
     "name": "stdout",
     "output_type": "stream",
     "text": [
      "CPU times: user 18.4 s, sys: 481 ms, total: 18.8 s\n",
      "Wall time: 13.4 s\n"
     ]
    }
   ],
   "source": [
    "%time eig_vals, eig_vecs = eigh(COV)"
   ]
  },
  {
   "cell_type": "markdown",
   "metadata": {},
   "source": [
    "## Convert eigen data to dataframes"
   ]
  },
  {
   "cell_type": "code",
   "execution_count": 261,
   "metadata": {},
   "outputs": [],
   "source": [
    "TERM_IDX = COV.index"
   ]
  },
  {
   "cell_type": "code",
   "execution_count": 262,
   "metadata": {},
   "outputs": [],
   "source": [
    "EIG_VEC = pd.DataFrame(eig_vecs, index=TERM_IDX, columns=TERM_IDX)"
   ]
  },
  {
   "cell_type": "code",
   "execution_count": 263,
   "metadata": {},
   "outputs": [],
   "source": [
    "EIG_VAL = pd.DataFrame(eig_vals, index=TERM_IDX, columns=['eig_val'])\n",
    "EIG_VAL.index.name = 'term_id'"
   ]
  },
  {
   "cell_type": "code",
   "execution_count": 264,
   "metadata": {},
   "outputs": [
    {
     "data": {
      "text/html": [
       "<div>\n",
       "<style scoped>\n",
       "    .dataframe tbody tr th:only-of-type {\n",
       "        vertical-align: middle;\n",
       "    }\n",
       "\n",
       "    .dataframe tbody tr th {\n",
       "        vertical-align: top;\n",
       "    }\n",
       "\n",
       "    .dataframe thead th {\n",
       "        text-align: right;\n",
       "    }\n",
       "</style>\n",
       "<table border=\"1\" class=\"dataframe\">\n",
       "  <thead>\n",
       "    <tr style=\"text-align: right;\">\n",
       "      <th></th>\n",
       "      <th>eig_val</th>\n",
       "    </tr>\n",
       "    <tr>\n",
       "      <th>term_id</th>\n",
       "      <th></th>\n",
       "    </tr>\n",
       "  </thead>\n",
       "  <tbody>\n",
       "    <tr>\n",
       "      <th>233</th>\n",
       "      <td>-4.126125e-18</td>\n",
       "    </tr>\n",
       "    <tr>\n",
       "      <th>567</th>\n",
       "      <td>-3.587491e-18</td>\n",
       "    </tr>\n",
       "    <tr>\n",
       "      <th>610</th>\n",
       "      <td>-3.536608e-18</td>\n",
       "    </tr>\n",
       "    <tr>\n",
       "      <th>673</th>\n",
       "      <td>-3.482648e-18</td>\n",
       "    </tr>\n",
       "    <tr>\n",
       "      <th>828</th>\n",
       "      <td>-3.201128e-18</td>\n",
       "    </tr>\n",
       "  </tbody>\n",
       "</table>\n",
       "</div>"
      ],
      "text/plain": [
       "              eig_val\n",
       "term_id              \n",
       "233     -4.126125e-18\n",
       "567     -3.587491e-18\n",
       "610     -3.536608e-18\n",
       "673     -3.482648e-18\n",
       "828     -3.201128e-18"
      ]
     },
     "execution_count": 264,
     "metadata": {},
     "output_type": "execute_result"
    }
   ],
   "source": [
    "EIG_VAL.iloc[:5]"
   ]
  },
  {
   "cell_type": "markdown",
   "metadata": {},
   "source": [
    "# Select Principal Components\n",
    "\n",
    "Next, we associate each eigenvalue with its corresponding *column* in the eigenvalue matrix. \\\n",
    "This is why we transpose the `EIG_VEC` dataframe."
   ]
  },
  {
   "cell_type": "markdown",
   "metadata": {},
   "source": [
    "## Combine eigenvalues and eignvectors"
   ]
  },
  {
   "cell_type": "code",
   "execution_count": 265,
   "metadata": {},
   "outputs": [],
   "source": [
    "EIG_PAIRS = EIG_VAL.join(EIG_VEC.T)"
   ]
  },
  {
   "cell_type": "code",
   "execution_count": 266,
   "metadata": {},
   "outputs": [
    {
     "data": {
      "text/html": [
       "<div>\n",
       "<style scoped>\n",
       "    .dataframe tbody tr th:only-of-type {\n",
       "        vertical-align: middle;\n",
       "    }\n",
       "\n",
       "    .dataframe tbody tr th {\n",
       "        vertical-align: top;\n",
       "    }\n",
       "\n",
       "    .dataframe thead th {\n",
       "        text-align: right;\n",
       "    }\n",
       "</style>\n",
       "<table border=\"1\" class=\"dataframe\">\n",
       "  <thead>\n",
       "    <tr style=\"text-align: right;\">\n",
       "      <th></th>\n",
       "      <th>eig_val</th>\n",
       "      <th>233</th>\n",
       "      <th>567</th>\n",
       "      <th>610</th>\n",
       "      <th>673</th>\n",
       "      <th>828</th>\n",
       "      <th>1048</th>\n",
       "      <th>1191</th>\n",
       "      <th>1306</th>\n",
       "      <th>1362</th>\n",
       "      <th>...</th>\n",
       "      <th>4061</th>\n",
       "      <th>7325</th>\n",
       "      <th>10921</th>\n",
       "      <th>19558</th>\n",
       "      <th>21934</th>\n",
       "      <th>5083</th>\n",
       "      <th>16341</th>\n",
       "      <th>23534</th>\n",
       "      <th>14907</th>\n",
       "      <th>20003</th>\n",
       "    </tr>\n",
       "    <tr>\n",
       "      <th>term_id</th>\n",
       "      <th></th>\n",
       "      <th></th>\n",
       "      <th></th>\n",
       "      <th></th>\n",
       "      <th></th>\n",
       "      <th></th>\n",
       "      <th></th>\n",
       "      <th></th>\n",
       "      <th></th>\n",
       "      <th></th>\n",
       "      <th></th>\n",
       "      <th></th>\n",
       "      <th></th>\n",
       "      <th></th>\n",
       "      <th></th>\n",
       "      <th></th>\n",
       "      <th></th>\n",
       "      <th></th>\n",
       "      <th></th>\n",
       "      <th></th>\n",
       "      <th></th>\n",
       "    </tr>\n",
       "  </thead>\n",
       "  <tbody>\n",
       "    <tr>\n",
       "      <th>233</th>\n",
       "      <td>-4.126125e-18</td>\n",
       "      <td>-0.131165</td>\n",
       "      <td>0.086613</td>\n",
       "      <td>-0.533332</td>\n",
       "      <td>0.060460</td>\n",
       "      <td>-0.050981</td>\n",
       "      <td>-0.026919</td>\n",
       "      <td>-0.134043</td>\n",
       "      <td>-0.046634</td>\n",
       "      <td>0.052647</td>\n",
       "      <td>...</td>\n",
       "      <td>-0.005347</td>\n",
       "      <td>-0.004602</td>\n",
       "      <td>0.001145</td>\n",
       "      <td>0.005699</td>\n",
       "      <td>0.003345</td>\n",
       "      <td>0.003154</td>\n",
       "      <td>-0.000950</td>\n",
       "      <td>0.003850</td>\n",
       "      <td>0.003584</td>\n",
       "      <td>0.000099</td>\n",
       "    </tr>\n",
       "    <tr>\n",
       "      <th>567</th>\n",
       "      <td>-3.587491e-18</td>\n",
       "      <td>0.004637</td>\n",
       "      <td>0.008155</td>\n",
       "      <td>0.006724</td>\n",
       "      <td>-0.010847</td>\n",
       "      <td>0.025424</td>\n",
       "      <td>-0.009413</td>\n",
       "      <td>0.058090</td>\n",
       "      <td>0.025306</td>\n",
       "      <td>0.025978</td>\n",
       "      <td>...</td>\n",
       "      <td>-0.000618</td>\n",
       "      <td>-0.001467</td>\n",
       "      <td>-0.003289</td>\n",
       "      <td>-0.005122</td>\n",
       "      <td>-0.003443</td>\n",
       "      <td>0.006884</td>\n",
       "      <td>-0.004991</td>\n",
       "      <td>-0.003935</td>\n",
       "      <td>0.008891</td>\n",
       "      <td>-0.000778</td>\n",
       "    </tr>\n",
       "    <tr>\n",
       "      <th>610</th>\n",
       "      <td>-3.536608e-18</td>\n",
       "      <td>0.031000</td>\n",
       "      <td>-0.036679</td>\n",
       "      <td>0.100484</td>\n",
       "      <td>0.088176</td>\n",
       "      <td>-0.089889</td>\n",
       "      <td>-0.121725</td>\n",
       "      <td>-0.442694</td>\n",
       "      <td>-0.217050</td>\n",
       "      <td>-0.074010</td>\n",
       "      <td>...</td>\n",
       "      <td>0.001333</td>\n",
       "      <td>-0.000461</td>\n",
       "      <td>-0.000949</td>\n",
       "      <td>0.003270</td>\n",
       "      <td>0.008472</td>\n",
       "      <td>-0.006896</td>\n",
       "      <td>-0.004520</td>\n",
       "      <td>0.025093</td>\n",
       "      <td>0.006154</td>\n",
       "      <td>-0.008907</td>\n",
       "    </tr>\n",
       "    <tr>\n",
       "      <th>673</th>\n",
       "      <td>-3.482648e-18</td>\n",
       "      <td>0.207411</td>\n",
       "      <td>-0.002640</td>\n",
       "      <td>-0.215587</td>\n",
       "      <td>-0.170385</td>\n",
       "      <td>0.130488</td>\n",
       "      <td>-0.034208</td>\n",
       "      <td>-0.039798</td>\n",
       "      <td>-0.003589</td>\n",
       "      <td>-0.125298</td>\n",
       "      <td>...</td>\n",
       "      <td>-0.005322</td>\n",
       "      <td>-0.003027</td>\n",
       "      <td>-0.001362</td>\n",
       "      <td>-0.003283</td>\n",
       "      <td>0.000642</td>\n",
       "      <td>-0.004168</td>\n",
       "      <td>-0.012559</td>\n",
       "      <td>-0.001128</td>\n",
       "      <td>-0.019447</td>\n",
       "      <td>-0.003126</td>\n",
       "    </tr>\n",
       "    <tr>\n",
       "      <th>828</th>\n",
       "      <td>-3.201128e-18</td>\n",
       "      <td>0.054846</td>\n",
       "      <td>0.023600</td>\n",
       "      <td>-0.107524</td>\n",
       "      <td>-0.135128</td>\n",
       "      <td>-0.061496</td>\n",
       "      <td>-0.062953</td>\n",
       "      <td>0.012854</td>\n",
       "      <td>-0.026323</td>\n",
       "      <td>-0.027237</td>\n",
       "      <td>...</td>\n",
       "      <td>-0.000647</td>\n",
       "      <td>0.003845</td>\n",
       "      <td>0.003000</td>\n",
       "      <td>0.011783</td>\n",
       "      <td>0.012890</td>\n",
       "      <td>0.003265</td>\n",
       "      <td>0.000816</td>\n",
       "      <td>0.002521</td>\n",
       "      <td>0.000097</td>\n",
       "      <td>-0.002470</td>\n",
       "    </tr>\n",
       "  </tbody>\n",
       "</table>\n",
       "<p>5 rows × 3727 columns</p>\n",
       "</div>"
      ],
      "text/plain": [
       "              eig_val       233       567       610       673       828  \\\n",
       "term_id                                                                   \n",
       "233     -4.126125e-18 -0.131165  0.086613 -0.533332  0.060460 -0.050981   \n",
       "567     -3.587491e-18  0.004637  0.008155  0.006724 -0.010847  0.025424   \n",
       "610     -3.536608e-18  0.031000 -0.036679  0.100484  0.088176 -0.089889   \n",
       "673     -3.482648e-18  0.207411 -0.002640 -0.215587 -0.170385  0.130488   \n",
       "828     -3.201128e-18  0.054846  0.023600 -0.107524 -0.135128 -0.061496   \n",
       "\n",
       "             1048      1191      1306      1362  ...      4061      7325  \\\n",
       "term_id                                          ...                       \n",
       "233     -0.026919 -0.134043 -0.046634  0.052647  ... -0.005347 -0.004602   \n",
       "567     -0.009413  0.058090  0.025306  0.025978  ... -0.000618 -0.001467   \n",
       "610     -0.121725 -0.442694 -0.217050 -0.074010  ...  0.001333 -0.000461   \n",
       "673     -0.034208 -0.039798 -0.003589 -0.125298  ... -0.005322 -0.003027   \n",
       "828     -0.062953  0.012854 -0.026323 -0.027237  ... -0.000647  0.003845   \n",
       "\n",
       "            10921     19558     21934      5083     16341     23534     14907  \\\n",
       "term_id                                                                         \n",
       "233      0.001145  0.005699  0.003345  0.003154 -0.000950  0.003850  0.003584   \n",
       "567     -0.003289 -0.005122 -0.003443  0.006884 -0.004991 -0.003935  0.008891   \n",
       "610     -0.000949  0.003270  0.008472 -0.006896 -0.004520  0.025093  0.006154   \n",
       "673     -0.001362 -0.003283  0.000642 -0.004168 -0.012559 -0.001128 -0.019447   \n",
       "828      0.003000  0.011783  0.012890  0.003265  0.000816  0.002521  0.000097   \n",
       "\n",
       "            20003  \n",
       "term_id            \n",
       "233      0.000099  \n",
       "567     -0.000778  \n",
       "610     -0.008907  \n",
       "673     -0.003126  \n",
       "828     -0.002470  \n",
       "\n",
       "[5 rows x 3727 columns]"
      ]
     },
     "execution_count": 266,
     "metadata": {},
     "output_type": "execute_result"
    }
   ],
   "source": [
    "EIG_PAIRS.head()"
   ]
  },
  {
   "cell_type": "markdown",
   "metadata": {},
   "source": [
    "## Compute and Show Explained Variance\n",
    "\n",
    "We might have usd this value to sort our components."
   ]
  },
  {
   "cell_type": "code",
   "execution_count": 267,
   "metadata": {},
   "outputs": [],
   "source": [
    "EIG_PAIRS['exp_var'] = np.round((EIG_PAIRS.eig_val / EIG_PAIRS.eig_val.sum()) * 100, 2)"
   ]
  },
  {
   "cell_type": "code",
   "execution_count": 268,
   "metadata": {},
   "outputs": [
    {
     "data": {
      "image/png": "[encoded data removed]",
      "text/plain": [
       "<Figure size 432x288 with 1 Axes>"
      ]
     },
     "metadata": {
      "needs_background": "light"
     },
     "output_type": "display_data"
    }
   ],
   "source": [
    "EIG_PAIRS.exp_var.sort_values(ascending=False).head().plot.bar(rot=45);"
   ]
  },
  {
   "cell_type": "markdown",
   "metadata": {},
   "source": [
    "## Pick Top K (10) Components\n",
    "\n",
    "We pick these based on explained variance."
   ]
  },
  {
   "cell_type": "code",
   "execution_count": 269,
   "metadata": {},
   "outputs": [],
   "source": [
    "COMPS = EIG_PAIRS.sort_values('exp_var', ascending=False).head(10).reset_index(drop=True)\n",
    "COMPS.index.name = 'comp_id'\n",
    "COMPS.index = [\"PC{}\".format(i) for i in COMPS.index.tolist()]"
   ]
  },
  {
   "cell_type": "code",
   "execution_count": 270,
   "metadata": {},
   "outputs": [
    {
     "data": {
      "text/html": [
       "<div>\n",
       "<style scoped>\n",
       "    .dataframe tbody tr th:only-of-type {\n",
       "        vertical-align: middle;\n",
       "    }\n",
       "\n",
       "    .dataframe tbody tr th {\n",
       "        vertical-align: top;\n",
       "    }\n",
       "\n",
       "    .dataframe thead th {\n",
       "        text-align: right;\n",
       "    }\n",
       "</style>\n",
       "<table border=\"1\" class=\"dataframe\">\n",
       "  <thead>\n",
       "    <tr style=\"text-align: right;\">\n",
       "      <th></th>\n",
       "      <th>eig_val</th>\n",
       "      <th>233</th>\n",
       "      <th>567</th>\n",
       "      <th>610</th>\n",
       "      <th>673</th>\n",
       "      <th>828</th>\n",
       "      <th>1048</th>\n",
       "      <th>1191</th>\n",
       "      <th>1306</th>\n",
       "      <th>1362</th>\n",
       "      <th>...</th>\n",
       "      <th>7325</th>\n",
       "      <th>10921</th>\n",
       "      <th>19558</th>\n",
       "      <th>21934</th>\n",
       "      <th>5083</th>\n",
       "      <th>16341</th>\n",
       "      <th>23534</th>\n",
       "      <th>14907</th>\n",
       "      <th>20003</th>\n",
       "      <th>exp_var</th>\n",
       "    </tr>\n",
       "  </thead>\n",
       "  <tbody>\n",
       "    <tr>\n",
       "      <th>PC0</th>\n",
       "      <td>0.014345</td>\n",
       "      <td>-0.006767</td>\n",
       "      <td>-0.000224</td>\n",
       "      <td>0.015150</td>\n",
       "      <td>0.000846</td>\n",
       "      <td>-0.007606</td>\n",
       "      <td>-0.024386</td>\n",
       "      <td>0.060826</td>\n",
       "      <td>0.036676</td>\n",
       "      <td>-0.006431</td>\n",
       "      <td>...</td>\n",
       "      <td>-0.003243</td>\n",
       "      <td>-0.003243</td>\n",
       "      <td>-0.002653</td>\n",
       "      <td>-0.002653</td>\n",
       "      <td>-0.003645</td>\n",
       "      <td>-0.003311</td>\n",
       "      <td>-0.002396</td>\n",
       "      <td>-0.003851</td>\n",
       "      <td>-0.003589</td>\n",
       "      <td>1.54</td>\n",
       "    </tr>\n",
       "    <tr>\n",
       "      <th>PC1</th>\n",
       "      <td>0.012473</td>\n",
       "      <td>-0.018450</td>\n",
       "      <td>-0.030132</td>\n",
       "      <td>-0.016844</td>\n",
       "      <td>-0.006103</td>\n",
       "      <td>0.004794</td>\n",
       "      <td>0.009430</td>\n",
       "      <td>-0.018331</td>\n",
       "      <td>0.002977</td>\n",
       "      <td>-0.009083</td>\n",
       "      <td>...</td>\n",
       "      <td>0.002321</td>\n",
       "      <td>0.002321</td>\n",
       "      <td>0.001735</td>\n",
       "      <td>0.001735</td>\n",
       "      <td>0.002710</td>\n",
       "      <td>0.002919</td>\n",
       "      <td>0.002107</td>\n",
       "      <td>0.002495</td>\n",
       "      <td>0.002089</td>\n",
       "      <td>1.34</td>\n",
       "    </tr>\n",
       "    <tr>\n",
       "      <th>PC2</th>\n",
       "      <td>0.008643</td>\n",
       "      <td>0.006373</td>\n",
       "      <td>0.004953</td>\n",
       "      <td>0.008905</td>\n",
       "      <td>0.013646</td>\n",
       "      <td>0.020323</td>\n",
       "      <td>0.026000</td>\n",
       "      <td>-0.011368</td>\n",
       "      <td>-0.046220</td>\n",
       "      <td>0.031313</td>\n",
       "      <td>...</td>\n",
       "      <td>-0.000777</td>\n",
       "      <td>-0.000777</td>\n",
       "      <td>-0.002492</td>\n",
       "      <td>-0.002492</td>\n",
       "      <td>-0.000062</td>\n",
       "      <td>-0.001006</td>\n",
       "      <td>-0.000777</td>\n",
       "      <td>-0.000523</td>\n",
       "      <td>-0.002526</td>\n",
       "      <td>0.93</td>\n",
       "    </tr>\n",
       "    <tr>\n",
       "      <th>PC3</th>\n",
       "      <td>0.007666</td>\n",
       "      <td>0.006296</td>\n",
       "      <td>-0.011636</td>\n",
       "      <td>0.013804</td>\n",
       "      <td>-0.014378</td>\n",
       "      <td>0.016115</td>\n",
       "      <td>0.014393</td>\n",
       "      <td>-0.000934</td>\n",
       "      <td>0.010598</td>\n",
       "      <td>0.026483</td>\n",
       "      <td>...</td>\n",
       "      <td>-0.001926</td>\n",
       "      <td>-0.001926</td>\n",
       "      <td>-0.001387</td>\n",
       "      <td>-0.001387</td>\n",
       "      <td>-0.001671</td>\n",
       "      <td>-0.002587</td>\n",
       "      <td>-0.001940</td>\n",
       "      <td>-0.002537</td>\n",
       "      <td>-0.001922</td>\n",
       "      <td>0.83</td>\n",
       "    </tr>\n",
       "    <tr>\n",
       "      <th>PC4</th>\n",
       "      <td>0.005264</td>\n",
       "      <td>0.038567</td>\n",
       "      <td>0.029934</td>\n",
       "      <td>-0.007849</td>\n",
       "      <td>-0.001122</td>\n",
       "      <td>-0.025930</td>\n",
       "      <td>-0.044137</td>\n",
       "      <td>0.001461</td>\n",
       "      <td>-0.028541</td>\n",
       "      <td>-0.005298</td>\n",
       "      <td>...</td>\n",
       "      <td>0.001025</td>\n",
       "      <td>0.001025</td>\n",
       "      <td>0.002362</td>\n",
       "      <td>0.002362</td>\n",
       "      <td>-0.000297</td>\n",
       "      <td>-0.000103</td>\n",
       "      <td>0.000314</td>\n",
       "      <td>0.000711</td>\n",
       "      <td>0.001429</td>\n",
       "      <td>0.57</td>\n",
       "    </tr>\n",
       "    <tr>\n",
       "      <th>PC5</th>\n",
       "      <td>0.004961</td>\n",
       "      <td>0.000546</td>\n",
       "      <td>0.002726</td>\n",
       "      <td>0.001077</td>\n",
       "      <td>0.008039</td>\n",
       "      <td>0.005531</td>\n",
       "      <td>-0.004245</td>\n",
       "      <td>0.001775</td>\n",
       "      <td>0.010184</td>\n",
       "      <td>0.046558</td>\n",
       "      <td>...</td>\n",
       "      <td>-0.001310</td>\n",
       "      <td>-0.001310</td>\n",
       "      <td>-0.002672</td>\n",
       "      <td>-0.002672</td>\n",
       "      <td>-0.000584</td>\n",
       "      <td>-0.001708</td>\n",
       "      <td>-0.001784</td>\n",
       "      <td>-0.000829</td>\n",
       "      <td>-0.000156</td>\n",
       "      <td>0.53</td>\n",
       "    </tr>\n",
       "    <tr>\n",
       "      <th>PC6</th>\n",
       "      <td>0.004946</td>\n",
       "      <td>-0.030986</td>\n",
       "      <td>0.002150</td>\n",
       "      <td>-0.004235</td>\n",
       "      <td>-0.006729</td>\n",
       "      <td>-0.009031</td>\n",
       "      <td>-0.033679</td>\n",
       "      <td>-0.014935</td>\n",
       "      <td>-0.042867</td>\n",
       "      <td>-0.019435</td>\n",
       "      <td>...</td>\n",
       "      <td>0.001647</td>\n",
       "      <td>0.001647</td>\n",
       "      <td>0.002995</td>\n",
       "      <td>0.002995</td>\n",
       "      <td>0.001616</td>\n",
       "      <td>0.001397</td>\n",
       "      <td>0.001817</td>\n",
       "      <td>0.002909</td>\n",
       "      <td>0.003105</td>\n",
       "      <td>0.53</td>\n",
       "    </tr>\n",
       "    <tr>\n",
       "      <th>PC7</th>\n",
       "      <td>0.004212</td>\n",
       "      <td>-0.009882</td>\n",
       "      <td>0.004063</td>\n",
       "      <td>0.004321</td>\n",
       "      <td>0.012533</td>\n",
       "      <td>-0.005173</td>\n",
       "      <td>0.003918</td>\n",
       "      <td>0.001516</td>\n",
       "      <td>-0.030692</td>\n",
       "      <td>0.017194</td>\n",
       "      <td>...</td>\n",
       "      <td>-0.000916</td>\n",
       "      <td>-0.000916</td>\n",
       "      <td>-0.000392</td>\n",
       "      <td>-0.000392</td>\n",
       "      <td>-0.000353</td>\n",
       "      <td>-0.001880</td>\n",
       "      <td>0.000355</td>\n",
       "      <td>-0.001243</td>\n",
       "      <td>-0.000191</td>\n",
       "      <td>0.45</td>\n",
       "    </tr>\n",
       "    <tr>\n",
       "      <th>PC8</th>\n",
       "      <td>0.003811</td>\n",
       "      <td>0.013766</td>\n",
       "      <td>0.009306</td>\n",
       "      <td>0.001095</td>\n",
       "      <td>-0.002211</td>\n",
       "      <td>-0.023737</td>\n",
       "      <td>-0.058528</td>\n",
       "      <td>0.006806</td>\n",
       "      <td>0.047563</td>\n",
       "      <td>-0.005619</td>\n",
       "      <td>...</td>\n",
       "      <td>-0.000121</td>\n",
       "      <td>-0.000121</td>\n",
       "      <td>0.000900</td>\n",
       "      <td>0.000900</td>\n",
       "      <td>-0.001694</td>\n",
       "      <td>-0.000150</td>\n",
       "      <td>-0.002300</td>\n",
       "      <td>0.000528</td>\n",
       "      <td>0.001109</td>\n",
       "      <td>0.41</td>\n",
       "    </tr>\n",
       "    <tr>\n",
       "      <th>PC9</th>\n",
       "      <td>0.003336</td>\n",
       "      <td>-0.014677</td>\n",
       "      <td>0.019728</td>\n",
       "      <td>0.010087</td>\n",
       "      <td>-0.014189</td>\n",
       "      <td>-0.003486</td>\n",
       "      <td>-0.014369</td>\n",
       "      <td>-0.021823</td>\n",
       "      <td>0.001717</td>\n",
       "      <td>-0.002882</td>\n",
       "      <td>...</td>\n",
       "      <td>0.001810</td>\n",
       "      <td>0.001810</td>\n",
       "      <td>0.003648</td>\n",
       "      <td>0.003648</td>\n",
       "      <td>0.003335</td>\n",
       "      <td>0.002379</td>\n",
       "      <td>0.000303</td>\n",
       "      <td>0.002043</td>\n",
       "      <td>0.002164</td>\n",
       "      <td>0.36</td>\n",
       "    </tr>\n",
       "  </tbody>\n",
       "</table>\n",
       "<p>10 rows × 3728 columns</p>\n",
       "</div>"
      ],
      "text/plain": [
       "      eig_val       233       567       610       673       828      1048  \\\n",
       "PC0  0.014345 -0.006767 -0.000224  0.015150  0.000846 -0.007606 -0.024386   \n",
       "PC1  0.012473 -0.018450 -0.030132 -0.016844 -0.006103  0.004794  0.009430   \n",
       "PC2  0.008643  0.006373  0.004953  0.008905  0.013646  0.020323  0.026000   \n",
       "PC3  0.007666  0.006296 -0.011636  0.013804 -0.014378  0.016115  0.014393   \n",
       "PC4  0.005264  0.038567  0.029934 -0.007849 -0.001122 -0.025930 -0.044137   \n",
       "PC5  0.004961  0.000546  0.002726  0.001077  0.008039  0.005531 -0.004245   \n",
       "PC6  0.004946 -0.030986  0.002150 -0.004235 -0.006729 -0.009031 -0.033679   \n",
       "PC7  0.004212 -0.009882  0.004063  0.004321  0.012533 -0.005173  0.003918   \n",
       "PC8  0.003811  0.013766  0.009306  0.001095 -0.002211 -0.023737 -0.058528   \n",
       "PC9  0.003336 -0.014677  0.019728  0.010087 -0.014189 -0.003486 -0.014369   \n",
       "\n",
       "         1191      1306      1362  ...      7325     10921     19558  \\\n",
       "PC0  0.060826  0.036676 -0.006431  ... -0.003243 -0.003243 -0.002653   \n",
       "PC1 -0.018331  0.002977 -0.009083  ...  0.002321  0.002321  0.001735   \n",
       "PC2 -0.011368 -0.046220  0.031313  ... -0.000777 -0.000777 -0.002492   \n",
       "PC3 -0.000934  0.010598  0.026483  ... -0.001926 -0.001926 -0.001387   \n",
       "PC4  0.001461 -0.028541 -0.005298  ...  0.001025  0.001025  0.002362   \n",
       "PC5  0.001775  0.010184  0.046558  ... -0.001310 -0.001310 -0.002672   \n",
       "PC6 -0.014935 -0.042867 -0.019435  ...  0.001647  0.001647  0.002995   \n",
       "PC7  0.001516 -0.030692  0.017194  ... -0.000916 -0.000916 -0.000392   \n",
       "PC8  0.006806  0.047563 -0.005619  ... -0.000121 -0.000121  0.000900   \n",
       "PC9 -0.021823  0.001717 -0.002882  ...  0.001810  0.001810  0.003648   \n",
       "\n",
       "        21934      5083     16341     23534     14907     20003  exp_var  \n",
       "PC0 -0.002653 -0.003645 -0.003311 -0.002396 -0.003851 -0.003589     1.54  \n",
       "PC1  0.001735  0.002710  0.002919  0.002107  0.002495  0.002089     1.34  \n",
       "PC2 -0.002492 -0.000062 -0.001006 -0.000777 -0.000523 -0.002526     0.93  \n",
       "PC3 -0.001387 -0.001671 -0.002587 -0.001940 -0.002537 -0.001922     0.83  \n",
       "PC4  0.002362 -0.000297 -0.000103  0.000314  0.000711  0.001429     0.57  \n",
       "PC5 -0.002672 -0.000584 -0.001708 -0.001784 -0.000829 -0.000156     0.53  \n",
       "PC6  0.002995  0.001616  0.001397  0.001817  0.002909  0.003105     0.53  \n",
       "PC7 -0.000392 -0.000353 -0.001880  0.000355 -0.001243 -0.000191     0.45  \n",
       "PC8  0.000900 -0.001694 -0.000150 -0.002300  0.000528  0.001109     0.41  \n",
       "PC9  0.003648  0.003335  0.002379  0.000303  0.002043  0.002164     0.36  \n",
       "\n",
       "[10 rows x 3728 columns]"
      ]
     },
     "execution_count": 270,
     "metadata": {},
     "output_type": "execute_result"
    }
   ],
   "source": [
    "COMPS"
   ]
  },
  {
   "cell_type": "markdown",
   "metadata": {},
   "source": [
    "# Inspect terms associated with eigenvectors"
   ]
  },
  {
   "cell_type": "code",
   "execution_count": 271,
   "metadata": {},
   "outputs": [
    {
     "data": {
      "text/plain": [
       "term_id\n",
       "20003     sobenchaur\n",
       "14907       nicholas\n",
       "23534       wheelers\n",
       "16341        placeif\n",
       "5083        construe\n",
       "21934       tongsand\n",
       "19558         shoval\n",
       "10921    hughintends\n",
       "7325     ejectmentin\n",
       "4061         chambrg\n",
       "Name: term_str, dtype: object"
      ]
     },
     "execution_count": 271,
     "metadata": {},
     "output_type": "execute_result"
    }
   ],
   "source": [
    "VOCAB.loc[[int(x) for x in EIG_PAIRS.sort_values('exp_var', ascending=False).head(10).index], 'term_str']"
   ]
  },
  {
   "cell_type": "markdown",
   "metadata": {},
   "source": [
    "## Show Loadings\n",
    "\n",
    "Loadings sow the contribution of each term to the component. \\\n",
    "We'll just look at the topi 10 words for the first two components in the Book version."
   ]
  },
  {
   "cell_type": "code",
   "execution_count": 272,
   "metadata": {},
   "outputs": [],
   "source": [
    "LOADINGS = COMPS[TERM_IDX].T\n",
    "LOADINGS.index.name = 'term_id'"
   ]
  },
  {
   "cell_type": "code",
   "execution_count": 273,
   "metadata": {},
   "outputs": [
    {
     "data": {
      "text/html": [
       "<style  type=\"text/css\" >\n",
       "    #T_cbb5b652_8a22_11ea_b3a3_a45e60ec6c2frow0_col0 {\n",
       "            background-color:  #faf2f8;\n",
       "            color:  #000000;\n",
       "        }    #T_cbb5b652_8a22_11ea_b3a3_a45e60ec6c2frow0_col1 {\n",
       "            background-color:  #b4c4df;\n",
       "            color:  #000000;\n",
       "        }    #T_cbb5b652_8a22_11ea_b3a3_a45e60ec6c2frow0_col2 {\n",
       "            background-color:  #f1ebf5;\n",
       "            color:  #000000;\n",
       "        }    #T_cbb5b652_8a22_11ea_b3a3_a45e60ec6c2frow0_col3 {\n",
       "            background-color:  #2182b9;\n",
       "            color:  #000000;\n",
       "        }    #T_cbb5b652_8a22_11ea_b3a3_a45e60ec6c2frow0_col4 {\n",
       "            background-color:  #023858;\n",
       "            color:  #f1f1f1;\n",
       "        }    #T_cbb5b652_8a22_11ea_b3a3_a45e60ec6c2frow0_col5 {\n",
       "            background-color:  #fff7fb;\n",
       "            color:  #000000;\n",
       "        }    #T_cbb5b652_8a22_11ea_b3a3_a45e60ec6c2frow0_col6 {\n",
       "            background-color:  #fff7fb;\n",
       "            color:  #000000;\n",
       "        }    #T_cbb5b652_8a22_11ea_b3a3_a45e60ec6c2frow0_col7 {\n",
       "            background-color:  #fff7fb;\n",
       "            color:  #000000;\n",
       "        }    #T_cbb5b652_8a22_11ea_b3a3_a45e60ec6c2frow0_col8 {\n",
       "            background-color:  #023858;\n",
       "            color:  #f1f1f1;\n",
       "        }    #T_cbb5b652_8a22_11ea_b3a3_a45e60ec6c2frow0_col9 {\n",
       "            background-color:  #fff7fb;\n",
       "            color:  #000000;\n",
       "        }    #T_cbb5b652_8a22_11ea_b3a3_a45e60ec6c2frow1_col0 {\n",
       "            background-color:  #b7c5df;\n",
       "            color:  #000000;\n",
       "        }    #T_cbb5b652_8a22_11ea_b3a3_a45e60ec6c2frow1_col1 {\n",
       "            background-color:  #fff7fb;\n",
       "            color:  #000000;\n",
       "        }    #T_cbb5b652_8a22_11ea_b3a3_a45e60ec6c2frow1_col2 {\n",
       "            background-color:  #fff7fb;\n",
       "            color:  #000000;\n",
       "        }    #T_cbb5b652_8a22_11ea_b3a3_a45e60ec6c2frow1_col3 {\n",
       "            background-color:  #f1ebf5;\n",
       "            color:  #000000;\n",
       "        }    #T_cbb5b652_8a22_11ea_b3a3_a45e60ec6c2frow1_col4 {\n",
       "            background-color:  #045b8f;\n",
       "            color:  #f1f1f1;\n",
       "        }    #T_cbb5b652_8a22_11ea_b3a3_a45e60ec6c2frow1_col5 {\n",
       "            background-color:  #c2cbe2;\n",
       "            color:  #000000;\n",
       "        }    #T_cbb5b652_8a22_11ea_b3a3_a45e60ec6c2frow1_col6 {\n",
       "            background-color:  #023858;\n",
       "            color:  #f1f1f1;\n",
       "        }    #T_cbb5b652_8a22_11ea_b3a3_a45e60ec6c2frow1_col7 {\n",
       "            background-color:  #3790c0;\n",
       "            color:  #000000;\n",
       "        }    #T_cbb5b652_8a22_11ea_b3a3_a45e60ec6c2frow1_col8 {\n",
       "            background-color:  #04588a;\n",
       "            color:  #f1f1f1;\n",
       "        }    #T_cbb5b652_8a22_11ea_b3a3_a45e60ec6c2frow1_col9 {\n",
       "            background-color:  #023858;\n",
       "            color:  #f1f1f1;\n",
       "        }    #T_cbb5b652_8a22_11ea_b3a3_a45e60ec6c2frow2_col0 {\n",
       "            background-color:  #023858;\n",
       "            color:  #f1f1f1;\n",
       "        }    #T_cbb5b652_8a22_11ea_b3a3_a45e60ec6c2frow2_col1 {\n",
       "            background-color:  #a4bcda;\n",
       "            color:  #000000;\n",
       "        }    #T_cbb5b652_8a22_11ea_b3a3_a45e60ec6c2frow2_col2 {\n",
       "            background-color:  #ced0e6;\n",
       "            color:  #000000;\n",
       "        }    #T_cbb5b652_8a22_11ea_b3a3_a45e60ec6c2frow2_col3 {\n",
       "            background-color:  #034c78;\n",
       "            color:  #f1f1f1;\n",
       "        }    #T_cbb5b652_8a22_11ea_b3a3_a45e60ec6c2frow2_col4 {\n",
       "            background-color:  #c6cce3;\n",
       "            color:  #000000;\n",
       "        }    #T_cbb5b652_8a22_11ea_b3a3_a45e60ec6c2frow2_col5 {\n",
       "            background-color:  #f4eef6;\n",
       "            color:  #000000;\n",
       "        }    #T_cbb5b652_8a22_11ea_b3a3_a45e60ec6c2frow2_col6 {\n",
       "            background-color:  #0566a0;\n",
       "            color:  #f1f1f1;\n",
       "        }    #T_cbb5b652_8a22_11ea_b3a3_a45e60ec6c2frow2_col7 {\n",
       "            background-color:  #328dbf;\n",
       "            color:  #000000;\n",
       "        }    #T_cbb5b652_8a22_11ea_b3a3_a45e60ec6c2frow2_col8 {\n",
       "            background-color:  #2786bb;\n",
       "            color:  #000000;\n",
       "        }    #T_cbb5b652_8a22_11ea_b3a3_a45e60ec6c2frow2_col9 {\n",
       "            background-color:  #1077b4;\n",
       "            color:  #f1f1f1;\n",
       "        }    #T_cbb5b652_8a22_11ea_b3a3_a45e60ec6c2frow3_col0 {\n",
       "            background-color:  #a7bddb;\n",
       "            color:  #000000;\n",
       "        }    #T_cbb5b652_8a22_11ea_b3a3_a45e60ec6c2frow3_col1 {\n",
       "            background-color:  #1c7fb8;\n",
       "            color:  #000000;\n",
       "        }    #T_cbb5b652_8a22_11ea_b3a3_a45e60ec6c2frow3_col2 {\n",
       "            background-color:  #549cc7;\n",
       "            color:  #000000;\n",
       "        }    #T_cbb5b652_8a22_11ea_b3a3_a45e60ec6c2frow3_col3 {\n",
       "            background-color:  #fff7fb;\n",
       "            color:  #000000;\n",
       "        }    #T_cbb5b652_8a22_11ea_b3a3_a45e60ec6c2frow3_col4 {\n",
       "            background-color:  #a2bcda;\n",
       "            color:  #000000;\n",
       "        }    #T_cbb5b652_8a22_11ea_b3a3_a45e60ec6c2frow3_col5 {\n",
       "            background-color:  #023858;\n",
       "            color:  #f1f1f1;\n",
       "        }    #T_cbb5b652_8a22_11ea_b3a3_a45e60ec6c2frow3_col6 {\n",
       "            background-color:  #0c74b2;\n",
       "            color:  #f1f1f1;\n",
       "        }    #T_cbb5b652_8a22_11ea_b3a3_a45e60ec6c2frow3_col7 {\n",
       "            background-color:  #023858;\n",
       "            color:  #f1f1f1;\n",
       "        }    #T_cbb5b652_8a22_11ea_b3a3_a45e60ec6c2frow3_col8 {\n",
       "            background-color:  #509ac6;\n",
       "            color:  #000000;\n",
       "        }    #T_cbb5b652_8a22_11ea_b3a3_a45e60ec6c2frow3_col9 {\n",
       "            background-color:  #fdf5fa;\n",
       "            color:  #000000;\n",
       "        }    #T_cbb5b652_8a22_11ea_b3a3_a45e60ec6c2frow4_col0 {\n",
       "            background-color:  #fff7fb;\n",
       "            color:  #000000;\n",
       "        }    #T_cbb5b652_8a22_11ea_b3a3_a45e60ec6c2frow4_col1 {\n",
       "            background-color:  #023858;\n",
       "            color:  #f1f1f1;\n",
       "        }    #T_cbb5b652_8a22_11ea_b3a3_a45e60ec6c2frow4_col2 {\n",
       "            background-color:  #023858;\n",
       "            color:  #f1f1f1;\n",
       "        }    #T_cbb5b652_8a22_11ea_b3a3_a45e60ec6c2frow4_col3 {\n",
       "            background-color:  #023858;\n",
       "            color:  #f1f1f1;\n",
       "        }    #T_cbb5b652_8a22_11ea_b3a3_a45e60ec6c2frow4_col4 {\n",
       "            background-color:  #fff7fb;\n",
       "            color:  #000000;\n",
       "        }    #T_cbb5b652_8a22_11ea_b3a3_a45e60ec6c2frow4_col5 {\n",
       "            background-color:  #2685bb;\n",
       "            color:  #000000;\n",
       "        }    #T_cbb5b652_8a22_11ea_b3a3_a45e60ec6c2frow4_col6 {\n",
       "            background-color:  #2786bb;\n",
       "            color:  #000000;\n",
       "        }    #T_cbb5b652_8a22_11ea_b3a3_a45e60ec6c2frow4_col7 {\n",
       "            background-color:  #d9d8ea;\n",
       "            color:  #000000;\n",
       "        }    #T_cbb5b652_8a22_11ea_b3a3_a45e60ec6c2frow4_col8 {\n",
       "            background-color:  #fff7fb;\n",
       "            color:  #000000;\n",
       "        }    #T_cbb5b652_8a22_11ea_b3a3_a45e60ec6c2frow4_col9 {\n",
       "            background-color:  #b7c5df;\n",
       "            color:  #000000;\n",
       "        }</style><table id=\"T_cbb5b652_8a22_11ea_b3a3_a45e60ec6c2f\" ><thead>    <tr>        <th class=\"blank level0\" ></th>        <th class=\"col_heading level0 col0\" >PC0</th>        <th class=\"col_heading level0 col1\" >PC1</th>        <th class=\"col_heading level0 col2\" >PC2</th>        <th class=\"col_heading level0 col3\" >PC3</th>        <th class=\"col_heading level0 col4\" >PC4</th>        <th class=\"col_heading level0 col5\" >PC5</th>        <th class=\"col_heading level0 col6\" >PC6</th>        <th class=\"col_heading level0 col7\" >PC7</th>        <th class=\"col_heading level0 col8\" >PC8</th>        <th class=\"col_heading level0 col9\" >PC9</th>    </tr>    <tr>        <th class=\"index_name level0\" >term_id</th>        <th class=\"blank\" ></th>        <th class=\"blank\" ></th>        <th class=\"blank\" ></th>        <th class=\"blank\" ></th>        <th class=\"blank\" ></th>        <th class=\"blank\" ></th>        <th class=\"blank\" ></th>        <th class=\"blank\" ></th>        <th class=\"blank\" ></th>        <th class=\"blank\" ></th>    </tr></thead><tbody>\n",
       "                <tr>\n",
       "                        <th id=\"T_cbb5b652_8a22_11ea_b3a3_a45e60ec6c2flevel0_row0\" class=\"row_heading level0 row0\" >233</th>\n",
       "                        <td id=\"T_cbb5b652_8a22_11ea_b3a3_a45e60ec6c2frow0_col0\" class=\"data row0 col0\" >-0.006767</td>\n",
       "                        <td id=\"T_cbb5b652_8a22_11ea_b3a3_a45e60ec6c2frow0_col1\" class=\"data row0 col1\" >-0.018450</td>\n",
       "                        <td id=\"T_cbb5b652_8a22_11ea_b3a3_a45e60ec6c2frow0_col2\" class=\"data row0 col2\" >0.006373</td>\n",
       "                        <td id=\"T_cbb5b652_8a22_11ea_b3a3_a45e60ec6c2frow0_col3\" class=\"data row0 col3\" >0.006296</td>\n",
       "                        <td id=\"T_cbb5b652_8a22_11ea_b3a3_a45e60ec6c2frow0_col4\" class=\"data row0 col4\" >0.038567</td>\n",
       "                        <td id=\"T_cbb5b652_8a22_11ea_b3a3_a45e60ec6c2frow0_col5\" class=\"data row0 col5\" >0.000546</td>\n",
       "                        <td id=\"T_cbb5b652_8a22_11ea_b3a3_a45e60ec6c2frow0_col6\" class=\"data row0 col6\" >-0.030986</td>\n",
       "                        <td id=\"T_cbb5b652_8a22_11ea_b3a3_a45e60ec6c2frow0_col7\" class=\"data row0 col7\" >-0.009882</td>\n",
       "                        <td id=\"T_cbb5b652_8a22_11ea_b3a3_a45e60ec6c2frow0_col8\" class=\"data row0 col8\" >0.013766</td>\n",
       "                        <td id=\"T_cbb5b652_8a22_11ea_b3a3_a45e60ec6c2frow0_col9\" class=\"data row0 col9\" >-0.014677</td>\n",
       "            </tr>\n",
       "            <tr>\n",
       "                        <th id=\"T_cbb5b652_8a22_11ea_b3a3_a45e60ec6c2flevel0_row1\" class=\"row_heading level0 row1\" >567</th>\n",
       "                        <td id=\"T_cbb5b652_8a22_11ea_b3a3_a45e60ec6c2frow1_col0\" class=\"data row1 col0\" >-0.000224</td>\n",
       "                        <td id=\"T_cbb5b652_8a22_11ea_b3a3_a45e60ec6c2frow1_col1\" class=\"data row1 col1\" >-0.030132</td>\n",
       "                        <td id=\"T_cbb5b652_8a22_11ea_b3a3_a45e60ec6c2frow1_col2\" class=\"data row1 col2\" >0.004953</td>\n",
       "                        <td id=\"T_cbb5b652_8a22_11ea_b3a3_a45e60ec6c2frow1_col3\" class=\"data row1 col3\" >-0.011636</td>\n",
       "                        <td id=\"T_cbb5b652_8a22_11ea_b3a3_a45e60ec6c2frow1_col4\" class=\"data row1 col4\" >0.029934</td>\n",
       "                        <td id=\"T_cbb5b652_8a22_11ea_b3a3_a45e60ec6c2frow1_col5\" class=\"data row1 col5\" >0.002726</td>\n",
       "                        <td id=\"T_cbb5b652_8a22_11ea_b3a3_a45e60ec6c2frow1_col6\" class=\"data row1 col6\" >0.002150</td>\n",
       "                        <td id=\"T_cbb5b652_8a22_11ea_b3a3_a45e60ec6c2frow1_col7\" class=\"data row1 col7\" >0.004063</td>\n",
       "                        <td id=\"T_cbb5b652_8a22_11ea_b3a3_a45e60ec6c2frow1_col8\" class=\"data row1 col8\" >0.009306</td>\n",
       "                        <td id=\"T_cbb5b652_8a22_11ea_b3a3_a45e60ec6c2frow1_col9\" class=\"data row1 col9\" >0.019728</td>\n",
       "            </tr>\n",
       "            <tr>\n",
       "                        <th id=\"T_cbb5b652_8a22_11ea_b3a3_a45e60ec6c2flevel0_row2\" class=\"row_heading level0 row2\" >610</th>\n",
       "                        <td id=\"T_cbb5b652_8a22_11ea_b3a3_a45e60ec6c2frow2_col0\" class=\"data row2 col0\" >0.015150</td>\n",
       "                        <td id=\"T_cbb5b652_8a22_11ea_b3a3_a45e60ec6c2frow2_col1\" class=\"data row2 col1\" >-0.016844</td>\n",
       "                        <td id=\"T_cbb5b652_8a22_11ea_b3a3_a45e60ec6c2frow2_col2\" class=\"data row2 col2\" >0.008905</td>\n",
       "                        <td id=\"T_cbb5b652_8a22_11ea_b3a3_a45e60ec6c2frow2_col3\" class=\"data row2 col3\" >0.013804</td>\n",
       "                        <td id=\"T_cbb5b652_8a22_11ea_b3a3_a45e60ec6c2frow2_col4\" class=\"data row2 col4\" >-0.007849</td>\n",
       "                        <td id=\"T_cbb5b652_8a22_11ea_b3a3_a45e60ec6c2frow2_col5\" class=\"data row2 col5\" >0.001077</td>\n",
       "                        <td id=\"T_cbb5b652_8a22_11ea_b3a3_a45e60ec6c2frow2_col6\" class=\"data row2 col6\" >-0.004235</td>\n",
       "                        <td id=\"T_cbb5b652_8a22_11ea_b3a3_a45e60ec6c2frow2_col7\" class=\"data row2 col7\" >0.004321</td>\n",
       "                        <td id=\"T_cbb5b652_8a22_11ea_b3a3_a45e60ec6c2frow2_col8\" class=\"data row2 col8\" >0.001095</td>\n",
       "                        <td id=\"T_cbb5b652_8a22_11ea_b3a3_a45e60ec6c2frow2_col9\" class=\"data row2 col9\" >0.010087</td>\n",
       "            </tr>\n",
       "            <tr>\n",
       "                        <th id=\"T_cbb5b652_8a22_11ea_b3a3_a45e60ec6c2flevel0_row3\" class=\"row_heading level0 row3\" >673</th>\n",
       "                        <td id=\"T_cbb5b652_8a22_11ea_b3a3_a45e60ec6c2frow3_col0\" class=\"data row3 col0\" >0.000846</td>\n",
       "                        <td id=\"T_cbb5b652_8a22_11ea_b3a3_a45e60ec6c2frow3_col1\" class=\"data row3 col1\" >-0.006103</td>\n",
       "                        <td id=\"T_cbb5b652_8a22_11ea_b3a3_a45e60ec6c2frow3_col2\" class=\"data row3 col2\" >0.013646</td>\n",
       "                        <td id=\"T_cbb5b652_8a22_11ea_b3a3_a45e60ec6c2frow3_col3\" class=\"data row3 col3\" >-0.014378</td>\n",
       "                        <td id=\"T_cbb5b652_8a22_11ea_b3a3_a45e60ec6c2frow3_col4\" class=\"data row3 col4\" >-0.001122</td>\n",
       "                        <td id=\"T_cbb5b652_8a22_11ea_b3a3_a45e60ec6c2frow3_col5\" class=\"data row3 col5\" >0.008039</td>\n",
       "                        <td id=\"T_cbb5b652_8a22_11ea_b3a3_a45e60ec6c2frow3_col6\" class=\"data row3 col6\" >-0.006729</td>\n",
       "                        <td id=\"T_cbb5b652_8a22_11ea_b3a3_a45e60ec6c2frow3_col7\" class=\"data row3 col7\" >0.012533</td>\n",
       "                        <td id=\"T_cbb5b652_8a22_11ea_b3a3_a45e60ec6c2frow3_col8\" class=\"data row3 col8\" >-0.002211</td>\n",
       "                        <td id=\"T_cbb5b652_8a22_11ea_b3a3_a45e60ec6c2frow3_col9\" class=\"data row3 col9\" >-0.014189</td>\n",
       "            </tr>\n",
       "            <tr>\n",
       "                        <th id=\"T_cbb5b652_8a22_11ea_b3a3_a45e60ec6c2flevel0_row4\" class=\"row_heading level0 row4\" >828</th>\n",
       "                        <td id=\"T_cbb5b652_8a22_11ea_b3a3_a45e60ec6c2frow4_col0\" class=\"data row4 col0\" >-0.007606</td>\n",
       "                        <td id=\"T_cbb5b652_8a22_11ea_b3a3_a45e60ec6c2frow4_col1\" class=\"data row4 col1\" >0.004794</td>\n",
       "                        <td id=\"T_cbb5b652_8a22_11ea_b3a3_a45e60ec6c2frow4_col2\" class=\"data row4 col2\" >0.020323</td>\n",
       "                        <td id=\"T_cbb5b652_8a22_11ea_b3a3_a45e60ec6c2frow4_col3\" class=\"data row4 col3\" >0.016115</td>\n",
       "                        <td id=\"T_cbb5b652_8a22_11ea_b3a3_a45e60ec6c2frow4_col4\" class=\"data row4 col4\" >-0.025930</td>\n",
       "                        <td id=\"T_cbb5b652_8a22_11ea_b3a3_a45e60ec6c2frow4_col5\" class=\"data row4 col5\" >0.005531</td>\n",
       "                        <td id=\"T_cbb5b652_8a22_11ea_b3a3_a45e60ec6c2frow4_col6\" class=\"data row4 col6\" >-0.009031</td>\n",
       "                        <td id=\"T_cbb5b652_8a22_11ea_b3a3_a45e60ec6c2frow4_col7\" class=\"data row4 col7\" >-0.005173</td>\n",
       "                        <td id=\"T_cbb5b652_8a22_11ea_b3a3_a45e60ec6c2frow4_col8\" class=\"data row4 col8\" >-0.023737</td>\n",
       "                        <td id=\"T_cbb5b652_8a22_11ea_b3a3_a45e60ec6c2frow4_col9\" class=\"data row4 col9\" >-0.003486</td>\n",
       "            </tr>\n",
       "    </tbody></table>"
      ],
      "text/plain": [
       "<pandas.io.formats.style.Styler at 0x628ab2e90>"
      ]
     },
     "execution_count": 273,
     "metadata": {},
     "output_type": "execute_result"
    }
   ],
   "source": [
    "LOADINGS.head().style.background_gradient()"
   ]
  },
  {
   "cell_type": "code",
   "execution_count": 274,
   "metadata": {},
   "outputs": [],
   "source": [
    "LOADINGS['term_str'] = LOADINGS.apply(lambda x: VOCAB.loc[int(x.name)].term_str, 1)"
   ]
  },
  {
   "cell_type": "code",
   "execution_count": 275,
   "metadata": {},
   "outputs": [],
   "source": [
    "def print_loadings(pc1, pc2, words=10):\n",
    "    \"\"\"Show the top words for any two components\"\"\"\n",
    "    \n",
    "    l0_pos = LOADINGS.sort_values(pc1, ascending=True).head(words).term_str.str.cat(sep=' ')\n",
    "    l0_neg = LOADINGS.sort_values(pc1, ascending=False).head(words).term_str.str.cat(sep=' ')\n",
    "    l1_pos = LOADINGS.sort_values(pc2, ascending=True).head(words).term_str.str.cat(sep=' ')\n",
    "    l1_neg = LOADINGS.sort_values(pc2, ascending=False).head(words).term_str.str.cat(sep=' ')\n",
    "    \n",
    "    print('Letters %s+' % pc1, l0_pos)\n",
    "    print('\\nLetters %s-' % pc1, l0_neg)\n",
    "    print('\\nLetters %s+' % pc2, l1_pos)\n",
    "    print('\\nLetters %s-' % pc2, l1_neg)"
   ]
  },
  {
   "cell_type": "code",
   "execution_count": 276,
   "metadata": {},
   "outputs": [
    {
     "name": "stdout",
     "output_type": "stream",
     "text": [
      "Letters PC0+ respectfully honorable schools school chambersburg teachers teacher servant 1 amount\n",
      "\n",
      "Letters PC0- love heart she her nt happy come live home tell\n",
      "\n",
      "Letters PC1+ we enemy our wounded got they killed miles men fight\n",
      "\n",
      "Letters PC1- love heart devotion happy live staunton truly loving ella she\n"
     ]
    }
   ],
   "source": [
    "print_loadings(\"PC0\", \"PC1\", words=10)"
   ]
  },
  {
   "cell_type": "markdown",
   "metadata": {},
   "source": [
    "# Project Docs onto New Subspace\n",
    "\n",
    "We get the dot product of the DTM matrix and the new component matrix, which we will call DCM -- for document-component matrix. \\\n",
    "This has the effect of replacing the features of the DTM with the features of the transposed component matrix."
   ]
  },
  {
   "cell_type": "code",
   "execution_count": 389,
   "metadata": {},
   "outputs": [],
   "source": [
    "DCM = TFIDF.dot(COMPS[TERM_IDX].T)"
   ]
  },
  {
   "cell_type": "code",
   "execution_count": 390,
   "metadata": {},
   "outputs": [],
   "source": [
    "DCM = DCM.reset_index().set_index(['doc_id'])"
   ]
  },
  {
   "cell_type": "markdown",
   "metadata": {},
   "source": [
    "We add metadata to our new, reduced matrices for display purposes."
   ]
  },
  {
   "cell_type": "code",
   "execution_count": 391,
   "metadata": {},
   "outputs": [],
   "source": [
    "#DCM = DCM.join(LIB[['author']], on='doc_id')"
   ]
  },
  {
   "cell_type": "code",
   "execution_count": 392,
   "metadata": {},
   "outputs": [
    {
     "data": {
      "text/html": [
       "<div>\n",
       "<style scoped>\n",
       "    .dataframe tbody tr th:only-of-type {\n",
       "        vertical-align: middle;\n",
       "    }\n",
       "\n",
       "    .dataframe tbody tr th {\n",
       "        vertical-align: top;\n",
       "    }\n",
       "\n",
       "    .dataframe thead th {\n",
       "        text-align: right;\n",
       "    }\n",
       "</style>\n",
       "<table border=\"1\" class=\"dataframe\">\n",
       "  <thead>\n",
       "    <tr style=\"text-align: right;\">\n",
       "      <th></th>\n",
       "      <th>author</th>\n",
       "      <th>year</th>\n",
       "      <th>PC0</th>\n",
       "      <th>PC1</th>\n",
       "      <th>PC2</th>\n",
       "      <th>PC3</th>\n",
       "      <th>PC4</th>\n",
       "      <th>PC5</th>\n",
       "      <th>PC6</th>\n",
       "      <th>PC7</th>\n",
       "      <th>PC8</th>\n",
       "      <th>PC9</th>\n",
       "    </tr>\n",
       "    <tr>\n",
       "      <th>doc_id</th>\n",
       "      <th></th>\n",
       "      <th></th>\n",
       "      <th></th>\n",
       "      <th></th>\n",
       "      <th></th>\n",
       "      <th></th>\n",
       "      <th></th>\n",
       "      <th></th>\n",
       "      <th></th>\n",
       "      <th></th>\n",
       "      <th></th>\n",
       "      <th></th>\n",
       "    </tr>\n",
       "  </thead>\n",
       "  <tbody>\n",
       "    <tr>\n",
       "      <th>F0926</th>\n",
       "      <td>\"A deserter from the Rebel army\"</td>\n",
       "      <td>1863.0</td>\n",
       "      <td>-0.079869</td>\n",
       "      <td>0.017278</td>\n",
       "      <td>0.050262</td>\n",
       "      <td>-0.017691</td>\n",
       "      <td>-0.070817</td>\n",
       "      <td>0.027306</td>\n",
       "      <td>-0.089287</td>\n",
       "      <td>-0.008002</td>\n",
       "      <td>-0.046340</td>\n",
       "      <td>-0.025628</td>\n",
       "    </tr>\n",
       "    <tr>\n",
       "      <th>A1114</th>\n",
       "      <td>(probably L. [Letitia?] R. Smiley)</td>\n",
       "      <td>1866.0</td>\n",
       "      <td>0.151101</td>\n",
       "      <td>-0.014737</td>\n",
       "      <td>0.043045</td>\n",
       "      <td>0.189543</td>\n",
       "      <td>0.114170</td>\n",
       "      <td>-0.048006</td>\n",
       "      <td>0.171937</td>\n",
       "      <td>-0.074295</td>\n",
       "      <td>-0.096336</td>\n",
       "      <td>-0.010629</td>\n",
       "    </tr>\n",
       "    <tr>\n",
       "      <th>F0039</th>\n",
       "      <td>A Brother</td>\n",
       "      <td>1863.0</td>\n",
       "      <td>-0.002533</td>\n",
       "      <td>-0.133200</td>\n",
       "      <td>-0.000356</td>\n",
       "      <td>-0.058867</td>\n",
       "      <td>0.085635</td>\n",
       "      <td>0.000958</td>\n",
       "      <td>0.023428</td>\n",
       "      <td>0.075903</td>\n",
       "      <td>-0.019022</td>\n",
       "      <td>0.116175</td>\n",
       "    </tr>\n",
       "    <tr>\n",
       "      <th>A0547</th>\n",
       "      <td>A Son</td>\n",
       "      <td>1862.0</td>\n",
       "      <td>-0.047041</td>\n",
       "      <td>0.025695</td>\n",
       "      <td>-0.000017</td>\n",
       "      <td>-0.017082</td>\n",
       "      <td>0.000626</td>\n",
       "      <td>0.006431</td>\n",
       "      <td>0.041331</td>\n",
       "      <td>0.017270</td>\n",
       "      <td>-0.008502</td>\n",
       "      <td>0.026796</td>\n",
       "    </tr>\n",
       "    <tr>\n",
       "      <th>A5063</th>\n",
       "      <td>A wife</td>\n",
       "      <td>1883.0</td>\n",
       "      <td>0.159635</td>\n",
       "      <td>0.013446</td>\n",
       "      <td>-0.051886</td>\n",
       "      <td>0.144057</td>\n",
       "      <td>0.034529</td>\n",
       "      <td>-0.076516</td>\n",
       "      <td>0.135150</td>\n",
       "      <td>-0.083196</td>\n",
       "      <td>0.012329</td>\n",
       "      <td>-0.045707</td>\n",
       "    </tr>\n",
       "  </tbody>\n",
       "</table>\n",
       "</div>"
      ],
      "text/plain": [
       "                                    author    year       PC0       PC1  \\\n",
       "doc_id                                                                   \n",
       "F0926     \"A deserter from the Rebel army\"  1863.0 -0.079869  0.017278   \n",
       "A1114   (probably L. [Letitia?] R. Smiley)  1866.0  0.151101 -0.014737   \n",
       "F0039                            A Brother  1863.0 -0.002533 -0.133200   \n",
       "A0547                                A Son  1862.0 -0.047041  0.025695   \n",
       "A5063                               A wife  1883.0  0.159635  0.013446   \n",
       "\n",
       "             PC2       PC3       PC4       PC5       PC6       PC7       PC8  \\\n",
       "doc_id                                                                         \n",
       "F0926   0.050262 -0.017691 -0.070817  0.027306 -0.089287 -0.008002 -0.046340   \n",
       "A1114   0.043045  0.189543  0.114170 -0.048006  0.171937 -0.074295 -0.096336   \n",
       "F0039  -0.000356 -0.058867  0.085635  0.000958  0.023428  0.075903 -0.019022   \n",
       "A0547  -0.000017 -0.017082  0.000626  0.006431  0.041331  0.017270 -0.008502   \n",
       "A5063  -0.051886  0.144057  0.034529 -0.076516  0.135150 -0.083196  0.012329   \n",
       "\n",
       "             PC9  \n",
       "doc_id            \n",
       "F0926  -0.025628  \n",
       "A1114  -0.010629  \n",
       "F0039   0.116175  \n",
       "A0547   0.026796  \n",
       "A5063  -0.045707  "
      ]
     },
     "execution_count": 392,
     "metadata": {},
     "output_type": "execute_result"
    }
   ],
   "source": [
    "DCM.head()"
   ]
  },
  {
   "cell_type": "code",
   "execution_count": 393,
   "metadata": {},
   "outputs": [
    {
     "data": {
      "text/html": [
       "<style  type=\"text/css\" >\n",
       "    #T_67fedc92_8a68_11ea_b3a3_a45e60ec6c2frow0_col1 {\n",
       "            background-color:  #f8f1f8;\n",
       "            color:  #000000;\n",
       "        }    #T_67fedc92_8a68_11ea_b3a3_a45e60ec6c2frow0_col2 {\n",
       "            background-color:  #fff7fb;\n",
       "            color:  #000000;\n",
       "        }    #T_67fedc92_8a68_11ea_b3a3_a45e60ec6c2frow0_col3 {\n",
       "            background-color:  #03466e;\n",
       "            color:  #f1f1f1;\n",
       "        }    #T_67fedc92_8a68_11ea_b3a3_a45e60ec6c2frow0_col4 {\n",
       "            background-color:  #023858;\n",
       "            color:  #f1f1f1;\n",
       "        }    #T_67fedc92_8a68_11ea_b3a3_a45e60ec6c2frow0_col5 {\n",
       "            background-color:  #e3e0ee;\n",
       "            color:  #000000;\n",
       "        }    #T_67fedc92_8a68_11ea_b3a3_a45e60ec6c2frow0_col6 {\n",
       "            background-color:  #fff7fb;\n",
       "            color:  #000000;\n",
       "        }    #T_67fedc92_8a68_11ea_b3a3_a45e60ec6c2frow0_col7 {\n",
       "            background-color:  #023858;\n",
       "            color:  #f1f1f1;\n",
       "        }    #T_67fedc92_8a68_11ea_b3a3_a45e60ec6c2frow0_col8 {\n",
       "            background-color:  #fff7fb;\n",
       "            color:  #000000;\n",
       "        }    #T_67fedc92_8a68_11ea_b3a3_a45e60ec6c2frow0_col9 {\n",
       "            background-color:  #80aed2;\n",
       "            color:  #000000;\n",
       "        }    #T_67fedc92_8a68_11ea_b3a3_a45e60ec6c2frow0_col10 {\n",
       "            background-color:  #84b0d3;\n",
       "            color:  #000000;\n",
       "        }    #T_67fedc92_8a68_11ea_b3a3_a45e60ec6c2frow0_col11 {\n",
       "            background-color:  #ede7f2;\n",
       "            color:  #000000;\n",
       "        }    #T_67fedc92_8a68_11ea_b3a3_a45e60ec6c2frow1_col1 {\n",
       "            background-color:  #dedcec;\n",
       "            color:  #000000;\n",
       "        }    #T_67fedc92_8a68_11ea_b3a3_a45e60ec6c2frow1_col2 {\n",
       "            background-color:  #034267;\n",
       "            color:  #f1f1f1;\n",
       "        }    #T_67fedc92_8a68_11ea_b3a3_a45e60ec6c2frow1_col3 {\n",
       "            background-color:  #0771b1;\n",
       "            color:  #f1f1f1;\n",
       "        }    #T_67fedc92_8a68_11ea_b3a3_a45e60ec6c2frow1_col4 {\n",
       "            background-color:  #034b76;\n",
       "            color:  #f1f1f1;\n",
       "        }    #T_67fedc92_8a68_11ea_b3a3_a45e60ec6c2frow1_col5 {\n",
       "            background-color:  #023858;\n",
       "            color:  #f1f1f1;\n",
       "        }    #T_67fedc92_8a68_11ea_b3a3_a45e60ec6c2frow1_col6 {\n",
       "            background-color:  #023858;\n",
       "            color:  #f1f1f1;\n",
       "        }    #T_67fedc92_8a68_11ea_b3a3_a45e60ec6c2frow1_col7 {\n",
       "            background-color:  #c8cde4;\n",
       "            color:  #000000;\n",
       "        }    #T_67fedc92_8a68_11ea_b3a3_a45e60ec6c2frow1_col8 {\n",
       "            background-color:  #023858;\n",
       "            color:  #f1f1f1;\n",
       "        }    #T_67fedc92_8a68_11ea_b3a3_a45e60ec6c2frow1_col9 {\n",
       "            background-color:  #f7f0f7;\n",
       "            color:  #000000;\n",
       "        }    #T_67fedc92_8a68_11ea_b3a3_a45e60ec6c2frow1_col10 {\n",
       "            background-color:  #fff7fb;\n",
       "            color:  #000000;\n",
       "        }    #T_67fedc92_8a68_11ea_b3a3_a45e60ec6c2frow1_col11 {\n",
       "            background-color:  #d8d7e9;\n",
       "            color:  #000000;\n",
       "        }    #T_67fedc92_8a68_11ea_b3a3_a45e60ec6c2frow2_col1 {\n",
       "            background-color:  #f8f1f8;\n",
       "            color:  #000000;\n",
       "        }    #T_67fedc92_8a68_11ea_b3a3_a45e60ec6c2frow2_col2 {\n",
       "            background-color:  #b8c6e0;\n",
       "            color:  #000000;\n",
       "        }    #T_67fedc92_8a68_11ea_b3a3_a45e60ec6c2frow2_col3 {\n",
       "            background-color:  #fff7fb;\n",
       "            color:  #000000;\n",
       "        }    #T_67fedc92_8a68_11ea_b3a3_a45e60ec6c2frow2_col4 {\n",
       "            background-color:  #71a8ce;\n",
       "            color:  #000000;\n",
       "        }    #T_67fedc92_8a68_11ea_b3a3_a45e60ec6c2frow2_col5 {\n",
       "            background-color:  #fff7fb;\n",
       "            color:  #000000;\n",
       "        }    #T_67fedc92_8a68_11ea_b3a3_a45e60ec6c2frow2_col6 {\n",
       "            background-color:  #045f95;\n",
       "            color:  #f1f1f1;\n",
       "        }    #T_67fedc92_8a68_11ea_b3a3_a45e60ec6c2frow2_col7 {\n",
       "            background-color:  #0570b0;\n",
       "            color:  #f1f1f1;\n",
       "        }    #T_67fedc92_8a68_11ea_b3a3_a45e60ec6c2frow2_col8 {\n",
       "            background-color:  #8fb4d6;\n",
       "            color:  #000000;\n",
       "        }    #T_67fedc92_8a68_11ea_b3a3_a45e60ec6c2frow2_col9 {\n",
       "            background-color:  #023858;\n",
       "            color:  #f1f1f1;\n",
       "        }    #T_67fedc92_8a68_11ea_b3a3_a45e60ec6c2frow2_col10 {\n",
       "            background-color:  #1379b5;\n",
       "            color:  #f1f1f1;\n",
       "        }    #T_67fedc92_8a68_11ea_b3a3_a45e60ec6c2frow2_col11 {\n",
       "            background-color:  #023858;\n",
       "            color:  #f1f1f1;\n",
       "        }    #T_67fedc92_8a68_11ea_b3a3_a45e60ec6c2frow3_col1 {\n",
       "            background-color:  #fff7fb;\n",
       "            color:  #000000;\n",
       "        }    #T_67fedc92_8a68_11ea_b3a3_a45e60ec6c2frow3_col2 {\n",
       "            background-color:  #e9e5f1;\n",
       "            color:  #000000;\n",
       "        }    #T_67fedc92_8a68_11ea_b3a3_a45e60ec6c2frow3_col3 {\n",
       "            background-color:  #023858;\n",
       "            color:  #f1f1f1;\n",
       "        }    #T_67fedc92_8a68_11ea_b3a3_a45e60ec6c2frow3_col4 {\n",
       "            background-color:  #71a8ce;\n",
       "            color:  #000000;\n",
       "        }    #T_67fedc92_8a68_11ea_b3a3_a45e60ec6c2frow3_col5 {\n",
       "            background-color:  #e2dfee;\n",
       "            color:  #000000;\n",
       "        }    #T_67fedc92_8a68_11ea_b3a3_a45e60ec6c2frow3_col6 {\n",
       "            background-color:  #a2bcda;\n",
       "            color:  #000000;\n",
       "        }    #T_67fedc92_8a68_11ea_b3a3_a45e60ec6c2frow3_col7 {\n",
       "            background-color:  #0567a2;\n",
       "            color:  #f1f1f1;\n",
       "        }    #T_67fedc92_8a68_11ea_b3a3_a45e60ec6c2frow3_col8 {\n",
       "            background-color:  #73a9cf;\n",
       "            color:  #000000;\n",
       "        }    #T_67fedc92_8a68_11ea_b3a3_a45e60ec6c2frow3_col9 {\n",
       "            background-color:  #348ebf;\n",
       "            color:  #000000;\n",
       "        }    #T_67fedc92_8a68_11ea_b3a3_a45e60ec6c2frow3_col10 {\n",
       "            background-color:  #0566a0;\n",
       "            color:  #f1f1f1;\n",
       "        }    #T_67fedc92_8a68_11ea_b3a3_a45e60ec6c2frow3_col11 {\n",
       "            background-color:  #89b1d4;\n",
       "            color:  #000000;\n",
       "        }    #T_67fedc92_8a68_11ea_b3a3_a45e60ec6c2frow4_col1 {\n",
       "            background-color:  #023858;\n",
       "            color:  #f1f1f1;\n",
       "        }    #T_67fedc92_8a68_11ea_b3a3_a45e60ec6c2frow4_col2 {\n",
       "            background-color:  #023858;\n",
       "            color:  #f1f1f1;\n",
       "        }    #T_67fedc92_8a68_11ea_b3a3_a45e60ec6c2frow4_col3 {\n",
       "            background-color:  #034c78;\n",
       "            color:  #f1f1f1;\n",
       "        }    #T_67fedc92_8a68_11ea_b3a3_a45e60ec6c2frow4_col4 {\n",
       "            background-color:  #fff7fb;\n",
       "            color:  #000000;\n",
       "        }    #T_67fedc92_8a68_11ea_b3a3_a45e60ec6c2frow4_col5 {\n",
       "            background-color:  #04649d;\n",
       "            color:  #f1f1f1;\n",
       "        }    #T_67fedc92_8a68_11ea_b3a3_a45e60ec6c2frow4_col6 {\n",
       "            background-color:  #529bc7;\n",
       "            color:  #000000;\n",
       "        }    #T_67fedc92_8a68_11ea_b3a3_a45e60ec6c2frow4_col7 {\n",
       "            background-color:  #fff7fb;\n",
       "            color:  #000000;\n",
       "        }    #T_67fedc92_8a68_11ea_b3a3_a45e60ec6c2frow4_col8 {\n",
       "            background-color:  #045d92;\n",
       "            color:  #f1f1f1;\n",
       "        }    #T_67fedc92_8a68_11ea_b3a3_a45e60ec6c2frow4_col9 {\n",
       "            background-color:  #fff7fb;\n",
       "            color:  #000000;\n",
       "        }    #T_67fedc92_8a68_11ea_b3a3_a45e60ec6c2frow4_col10 {\n",
       "            background-color:  #023858;\n",
       "            color:  #f1f1f1;\n",
       "        }    #T_67fedc92_8a68_11ea_b3a3_a45e60ec6c2frow4_col11 {\n",
       "            background-color:  #fff7fb;\n",
       "            color:  #000000;\n",
       "        }</style><table id=\"T_67fedc92_8a68_11ea_b3a3_a45e60ec6c2f\" ><thead>    <tr>        <th class=\"blank level0\" ></th>        <th class=\"col_heading level0 col0\" >author</th>        <th class=\"col_heading level0 col1\" >year</th>        <th class=\"col_heading level0 col2\" >PC0</th>        <th class=\"col_heading level0 col3\" >PC1</th>        <th class=\"col_heading level0 col4\" >PC2</th>        <th class=\"col_heading level0 col5\" >PC3</th>        <th class=\"col_heading level0 col6\" >PC4</th>        <th class=\"col_heading level0 col7\" >PC5</th>        <th class=\"col_heading level0 col8\" >PC6</th>        <th class=\"col_heading level0 col9\" >PC7</th>        <th class=\"col_heading level0 col10\" >PC8</th>        <th class=\"col_heading level0 col11\" >PC9</th>    </tr>    <tr>        <th class=\"index_name level0\" >doc_id</th>        <th class=\"blank\" ></th>        <th class=\"blank\" ></th>        <th class=\"blank\" ></th>        <th class=\"blank\" ></th>        <th class=\"blank\" ></th>        <th class=\"blank\" ></th>        <th class=\"blank\" ></th>        <th class=\"blank\" ></th>        <th class=\"blank\" ></th>        <th class=\"blank\" ></th>        <th class=\"blank\" ></th>        <th class=\"blank\" ></th>    </tr></thead><tbody>\n",
       "                <tr>\n",
       "                        <th id=\"T_67fedc92_8a68_11ea_b3a3_a45e60ec6c2flevel0_row0\" class=\"row_heading level0 row0\" >F0926</th>\n",
       "                        <td id=\"T_67fedc92_8a68_11ea_b3a3_a45e60ec6c2frow0_col0\" class=\"data row0 col0\" >\"A deserter from the Rebel army\"</td>\n",
       "                        <td id=\"T_67fedc92_8a68_11ea_b3a3_a45e60ec6c2frow0_col1\" class=\"data row0 col1\" >1863.000000</td>\n",
       "                        <td id=\"T_67fedc92_8a68_11ea_b3a3_a45e60ec6c2frow0_col2\" class=\"data row0 col2\" >-0.079869</td>\n",
       "                        <td id=\"T_67fedc92_8a68_11ea_b3a3_a45e60ec6c2frow0_col3\" class=\"data row0 col3\" >0.017278</td>\n",
       "                        <td id=\"T_67fedc92_8a68_11ea_b3a3_a45e60ec6c2frow0_col4\" class=\"data row0 col4\" >0.050262</td>\n",
       "                        <td id=\"T_67fedc92_8a68_11ea_b3a3_a45e60ec6c2frow0_col5\" class=\"data row0 col5\" >-0.017691</td>\n",
       "                        <td id=\"T_67fedc92_8a68_11ea_b3a3_a45e60ec6c2frow0_col6\" class=\"data row0 col6\" >-0.070817</td>\n",
       "                        <td id=\"T_67fedc92_8a68_11ea_b3a3_a45e60ec6c2frow0_col7\" class=\"data row0 col7\" >0.027306</td>\n",
       "                        <td id=\"T_67fedc92_8a68_11ea_b3a3_a45e60ec6c2frow0_col8\" class=\"data row0 col8\" >-0.089287</td>\n",
       "                        <td id=\"T_67fedc92_8a68_11ea_b3a3_a45e60ec6c2frow0_col9\" class=\"data row0 col9\" >-0.008002</td>\n",
       "                        <td id=\"T_67fedc92_8a68_11ea_b3a3_a45e60ec6c2frow0_col10\" class=\"data row0 col10\" >-0.046340</td>\n",
       "                        <td id=\"T_67fedc92_8a68_11ea_b3a3_a45e60ec6c2frow0_col11\" class=\"data row0 col11\" >-0.025628</td>\n",
       "            </tr>\n",
       "            <tr>\n",
       "                        <th id=\"T_67fedc92_8a68_11ea_b3a3_a45e60ec6c2flevel0_row1\" class=\"row_heading level0 row1\" >A1114</th>\n",
       "                        <td id=\"T_67fedc92_8a68_11ea_b3a3_a45e60ec6c2frow1_col0\" class=\"data row1 col0\" >(probably L. [Letitia?] R. Smiley)</td>\n",
       "                        <td id=\"T_67fedc92_8a68_11ea_b3a3_a45e60ec6c2frow1_col1\" class=\"data row1 col1\" >1866.000000</td>\n",
       "                        <td id=\"T_67fedc92_8a68_11ea_b3a3_a45e60ec6c2frow1_col2\" class=\"data row1 col2\" >0.151101</td>\n",
       "                        <td id=\"T_67fedc92_8a68_11ea_b3a3_a45e60ec6c2frow1_col3\" class=\"data row1 col3\" >-0.014737</td>\n",
       "                        <td id=\"T_67fedc92_8a68_11ea_b3a3_a45e60ec6c2frow1_col4\" class=\"data row1 col4\" >0.043045</td>\n",
       "                        <td id=\"T_67fedc92_8a68_11ea_b3a3_a45e60ec6c2frow1_col5\" class=\"data row1 col5\" >0.189543</td>\n",
       "                        <td id=\"T_67fedc92_8a68_11ea_b3a3_a45e60ec6c2frow1_col6\" class=\"data row1 col6\" >0.114170</td>\n",
       "                        <td id=\"T_67fedc92_8a68_11ea_b3a3_a45e60ec6c2frow1_col7\" class=\"data row1 col7\" >-0.048006</td>\n",
       "                        <td id=\"T_67fedc92_8a68_11ea_b3a3_a45e60ec6c2frow1_col8\" class=\"data row1 col8\" >0.171937</td>\n",
       "                        <td id=\"T_67fedc92_8a68_11ea_b3a3_a45e60ec6c2frow1_col9\" class=\"data row1 col9\" >-0.074295</td>\n",
       "                        <td id=\"T_67fedc92_8a68_11ea_b3a3_a45e60ec6c2frow1_col10\" class=\"data row1 col10\" >-0.096336</td>\n",
       "                        <td id=\"T_67fedc92_8a68_11ea_b3a3_a45e60ec6c2frow1_col11\" class=\"data row1 col11\" >-0.010629</td>\n",
       "            </tr>\n",
       "            <tr>\n",
       "                        <th id=\"T_67fedc92_8a68_11ea_b3a3_a45e60ec6c2flevel0_row2\" class=\"row_heading level0 row2\" >F0039</th>\n",
       "                        <td id=\"T_67fedc92_8a68_11ea_b3a3_a45e60ec6c2frow2_col0\" class=\"data row2 col0\" >A Brother</td>\n",
       "                        <td id=\"T_67fedc92_8a68_11ea_b3a3_a45e60ec6c2frow2_col1\" class=\"data row2 col1\" >1863.000000</td>\n",
       "                        <td id=\"T_67fedc92_8a68_11ea_b3a3_a45e60ec6c2frow2_col2\" class=\"data row2 col2\" >-0.002533</td>\n",
       "                        <td id=\"T_67fedc92_8a68_11ea_b3a3_a45e60ec6c2frow2_col3\" class=\"data row2 col3\" >-0.133200</td>\n",
       "                        <td id=\"T_67fedc92_8a68_11ea_b3a3_a45e60ec6c2frow2_col4\" class=\"data row2 col4\" >-0.000356</td>\n",
       "                        <td id=\"T_67fedc92_8a68_11ea_b3a3_a45e60ec6c2frow2_col5\" class=\"data row2 col5\" >-0.058867</td>\n",
       "                        <td id=\"T_67fedc92_8a68_11ea_b3a3_a45e60ec6c2frow2_col6\" class=\"data row2 col6\" >0.085635</td>\n",
       "                        <td id=\"T_67fedc92_8a68_11ea_b3a3_a45e60ec6c2frow2_col7\" class=\"data row2 col7\" >0.000958</td>\n",
       "                        <td id=\"T_67fedc92_8a68_11ea_b3a3_a45e60ec6c2frow2_col8\" class=\"data row2 col8\" >0.023428</td>\n",
       "                        <td id=\"T_67fedc92_8a68_11ea_b3a3_a45e60ec6c2frow2_col9\" class=\"data row2 col9\" >0.075903</td>\n",
       "                        <td id=\"T_67fedc92_8a68_11ea_b3a3_a45e60ec6c2frow2_col10\" class=\"data row2 col10\" >-0.019022</td>\n",
       "                        <td id=\"T_67fedc92_8a68_11ea_b3a3_a45e60ec6c2frow2_col11\" class=\"data row2 col11\" >0.116175</td>\n",
       "            </tr>\n",
       "            <tr>\n",
       "                        <th id=\"T_67fedc92_8a68_11ea_b3a3_a45e60ec6c2flevel0_row3\" class=\"row_heading level0 row3\" >A0547</th>\n",
       "                        <td id=\"T_67fedc92_8a68_11ea_b3a3_a45e60ec6c2frow3_col0\" class=\"data row3 col0\" >A Son</td>\n",
       "                        <td id=\"T_67fedc92_8a68_11ea_b3a3_a45e60ec6c2frow3_col1\" class=\"data row3 col1\" >1862.000000</td>\n",
       "                        <td id=\"T_67fedc92_8a68_11ea_b3a3_a45e60ec6c2frow3_col2\" class=\"data row3 col2\" >-0.047041</td>\n",
       "                        <td id=\"T_67fedc92_8a68_11ea_b3a3_a45e60ec6c2frow3_col3\" class=\"data row3 col3\" >0.025695</td>\n",
       "                        <td id=\"T_67fedc92_8a68_11ea_b3a3_a45e60ec6c2frow3_col4\" class=\"data row3 col4\" >-0.000017</td>\n",
       "                        <td id=\"T_67fedc92_8a68_11ea_b3a3_a45e60ec6c2frow3_col5\" class=\"data row3 col5\" >-0.017082</td>\n",
       "                        <td id=\"T_67fedc92_8a68_11ea_b3a3_a45e60ec6c2frow3_col6\" class=\"data row3 col6\" >0.000626</td>\n",
       "                        <td id=\"T_67fedc92_8a68_11ea_b3a3_a45e60ec6c2frow3_col7\" class=\"data row3 col7\" >0.006431</td>\n",
       "                        <td id=\"T_67fedc92_8a68_11ea_b3a3_a45e60ec6c2frow3_col8\" class=\"data row3 col8\" >0.041331</td>\n",
       "                        <td id=\"T_67fedc92_8a68_11ea_b3a3_a45e60ec6c2frow3_col9\" class=\"data row3 col9\" >0.017270</td>\n",
       "                        <td id=\"T_67fedc92_8a68_11ea_b3a3_a45e60ec6c2frow3_col10\" class=\"data row3 col10\" >-0.008502</td>\n",
       "                        <td id=\"T_67fedc92_8a68_11ea_b3a3_a45e60ec6c2frow3_col11\" class=\"data row3 col11\" >0.026796</td>\n",
       "            </tr>\n",
       "            <tr>\n",
       "                        <th id=\"T_67fedc92_8a68_11ea_b3a3_a45e60ec6c2flevel0_row4\" class=\"row_heading level0 row4\" >A5063</th>\n",
       "                        <td id=\"T_67fedc92_8a68_11ea_b3a3_a45e60ec6c2frow4_col0\" class=\"data row4 col0\" >A wife</td>\n",
       "                        <td id=\"T_67fedc92_8a68_11ea_b3a3_a45e60ec6c2frow4_col1\" class=\"data row4 col1\" >1883.000000</td>\n",
       "                        <td id=\"T_67fedc92_8a68_11ea_b3a3_a45e60ec6c2frow4_col2\" class=\"data row4 col2\" >0.159635</td>\n",
       "                        <td id=\"T_67fedc92_8a68_11ea_b3a3_a45e60ec6c2frow4_col3\" class=\"data row4 col3\" >0.013446</td>\n",
       "                        <td id=\"T_67fedc92_8a68_11ea_b3a3_a45e60ec6c2frow4_col4\" class=\"data row4 col4\" >-0.051886</td>\n",
       "                        <td id=\"T_67fedc92_8a68_11ea_b3a3_a45e60ec6c2frow4_col5\" class=\"data row4 col5\" >0.144057</td>\n",
       "                        <td id=\"T_67fedc92_8a68_11ea_b3a3_a45e60ec6c2frow4_col6\" class=\"data row4 col6\" >0.034529</td>\n",
       "                        <td id=\"T_67fedc92_8a68_11ea_b3a3_a45e60ec6c2frow4_col7\" class=\"data row4 col7\" >-0.076516</td>\n",
       "                        <td id=\"T_67fedc92_8a68_11ea_b3a3_a45e60ec6c2frow4_col8\" class=\"data row4 col8\" >0.135150</td>\n",
       "                        <td id=\"T_67fedc92_8a68_11ea_b3a3_a45e60ec6c2frow4_col9\" class=\"data row4 col9\" >-0.083196</td>\n",
       "                        <td id=\"T_67fedc92_8a68_11ea_b3a3_a45e60ec6c2frow4_col10\" class=\"data row4 col10\" >0.012329</td>\n",
       "                        <td id=\"T_67fedc92_8a68_11ea_b3a3_a45e60ec6c2frow4_col11\" class=\"data row4 col11\" >-0.045707</td>\n",
       "            </tr>\n",
       "    </tbody></table>"
      ],
      "text/plain": [
       "<pandas.io.formats.style.Styler at 0x634c57f90>"
      ]
     },
     "execution_count": 393,
     "metadata": {},
     "output_type": "execute_result"
    }
   ],
   "source": [
    "DCM.head().style.background_gradient()"
   ]
  },
  {
   "cell_type": "markdown",
   "metadata": {},
   "source": [
    "# Reduce Authors and Years"
   ]
  },
  {
   "cell_type": "markdown",
   "metadata": {},
   "source": [
    "Filter DCM by more prevalent authors (>= 30 letters) and years to only be around civil war "
   ]
  },
  {
   "cell_type": "code",
   "execution_count": 394,
   "metadata": {},
   "outputs": [
    {
     "name": "stderr",
     "output_type": "stream",
     "text": [
      "/opt/anaconda3/lib/python3.7/site-packages/ipykernel_launcher.py:6: SettingWithCopyWarning:\n",
      "\n",
      "\n",
      "A value is trying to be set on a copy of a slice from a DataFrame.\n",
      "Try using .loc[row_indexer,col_indexer] = value instead\n",
      "\n",
      "See the caveats in the documentation: https://pandas.pydata.org/pandas-docs/stable/user_guide/indexing.html#returning-a-view-versus-a-copy\n",
      "\n",
      "/opt/anaconda3/lib/python3.7/site-packages/ipykernel_launcher.py:7: SettingWithCopyWarning:\n",
      "\n",
      "\n",
      "A value is trying to be set on a copy of a slice from a DataFrame.\n",
      "Try using .loc[row_indexer,col_indexer] = value instead\n",
      "\n",
      "See the caveats in the documentation: https://pandas.pydata.org/pandas-docs/stable/user_guide/indexing.html#returning-a-view-versus-a-copy\n",
      "\n"
     ]
    }
   ],
   "source": [
    "DCM = DCM.merge(LIB.county, on='doc_id')\n",
    "#DCM = DCM.query('county == \"Augusta\" | county == \"Franklin\"')\n",
    "\n",
    "prom_authors = LIB.author.value_counts()[LIB.author.value_counts() >= 30].index\n",
    "DCM_civil = DCM[DCM.author.isin(prom_authors)]\n",
    "DCM_civil['year'] = DCM_civil.year.astype(int)\n",
    "DCM_civil['year'] = DCM_civil.year.astype(str)"
   ]
  },
  {
   "cell_type": "markdown",
   "metadata": {},
   "source": [
    "# Visualize"
   ]
  },
  {
   "cell_type": "code",
   "execution_count": 398,
   "metadata": {},
   "outputs": [],
   "source": [
    "def vis_pcs(M, a, b, label='author', prefix='PC'):\n",
    "    fig = px.scatter(M, prefix + str(a), prefix + str(b), \n",
    "                        color=label, \n",
    "#                        hover_name='doc', \n",
    "                        marginal_x='box')\n",
    "    fig.show()"
   ]
  },
  {
   "cell_type": "markdown",
   "metadata": {},
   "source": [
    "## Year"
   ]
  },
  {
   "cell_type": "markdown",
   "metadata": {},
   "source": [
    "Nothing really separates the document years"
   ]
  },
  {
   "cell_type": "code",
   "execution_count": 402,
   "metadata": {},
   "outputs": [
    {
     "data": {
      "application/vnd.plotly.v1+json": {
       "config": {
        "plotlyServerURL": "https://plot.ly"
       },
       "data": [
        {
         "hoverlabel": {
          "namelength": 0
         },
         "hovertemplate": "year=1850<br>PC0=%{x}<br>PC1=%{y}",
         "legendgroup": "year=1850",
         "marker": {
          "color": "#636efa",
          "symbol": "circle"
         },
         "mode": "markers",
         "name": "year=1850",
         "showlegend": true,
         "type": "scatter",
         "x": [
          -0.12022856838808774
         ],
         "xaxis": "x",
         "y": [
          0.09670644992539651
         ],
         "yaxis": "y"
        },
        {
         "alignmentgroup": "True",
         "hoverlabel": {
          "namelength": 0
         },
         "hovertemplate": "year=1850<br>PC0=%{x}",
         "legendgroup": "year=1850",
         "marker": {
          "color": "#636efa",
          "symbol": "circle"
         },
         "name": "year=1850",
         "notched": true,
         "offsetgroup": "year=1850",
         "showlegend": false,
         "type": "box",
         "x": [
          -0.12022856838808774
         ],
         "xaxis": "x2",
         "yaxis": "y2"
        },
        {
         "hoverlabel": {
          "namelength": 0
         },
         "hovertemplate": "year=1851<br>PC0=%{x}<br>PC1=%{y}",
         "legendgroup": "year=1851",
         "marker": {
          "color": "#EF553B",
          "symbol": "circle"
         },
         "mode": "markers",
         "name": "year=1851",
         "showlegend": true,
         "type": "scatter",
         "x": [
          -0.1315141978097858,
          -0.13827354361333966,
          -0.13499271654050912
         ],
         "xaxis": "x",
         "y": [
          0.07146334723151701,
          0.08665291171609864,
          0.13619775596423547
         ],
         "yaxis": "y"
        },
        {
         "alignmentgroup": "True",
         "hoverlabel": {
          "namelength": 0
         },
         "hovertemplate": "year=1851<br>PC0=%{x}",
         "legendgroup": "year=1851",
         "marker": {
          "color": "#EF553B",
          "symbol": "circle"
         },
         "name": "year=1851",
         "notched": true,
         "offsetgroup": "year=1851",
         "showlegend": false,
         "type": "box",
         "x": [
          -0.1315141978097858,
          -0.13827354361333966,
          -0.13499271654050912
         ],
         "xaxis": "x2",
         "yaxis": "y2"
        },
        {
         "hoverlabel": {
          "namelength": 0
         },
         "hovertemplate": "year=1852<br>PC0=%{x}<br>PC1=%{y}",
         "legendgroup": "year=1852",
         "marker": {
          "color": "#00cc96",
          "symbol": "circle"
         },
         "mode": "markers",
         "name": "year=1852",
         "showlegend": true,
         "type": "scatter",
         "x": [
          -0.12382719269477717,
          -0.14591838018294911,
          -0.09727605495749943
         ],
         "xaxis": "x",
         "y": [
          0.08863714484510614,
          0.08410217146361137,
          0.0952960055938111
         ],
         "yaxis": "y"
        },
        {
         "alignmentgroup": "True",
         "hoverlabel": {
          "namelength": 0
         },
         "hovertemplate": "year=1852<br>PC0=%{x}",
         "legendgroup": "year=1852",
         "marker": {
          "color": "#00cc96",
          "symbol": "circle"
         },
         "name": "year=1852",
         "notched": true,
         "offsetgroup": "year=1852",
         "showlegend": false,
         "type": "box",
         "x": [
          -0.12382719269477717,
          -0.14591838018294911,
          -0.09727605495749943
         ],
         "xaxis": "x2",
         "yaxis": "y2"
        },
        {
         "hoverlabel": {
          "namelength": 0
         },
         "hovertemplate": "year=1854<br>PC0=%{x}<br>PC1=%{y}",
         "legendgroup": "year=1854",
         "marker": {
          "color": "#ab63fa",
          "symbol": "circle"
         },
         "mode": "markers",
         "name": "year=1854",
         "showlegend": true,
         "type": "scatter",
         "x": [
          -0.12293070273844403,
          -0.14608496985216438
         ],
         "xaxis": "x",
         "y": [
          0.09710096044026274,
          0.10875929406235743
         ],
         "yaxis": "y"
        },
        {
         "alignmentgroup": "True",
         "hoverlabel": {
          "namelength": 0
         },
         "hovertemplate": "year=1854<br>PC0=%{x}",
         "legendgroup": "year=1854",
         "marker": {
          "color": "#ab63fa",
          "symbol": "circle"
         },
         "name": "year=1854",
         "notched": true,
         "offsetgroup": "year=1854",
         "showlegend": false,
         "type": "box",
         "x": [
          -0.12293070273844403,
          -0.14608496985216438
         ],
         "xaxis": "x2",
         "yaxis": "y2"
        },
        {
         "hoverlabel": {
          "namelength": 0
         },
         "hovertemplate": "year=1858<br>PC0=%{x}<br>PC1=%{y}",
         "legendgroup": "year=1858",
         "marker": {
          "color": "#FFA15A",
          "symbol": "circle"
         },
         "mode": "markers",
         "name": "year=1858",
         "showlegend": true,
         "type": "scatter",
         "x": [
          -0.15186151555847066,
          -0.1550741093110274,
          -0.15080827169364025
         ],
         "xaxis": "x",
         "y": [
          0.1089194518753756,
          0.12389663472473873,
          0.08809062770187044
         ],
         "yaxis": "y"
        },
        {
         "alignmentgroup": "True",
         "hoverlabel": {
          "namelength": 0
         },
         "hovertemplate": "year=1858<br>PC0=%{x}",
         "legendgroup": "year=1858",
         "marker": {
          "color": "#FFA15A",
          "symbol": "circle"
         },
         "name": "year=1858",
         "notched": true,
         "offsetgroup": "year=1858",
         "showlegend": false,
         "type": "box",
         "x": [
          -0.15186151555847066,
          -0.1550741093110274,
          -0.15080827169364025
         ],
         "xaxis": "x2",
         "yaxis": "y2"
        },
        {
         "hoverlabel": {
          "namelength": 0
         },
         "hovertemplate": "year=1859<br>PC0=%{x}<br>PC1=%{y}",
         "legendgroup": "year=1859",
         "marker": {
          "color": "#19d3f3",
          "symbol": "circle"
         },
         "mode": "markers",
         "name": "year=1859",
         "showlegend": true,
         "type": "scatter",
         "x": [
          -0.1874315469943231,
          -0.12658109377913795,
          -0.03513359006104385,
          -0.1207038036496252,
          -0.10547594307869347
         ],
         "xaxis": "x",
         "y": [
          0.11523635962020307,
          0.08214246056658747,
          0.048476662855876575,
          0.1049934990369903,
          0.06836298672279162
         ],
         "yaxis": "y"
        },
        {
         "alignmentgroup": "True",
         "hoverlabel": {
          "namelength": 0
         },
         "hovertemplate": "year=1859<br>PC0=%{x}",
         "legendgroup": "year=1859",
         "marker": {
          "color": "#19d3f3",
          "symbol": "circle"
         },
         "name": "year=1859",
         "notched": true,
         "offsetgroup": "year=1859",
         "showlegend": false,
         "type": "box",
         "x": [
          -0.1874315469943231,
          -0.12658109377913795,
          -0.03513359006104385,
          -0.1207038036496252,
          -0.10547594307869347
         ],
         "xaxis": "x2",
         "yaxis": "y2"
        },
        {
         "hoverlabel": {
          "namelength": 0
         },
         "hovertemplate": "year=1860<br>PC0=%{x}<br>PC1=%{y}",
         "legendgroup": "year=1860",
         "marker": {
          "color": "#FF6692",
          "symbol": "circle"
         },
         "mode": "markers",
         "name": "year=1860",
         "showlegend": true,
         "type": "scatter",
         "x": [
          -0.12389349575383111,
          -0.10181036914289755,
          -0.09737878545779434,
          -0.13896384213619545
         ],
         "xaxis": "x",
         "y": [
          0.11261972823557852,
          0.09772356033656998,
          0.08664930712417235,
          0.09529265816734518
         ],
         "yaxis": "y"
        },
        {
         "alignmentgroup": "True",
         "hoverlabel": {
          "namelength": 0
         },
         "hovertemplate": "year=1860<br>PC0=%{x}",
         "legendgroup": "year=1860",
         "marker": {
          "color": "#FF6692",
          "symbol": "circle"
         },
         "name": "year=1860",
         "notched": true,
         "offsetgroup": "year=1860",
         "showlegend": false,
         "type": "box",
         "x": [
          -0.12389349575383111,
          -0.10181036914289755,
          -0.09737878545779434,
          -0.13896384213619545
         ],
         "xaxis": "x2",
         "yaxis": "y2"
        },
        {
         "hoverlabel": {
          "namelength": 0
         },
         "hovertemplate": "year=1861<br>PC0=%{x}<br>PC1=%{y}",
         "legendgroup": "year=1861",
         "marker": {
          "color": "#B6E880",
          "symbol": "circle"
         },
         "mode": "markers",
         "name": "year=1861",
         "showlegend": true,
         "type": "scatter",
         "x": [
          -0.13052305722902816,
          -0.15233864483365647,
          -0.12589485906554065,
          -0.04603534572460868,
          -0.07806146589366746,
          -0.06589425947869561,
          -0.0927839038269944,
          -0.05901576337523176,
          -0.0892060769476256,
          -0.10314996693717449,
          -0.14565414043009867,
          0.05280747745277102,
          0.08903249905208745,
          0.026911191729739888,
          -0.02999548126210126,
          0.08383875454709049,
          0.08401834263025762,
          -0.09587245642419573,
          0.06792171212591476,
          0.02965875902492697,
          0.034553363937341194,
          0.08684880956440232,
          0.14063380589387517,
          0.07928365604179818,
          -0.078086722083629,
          -0.035488484433400753,
          0.018509381814014177
         ],
         "xaxis": "x",
         "y": [
          0.024481554623873605,
          0.0997172565053607,
          0.03059763864936901,
          0.05427141949624408,
          0.04576786745129954,
          0.044665269691110426,
          0.028498449879245706,
          0.037282550407076336,
          0.05675299109590332,
          0.07106480834742848,
          0.028221091532126465,
          -0.17789583824627708,
          -0.21846113011912602,
          -0.20679635521999698,
          -0.13844576394666366,
          -0.17484918341770864,
          -0.07135440112563105,
          -0.11463368877091282,
          -0.14143592045398465,
          -0.11260688513698057,
          -0.09548973293160337,
          -0.11740181639552467,
          -0.18096392663253408,
          -0.2182972181822,
          0.07028408824194413,
          -0.055736483587115485,
          -0.031093486403604705
         ],
         "yaxis": "y"
        },
        {
         "alignmentgroup": "True",
         "hoverlabel": {
          "namelength": 0
         },
         "hovertemplate": "year=1861<br>PC0=%{x}",
         "legendgroup": "year=1861",
         "marker": {
          "color": "#B6E880",
          "symbol": "circle"
         },
         "name": "year=1861",
         "notched": true,
         "offsetgroup": "year=1861",
         "showlegend": false,
         "type": "box",
         "x": [
          -0.13052305722902816,
          -0.15233864483365647,
          -0.12589485906554065,
          -0.04603534572460868,
          -0.07806146589366746,
          -0.06589425947869561,
          -0.0927839038269944,
          -0.05901576337523176,
          -0.0892060769476256,
          -0.10314996693717449,
          -0.14565414043009867,
          0.05280747745277102,
          0.08903249905208745,
          0.026911191729739888,
          -0.02999548126210126,
          0.08383875454709049,
          0.08401834263025762,
          -0.09587245642419573,
          0.06792171212591476,
          0.02965875902492697,
          0.034553363937341194,
          0.08684880956440232,
          0.14063380589387517,
          0.07928365604179818,
          -0.078086722083629,
          -0.035488484433400753,
          0.018509381814014177
         ],
         "xaxis": "x2",
         "yaxis": "y2"
        },
        {
         "hoverlabel": {
          "namelength": 0
         },
         "hovertemplate": "year=1862<br>PC0=%{x}<br>PC1=%{y}",
         "legendgroup": "year=1862",
         "marker": {
          "color": "#FF97FF",
          "symbol": "circle"
         },
         "mode": "markers",
         "name": "year=1862",
         "showlegend": true,
         "type": "scatter",
         "x": [
          -0.15741359458938667,
          -0.09014623820774575,
          -0.1407818911316782,
          -0.15991616230336342,
          -0.02070385601768947,
          0.03630759166830567,
          -0.06332701568444207,
          -0.05732672905803953,
          0.021178475935894232,
          -0.042468652433431564,
          -0.01145186395508727,
          0.008729609442961495,
          0.057962250421913296,
          -0.07185144428088033,
          -0.00855222227788036,
          0.10493137217107891,
          0.014660532966715246,
          0.011132097781498717,
          0.060411525161118675,
          -0.0026331230399705818,
          -0.03191203282702018,
          -0.09072685894636368,
          -0.10723203331215968,
          -0.0695783813320503,
          -0.1745576216608233,
          -0.034542899624231106,
          -0.11928460408777666,
          -0.09153770052047956,
          0.028221136013003575,
          -0.07490216235326543,
          -0.03450876691969908,
          0.0317843605074239,
          0.02521326345827916,
          -0.02840764483171364,
          0.07771072513850337,
          0.0020150715646367933,
          -0.07453725116984687,
          0.017617807708229193,
          -0.10087366752095059,
          0.035298646633721176,
          0.0012644770127338367,
          0.04645265112109608,
          -0.0526544867250058,
          0.03447850530068109,
          -0.12041012648181423,
          0.10727867975230661,
          0.044534826764860265,
          0.10698503765368175,
          0.0828156080339884,
          0.027825851206059946,
          0.029361336916804034,
          -0.0676289220292715,
          -0.1138155923119064,
          0.032858770785024034,
          -0.15495137755124114,
          0.051146846217205534,
          0.018901434009985705,
          -0.013298679962691377,
          -0.015268378365564167,
          -0.03248923716100159,
          0.031968259513869085,
          -0.010061707881450582,
          0.0020295356539983124,
          0.03360887387590976,
          0.0022896230625115647,
          0.07032694376917639,
          0.09015763448038727,
          0.05541453267843684,
          0.09394566324128005,
          0.0008833061009586364,
          0.08220939014328409,
          0.07305731038683536
         ],
         "xaxis": "x",
         "y": [
          0.09780022482834573,
          0.01867512503764924,
          0.031794918654190714,
          0.07785531407482173,
          -0.11416787097638258,
          -0.1294932773903043,
          -0.058560368174497966,
          -0.13873460125967196,
          -0.0894845164887883,
          -0.17609243062892477,
          -0.11954154659515126,
          -0.24228458821856305,
          -0.05607273601044917,
          -0.0030373481598338185,
          -0.014736158431425143,
          -0.07441644067479845,
          -0.1539411246507099,
          -0.23683447226336124,
          -0.1622451262918139,
          -0.19460785242107873,
          -0.14171765979249556,
          0.013663746819522303,
          -0.16795775017123762,
          -0.14998886286732457,
          0.038833693947703446,
          -0.3258106850067966,
          0.028771735773555622,
          -0.19642657472406239,
          -0.2515315998861484,
          0.01205737631116432,
          -0.045297102052194324,
          -0.032030567316253915,
          -0.17603753478285525,
          -0.10660781295620114,
          -0.15990709770935982,
          -0.13975324072064546,
          -0.27087239378517675,
          -0.2487270794664307,
          -0.16232736955675447,
          -0.3661340542639551,
          -0.2244664670588051,
          -0.2620143962595776,
          -0.08732200803181678,
          -0.12030583737695386,
          -0.036887472925307314,
          -0.14483181823618407,
          -0.11721021390799813,
          -0.16267994959170942,
          -0.1548490345264108,
          -0.08993037878082476,
          -0.09489670949300412,
          -0.05689010974029781,
          -0.04540330356347569,
          -0.17720137467983846,
          0.06719935355082947,
          -0.06426448607151287,
          -0.00032071065081835964,
          -0.05238072718634333,
          -0.07232690472702749,
          -0.30632548047909264,
          -0.21603847758655495,
          -0.13836497176378956,
          -0.10384926105463158,
          -0.09233399925463678,
          -0.195465814555023,
          -0.11749592356078715,
          -0.060370588495461924,
          -0.05131162238759667,
          -0.10621262913448506,
          -0.03735034757346895,
          -0.09012617141835609,
          -0.13845082916272386
         ],
         "yaxis": "y"
        },
        {
         "alignmentgroup": "True",
         "hoverlabel": {
          "namelength": 0
         },
         "hovertemplate": "year=1862<br>PC0=%{x}",
         "legendgroup": "year=1862",
         "marker": {
          "color": "#FF97FF",
          "symbol": "circle"
         },
         "name": "year=1862",
         "notched": true,
         "offsetgroup": "year=1862",
         "showlegend": false,
         "type": "box",
         "x": [
          -0.15741359458938667,
          -0.09014623820774575,
          -0.1407818911316782,
          -0.15991616230336342,
          -0.02070385601768947,
          0.03630759166830567,
          -0.06332701568444207,
          -0.05732672905803953,
          0.021178475935894232,
          -0.042468652433431564,
          -0.01145186395508727,
          0.008729609442961495,
          0.057962250421913296,
          -0.07185144428088033,
          -0.00855222227788036,
          0.10493137217107891,
          0.014660532966715246,
          0.011132097781498717,
          0.060411525161118675,
          -0.0026331230399705818,
          -0.03191203282702018,
          -0.09072685894636368,
          -0.10723203331215968,
          -0.0695783813320503,
          -0.1745576216608233,
          -0.034542899624231106,
          -0.11928460408777666,
          -0.09153770052047956,
          0.028221136013003575,
          -0.07490216235326543,
          -0.03450876691969908,
          0.0317843605074239,
          0.02521326345827916,
          -0.02840764483171364,
          0.07771072513850337,
          0.0020150715646367933,
          -0.07453725116984687,
          0.017617807708229193,
          -0.10087366752095059,
          0.035298646633721176,
          0.0012644770127338367,
          0.04645265112109608,
          -0.0526544867250058,
          0.03447850530068109,
          -0.12041012648181423,
          0.10727867975230661,
          0.044534826764860265,
          0.10698503765368175,
          0.0828156080339884,
          0.027825851206059946,
          0.029361336916804034,
          -0.0676289220292715,
          -0.1138155923119064,
          0.032858770785024034,
          -0.15495137755124114,
          0.051146846217205534,
          0.018901434009985705,
          -0.013298679962691377,
          -0.015268378365564167,
          -0.03248923716100159,
          0.031968259513869085,
          -0.010061707881450582,
          0.0020295356539983124,
          0.03360887387590976,
          0.0022896230625115647,
          0.07032694376917639,
          0.09015763448038727,
          0.05541453267843684,
          0.09394566324128005,
          0.0008833061009586364,
          0.08220939014328409,
          0.07305731038683536
         ],
         "xaxis": "x2",
         "yaxis": "y2"
        },
        {
         "hoverlabel": {
          "namelength": 0
         },
         "hovertemplate": "year=1863<br>PC0=%{x}<br>PC1=%{y}",
         "legendgroup": "year=1863",
         "marker": {
          "color": "#FECB52",
          "symbol": "circle"
         },
         "mode": "markers",
         "name": "year=1863",
         "showlegend": true,
         "type": "scatter",
         "x": [
          -0.1637337121659128,
          -0.1336820979106068,
          -0.10327509870577542,
          -0.16928355012200824,
          0.08852056325694968,
          0.12928670580014892,
          -0.030065627510441385,
          -0.08546983663861339,
          0.08069439977320475,
          0.09298666484448763,
          -0.009879738897472325,
          0.15505171010018012,
          0.09075114567390824,
          0.05186533856841963,
          0.08504010006421665,
          0.03965030080969112,
          0.0959082749670173,
          0.096626681844799,
          -0.15217494875012613,
          0.04442416794042964,
          0.00987043881748363,
          0.006545907237056799,
          0.12253464491802767,
          0.08505121776603479,
          0.025465089366603924,
          0.08688049904159052,
          0.13107351352905022,
          0.0643023319554949,
          0.11751850635175641,
          -0.01453328743264019,
          0.07341443622376136,
          0.01034739055438868,
          0.06504917002221249,
          -0.020605608861675846,
          0.005667919676782102,
          0.13211635842934746,
          0.07110225298940646,
          0.05193965168689397,
          0.07127124703130386,
          0.07343570921774806,
          -0.04610469026627792,
          0.02900417193645192,
          0.1050015140210528,
          0.11019798188638988,
          0.08048285603867353,
          -0.10430916109009791,
          0.024876923692749613,
          -0.005905624250212838,
          -0.03667427857824903,
          -0.07279573305598178,
          0.06416968462662351,
          -0.0662063716768809,
          0.017451970835464053,
          0.01828249569451272,
          0.14219130102270938,
          0.0794103052904151,
          0.11050092537525279,
          0.12174667083845207,
          0.08904364625209518,
          -0.054717155179287165,
          -0.08380785833357123,
          0.12315730742226581,
          0.06870102682275048,
          -0.0013361799275730557,
          0.06199840882005572,
          -0.007726621851617626,
          0.16470795042678948,
          -0.14116437595246573,
          -0.03798504884928002,
          0.10786553556999703,
          0.031283270619452345,
          -0.014834581926660687,
          0.01150662639207195,
          -0.05441374887630983,
          -0.03098849180011604,
          -0.006147567143367025,
          0.05849010010132647,
          -0.09451137733190249,
          0.14597830950672014,
          -0.0238287013716163,
          0.005062422107584267,
          0.06637938607218213,
          0.07192795940894105,
          0.15221451820809762,
          0.021392697146703585,
          0.16044775413338647,
          0.09981389000395328,
          0.11400767454090162,
          0.21206885596431382
         ],
         "xaxis": "x",
         "y": [
          0.12588662048229146,
          0.07574908635870208,
          0.07293563614975017,
          0.11338543087230425,
          0.016907060984289738,
          0.012517132959119668,
          0.0005824912021249863,
          -0.011697086999102126,
          0.0020315782988591657,
          -0.01993751442959875,
          -0.04197333054719751,
          -0.06857180561186009,
          0.00757676539414208,
          -0.0034850038932514177,
          -0.01006890164557974,
          -0.08067520828251967,
          -0.07527505486594015,
          0.03250063324445696,
          0.1236055723981802,
          -0.12118253935447912,
          -0.0812814999224109,
          -0.17742949991620438,
          -0.031017945868120036,
          -0.054985367076712914,
          -0.15031055326595727,
          -0.10586725754858364,
          -0.1600627689808464,
          -0.09159720301113053,
          -0.16619570233938638,
          -0.0327134641064998,
          -0.1653700240127745,
          -0.016973027767599305,
          -0.09526184984992603,
          -0.11540012170088151,
          -0.041975769831602644,
          -0.10523080177548212,
          -0.011735663639806958,
          -0.037533965230471714,
          -0.06135376205587295,
          -0.10938527139233534,
          -0.1672737314473642,
          -0.11918881963188102,
          -0.21793042688839862,
          -0.06438334780539756,
          -0.11994367489840167,
          -0.09469371626493044,
          -0.09581585948578658,
          -0.13724152078424814,
          -0.3122059122710442,
          0.025326312684995776,
          -0.1477308899884968,
          -0.01780738267967664,
          -0.1472226414889929,
          -0.14666850217439062,
          -0.09655895320627064,
          -0.05398477639642234,
          -0.023294315094656605,
          -0.006728289293055147,
          -0.14231087828192834,
          0.041803378904904445,
          -0.17087617359742355,
          0.0059159788897314,
          -0.013546354967615696,
          -0.15661811622001798,
          -0.026847055702784364,
          0.008598804801336828,
          -0.20152839094982258,
          -0.08577258916519813,
          -0.11192623103795372,
          -0.1735870153053669,
          -0.11374958615083787,
          -0.012029397071088029,
          -0.04469351834070203,
          -0.0030059101164136865,
          0.06616173945561615,
          0.11149049221379029,
          -0.010146231247006837,
          0.09661730031213425,
          -0.04119920440351114,
          0.0459775163226876,
          -0.00477964357423468,
          -0.15323381438792105,
          -0.1024974129299736,
          -0.07527851878980062,
          -0.18348658605974602,
          -0.11425528954957372,
          -0.08456859826946027,
          -0.14557477302376462,
          -0.11561645063906235
         ],
         "yaxis": "y"
        },
        {
         "alignmentgroup": "True",
         "hoverlabel": {
          "namelength": 0
         },
         "hovertemplate": "year=1863<br>PC0=%{x}",
         "legendgroup": "year=1863",
         "marker": {
          "color": "#FECB52",
          "symbol": "circle"
         },
         "name": "year=1863",
         "notched": true,
         "offsetgroup": "year=1863",
         "showlegend": false,
         "type": "box",
         "x": [
          -0.1637337121659128,
          -0.1336820979106068,
          -0.10327509870577542,
          -0.16928355012200824,
          0.08852056325694968,
          0.12928670580014892,
          -0.030065627510441385,
          -0.08546983663861339,
          0.08069439977320475,
          0.09298666484448763,
          -0.009879738897472325,
          0.15505171010018012,
          0.09075114567390824,
          0.05186533856841963,
          0.08504010006421665,
          0.03965030080969112,
          0.0959082749670173,
          0.096626681844799,
          -0.15217494875012613,
          0.04442416794042964,
          0.00987043881748363,
          0.006545907237056799,
          0.12253464491802767,
          0.08505121776603479,
          0.025465089366603924,
          0.08688049904159052,
          0.13107351352905022,
          0.0643023319554949,
          0.11751850635175641,
          -0.01453328743264019,
          0.07341443622376136,
          0.01034739055438868,
          0.06504917002221249,
          -0.020605608861675846,
          0.005667919676782102,
          0.13211635842934746,
          0.07110225298940646,
          0.05193965168689397,
          0.07127124703130386,
          0.07343570921774806,
          -0.04610469026627792,
          0.02900417193645192,
          0.1050015140210528,
          0.11019798188638988,
          0.08048285603867353,
          -0.10430916109009791,
          0.024876923692749613,
          -0.005905624250212838,
          -0.03667427857824903,
          -0.07279573305598178,
          0.06416968462662351,
          -0.0662063716768809,
          0.017451970835464053,
          0.01828249569451272,
          0.14219130102270938,
          0.0794103052904151,
          0.11050092537525279,
          0.12174667083845207,
          0.08904364625209518,
          -0.054717155179287165,
          -0.08380785833357123,
          0.12315730742226581,
          0.06870102682275048,
          -0.0013361799275730557,
          0.06199840882005572,
          -0.007726621851617626,
          0.16470795042678948,
          -0.14116437595246573,
          -0.03798504884928002,
          0.10786553556999703,
          0.031283270619452345,
          -0.014834581926660687,
          0.01150662639207195,
          -0.05441374887630983,
          -0.03098849180011604,
          -0.006147567143367025,
          0.05849010010132647,
          -0.09451137733190249,
          0.14597830950672014,
          -0.0238287013716163,
          0.005062422107584267,
          0.06637938607218213,
          0.07192795940894105,
          0.15221451820809762,
          0.021392697146703585,
          0.16044775413338647,
          0.09981389000395328,
          0.11400767454090162,
          0.21206885596431382
         ],
         "xaxis": "x2",
         "yaxis": "y2"
        },
        {
         "hoverlabel": {
          "namelength": 0
         },
         "hovertemplate": "year=1864<br>PC0=%{x}<br>PC1=%{y}",
         "legendgroup": "year=1864",
         "marker": {
          "color": "#636efa",
          "symbol": "circle"
         },
         "mode": "markers",
         "name": "year=1864",
         "showlegend": true,
         "type": "scatter",
         "x": [
          -0.15401839856002913,
          -0.19155084061363428,
          -0.1742081717851159,
          -0.16452512555026477,
          -0.1504456556788381,
          -0.12834325262097765,
          0.015929275840100898,
          0.08874097558826051,
          0.1538726342367524,
          0.11675186154035826,
          0.08503736940295427,
          0.08167105767684235,
          0.09984939536869138,
          0.11896158112123172,
          0.21557774430580803,
          0.06801073187241882,
          0.17223429646531943,
          0.11266667248012527,
          0.09338878743053589,
          0.06904308740306007,
          0.13005842173587295,
          0.04069178419167466,
          0.08337413139153368,
          0.09104290600206069,
          0.03794384566240214,
          0.07148657261037322,
          0.07795966546323872,
          0.04110896349875571,
          0.07358673580348313,
          0.042598755918869954,
          0.03730216654639185,
          -0.07041071383664596,
          -0.12192420339379857,
          -0.08516875131658382,
          -0.13082634444182145,
          -0.08598791519140182,
          -0.03674686172221322,
          0.001997871916576414,
          -0.05088405468578371,
          -0.05781480634457493,
          -0.026588139087289995,
          0.05825506792824702,
          0.002036012191880376,
          -0.0913663727498055,
          0.008847562664967348,
          -0.005484842909332569,
          0.06277195105778634,
          -0.06761937974571666,
          -0.010222027057854492,
          0.023475137303445887,
          0.05224503555190888,
          0.0013883627946367002,
          -0.07553864766119148,
          -0.018361244763211704,
          0.023151629181411604,
          -0.027577056852452608,
          0.06132935179405944,
          0.02440455833969658,
          -0.07277194203528971,
          0.033034072603373175,
          0.06419050319098768,
          0.05250587757964091,
          0.035112527037366455,
          -0.05466630622851759,
          0.013716886850210075,
          0.09391175685593432,
          -0.05752904266927185,
          0.061522133887791215,
          0.017523342809236127,
          0.046826543983512214,
          0.10867805015543107,
          0.0016208230328778519,
          0.12418923652830578,
          -0.0166875208023117,
          0.0044423975919681835,
          0.024085915925463504,
          -0.034323617093136145,
          0.07553986218287788,
          -0.10454478795549939,
          0.00017025273106289828,
          0.045420037758998645,
          0.023294764282725217,
          0.15996052920345286,
          0.12557496009416674,
          0.06981926727194397,
          0.06379451733102921,
          0.03561803125515415,
          0.015243444476708695,
          0.08588957285321452,
          0.06641971939296462,
          0.15855681464271806,
          0.06448760577110094,
          0.13117443983183033,
          0.13899682341894823,
          -0.006477037453567225,
          0.09412756412362164,
          0.1285837303445508,
          0.07358315854918074,
          0.1362434862964333,
          -0.044451498422611466,
          0.002403201176547716,
          0.06061943339426466
         ],
         "xaxis": "x",
         "y": [
          0.09057862223545908,
          0.12831513567347966,
          0.08601918653051822,
          0.056354356503842754,
          0.11382312048530177,
          0.06604117632555541,
          0.039153380331954916,
          0.01251021405073175,
          -0.010945503271327105,
          -0.0860694108183507,
          -0.1101226136479134,
          -0.029851591330406494,
          0.007556979468070089,
          -0.0035996209344153277,
          -0.011015524963923372,
          -0.11991593982185847,
          -0.017276503140384786,
          -0.008294636305605878,
          -0.0614367274777025,
          -0.050156494583966725,
          -0.015777745577020864,
          0.0445967781963396,
          -0.07059489331029337,
          -0.03720014579306264,
          -0.179339231190842,
          -0.17225325015565363,
          -0.11731357302595757,
          -0.06439465731521875,
          -0.11196892754058069,
          -0.0454004750371873,
          -0.031581606062454616,
          -0.051228814920110825,
          -0.11250679407587547,
          -0.2246180250416343,
          -0.1601037513567149,
          -0.25213357776054063,
          -0.19394088705195814,
          -0.10158548368616183,
          -0.016771187553335665,
          -0.16325145484714707,
          -0.27344237468555216,
          -0.012080627126055735,
          -0.15816202531992316,
          -0.1540032635337094,
          -0.15534259566940417,
          -0.1328469128707416,
          -0.08958651390923436,
          -0.09837026638882705,
          -0.16857050652802785,
          -0.18084210968400363,
          -0.17276269688706802,
          -0.1924763642349312,
          -0.27097754885669284,
          -0.12521791657559855,
          -0.037539946336280675,
          -0.006252347987173753,
          -0.12002607056977337,
          -0.14039653034562266,
          -0.23889245350684973,
          -0.07900711325241944,
          -0.12859127611576415,
          -0.09694566982049349,
          -0.19140892275291632,
          0.042874513108663186,
          -0.0017062773393383525,
          -0.026821812148492687,
          0.030839368326161548,
          0.028286915087561974,
          0.06444072359548475,
          -0.020653918945701753,
          0.010837380576789788,
          0.009674190689395751,
          -0.0048638332329062235,
          -0.06763360284903536,
          -0.06838447841597871,
          -0.010879887142146166,
          0.009776592953817165,
          -0.025689885576012185,
          0.07681041288217526,
          -0.026784132826207986,
          -0.02833982899227995,
          -0.017855192576252614,
          0.009714100703566783,
          -0.01935381839794193,
          -0.009475159371423977,
          -0.0016607888829194945,
          0.028570446269862503,
          0.024301967675155637,
          -0.07042017180752676,
          -0.08219159694711987,
          -0.09599205997964251,
          -0.08492914084278348,
          -0.12078776358985788,
          -0.11630967094330819,
          0.03414748093455692,
          -0.06767191085603491,
          0.027989333199693992,
          0.04847399664304993,
          -0.05948185622058222,
          -0.10042800277390561,
          -0.045101720624131036,
          -0.2040168234555639
         ],
         "yaxis": "y"
        },
        {
         "alignmentgroup": "True",
         "hoverlabel": {
          "namelength": 0
         },
         "hovertemplate": "year=1864<br>PC0=%{x}",
         "legendgroup": "year=1864",
         "marker": {
          "color": "#636efa",
          "symbol": "circle"
         },
         "name": "year=1864",
         "notched": true,
         "offsetgroup": "year=1864",
         "showlegend": false,
         "type": "box",
         "x": [
          -0.15401839856002913,
          -0.19155084061363428,
          -0.1742081717851159,
          -0.16452512555026477,
          -0.1504456556788381,
          -0.12834325262097765,
          0.015929275840100898,
          0.08874097558826051,
          0.1538726342367524,
          0.11675186154035826,
          0.08503736940295427,
          0.08167105767684235,
          0.09984939536869138,
          0.11896158112123172,
          0.21557774430580803,
          0.06801073187241882,
          0.17223429646531943,
          0.11266667248012527,
          0.09338878743053589,
          0.06904308740306007,
          0.13005842173587295,
          0.04069178419167466,
          0.08337413139153368,
          0.09104290600206069,
          0.03794384566240214,
          0.07148657261037322,
          0.07795966546323872,
          0.04110896349875571,
          0.07358673580348313,
          0.042598755918869954,
          0.03730216654639185,
          -0.07041071383664596,
          -0.12192420339379857,
          -0.08516875131658382,
          -0.13082634444182145,
          -0.08598791519140182,
          -0.03674686172221322,
          0.001997871916576414,
          -0.05088405468578371,
          -0.05781480634457493,
          -0.026588139087289995,
          0.05825506792824702,
          0.002036012191880376,
          -0.0913663727498055,
          0.008847562664967348,
          -0.005484842909332569,
          0.06277195105778634,
          -0.06761937974571666,
          -0.010222027057854492,
          0.023475137303445887,
          0.05224503555190888,
          0.0013883627946367002,
          -0.07553864766119148,
          -0.018361244763211704,
          0.023151629181411604,
          -0.027577056852452608,
          0.06132935179405944,
          0.02440455833969658,
          -0.07277194203528971,
          0.033034072603373175,
          0.06419050319098768,
          0.05250587757964091,
          0.035112527037366455,
          -0.05466630622851759,
          0.013716886850210075,
          0.09391175685593432,
          -0.05752904266927185,
          0.061522133887791215,
          0.017523342809236127,
          0.046826543983512214,
          0.10867805015543107,
          0.0016208230328778519,
          0.12418923652830578,
          -0.0166875208023117,
          0.0044423975919681835,
          0.024085915925463504,
          -0.034323617093136145,
          0.07553986218287788,
          -0.10454478795549939,
          0.00017025273106289828,
          0.045420037758998645,
          0.023294764282725217,
          0.15996052920345286,
          0.12557496009416674,
          0.06981926727194397,
          0.06379451733102921,
          0.03561803125515415,
          0.015243444476708695,
          0.08588957285321452,
          0.06641971939296462,
          0.15855681464271806,
          0.06448760577110094,
          0.13117443983183033,
          0.13899682341894823,
          -0.006477037453567225,
          0.09412756412362164,
          0.1285837303445508,
          0.07358315854918074,
          0.1362434862964333,
          -0.044451498422611466,
          0.002403201176547716,
          0.06061943339426466
         ],
         "xaxis": "x2",
         "yaxis": "y2"
        },
        {
         "hoverlabel": {
          "namelength": 0
         },
         "hovertemplate": "year=1865<br>PC0=%{x}<br>PC1=%{y}",
         "legendgroup": "year=1865",
         "marker": {
          "color": "#EF553B",
          "symbol": "circle"
         },
         "mode": "markers",
         "name": "year=1865",
         "showlegend": true,
         "type": "scatter",
         "x": [
          -0.07755545603563475,
          -0.13244846609617728,
          0.10682179561877386,
          0.15403931588137443,
          0.03074035653618232,
          0.004107341059833379,
          0.09556003701118838,
          0.19045590841798157,
          0.07249637429559354,
          0.18382956251193108,
          0.1411403251590951,
          -0.0012450180836277673,
          -0.04904160492552376,
          0.023796038634449544,
          0.05631157317301869,
          -0.031571225887262314,
          0.05819880223016336,
          -0.0876562431302824,
          0.038610757020429494,
          -0.0035818004676663037,
          -0.1623743026098337,
          -0.16616149197151067,
          -0.08080367975453656,
          -0.05117854540179437,
          -0.11432555205344593,
          -0.1275047495808836,
          -0.1184935204289813,
          -0.19393333044427588,
          -0.09065427362353622,
          -0.12049794813625828
         ],
         "xaxis": "x",
         "y": [
          0.03563947158454413,
          0.0875604139948776,
          0.020313820559648994,
          0.04245339852529511,
          0.02446491928434646,
          -0.036095806381393064,
          -0.03778563069527461,
          0.021033599489930953,
          -0.0017829118161285073,
          0.06367772170208316,
          0.026542344190313812,
          -0.019964896261111684,
          0.03424856008340057,
          0.00959298588425839,
          -0.010089521716648682,
          0.036534907725497924,
          -0.0013117745658191605,
          0.05234513935193307,
          0.046578444224236605,
          0.02451453660180266,
          0.05454970545734467,
          0.06026296509865629,
          0.03088460134286829,
          0.0014167201039594797,
          0.02150402581524277,
          0.042644845627712175,
          0.0498664093686036,
          0.09999100291660287,
          0.056063439048716183,
          0.09158657891395007
         ],
         "yaxis": "y"
        },
        {
         "alignmentgroup": "True",
         "hoverlabel": {
          "namelength": 0
         },
         "hovertemplate": "year=1865<br>PC0=%{x}",
         "legendgroup": "year=1865",
         "marker": {
          "color": "#EF553B",
          "symbol": "circle"
         },
         "name": "year=1865",
         "notched": true,
         "offsetgroup": "year=1865",
         "showlegend": false,
         "type": "box",
         "x": [
          -0.07755545603563475,
          -0.13244846609617728,
          0.10682179561877386,
          0.15403931588137443,
          0.03074035653618232,
          0.004107341059833379,
          0.09556003701118838,
          0.19045590841798157,
          0.07249637429559354,
          0.18382956251193108,
          0.1411403251590951,
          -0.0012450180836277673,
          -0.04904160492552376,
          0.023796038634449544,
          0.05631157317301869,
          -0.031571225887262314,
          0.05819880223016336,
          -0.0876562431302824,
          0.038610757020429494,
          -0.0035818004676663037,
          -0.1623743026098337,
          -0.16616149197151067,
          -0.08080367975453656,
          -0.05117854540179437,
          -0.11432555205344593,
          -0.1275047495808836,
          -0.1184935204289813,
          -0.19393333044427588,
          -0.09065427362353622,
          -0.12049794813625828
         ],
         "xaxis": "x2",
         "yaxis": "y2"
        },
        {
         "hoverlabel": {
          "namelength": 0
         },
         "hovertemplate": "year=1867<br>PC0=%{x}<br>PC1=%{y}",
         "legendgroup": "year=1867",
         "marker": {
          "color": "#00cc96",
          "symbol": "circle"
         },
         "mode": "markers",
         "name": "year=1867",
         "showlegend": true,
         "type": "scatter",
         "x": [
          0.06586097622586551,
          0.14217069874580565,
          0.16967356081985185,
          0.12086265607284323,
          0.1568178095490899,
          0.28138583391007027,
          0.2341078818821612,
          0.1775722596607821,
          0.2697610954409025,
          0.2394956483273887,
          0.28913887601891447,
          0.2367985119053716,
          -0.13931449930372472,
          0.35550699905014044,
          0.04435134453377722,
          0.23193576402165098,
          0.21335524156565103,
          0.34752318390906417,
          0.4158547357071276,
          0.11948178257011512,
          0.342405717370068,
          0.40970517012963775,
          0.3657189165767848,
          0.3610078127490661,
          0.3482002356648987
         ],
         "xaxis": "x",
         "y": [
          0.10601099060701322,
          0.11854675152782175,
          0.1137864023264304,
          0.09467398165388007,
          0.18039455451743944,
          0.16652345240527955,
          0.18724786170791122,
          0.22689209357807974,
          0.24552638982946,
          0.20166135714237693,
          0.18691248570974814,
          0.2107187881039428,
          0.0964436620266228,
          0.22135108333772324,
          0.1490031469758457,
          0.08090749387186405,
          0.16600969595956705,
          0.2528484194187719,
          0.259083055678863,
          0.12175120325279445,
          0.21163576933072478,
          0.28574042636197755,
          0.21791683111535123,
          0.22269617521366228,
          0.18364519733510498
         ],
         "yaxis": "y"
        },
        {
         "alignmentgroup": "True",
         "hoverlabel": {
          "namelength": 0
         },
         "hovertemplate": "year=1867<br>PC0=%{x}",
         "legendgroup": "year=1867",
         "marker": {
          "color": "#00cc96",
          "symbol": "circle"
         },
         "name": "year=1867",
         "notched": true,
         "offsetgroup": "year=1867",
         "showlegend": false,
         "type": "box",
         "x": [
          0.06586097622586551,
          0.14217069874580565,
          0.16967356081985185,
          0.12086265607284323,
          0.1568178095490899,
          0.28138583391007027,
          0.2341078818821612,
          0.1775722596607821,
          0.2697610954409025,
          0.2394956483273887,
          0.28913887601891447,
          0.2367985119053716,
          -0.13931449930372472,
          0.35550699905014044,
          0.04435134453377722,
          0.23193576402165098,
          0.21335524156565103,
          0.34752318390906417,
          0.4158547357071276,
          0.11948178257011512,
          0.342405717370068,
          0.40970517012963775,
          0.3657189165767848,
          0.3610078127490661,
          0.3482002356648987
         ],
         "xaxis": "x2",
         "yaxis": "y2"
        },
        {
         "hoverlabel": {
          "namelength": 0
         },
         "hovertemplate": "year=1868<br>PC0=%{x}<br>PC1=%{y}",
         "legendgroup": "year=1868",
         "marker": {
          "color": "#ab63fa",
          "symbol": "circle"
         },
         "mode": "markers",
         "name": "year=1868",
         "showlegend": true,
         "type": "scatter",
         "x": [
          0.21708930015490752,
          0.2240808799854608,
          0.264022521515816,
          0.20894931261378208,
          0.30998308134958513,
          0.17481665511187036,
          0.28840223287060573,
          0.1993504467202508,
          0.30543159378432916,
          0.24358773390261784,
          0.22624409691845246,
          0.3290271290719629,
          0.2557633223967333,
          0.2906005300356731,
          0.0005637105731150678,
          0.2037001983370899,
          0.2194221993570247,
          0.2231206871911059,
          0.3654695773863264,
          0.35622626404225605,
          0.29940128809803,
          0.31088313671742923,
          0.28202594261531877,
          0.2572774981956293,
          0.16678142705927596,
          0.24529054644588083,
          0.25867679287553896,
          0.21300935165661863,
          0.2429580147916696,
          0.3371972735507404,
          0.16479893794408232,
          0.21902419407493343,
          0.22938347944783494,
          -0.07647875598445936,
          -0.10860230893628396,
          -0.1115587969773729,
          -0.09882386396175337,
          -0.04490025552256335,
          -0.13359457017549883,
          -0.1768752217608629,
          -0.16116527565891806,
          -0.16348679187273038,
          0.2599489500462101,
          0.37260745581845556,
          0.35531031700524623,
          0.3477254070913819,
          0.3584899639559421,
          0.36835954676455857,
          0.4168438732445783,
          0.3649767194656356,
          0.3281948665711093,
          0.3535038359321677,
          0.36095583921303165,
          0.3327736355937517,
          0.2590435804817929,
          0.38111932110589625,
          0.296960935755516,
          0.3544400597024496,
          0.3258167857525578,
          0.3005102085194188,
          0.3961522981172102,
          0.3432444738205707,
          0.40209811786597527,
          0.39365221137122136,
          0.3181415999426192,
          0.35261072757743284,
          0.4095220969273387,
          0.1903995548782692,
          0.2494559313034964,
          0.40657741956745463
         ],
         "xaxis": "x",
         "y": [
          0.2642480976189336,
          0.26820684654464927,
          0.18645791663101813,
          0.21669702041402655,
          0.2570003735398311,
          0.19351613865451534,
          0.24347708845487304,
          0.25351867756107016,
          0.2759569040960665,
          0.16079464265019425,
          0.19590734614928632,
          0.27112140610318736,
          0.26827218619543114,
          0.21713221628892518,
          0.1495392343396218,
          0.26161835860823146,
          0.23030027145085857,
          0.26717960263588475,
          0.29878469135015334,
          0.28515865028970394,
          0.20503789132777367,
          0.2719688294929361,
          0.31961723540248255,
          0.2811565291769817,
          0.22700938449480887,
          0.19508082841991561,
          0.32729313366473683,
          0.16380692004557254,
          0.24125269413357076,
          0.24667751456174894,
          0.1877359306853078,
          0.2774306641729029,
          0.2684124239388994,
          0.041288197228960245,
          0.04897392710390138,
          0.059563630006203606,
          0.10015125473418299,
          0.10103792606995747,
          0.08445758193673954,
          0.07541258187043427,
          0.07345779257987568,
          0.09723122474416616,
          0.24462698155181906,
          0.28201218928891325,
          0.29162336602170547,
          0.21048235794050055,
          0.2836426111211708,
          0.2792255919479659,
          0.333710942101041,
          0.3539880487739264,
          0.24036703554513125,
          0.3210222761842483,
          0.2839716394945629,
          0.23565166648478864,
          0.24856800389696154,
          0.2957381734728463,
          0.27882973967384234,
          0.23161514314775117,
          0.29783216108305394,
          0.26197445789455476,
          0.3134823543768276,
          0.2477824244743629,
          0.35129526038174225,
          0.24134517375895798,
          0.1828577374434034,
          0.2510359777313044,
          0.27737195203109316,
          0.12303831472817411,
          0.14970404456802885,
          0.19270399928817045
         ],
         "yaxis": "y"
        },
        {
         "alignmentgroup": "True",
         "hoverlabel": {
          "namelength": 0
         },
         "hovertemplate": "year=1868<br>PC0=%{x}",
         "legendgroup": "year=1868",
         "marker": {
          "color": "#ab63fa",
          "symbol": "circle"
         },
         "name": "year=1868",
         "notched": true,
         "offsetgroup": "year=1868",
         "showlegend": false,
         "type": "box",
         "x": [
          0.21708930015490752,
          0.2240808799854608,
          0.264022521515816,
          0.20894931261378208,
          0.30998308134958513,
          0.17481665511187036,
          0.28840223287060573,
          0.1993504467202508,
          0.30543159378432916,
          0.24358773390261784,
          0.22624409691845246,
          0.3290271290719629,
          0.2557633223967333,
          0.2906005300356731,
          0.0005637105731150678,
          0.2037001983370899,
          0.2194221993570247,
          0.2231206871911059,
          0.3654695773863264,
          0.35622626404225605,
          0.29940128809803,
          0.31088313671742923,
          0.28202594261531877,
          0.2572774981956293,
          0.16678142705927596,
          0.24529054644588083,
          0.25867679287553896,
          0.21300935165661863,
          0.2429580147916696,
          0.3371972735507404,
          0.16479893794408232,
          0.21902419407493343,
          0.22938347944783494,
          -0.07647875598445936,
          -0.10860230893628396,
          -0.1115587969773729,
          -0.09882386396175337,
          -0.04490025552256335,
          -0.13359457017549883,
          -0.1768752217608629,
          -0.16116527565891806,
          -0.16348679187273038,
          0.2599489500462101,
          0.37260745581845556,
          0.35531031700524623,
          0.3477254070913819,
          0.3584899639559421,
          0.36835954676455857,
          0.4168438732445783,
          0.3649767194656356,
          0.3281948665711093,
          0.3535038359321677,
          0.36095583921303165,
          0.3327736355937517,
          0.2590435804817929,
          0.38111932110589625,
          0.296960935755516,
          0.3544400597024496,
          0.3258167857525578,
          0.3005102085194188,
          0.3961522981172102,
          0.3432444738205707,
          0.40209811786597527,
          0.39365221137122136,
          0.3181415999426192,
          0.35261072757743284,
          0.4095220969273387,
          0.1903995548782692,
          0.2494559313034964,
          0.40657741956745463
         ],
         "xaxis": "x2",
         "yaxis": "y2"
        },
        {
         "hoverlabel": {
          "namelength": 0
         },
         "hovertemplate": "year=1869<br>PC0=%{x}<br>PC1=%{y}",
         "legendgroup": "year=1869",
         "marker": {
          "color": "#FFA15A",
          "symbol": "circle"
         },
         "mode": "markers",
         "name": "year=1869",
         "showlegend": true,
         "type": "scatter",
         "x": [
          0.3602079764566606,
          0.2856454513413673,
          0.40797605838383283,
          0.28746414776823154,
          0.36385648751788074,
          0.40663435301480216,
          -0.0664311487762579,
          -0.1499405667484264,
          -0.12526142434186968,
          -0.1516454723546851,
          -0.057658502808915345,
          -0.13896046206974266,
          -0.12902633826007465,
          -0.09840858765491228,
          -0.0740295181973631,
          -0.08216020609993246,
          -0.19418338417476363,
          -0.18415527402810508,
          -0.10014119855728153,
          -0.08258348828591254,
          -0.1252469624153938,
          -0.11717388022508236,
          -0.18144415162553007,
          -0.09779133756342827,
          -0.15706248343506682,
          -0.18897818477927775,
          -0.1805816448331003,
          -0.16249437306344985,
          -0.17100682600282907,
          -0.18324245166578587,
          -0.10688875463379419,
          -0.18401764290400036,
          -0.125031177900538,
          -0.14786238107933516,
          -0.1125604150199865,
          -0.09351684857882836,
          -0.02376846340032919,
          -0.21094071350830843,
          -0.1337259570680134
         ],
         "xaxis": "x",
         "y": [
          0.27607374949722446,
          0.3315600644096417,
          0.3199695302822272,
          0.30583464335968175,
          0.37847536742540033,
          0.31118058221782674,
          0.03545471297215769,
          0.0736302604988152,
          0.035601490992459406,
          0.07018465747211206,
          0.07280218685228666,
          0.09552336197543033,
          0.07088755598165496,
          0.05448588177807868,
          0.07459484639792473,
          0.03908565976424512,
          0.08751093138207965,
          0.05365363865434238,
          0.015379756069403457,
          0.054780484339513956,
          0.03417814594408006,
          0.05646531845090034,
          0.09399212767744526,
          0.08826480612938953,
          0.09513215618182627,
          0.0983974066346454,
          0.11246781521103534,
          0.07230672346435298,
          0.11406835008777326,
          0.11438458932205328,
          0.08655475466038338,
          0.09314449214615986,
          0.04590894691125852,
          0.1191114206879192,
          0.02369461730014051,
          0.08190070881680762,
          0.11150466414686823,
          0.11933455661407322,
          0.09377799501088788
         ],
         "yaxis": "y"
        },
        {
         "alignmentgroup": "True",
         "hoverlabel": {
          "namelength": 0
         },
         "hovertemplate": "year=1869<br>PC0=%{x}",
         "legendgroup": "year=1869",
         "marker": {
          "color": "#FFA15A",
          "symbol": "circle"
         },
         "name": "year=1869",
         "notched": true,
         "offsetgroup": "year=1869",
         "showlegend": false,
         "type": "box",
         "x": [
          0.3602079764566606,
          0.2856454513413673,
          0.40797605838383283,
          0.28746414776823154,
          0.36385648751788074,
          0.40663435301480216,
          -0.0664311487762579,
          -0.1499405667484264,
          -0.12526142434186968,
          -0.1516454723546851,
          -0.057658502808915345,
          -0.13896046206974266,
          -0.12902633826007465,
          -0.09840858765491228,
          -0.0740295181973631,
          -0.08216020609993246,
          -0.19418338417476363,
          -0.18415527402810508,
          -0.10014119855728153,
          -0.08258348828591254,
          -0.1252469624153938,
          -0.11717388022508236,
          -0.18144415162553007,
          -0.09779133756342827,
          -0.15706248343506682,
          -0.18897818477927775,
          -0.1805816448331003,
          -0.16249437306344985,
          -0.17100682600282907,
          -0.18324245166578587,
          -0.10688875463379419,
          -0.18401764290400036,
          -0.125031177900538,
          -0.14786238107933516,
          -0.1125604150199865,
          -0.09351684857882836,
          -0.02376846340032919,
          -0.21094071350830843,
          -0.1337259570680134
         ],
         "xaxis": "x2",
         "yaxis": "y2"
        },
        {
         "hoverlabel": {
          "namelength": 0
         },
         "hovertemplate": "year=1870<br>PC0=%{x}<br>PC1=%{y}",
         "legendgroup": "year=1870",
         "marker": {
          "color": "#19d3f3",
          "symbol": "circle"
         },
         "mode": "markers",
         "name": "year=1870",
         "showlegend": true,
         "type": "scatter",
         "x": [
          0.08054263702671673,
          -0.028507884138331236,
          0.1630181819960974,
          -0.0040435181161207825,
          0.12417609100353572,
          0.0083071583636089
         ],
         "xaxis": "x",
         "y": [
          0.021674041714297102,
          -0.013933810609672415,
          -0.05880583390259789,
          0.006177533599944432,
          -0.0027980400713837976,
          0.0542347857951683
         ],
         "yaxis": "y"
        },
        {
         "alignmentgroup": "True",
         "hoverlabel": {
          "namelength": 0
         },
         "hovertemplate": "year=1870<br>PC0=%{x}",
         "legendgroup": "year=1870",
         "marker": {
          "color": "#19d3f3",
          "symbol": "circle"
         },
         "name": "year=1870",
         "notched": true,
         "offsetgroup": "year=1870",
         "showlegend": false,
         "type": "box",
         "x": [
          0.08054263702671673,
          -0.028507884138331236,
          0.1630181819960974,
          -0.0040435181161207825,
          0.12417609100353572,
          0.0083071583636089
         ],
         "xaxis": "x2",
         "yaxis": "y2"
        },
        {
         "hoverlabel": {
          "namelength": 0
         },
         "hovertemplate": "year=1857<br>PC0=%{x}<br>PC1=%{y}",
         "legendgroup": "year=1857",
         "marker": {
          "color": "#FF6692",
          "symbol": "circle"
         },
         "mode": "markers",
         "name": "year=1857",
         "showlegend": true,
         "type": "scatter",
         "x": [
          -0.14794099610103212
         ],
         "xaxis": "x",
         "y": [
          0.07672623495589069
         ],
         "yaxis": "y"
        },
        {
         "alignmentgroup": "True",
         "hoverlabel": {
          "namelength": 0
         },
         "hovertemplate": "year=1857<br>PC0=%{x}",
         "legendgroup": "year=1857",
         "marker": {
          "color": "#FF6692",
          "symbol": "circle"
         },
         "name": "year=1857",
         "notched": true,
         "offsetgroup": "year=1857",
         "showlegend": false,
         "type": "box",
         "x": [
          -0.14794099610103212
         ],
         "xaxis": "x2",
         "yaxis": "y2"
        },
        {
         "hoverlabel": {
          "namelength": 0
         },
         "hovertemplate": "year=1898<br>PC0=%{x}<br>PC1=%{y}",
         "legendgroup": "year=1898",
         "marker": {
          "color": "#B6E880",
          "symbol": "circle"
         },
         "mode": "markers",
         "name": "year=1898",
         "showlegend": true,
         "type": "scatter",
         "x": [
          -0.018777780440085587
         ],
         "xaxis": "x",
         "y": [
          0.053538149466244384
         ],
         "yaxis": "y"
        },
        {
         "alignmentgroup": "True",
         "hoverlabel": {
          "namelength": 0
         },
         "hovertemplate": "year=1898<br>PC0=%{x}",
         "legendgroup": "year=1898",
         "marker": {
          "color": "#B6E880",
          "symbol": "circle"
         },
         "name": "year=1898",
         "notched": true,
         "offsetgroup": "year=1898",
         "showlegend": false,
         "type": "box",
         "x": [
          -0.018777780440085587
         ],
         "xaxis": "x2",
         "yaxis": "y2"
        },
        {
         "hoverlabel": {
          "namelength": 0
         },
         "hovertemplate": "year=1866<br>PC0=%{x}<br>PC1=%{y}",
         "legendgroup": "year=1866",
         "marker": {
          "color": "#FF97FF",
          "symbol": "circle"
         },
         "mode": "markers",
         "name": "year=1866",
         "showlegend": true,
         "type": "scatter",
         "x": [
          0.027877009129066658,
          -0.006322490711278062,
          -0.007301106035523972,
          -0.08876783104129914,
          -0.0740538899153113,
          -0.19934203131853684,
          -0.06589590986528651,
          -0.19219215594172231,
          -0.08898607403373335,
          -0.10668297833635787,
          -0.1809999599585938,
          -0.07782814868784521,
          -0.09264931185161798,
          -0.09182795042578239,
          -0.1286663150276189,
          -0.06777643507910437,
          -0.20619014472816027,
          -0.12878687363319782,
          -0.07590808747374733,
          -0.06852644809174088,
          -0.08365306692490218,
          -0.07041245444586675,
          -0.05703933498871332,
          -0.10761039251578992,
          -0.05853797179444475
         ],
         "xaxis": "x",
         "y": [
          -0.02013819260876543,
          -0.021371080992487246,
          0.03912345559127915,
          0.04512864448721762,
          0.0930543793714522,
          0.12104373837070326,
          0.021829080443243366,
          0.1036004924250678,
          0.03497869919965276,
          0.02466827173846942,
          0.08765559971327179,
          0.0022689858905478376,
          0.05217292604659985,
          0.059932064903224495,
          0.10421074150449597,
          0.0740283242992779,
          0.08740586988469072,
          0.07335435732068854,
          0.10096110399935973,
          0.11078233143928251,
          0.038121611648516,
          0.021798062199650844,
          0.10081160384879699,
          0.1412285044842843,
          0.15662700078598776
         ],
         "yaxis": "y"
        },
        {
         "alignmentgroup": "True",
         "hoverlabel": {
          "namelength": 0
         },
         "hovertemplate": "year=1866<br>PC0=%{x}",
         "legendgroup": "year=1866",
         "marker": {
          "color": "#FF97FF",
          "symbol": "circle"
         },
         "name": "year=1866",
         "notched": true,
         "offsetgroup": "year=1866",
         "showlegend": false,
         "type": "box",
         "x": [
          0.027877009129066658,
          -0.006322490711278062,
          -0.007301106035523972,
          -0.08876783104129914,
          -0.0740538899153113,
          -0.19934203131853684,
          -0.06589590986528651,
          -0.19219215594172231,
          -0.08898607403373335,
          -0.10668297833635787,
          -0.1809999599585938,
          -0.07782814868784521,
          -0.09264931185161798,
          -0.09182795042578239,
          -0.1286663150276189,
          -0.06777643507910437,
          -0.20619014472816027,
          -0.12878687363319782,
          -0.07590808747374733,
          -0.06852644809174088,
          -0.08365306692490218,
          -0.07041245444586675,
          -0.05703933498871332,
          -0.10761039251578992,
          -0.05853797179444475
         ],
         "xaxis": "x2",
         "yaxis": "y2"
        }
       ],
       "layout": {
        "autosize": true,
        "legend": {
         "tracegroupgap": 0
        },
        "margin": {
         "t": 60
        },
        "template": {
         "data": {
          "bar": [
           {
            "error_x": {
             "color": "#2a3f5f"
            },
            "error_y": {
             "color": "#2a3f5f"
            },
            "marker": {
             "line": {
              "color": "#E5ECF6",
              "width": 0.5
             }
            },
            "type": "bar"
           }
          ],
          "barpolar": [
           {
            "marker": {
             "line": {
              "color": "#E5ECF6",
              "width": 0.5
             }
            },
            "type": "barpolar"
           }
          ],
          "carpet": [
           {
            "aaxis": {
             "endlinecolor": "#2a3f5f",
             "gridcolor": "white",
             "linecolor": "white",
             "minorgridcolor": "white",
             "startlinecolor": "#2a3f5f"
            },
            "baxis": {
             "endlinecolor": "#2a3f5f",
             "gridcolor": "white",
             "linecolor": "white",
             "minorgridcolor": "white",
             "startlinecolor": "#2a3f5f"
            },
            "type": "carpet"
           }
          ],
          "choropleth": [
           {
            "colorbar": {
             "outlinewidth": 0,
             "ticks": ""
            },
            "type": "choropleth"
           }
          ],
          "contour": [
           {
            "colorbar": {
             "outlinewidth": 0,
             "ticks": ""
            },
            "colorscale": [
             [
              0,
              "#0d0887"
             ],
             [
              0.1111111111111111,
              "#46039f"
             ],
             [
              0.2222222222222222,
              "#7201a8"
             ],
             [
              0.3333333333333333,
              "#9c179e"
             ],
             [
              0.4444444444444444,
              "#bd3786"
             ],
             [
              0.5555555555555556,
              "#d8576b"
             ],
             [
              0.6666666666666666,
              "#ed7953"
             ],
             [
              0.7777777777777778,
              "#fb9f3a"
             ],
             [
              0.8888888888888888,
              "#fdca26"
             ],
             [
              1,
              "#f0f921"
             ]
            ],
            "type": "contour"
           }
          ],
          "contourcarpet": [
           {
            "colorbar": {
             "outlinewidth": 0,
             "ticks": ""
            },
            "type": "contourcarpet"
           }
          ],
          "heatmap": [
           {
            "colorbar": {
             "outlinewidth": 0,
             "ticks": ""
            },
            "colorscale": [
             [
              0,
              "#0d0887"
             ],
             [
              0.1111111111111111,
              "#46039f"
             ],
             [
              0.2222222222222222,
              "#7201a8"
             ],
             [
              0.3333333333333333,
              "#9c179e"
             ],
             [
              0.4444444444444444,
              "#bd3786"
             ],
             [
              0.5555555555555556,
              "#d8576b"
             ],
             [
              0.6666666666666666,
              "#ed7953"
             ],
             [
              0.7777777777777778,
              "#fb9f3a"
             ],
             [
              0.8888888888888888,
              "#fdca26"
             ],
             [
              1,
              "#f0f921"
             ]
            ],
            "type": "heatmap"
           }
          ],
          "heatmapgl": [
           {
            "colorbar": {
             "outlinewidth": 0,
             "ticks": ""
            },
            "colorscale": [
             [
              0,
              "#0d0887"
             ],
             [
              0.1111111111111111,
              "#46039f"
             ],
             [
              0.2222222222222222,
              "#7201a8"
             ],
             [
              0.3333333333333333,
              "#9c179e"
             ],
             [
              0.4444444444444444,
              "#bd3786"
             ],
             [
              0.5555555555555556,
              "#d8576b"
             ],
             [
              0.6666666666666666,
              "#ed7953"
             ],
             [
              0.7777777777777778,
              "#fb9f3a"
             ],
             [
              0.8888888888888888,
              "#fdca26"
             ],
             [
              1,
              "#f0f921"
             ]
            ],
            "type": "heatmapgl"
           }
          ],
          "histogram": [
           {
            "marker": {
             "colorbar": {
              "outlinewidth": 0,
              "ticks": ""
             }
            },
            "type": "histogram"
           }
          ],
          "histogram2d": [
           {
            "colorbar": {
             "outlinewidth": 0,
             "ticks": ""
            },
            "colorscale": [
             [
              0,
              "#0d0887"
             ],
             [
              0.1111111111111111,
              "#46039f"
             ],
             [
              0.2222222222222222,
              "#7201a8"
             ],
             [
              0.3333333333333333,
              "#9c179e"
             ],
             [
              0.4444444444444444,
              "#bd3786"
             ],
             [
              0.5555555555555556,
              "#d8576b"
             ],
             [
              0.6666666666666666,
              "#ed7953"
             ],
             [
              0.7777777777777778,
              "#fb9f3a"
             ],
             [
              0.8888888888888888,
              "#fdca26"
             ],
             [
              1,
              "#f0f921"
             ]
            ],
            "type": "histogram2d"
           }
          ],
          "histogram2dcontour": [
           {
            "colorbar": {
             "outlinewidth": 0,
             "ticks": ""
            },
            "colorscale": [
             [
              0,
              "#0d0887"
             ],
             [
              0.1111111111111111,
              "#46039f"
             ],
             [
              0.2222222222222222,
              "#7201a8"
             ],
             [
              0.3333333333333333,
              "#9c179e"
             ],
             [
              0.4444444444444444,
              "#bd3786"
             ],
             [
              0.5555555555555556,
              "#d8576b"
             ],
             [
              0.6666666666666666,
              "#ed7953"
             ],
             [
              0.7777777777777778,
              "#fb9f3a"
             ],
             [
              0.8888888888888888,
              "#fdca26"
             ],
             [
              1,
              "#f0f921"
             ]
            ],
            "type": "histogram2dcontour"
           }
          ],
          "mesh3d": [
           {
            "colorbar": {
             "outlinewidth": 0,
             "ticks": ""
            },
            "type": "mesh3d"
           }
          ],
          "parcoords": [
           {
            "line": {
             "colorbar": {
              "outlinewidth": 0,
              "ticks": ""
             }
            },
            "type": "parcoords"
           }
          ],
          "pie": [
           {
            "automargin": true,
            "type": "pie"
           }
          ],
          "scatter": [
           {
            "marker": {
             "colorbar": {
              "outlinewidth": 0,
              "ticks": ""
             }
            },
            "type": "scatter"
           }
          ],
          "scatter3d": [
           {
            "line": {
             "colorbar": {
              "outlinewidth": 0,
              "ticks": ""
             }
            },
            "marker": {
             "colorbar": {
              "outlinewidth": 0,
              "ticks": ""
             }
            },
            "type": "scatter3d"
           }
          ],
          "scattercarpet": [
           {
            "marker": {
             "colorbar": {
              "outlinewidth": 0,
              "ticks": ""
             }
            },
            "type": "scattercarpet"
           }
          ],
          "scattergeo": [
           {
            "marker": {
             "colorbar": {
              "outlinewidth": 0,
              "ticks": ""
             }
            },
            "type": "scattergeo"
           }
          ],
          "scattergl": [
           {
            "marker": {
             "colorbar": {
              "outlinewidth": 0,
              "ticks": ""
             }
            },
            "type": "scattergl"
           }
          ],
          "scattermapbox": [
           {
            "marker": {
             "colorbar": {
              "outlinewidth": 0,
              "ticks": ""
             }
            },
            "type": "scattermapbox"
           }
          ],
          "scatterpolar": [
           {
            "marker": {
             "colorbar": {
              "outlinewidth": 0,
              "ticks": ""
             }
            },
            "type": "scatterpolar"
           }
          ],
          "scatterpolargl": [
           {
            "marker": {
             "colorbar": {
              "outlinewidth": 0,
              "ticks": ""
             }
            },
            "type": "scatterpolargl"
           }
          ],
          "scatterternary": [
           {
            "marker": {
             "colorbar": {
              "outlinewidth": 0,
              "ticks": ""
             }
            },
            "type": "scatterternary"
           }
          ],
          "surface": [
           {
            "colorbar": {
             "outlinewidth": 0,
             "ticks": ""
            },
            "colorscale": [
             [
              0,
              "#0d0887"
             ],
             [
              0.1111111111111111,
              "#46039f"
             ],
             [
              0.2222222222222222,
              "#7201a8"
             ],
             [
              0.3333333333333333,
              "#9c179e"
             ],
             [
              0.4444444444444444,
              "#bd3786"
             ],
             [
              0.5555555555555556,
              "#d8576b"
             ],
             [
              0.6666666666666666,
              "#ed7953"
             ],
             [
              0.7777777777777778,
              "#fb9f3a"
             ],
             [
              0.8888888888888888,
              "#fdca26"
             ],
             [
              1,
              "#f0f921"
             ]
            ],
            "type": "surface"
           }
          ],
          "table": [
           {
            "cells": {
             "fill": {
              "color": "#EBF0F8"
             },
             "line": {
              "color": "white"
             }
            },
            "header": {
             "fill": {
              "color": "#C8D4E3"
             },
             "line": {
              "color": "white"
             }
            },
            "type": "table"
           }
          ]
         },
         "layout": {
          "annotationdefaults": {
           "arrowcolor": "#2a3f5f",
           "arrowhead": 0,
           "arrowwidth": 1
          },
          "coloraxis": {
           "colorbar": {
            "outlinewidth": 0,
            "ticks": ""
           }
          },
          "colorscale": {
           "diverging": [
            [
             0,
             "#8e0152"
            ],
            [
             0.1,
             "#c51b7d"
            ],
            [
             0.2,
             "#de77ae"
            ],
            [
             0.3,
             "#f1b6da"
            ],
            [
             0.4,
             "#fde0ef"
            ],
            [
             0.5,
             "#f7f7f7"
            ],
            [
             0.6,
             "#e6f5d0"
            ],
            [
             0.7,
             "#b8e186"
            ],
            [
             0.8,
             "#7fbc41"
            ],
            [
             0.9,
             "#4d9221"
            ],
            [
             1,
             "#276419"
            ]
           ],
           "sequential": [
            [
             0,
             "#0d0887"
            ],
            [
             0.1111111111111111,
             "#46039f"
            ],
            [
             0.2222222222222222,
             "#7201a8"
            ],
            [
             0.3333333333333333,
             "#9c179e"
            ],
            [
             0.4444444444444444,
             "#bd3786"
            ],
            [
             0.5555555555555556,
             "#d8576b"
            ],
            [
             0.6666666666666666,
             "#ed7953"
            ],
            [
             0.7777777777777778,
             "#fb9f3a"
            ],
            [
             0.8888888888888888,
             "#fdca26"
            ],
            [
             1,
             "#f0f921"
            ]
           ],
           "sequentialminus": [
            [
             0,
             "#0d0887"
            ],
            [
             0.1111111111111111,
             "#46039f"
            ],
            [
             0.2222222222222222,
             "#7201a8"
            ],
            [
             0.3333333333333333,
             "#9c179e"
            ],
            [
             0.4444444444444444,
             "#bd3786"
            ],
            [
             0.5555555555555556,
             "#d8576b"
            ],
            [
             0.6666666666666666,
             "#ed7953"
            ],
            [
             0.7777777777777778,
             "#fb9f3a"
            ],
            [
             0.8888888888888888,
             "#fdca26"
            ],
            [
             1,
             "#f0f921"
            ]
           ]
          },
          "colorway": [
           "#636efa",
           "#EF553B",
           "#00cc96",
           "#ab63fa",
           "#FFA15A",
           "#19d3f3",
           "#FF6692",
           "#B6E880",
           "#FF97FF",
           "#FECB52"
          ],
          "font": {
           "color": "#2a3f5f"
          },
          "geo": {
           "bgcolor": "white",
           "lakecolor": "white",
           "landcolor": "#E5ECF6",
           "showlakes": true,
           "showland": true,
           "subunitcolor": "white"
          },
          "hoverlabel": {
           "align": "left"
          },
          "hovermode": "closest",
          "mapbox": {
           "style": "light"
          },
          "paper_bgcolor": "white",
          "plot_bgcolor": "#E5ECF6",
          "polar": {
           "angularaxis": {
            "gridcolor": "white",
            "linecolor": "white",
            "ticks": ""
           },
           "bgcolor": "#E5ECF6",
           "radialaxis": {
            "gridcolor": "white",
            "linecolor": "white",
            "ticks": ""
           }
          },
          "scene": {
           "xaxis": {
            "backgroundcolor": "#E5ECF6",
            "gridcolor": "white",
            "gridwidth": 2,
            "linecolor": "white",
            "showbackground": true,
            "ticks": "",
            "zerolinecolor": "white"
           },
           "yaxis": {
            "backgroundcolor": "#E5ECF6",
            "gridcolor": "white",
            "gridwidth": 2,
            "linecolor": "white",
            "showbackground": true,
            "ticks": "",
            "zerolinecolor": "white"
           },
           "zaxis": {
            "backgroundcolor": "#E5ECF6",
            "gridcolor": "white",
            "gridwidth": 2,
            "linecolor": "white",
            "showbackground": true,
            "ticks": "",
            "zerolinecolor": "white"
           }
          },
          "shapedefaults": {
           "line": {
            "color": "#2a3f5f"
           }
          },
          "ternary": {
           "aaxis": {
            "gridcolor": "white",
            "linecolor": "white",
            "ticks": ""
           },
           "baxis": {
            "gridcolor": "white",
            "linecolor": "white",
            "ticks": ""
           },
           "bgcolor": "#E5ECF6",
           "caxis": {
            "gridcolor": "white",
            "linecolor": "white",
            "ticks": ""
           }
          },
          "title": {
           "x": 0.05
          },
          "xaxis": {
           "automargin": true,
           "gridcolor": "white",
           "linecolor": "white",
           "ticks": "",
           "title": {
            "standoff": 15
           },
           "zerolinecolor": "white",
           "zerolinewidth": 2
          },
          "yaxis": {
           "automargin": true,
           "gridcolor": "white",
           "linecolor": "white",
           "ticks": "",
           "title": {
            "standoff": 15
           },
           "zerolinecolor": "white",
           "zerolinewidth": 2
          }
         }
        },
        "xaxis": {
         "anchor": "y",
         "autorange": true,
         "domain": [
          0,
          1
         ],
         "range": [
          -0.2497845277932914,
          0.45568768752956124
         ],
         "title": {
          "text": "PC0"
         },
         "type": "linear"
        },
        "xaxis2": {
         "anchor": "y2",
         "autorange": true,
         "domain": [
          0,
          1
         ],
         "matches": "x",
         "range": [
          -0.2497845277932914,
          0.45568768752956124
         ],
         "showgrid": true,
         "showticklabels": false,
         "type": "linear"
        },
        "yaxis": {
         "anchor": "x",
         "autorange": true,
         "domain": [
          0,
          0.7326
         ],
         "range": [
          -0.41799001047206447,
          0.4303313236335097
         ],
         "title": {
          "text": "PC1"
         },
         "type": "linear"
        },
        "yaxis2": {
         "anchor": "x2",
         "autorange": true,
         "domain": [
          0.7426,
          1
         ],
         "matches": "y2",
         "range": [
          -0.5,
          18.5
         ],
         "showgrid": false,
         "showline": false,
         "showticklabels": false,
         "ticks": "",
         "type": "category"
        }
       }
      },
      "image/png": "[encoded data removed]",
      "text/html": [
       "<div>\n",
       "        \n",
       "        \n",
       "            <div id=\"f56d6b74-fcf1-458e-b94d-860a8a69a91a\" class=\"plotly-graph-div\" style=\"height:600px; width:100%;\"></div>\n",
       "            <script type=\"text/javascript\">\n",
       "                require([\"plotly\"], function(Plotly) {\n",
       "                    window.PLOTLYENV=window.PLOTLYENV || {};\n",
       "                    \n",
       "                if (document.getElementById(\"f56d6b74-fcf1-458e-b94d-860a8a69a91a\")) {\n",
       "                    Plotly.newPlot(\n",
       "                        'f56d6b74-fcf1-458e-b94d-860a8a69a91a',\n",
       "                        [{\"hoverlabel\": {\"namelength\": 0}, \"hovertemplate\": \"year=1850<br>PC0=%{x}<br>PC1=%{y}\", \"legendgroup\": \"year=1850\", \"marker\": {\"color\": \"#636efa\", \"symbol\": \"circle\"}, \"mode\": \"markers\", \"name\": \"year=1850\", \"showlegend\": true, \"type\": \"scatter\", \"x\": [-0.12022856838808774], \"xaxis\": \"x\", \"y\": [0.09670644992539651], \"yaxis\": \"y\"}, {\"alignmentgroup\": \"True\", \"hoverlabel\": {\"namelength\": 0}, \"hovertemplate\": \"year=1850<br>PC0=%{x}\", \"legendgroup\": \"year=1850\", \"marker\": {\"color\": \"#636efa\", \"symbol\": \"circle\"}, \"name\": \"year=1850\", \"notched\": true, \"offsetgroup\": \"year=1850\", \"showlegend\": false, \"type\": \"box\", \"x\": [-0.12022856838808774], \"xaxis\": \"x2\", \"yaxis\": \"y2\"}, {\"hoverlabel\": {\"namelength\": 0}, \"hovertemplate\": \"year=1851<br>PC0=%{x}<br>PC1=%{y}\", \"legendgroup\": \"year=1851\", \"marker\": {\"color\": \"#EF553B\", \"symbol\": \"circle\"}, \"mode\": \"markers\", \"name\": \"year=1851\", \"showlegend\": true, \"type\": \"scatter\", \"x\": [-0.1315141978097858, -0.13827354361333966, -0.13499271654050912], \"xaxis\": \"x\", \"y\": [0.07146334723151701, 0.08665291171609864, 0.13619775596423547], \"yaxis\": \"y\"}, {\"alignmentgroup\": \"True\", \"hoverlabel\": {\"namelength\": 0}, \"hovertemplate\": \"year=1851<br>PC0=%{x}\", \"legendgroup\": \"year=1851\", \"marker\": {\"color\": \"#EF553B\", \"symbol\": \"circle\"}, \"name\": \"year=1851\", \"notched\": true, \"offsetgroup\": \"year=1851\", \"showlegend\": false, \"type\": \"box\", \"x\": [-0.1315141978097858, -0.13827354361333966, -0.13499271654050912], \"xaxis\": \"x2\", \"yaxis\": \"y2\"}, {\"hoverlabel\": {\"namelength\": 0}, \"hovertemplate\": \"year=1852<br>PC0=%{x}<br>PC1=%{y}\", \"legendgroup\": \"year=1852\", \"marker\": {\"color\": \"#00cc96\", \"symbol\": \"circle\"}, \"mode\": \"markers\", \"name\": \"year=1852\", \"showlegend\": true, \"type\": \"scatter\", \"x\": [-0.12382719269477717, -0.14591838018294911, -0.09727605495749943], \"xaxis\": \"x\", \"y\": [0.08863714484510614, 0.08410217146361137, 0.0952960055938111], \"yaxis\": \"y\"}, {\"alignmentgroup\": \"True\", \"hoverlabel\": {\"namelength\": 0}, \"hovertemplate\": \"year=1852<br>PC0=%{x}\", \"legendgroup\": \"year=1852\", \"marker\": {\"color\": \"#00cc96\", \"symbol\": \"circle\"}, \"name\": \"year=1852\", \"notched\": true, \"offsetgroup\": \"year=1852\", \"showlegend\": false, \"type\": \"box\", \"x\": [-0.12382719269477717, -0.14591838018294911, -0.09727605495749943], \"xaxis\": \"x2\", \"yaxis\": \"y2\"}, {\"hoverlabel\": {\"namelength\": 0}, \"hovertemplate\": \"year=1854<br>PC0=%{x}<br>PC1=%{y}\", \"legendgroup\": \"year=1854\", \"marker\": {\"color\": \"#ab63fa\", \"symbol\": \"circle\"}, \"mode\": \"markers\", \"name\": \"year=1854\", \"showlegend\": true, \"type\": \"scatter\", \"x\": [-0.12293070273844403, -0.14608496985216438], \"xaxis\": \"x\", \"y\": [0.09710096044026274, 0.10875929406235743], \"yaxis\": \"y\"}, {\"alignmentgroup\": \"True\", \"hoverlabel\": {\"namelength\": 0}, \"hovertemplate\": \"year=1854<br>PC0=%{x}\", \"legendgroup\": \"year=1854\", \"marker\": {\"color\": \"#ab63fa\", \"symbol\": \"circle\"}, \"name\": \"year=1854\", \"notched\": true, \"offsetgroup\": \"year=1854\", \"showlegend\": false, \"type\": \"box\", \"x\": [-0.12293070273844403, -0.14608496985216438], \"xaxis\": \"x2\", \"yaxis\": \"y2\"}, {\"hoverlabel\": {\"namelength\": 0}, \"hovertemplate\": \"year=1858<br>PC0=%{x}<br>PC1=%{y}\", \"legendgroup\": \"year=1858\", \"marker\": {\"color\": \"#FFA15A\", \"symbol\": \"circle\"}, \"mode\": \"markers\", \"name\": \"year=1858\", \"showlegend\": true, \"type\": \"scatter\", \"x\": [-0.15186151555847066, -0.1550741093110274, -0.15080827169364025], \"xaxis\": \"x\", \"y\": [0.1089194518753756, 0.12389663472473873, 0.08809062770187044], \"yaxis\": \"y\"}, {\"alignmentgroup\": \"True\", \"hoverlabel\": {\"namelength\": 0}, \"hovertemplate\": \"year=1858<br>PC0=%{x}\", \"legendgroup\": \"year=1858\", \"marker\": {\"color\": \"#FFA15A\", \"symbol\": \"circle\"}, \"name\": \"year=1858\", \"notched\": true, \"offsetgroup\": \"year=1858\", \"showlegend\": false, \"type\": \"box\", \"x\": [-0.15186151555847066, -0.1550741093110274, -0.15080827169364025], \"xaxis\": \"x2\", \"yaxis\": \"y2\"}, {\"hoverlabel\": {\"namelength\": 0}, \"hovertemplate\": \"year=1859<br>PC0=%{x}<br>PC1=%{y}\", \"legendgroup\": \"year=1859\", \"marker\": {\"color\": \"#19d3f3\", \"symbol\": \"circle\"}, \"mode\": \"markers\", \"name\": \"year=1859\", \"showlegend\": true, \"type\": \"scatter\", \"x\": [-0.1874315469943231, -0.12658109377913795, -0.03513359006104385, -0.1207038036496252, -0.10547594307869347], \"xaxis\": \"x\", \"y\": [0.11523635962020307, 0.08214246056658747, 0.048476662855876575, 0.1049934990369903, 0.06836298672279162], \"yaxis\": \"y\"}, {\"alignmentgroup\": \"True\", \"hoverlabel\": {\"namelength\": 0}, \"hovertemplate\": \"year=1859<br>PC0=%{x}\", \"legendgroup\": \"year=1859\", \"marker\": {\"color\": \"#19d3f3\", \"symbol\": \"circle\"}, \"name\": \"year=1859\", \"notched\": true, \"offsetgroup\": \"year=1859\", \"showlegend\": false, \"type\": \"box\", \"x\": [-0.1874315469943231, -0.12658109377913795, -0.03513359006104385, -0.1207038036496252, -0.10547594307869347], \"xaxis\": \"x2\", \"yaxis\": \"y2\"}, {\"hoverlabel\": {\"namelength\": 0}, \"hovertemplate\": \"year=1860<br>PC0=%{x}<br>PC1=%{y}\", \"legendgroup\": \"year=1860\", \"marker\": {\"color\": \"#FF6692\", \"symbol\": \"circle\"}, \"mode\": \"markers\", \"name\": \"year=1860\", \"showlegend\": true, \"type\": \"scatter\", \"x\": [-0.12389349575383111, -0.10181036914289755, -0.09737878545779434, -0.13896384213619545], \"xaxis\": \"x\", \"y\": [0.11261972823557852, 0.09772356033656998, 0.08664930712417235, 0.09529265816734518], \"yaxis\": \"y\"}, {\"alignmentgroup\": \"True\", \"hoverlabel\": {\"namelength\": 0}, \"hovertemplate\": \"year=1860<br>PC0=%{x}\", \"legendgroup\": \"year=1860\", \"marker\": {\"color\": \"#FF6692\", \"symbol\": \"circle\"}, \"name\": \"year=1860\", \"notched\": true, \"offsetgroup\": \"year=1860\", \"showlegend\": false, \"type\": \"box\", \"x\": [-0.12389349575383111, -0.10181036914289755, -0.09737878545779434, -0.13896384213619545], \"xaxis\": \"x2\", \"yaxis\": \"y2\"}, {\"hoverlabel\": {\"namelength\": 0}, \"hovertemplate\": \"year=1861<br>PC0=%{x}<br>PC1=%{y}\", \"legendgroup\": \"year=1861\", \"marker\": {\"color\": \"#B6E880\", \"symbol\": \"circle\"}, \"mode\": \"markers\", \"name\": \"year=1861\", \"showlegend\": true, \"type\": \"scatter\", \"x\": [-0.13052305722902816, -0.15233864483365647, -0.12589485906554065, -0.04603534572460868, -0.07806146589366746, -0.06589425947869561, -0.0927839038269944, -0.05901576337523176, -0.0892060769476256, -0.10314996693717449, -0.14565414043009867, 0.05280747745277102, 0.08903249905208745, 0.026911191729739888, -0.02999548126210126, 0.08383875454709049, 0.08401834263025762, -0.09587245642419573, 0.06792171212591476, 0.02965875902492697, 0.034553363937341194, 0.08684880956440232, 0.14063380589387517, 0.07928365604179818, -0.078086722083629, -0.035488484433400753, 0.018509381814014177], \"xaxis\": \"x\", \"y\": [0.024481554623873605, 0.0997172565053607, 0.03059763864936901, 0.05427141949624408, 0.04576786745129954, 0.044665269691110426, 0.028498449879245706, 0.037282550407076336, 0.05675299109590332, 0.07106480834742848, 0.028221091532126465, -0.17789583824627708, -0.21846113011912602, -0.20679635521999698, -0.13844576394666366, -0.17484918341770864, -0.07135440112563105, -0.11463368877091282, -0.14143592045398465, -0.11260688513698057, -0.09548973293160337, -0.11740181639552467, -0.18096392663253408, -0.2182972181822, 0.07028408824194413, -0.055736483587115485, -0.031093486403604705], \"yaxis\": \"y\"}, {\"alignmentgroup\": \"True\", \"hoverlabel\": {\"namelength\": 0}, \"hovertemplate\": \"year=1861<br>PC0=%{x}\", \"legendgroup\": \"year=1861\", \"marker\": {\"color\": \"#B6E880\", \"symbol\": \"circle\"}, \"name\": \"year=1861\", \"notched\": true, \"offsetgroup\": \"year=1861\", \"showlegend\": false, \"type\": \"box\", \"x\": [-0.13052305722902816, -0.15233864483365647, -0.12589485906554065, -0.04603534572460868, -0.07806146589366746, -0.06589425947869561, -0.0927839038269944, -0.05901576337523176, -0.0892060769476256, -0.10314996693717449, -0.14565414043009867, 0.05280747745277102, 0.08903249905208745, 0.026911191729739888, -0.02999548126210126, 0.08383875454709049, 0.08401834263025762, -0.09587245642419573, 0.06792171212591476, 0.02965875902492697, 0.034553363937341194, 0.08684880956440232, 0.14063380589387517, 0.07928365604179818, -0.078086722083629, -0.035488484433400753, 0.018509381814014177], \"xaxis\": \"x2\", \"yaxis\": \"y2\"}, {\"hoverlabel\": {\"namelength\": 0}, \"hovertemplate\": \"year=1862<br>PC0=%{x}<br>PC1=%{y}\", \"legendgroup\": \"year=1862\", \"marker\": {\"color\": \"#FF97FF\", \"symbol\": \"circle\"}, \"mode\": \"markers\", \"name\": \"year=1862\", \"showlegend\": true, \"type\": \"scatter\", \"x\": [-0.15741359458938667, -0.09014623820774575, -0.1407818911316782, -0.15991616230336342, -0.02070385601768947, 0.03630759166830567, -0.06332701568444207, -0.05732672905803953, 0.021178475935894232, -0.042468652433431564, -0.01145186395508727, 0.008729609442961495, 0.057962250421913296, -0.07185144428088033, -0.00855222227788036, 0.10493137217107891, 0.014660532966715246, 0.011132097781498717, 0.060411525161118675, -0.0026331230399705818, -0.03191203282702018, -0.09072685894636368, -0.10723203331215968, -0.0695783813320503, -0.1745576216608233, -0.034542899624231106, -0.11928460408777666, -0.09153770052047956, 0.028221136013003575, -0.07490216235326543, -0.03450876691969908, 0.0317843605074239, 0.02521326345827916, -0.02840764483171364, 0.07771072513850337, 0.0020150715646367933, -0.07453725116984687, 0.017617807708229193, -0.10087366752095059, 0.035298646633721176, 0.0012644770127338367, 0.04645265112109608, -0.0526544867250058, 0.03447850530068109, -0.12041012648181423, 0.10727867975230661, 0.044534826764860265, 0.10698503765368175, 0.0828156080339884, 0.027825851206059946, 0.029361336916804034, -0.0676289220292715, -0.1138155923119064, 0.032858770785024034, -0.15495137755124114, 0.051146846217205534, 0.018901434009985705, -0.013298679962691377, -0.015268378365564167, -0.03248923716100159, 0.031968259513869085, -0.010061707881450582, 0.0020295356539983124, 0.03360887387590976, 0.0022896230625115647, 0.07032694376917639, 0.09015763448038727, 0.05541453267843684, 0.09394566324128005, 0.0008833061009586364, 0.08220939014328409, 0.07305731038683536], \"xaxis\": \"x\", \"y\": [0.09780022482834573, 0.01867512503764924, 0.031794918654190714, 0.07785531407482173, -0.11416787097638258, -0.1294932773903043, -0.058560368174497966, -0.13873460125967196, -0.0894845164887883, -0.17609243062892477, -0.11954154659515126, -0.24228458821856305, -0.05607273601044917, -0.0030373481598338185, -0.014736158431425143, -0.07441644067479845, -0.1539411246507099, -0.23683447226336124, -0.1622451262918139, -0.19460785242107873, -0.14171765979249556, 0.013663746819522303, -0.16795775017123762, -0.14998886286732457, 0.038833693947703446, -0.3258106850067966, 0.028771735773555622, -0.19642657472406239, -0.2515315998861484, 0.01205737631116432, -0.045297102052194324, -0.032030567316253915, -0.17603753478285525, -0.10660781295620114, -0.15990709770935982, -0.13975324072064546, -0.27087239378517675, -0.2487270794664307, -0.16232736955675447, -0.3661340542639551, -0.2244664670588051, -0.2620143962595776, -0.08732200803181678, -0.12030583737695386, -0.036887472925307314, -0.14483181823618407, -0.11721021390799813, -0.16267994959170942, -0.1548490345264108, -0.08993037878082476, -0.09489670949300412, -0.05689010974029781, -0.04540330356347569, -0.17720137467983846, 0.06719935355082947, -0.06426448607151287, -0.00032071065081835964, -0.05238072718634333, -0.07232690472702749, -0.30632548047909264, -0.21603847758655495, -0.13836497176378956, -0.10384926105463158, -0.09233399925463678, -0.195465814555023, -0.11749592356078715, -0.060370588495461924, -0.05131162238759667, -0.10621262913448506, -0.03735034757346895, -0.09012617141835609, -0.13845082916272386], \"yaxis\": \"y\"}, {\"alignmentgroup\": \"True\", \"hoverlabel\": {\"namelength\": 0}, \"hovertemplate\": \"year=1862<br>PC0=%{x}\", \"legendgroup\": \"year=1862\", \"marker\": {\"color\": \"#FF97FF\", \"symbol\": \"circle\"}, \"name\": \"year=1862\", \"notched\": true, \"offsetgroup\": \"year=1862\", \"showlegend\": false, \"type\": \"box\", \"x\": [-0.15741359458938667, -0.09014623820774575, -0.1407818911316782, -0.15991616230336342, -0.02070385601768947, 0.03630759166830567, -0.06332701568444207, -0.05732672905803953, 0.021178475935894232, -0.042468652433431564, -0.01145186395508727, 0.008729609442961495, 0.057962250421913296, -0.07185144428088033, -0.00855222227788036, 0.10493137217107891, 0.014660532966715246, 0.011132097781498717, 0.060411525161118675, -0.0026331230399705818, -0.03191203282702018, -0.09072685894636368, -0.10723203331215968, -0.0695783813320503, -0.1745576216608233, -0.034542899624231106, -0.11928460408777666, -0.09153770052047956, 0.028221136013003575, -0.07490216235326543, -0.03450876691969908, 0.0317843605074239, 0.02521326345827916, -0.02840764483171364, 0.07771072513850337, 0.0020150715646367933, -0.07453725116984687, 0.017617807708229193, -0.10087366752095059, 0.035298646633721176, 0.0012644770127338367, 0.04645265112109608, -0.0526544867250058, 0.03447850530068109, -0.12041012648181423, 0.10727867975230661, 0.044534826764860265, 0.10698503765368175, 0.0828156080339884, 0.027825851206059946, 0.029361336916804034, -0.0676289220292715, -0.1138155923119064, 0.032858770785024034, -0.15495137755124114, 0.051146846217205534, 0.018901434009985705, -0.013298679962691377, -0.015268378365564167, -0.03248923716100159, 0.031968259513869085, -0.010061707881450582, 0.0020295356539983124, 0.03360887387590976, 0.0022896230625115647, 0.07032694376917639, 0.09015763448038727, 0.05541453267843684, 0.09394566324128005, 0.0008833061009586364, 0.08220939014328409, 0.07305731038683536], \"xaxis\": \"x2\", \"yaxis\": \"y2\"}, {\"hoverlabel\": {\"namelength\": 0}, \"hovertemplate\": \"year=1863<br>PC0=%{x}<br>PC1=%{y}\", \"legendgroup\": \"year=1863\", \"marker\": {\"color\": \"#FECB52\", \"symbol\": \"circle\"}, \"mode\": \"markers\", \"name\": \"year=1863\", \"showlegend\": true, \"type\": \"scatter\", \"x\": [-0.1637337121659128, -0.1336820979106068, -0.10327509870577542, -0.16928355012200824, 0.08852056325694968, 0.12928670580014892, -0.030065627510441385, -0.08546983663861339, 0.08069439977320475, 0.09298666484448763, -0.009879738897472325, 0.15505171010018012, 0.09075114567390824, 0.05186533856841963, 0.08504010006421665, 0.03965030080969112, 0.0959082749670173, 0.096626681844799, -0.15217494875012613, 0.04442416794042964, 0.00987043881748363, 0.006545907237056799, 0.12253464491802767, 0.08505121776603479, 0.025465089366603924, 0.08688049904159052, 0.13107351352905022, 0.0643023319554949, 0.11751850635175641, -0.01453328743264019, 0.07341443622376136, 0.01034739055438868, 0.06504917002221249, -0.020605608861675846, 0.005667919676782102, 0.13211635842934746, 0.07110225298940646, 0.05193965168689397, 0.07127124703130386, 0.07343570921774806, -0.04610469026627792, 0.02900417193645192, 0.1050015140210528, 0.11019798188638988, 0.08048285603867353, -0.10430916109009791, 0.024876923692749613, -0.005905624250212838, -0.03667427857824903, -0.07279573305598178, 0.06416968462662351, -0.0662063716768809, 0.017451970835464053, 0.01828249569451272, 0.14219130102270938, 0.0794103052904151, 0.11050092537525279, 0.12174667083845207, 0.08904364625209518, -0.054717155179287165, -0.08380785833357123, 0.12315730742226581, 0.06870102682275048, -0.0013361799275730557, 0.06199840882005572, -0.007726621851617626, 0.16470795042678948, -0.14116437595246573, -0.03798504884928002, 0.10786553556999703, 0.031283270619452345, -0.014834581926660687, 0.01150662639207195, -0.05441374887630983, -0.03098849180011604, -0.006147567143367025, 0.05849010010132647, -0.09451137733190249, 0.14597830950672014, -0.0238287013716163, 0.005062422107584267, 0.06637938607218213, 0.07192795940894105, 0.15221451820809762, 0.021392697146703585, 0.16044775413338647, 0.09981389000395328, 0.11400767454090162, 0.21206885596431382], \"xaxis\": \"x\", \"y\": [0.12588662048229146, 0.07574908635870208, 0.07293563614975017, 0.11338543087230425, 0.016907060984289738, 0.012517132959119668, 0.0005824912021249863, -0.011697086999102126, 0.0020315782988591657, -0.01993751442959875, -0.04197333054719751, -0.06857180561186009, 0.00757676539414208, -0.0034850038932514177, -0.01006890164557974, -0.08067520828251967, -0.07527505486594015, 0.03250063324445696, 0.1236055723981802, -0.12118253935447912, -0.0812814999224109, -0.17742949991620438, -0.031017945868120036, -0.054985367076712914, -0.15031055326595727, -0.10586725754858364, -0.1600627689808464, -0.09159720301113053, -0.16619570233938638, -0.0327134641064998, -0.1653700240127745, -0.016973027767599305, -0.09526184984992603, -0.11540012170088151, -0.041975769831602644, -0.10523080177548212, -0.011735663639806958, -0.037533965230471714, -0.06135376205587295, -0.10938527139233534, -0.1672737314473642, -0.11918881963188102, -0.21793042688839862, -0.06438334780539756, -0.11994367489840167, -0.09469371626493044, -0.09581585948578658, -0.13724152078424814, -0.3122059122710442, 0.025326312684995776, -0.1477308899884968, -0.01780738267967664, -0.1472226414889929, -0.14666850217439062, -0.09655895320627064, -0.05398477639642234, -0.023294315094656605, -0.006728289293055147, -0.14231087828192834, 0.041803378904904445, -0.17087617359742355, 0.0059159788897314, -0.013546354967615696, -0.15661811622001798, -0.026847055702784364, 0.008598804801336828, -0.20152839094982258, -0.08577258916519813, -0.11192623103795372, -0.1735870153053669, -0.11374958615083787, -0.012029397071088029, -0.04469351834070203, -0.0030059101164136865, 0.06616173945561615, 0.11149049221379029, -0.010146231247006837, 0.09661730031213425, -0.04119920440351114, 0.0459775163226876, -0.00477964357423468, -0.15323381438792105, -0.1024974129299736, -0.07527851878980062, -0.18348658605974602, -0.11425528954957372, -0.08456859826946027, -0.14557477302376462, -0.11561645063906235], \"yaxis\": \"y\"}, {\"alignmentgroup\": \"True\", \"hoverlabel\": {\"namelength\": 0}, \"hovertemplate\": \"year=1863<br>PC0=%{x}\", \"legendgroup\": \"year=1863\", \"marker\": {\"color\": \"#FECB52\", \"symbol\": \"circle\"}, \"name\": \"year=1863\", \"notched\": true, \"offsetgroup\": \"year=1863\", \"showlegend\": false, \"type\": \"box\", \"x\": [-0.1637337121659128, -0.1336820979106068, -0.10327509870577542, -0.16928355012200824, 0.08852056325694968, 0.12928670580014892, -0.030065627510441385, -0.08546983663861339, 0.08069439977320475, 0.09298666484448763, -0.009879738897472325, 0.15505171010018012, 0.09075114567390824, 0.05186533856841963, 0.08504010006421665, 0.03965030080969112, 0.0959082749670173, 0.096626681844799, -0.15217494875012613, 0.04442416794042964, 0.00987043881748363, 0.006545907237056799, 0.12253464491802767, 0.08505121776603479, 0.025465089366603924, 0.08688049904159052, 0.13107351352905022, 0.0643023319554949, 0.11751850635175641, -0.01453328743264019, 0.07341443622376136, 0.01034739055438868, 0.06504917002221249, -0.020605608861675846, 0.005667919676782102, 0.13211635842934746, 0.07110225298940646, 0.05193965168689397, 0.07127124703130386, 0.07343570921774806, -0.04610469026627792, 0.02900417193645192, 0.1050015140210528, 0.11019798188638988, 0.08048285603867353, -0.10430916109009791, 0.024876923692749613, -0.005905624250212838, -0.03667427857824903, -0.07279573305598178, 0.06416968462662351, -0.0662063716768809, 0.017451970835464053, 0.01828249569451272, 0.14219130102270938, 0.0794103052904151, 0.11050092537525279, 0.12174667083845207, 0.08904364625209518, -0.054717155179287165, -0.08380785833357123, 0.12315730742226581, 0.06870102682275048, -0.0013361799275730557, 0.06199840882005572, -0.007726621851617626, 0.16470795042678948, -0.14116437595246573, -0.03798504884928002, 0.10786553556999703, 0.031283270619452345, -0.014834581926660687, 0.01150662639207195, -0.05441374887630983, -0.03098849180011604, -0.006147567143367025, 0.05849010010132647, -0.09451137733190249, 0.14597830950672014, -0.0238287013716163, 0.005062422107584267, 0.06637938607218213, 0.07192795940894105, 0.15221451820809762, 0.021392697146703585, 0.16044775413338647, 0.09981389000395328, 0.11400767454090162, 0.21206885596431382], \"xaxis\": \"x2\", \"yaxis\": \"y2\"}, {\"hoverlabel\": {\"namelength\": 0}, \"hovertemplate\": \"year=1864<br>PC0=%{x}<br>PC1=%{y}\", \"legendgroup\": \"year=1864\", \"marker\": {\"color\": \"#636efa\", \"symbol\": \"circle\"}, \"mode\": \"markers\", \"name\": \"year=1864\", \"showlegend\": true, \"type\": \"scatter\", \"x\": [-0.15401839856002913, -0.19155084061363428, -0.1742081717851159, -0.16452512555026477, -0.1504456556788381, -0.12834325262097765, 0.015929275840100898, 0.08874097558826051, 0.1538726342367524, 0.11675186154035826, 0.08503736940295427, 0.08167105767684235, 0.09984939536869138, 0.11896158112123172, 0.21557774430580803, 0.06801073187241882, 0.17223429646531943, 0.11266667248012527, 0.09338878743053589, 0.06904308740306007, 0.13005842173587295, 0.04069178419167466, 0.08337413139153368, 0.09104290600206069, 0.03794384566240214, 0.07148657261037322, 0.07795966546323872, 0.04110896349875571, 0.07358673580348313, 0.042598755918869954, 0.03730216654639185, -0.07041071383664596, -0.12192420339379857, -0.08516875131658382, -0.13082634444182145, -0.08598791519140182, -0.03674686172221322, 0.001997871916576414, -0.05088405468578371, -0.05781480634457493, -0.026588139087289995, 0.05825506792824702, 0.002036012191880376, -0.0913663727498055, 0.008847562664967348, -0.005484842909332569, 0.06277195105778634, -0.06761937974571666, -0.010222027057854492, 0.023475137303445887, 0.05224503555190888, 0.0013883627946367002, -0.07553864766119148, -0.018361244763211704, 0.023151629181411604, -0.027577056852452608, 0.06132935179405944, 0.02440455833969658, -0.07277194203528971, 0.033034072603373175, 0.06419050319098768, 0.05250587757964091, 0.035112527037366455, -0.05466630622851759, 0.013716886850210075, 0.09391175685593432, -0.05752904266927185, 0.061522133887791215, 0.017523342809236127, 0.046826543983512214, 0.10867805015543107, 0.0016208230328778519, 0.12418923652830578, -0.0166875208023117, 0.0044423975919681835, 0.024085915925463504, -0.034323617093136145, 0.07553986218287788, -0.10454478795549939, 0.00017025273106289828, 0.045420037758998645, 0.023294764282725217, 0.15996052920345286, 0.12557496009416674, 0.06981926727194397, 0.06379451733102921, 0.03561803125515415, 0.015243444476708695, 0.08588957285321452, 0.06641971939296462, 0.15855681464271806, 0.06448760577110094, 0.13117443983183033, 0.13899682341894823, -0.006477037453567225, 0.09412756412362164, 0.1285837303445508, 0.07358315854918074, 0.1362434862964333, -0.044451498422611466, 0.002403201176547716, 0.06061943339426466], \"xaxis\": \"x\", \"y\": [0.09057862223545908, 0.12831513567347966, 0.08601918653051822, 0.056354356503842754, 0.11382312048530177, 0.06604117632555541, 0.039153380331954916, 0.01251021405073175, -0.010945503271327105, -0.0860694108183507, -0.1101226136479134, -0.029851591330406494, 0.007556979468070089, -0.0035996209344153277, -0.011015524963923372, -0.11991593982185847, -0.017276503140384786, -0.008294636305605878, -0.0614367274777025, -0.050156494583966725, -0.015777745577020864, 0.0445967781963396, -0.07059489331029337, -0.03720014579306264, -0.179339231190842, -0.17225325015565363, -0.11731357302595757, -0.06439465731521875, -0.11196892754058069, -0.0454004750371873, -0.031581606062454616, -0.051228814920110825, -0.11250679407587547, -0.2246180250416343, -0.1601037513567149, -0.25213357776054063, -0.19394088705195814, -0.10158548368616183, -0.016771187553335665, -0.16325145484714707, -0.27344237468555216, -0.012080627126055735, -0.15816202531992316, -0.1540032635337094, -0.15534259566940417, -0.1328469128707416, -0.08958651390923436, -0.09837026638882705, -0.16857050652802785, -0.18084210968400363, -0.17276269688706802, -0.1924763642349312, -0.27097754885669284, -0.12521791657559855, -0.037539946336280675, -0.006252347987173753, -0.12002607056977337, -0.14039653034562266, -0.23889245350684973, -0.07900711325241944, -0.12859127611576415, -0.09694566982049349, -0.19140892275291632, 0.042874513108663186, -0.0017062773393383525, -0.026821812148492687, 0.030839368326161548, 0.028286915087561974, 0.06444072359548475, -0.020653918945701753, 0.010837380576789788, 0.009674190689395751, -0.0048638332329062235, -0.06763360284903536, -0.06838447841597871, -0.010879887142146166, 0.009776592953817165, -0.025689885576012185, 0.07681041288217526, -0.026784132826207986, -0.02833982899227995, -0.017855192576252614, 0.009714100703566783, -0.01935381839794193, -0.009475159371423977, -0.0016607888829194945, 0.028570446269862503, 0.024301967675155637, -0.07042017180752676, -0.08219159694711987, -0.09599205997964251, -0.08492914084278348, -0.12078776358985788, -0.11630967094330819, 0.03414748093455692, -0.06767191085603491, 0.027989333199693992, 0.04847399664304993, -0.05948185622058222, -0.10042800277390561, -0.045101720624131036, -0.2040168234555639], \"yaxis\": \"y\"}, {\"alignmentgroup\": \"True\", \"hoverlabel\": {\"namelength\": 0}, \"hovertemplate\": \"year=1864<br>PC0=%{x}\", \"legendgroup\": \"year=1864\", \"marker\": {\"color\": \"#636efa\", \"symbol\": \"circle\"}, \"name\": \"year=1864\", \"notched\": true, \"offsetgroup\": \"year=1864\", \"showlegend\": false, \"type\": \"box\", \"x\": [-0.15401839856002913, -0.19155084061363428, -0.1742081717851159, -0.16452512555026477, -0.1504456556788381, -0.12834325262097765, 0.015929275840100898, 0.08874097558826051, 0.1538726342367524, 0.11675186154035826, 0.08503736940295427, 0.08167105767684235, 0.09984939536869138, 0.11896158112123172, 0.21557774430580803, 0.06801073187241882, 0.17223429646531943, 0.11266667248012527, 0.09338878743053589, 0.06904308740306007, 0.13005842173587295, 0.04069178419167466, 0.08337413139153368, 0.09104290600206069, 0.03794384566240214, 0.07148657261037322, 0.07795966546323872, 0.04110896349875571, 0.07358673580348313, 0.042598755918869954, 0.03730216654639185, -0.07041071383664596, -0.12192420339379857, -0.08516875131658382, -0.13082634444182145, -0.08598791519140182, -0.03674686172221322, 0.001997871916576414, -0.05088405468578371, -0.05781480634457493, -0.026588139087289995, 0.05825506792824702, 0.002036012191880376, -0.0913663727498055, 0.008847562664967348, -0.005484842909332569, 0.06277195105778634, -0.06761937974571666, -0.010222027057854492, 0.023475137303445887, 0.05224503555190888, 0.0013883627946367002, -0.07553864766119148, -0.018361244763211704, 0.023151629181411604, -0.027577056852452608, 0.06132935179405944, 0.02440455833969658, -0.07277194203528971, 0.033034072603373175, 0.06419050319098768, 0.05250587757964091, 0.035112527037366455, -0.05466630622851759, 0.013716886850210075, 0.09391175685593432, -0.05752904266927185, 0.061522133887791215, 0.017523342809236127, 0.046826543983512214, 0.10867805015543107, 0.0016208230328778519, 0.12418923652830578, -0.0166875208023117, 0.0044423975919681835, 0.024085915925463504, -0.034323617093136145, 0.07553986218287788, -0.10454478795549939, 0.00017025273106289828, 0.045420037758998645, 0.023294764282725217, 0.15996052920345286, 0.12557496009416674, 0.06981926727194397, 0.06379451733102921, 0.03561803125515415, 0.015243444476708695, 0.08588957285321452, 0.06641971939296462, 0.15855681464271806, 0.06448760577110094, 0.13117443983183033, 0.13899682341894823, -0.006477037453567225, 0.09412756412362164, 0.1285837303445508, 0.07358315854918074, 0.1362434862964333, -0.044451498422611466, 0.002403201176547716, 0.06061943339426466], \"xaxis\": \"x2\", \"yaxis\": \"y2\"}, {\"hoverlabel\": {\"namelength\": 0}, \"hovertemplate\": \"year=1865<br>PC0=%{x}<br>PC1=%{y}\", \"legendgroup\": \"year=1865\", \"marker\": {\"color\": \"#EF553B\", \"symbol\": \"circle\"}, \"mode\": \"markers\", \"name\": \"year=1865\", \"showlegend\": true, \"type\": \"scatter\", \"x\": [-0.07755545603563475, -0.13244846609617728, 0.10682179561877386, 0.15403931588137443, 0.03074035653618232, 0.004107341059833379, 0.09556003701118838, 0.19045590841798157, 0.07249637429559354, 0.18382956251193108, 0.1411403251590951, -0.0012450180836277673, -0.04904160492552376, 0.023796038634449544, 0.05631157317301869, -0.031571225887262314, 0.05819880223016336, -0.0876562431302824, 0.038610757020429494, -0.0035818004676663037, -0.1623743026098337, -0.16616149197151067, -0.08080367975453656, -0.05117854540179437, -0.11432555205344593, -0.1275047495808836, -0.1184935204289813, -0.19393333044427588, -0.09065427362353622, -0.12049794813625828], \"xaxis\": \"x\", \"y\": [0.03563947158454413, 0.0875604139948776, 0.020313820559648994, 0.04245339852529511, 0.02446491928434646, -0.036095806381393064, -0.03778563069527461, 0.021033599489930953, -0.0017829118161285073, 0.06367772170208316, 0.026542344190313812, -0.019964896261111684, 0.03424856008340057, 0.00959298588425839, -0.010089521716648682, 0.036534907725497924, -0.0013117745658191605, 0.05234513935193307, 0.046578444224236605, 0.02451453660180266, 0.05454970545734467, 0.06026296509865629, 0.03088460134286829, 0.0014167201039594797, 0.02150402581524277, 0.042644845627712175, 0.0498664093686036, 0.09999100291660287, 0.056063439048716183, 0.09158657891395007], \"yaxis\": \"y\"}, {\"alignmentgroup\": \"True\", \"hoverlabel\": {\"namelength\": 0}, \"hovertemplate\": \"year=1865<br>PC0=%{x}\", \"legendgroup\": \"year=1865\", \"marker\": {\"color\": \"#EF553B\", \"symbol\": \"circle\"}, \"name\": \"year=1865\", \"notched\": true, \"offsetgroup\": \"year=1865\", \"showlegend\": false, \"type\": \"box\", \"x\": [-0.07755545603563475, -0.13244846609617728, 0.10682179561877386, 0.15403931588137443, 0.03074035653618232, 0.004107341059833379, 0.09556003701118838, 0.19045590841798157, 0.07249637429559354, 0.18382956251193108, 0.1411403251590951, -0.0012450180836277673, -0.04904160492552376, 0.023796038634449544, 0.05631157317301869, -0.031571225887262314, 0.05819880223016336, -0.0876562431302824, 0.038610757020429494, -0.0035818004676663037, -0.1623743026098337, -0.16616149197151067, -0.08080367975453656, -0.05117854540179437, -0.11432555205344593, -0.1275047495808836, -0.1184935204289813, -0.19393333044427588, -0.09065427362353622, -0.12049794813625828], \"xaxis\": \"x2\", \"yaxis\": \"y2\"}, {\"hoverlabel\": {\"namelength\": 0}, \"hovertemplate\": \"year=1867<br>PC0=%{x}<br>PC1=%{y}\", \"legendgroup\": \"year=1867\", \"marker\": {\"color\": \"#00cc96\", \"symbol\": \"circle\"}, \"mode\": \"markers\", \"name\": \"year=1867\", \"showlegend\": true, \"type\": \"scatter\", \"x\": [0.06586097622586551, 0.14217069874580565, 0.16967356081985185, 0.12086265607284323, 0.1568178095490899, 0.28138583391007027, 0.2341078818821612, 0.1775722596607821, 0.2697610954409025, 0.2394956483273887, 0.28913887601891447, 0.2367985119053716, -0.13931449930372472, 0.35550699905014044, 0.04435134453377722, 0.23193576402165098, 0.21335524156565103, 0.34752318390906417, 0.4158547357071276, 0.11948178257011512, 0.342405717370068, 0.40970517012963775, 0.3657189165767848, 0.3610078127490661, 0.3482002356648987], \"xaxis\": \"x\", \"y\": [0.10601099060701322, 0.11854675152782175, 0.1137864023264304, 0.09467398165388007, 0.18039455451743944, 0.16652345240527955, 0.18724786170791122, 0.22689209357807974, 0.24552638982946, 0.20166135714237693, 0.18691248570974814, 0.2107187881039428, 0.0964436620266228, 0.22135108333772324, 0.1490031469758457, 0.08090749387186405, 0.16600969595956705, 0.2528484194187719, 0.259083055678863, 0.12175120325279445, 0.21163576933072478, 0.28574042636197755, 0.21791683111535123, 0.22269617521366228, 0.18364519733510498], \"yaxis\": \"y\"}, {\"alignmentgroup\": \"True\", \"hoverlabel\": {\"namelength\": 0}, \"hovertemplate\": \"year=1867<br>PC0=%{x}\", \"legendgroup\": \"year=1867\", \"marker\": {\"color\": \"#00cc96\", \"symbol\": \"circle\"}, \"name\": \"year=1867\", \"notched\": true, \"offsetgroup\": \"year=1867\", \"showlegend\": false, \"type\": \"box\", \"x\": [0.06586097622586551, 0.14217069874580565, 0.16967356081985185, 0.12086265607284323, 0.1568178095490899, 0.28138583391007027, 0.2341078818821612, 0.1775722596607821, 0.2697610954409025, 0.2394956483273887, 0.28913887601891447, 0.2367985119053716, -0.13931449930372472, 0.35550699905014044, 0.04435134453377722, 0.23193576402165098, 0.21335524156565103, 0.34752318390906417, 0.4158547357071276, 0.11948178257011512, 0.342405717370068, 0.40970517012963775, 0.3657189165767848, 0.3610078127490661, 0.3482002356648987], \"xaxis\": \"x2\", \"yaxis\": \"y2\"}, {\"hoverlabel\": {\"namelength\": 0}, \"hovertemplate\": \"year=1868<br>PC0=%{x}<br>PC1=%{y}\", \"legendgroup\": \"year=1868\", \"marker\": {\"color\": \"#ab63fa\", \"symbol\": \"circle\"}, \"mode\": \"markers\", \"name\": \"year=1868\", \"showlegend\": true, \"type\": \"scatter\", \"x\": [0.21708930015490752, 0.2240808799854608, 0.264022521515816, 0.20894931261378208, 0.30998308134958513, 0.17481665511187036, 0.28840223287060573, 0.1993504467202508, 0.30543159378432916, 0.24358773390261784, 0.22624409691845246, 0.3290271290719629, 0.2557633223967333, 0.2906005300356731, 0.0005637105731150678, 0.2037001983370899, 0.2194221993570247, 0.2231206871911059, 0.3654695773863264, 0.35622626404225605, 0.29940128809803, 0.31088313671742923, 0.28202594261531877, 0.2572774981956293, 0.16678142705927596, 0.24529054644588083, 0.25867679287553896, 0.21300935165661863, 0.2429580147916696, 0.3371972735507404, 0.16479893794408232, 0.21902419407493343, 0.22938347944783494, -0.07647875598445936, -0.10860230893628396, -0.1115587969773729, -0.09882386396175337, -0.04490025552256335, -0.13359457017549883, -0.1768752217608629, -0.16116527565891806, -0.16348679187273038, 0.2599489500462101, 0.37260745581845556, 0.35531031700524623, 0.3477254070913819, 0.3584899639559421, 0.36835954676455857, 0.4168438732445783, 0.3649767194656356, 0.3281948665711093, 0.3535038359321677, 0.36095583921303165, 0.3327736355937517, 0.2590435804817929, 0.38111932110589625, 0.296960935755516, 0.3544400597024496, 0.3258167857525578, 0.3005102085194188, 0.3961522981172102, 0.3432444738205707, 0.40209811786597527, 0.39365221137122136, 0.3181415999426192, 0.35261072757743284, 0.4095220969273387, 0.1903995548782692, 0.2494559313034964, 0.40657741956745463], \"xaxis\": \"x\", \"y\": [0.2642480976189336, 0.26820684654464927, 0.18645791663101813, 0.21669702041402655, 0.2570003735398311, 0.19351613865451534, 0.24347708845487304, 0.25351867756107016, 0.2759569040960665, 0.16079464265019425, 0.19590734614928632, 0.27112140610318736, 0.26827218619543114, 0.21713221628892518, 0.1495392343396218, 0.26161835860823146, 0.23030027145085857, 0.26717960263588475, 0.29878469135015334, 0.28515865028970394, 0.20503789132777367, 0.2719688294929361, 0.31961723540248255, 0.2811565291769817, 0.22700938449480887, 0.19508082841991561, 0.32729313366473683, 0.16380692004557254, 0.24125269413357076, 0.24667751456174894, 0.1877359306853078, 0.2774306641729029, 0.2684124239388994, 0.041288197228960245, 0.04897392710390138, 0.059563630006203606, 0.10015125473418299, 0.10103792606995747, 0.08445758193673954, 0.07541258187043427, 0.07345779257987568, 0.09723122474416616, 0.24462698155181906, 0.28201218928891325, 0.29162336602170547, 0.21048235794050055, 0.2836426111211708, 0.2792255919479659, 0.333710942101041, 0.3539880487739264, 0.24036703554513125, 0.3210222761842483, 0.2839716394945629, 0.23565166648478864, 0.24856800389696154, 0.2957381734728463, 0.27882973967384234, 0.23161514314775117, 0.29783216108305394, 0.26197445789455476, 0.3134823543768276, 0.2477824244743629, 0.35129526038174225, 0.24134517375895798, 0.1828577374434034, 0.2510359777313044, 0.27737195203109316, 0.12303831472817411, 0.14970404456802885, 0.19270399928817045], \"yaxis\": \"y\"}, {\"alignmentgroup\": \"True\", \"hoverlabel\": {\"namelength\": 0}, \"hovertemplate\": \"year=1868<br>PC0=%{x}\", \"legendgroup\": \"year=1868\", \"marker\": {\"color\": \"#ab63fa\", \"symbol\": \"circle\"}, \"name\": \"year=1868\", \"notched\": true, \"offsetgroup\": \"year=1868\", \"showlegend\": false, \"type\": \"box\", \"x\": [0.21708930015490752, 0.2240808799854608, 0.264022521515816, 0.20894931261378208, 0.30998308134958513, 0.17481665511187036, 0.28840223287060573, 0.1993504467202508, 0.30543159378432916, 0.24358773390261784, 0.22624409691845246, 0.3290271290719629, 0.2557633223967333, 0.2906005300356731, 0.0005637105731150678, 0.2037001983370899, 0.2194221993570247, 0.2231206871911059, 0.3654695773863264, 0.35622626404225605, 0.29940128809803, 0.31088313671742923, 0.28202594261531877, 0.2572774981956293, 0.16678142705927596, 0.24529054644588083, 0.25867679287553896, 0.21300935165661863, 0.2429580147916696, 0.3371972735507404, 0.16479893794408232, 0.21902419407493343, 0.22938347944783494, -0.07647875598445936, -0.10860230893628396, -0.1115587969773729, -0.09882386396175337, -0.04490025552256335, -0.13359457017549883, -0.1768752217608629, -0.16116527565891806, -0.16348679187273038, 0.2599489500462101, 0.37260745581845556, 0.35531031700524623, 0.3477254070913819, 0.3584899639559421, 0.36835954676455857, 0.4168438732445783, 0.3649767194656356, 0.3281948665711093, 0.3535038359321677, 0.36095583921303165, 0.3327736355937517, 0.2590435804817929, 0.38111932110589625, 0.296960935755516, 0.3544400597024496, 0.3258167857525578, 0.3005102085194188, 0.3961522981172102, 0.3432444738205707, 0.40209811786597527, 0.39365221137122136, 0.3181415999426192, 0.35261072757743284, 0.4095220969273387, 0.1903995548782692, 0.2494559313034964, 0.40657741956745463], \"xaxis\": \"x2\", \"yaxis\": \"y2\"}, {\"hoverlabel\": {\"namelength\": 0}, \"hovertemplate\": \"year=1869<br>PC0=%{x}<br>PC1=%{y}\", \"legendgroup\": \"year=1869\", \"marker\": {\"color\": \"#FFA15A\", \"symbol\": \"circle\"}, \"mode\": \"markers\", \"name\": \"year=1869\", \"showlegend\": true, \"type\": \"scatter\", \"x\": [0.3602079764566606, 0.2856454513413673, 0.40797605838383283, 0.28746414776823154, 0.36385648751788074, 0.40663435301480216, -0.0664311487762579, -0.1499405667484264, -0.12526142434186968, -0.1516454723546851, -0.057658502808915345, -0.13896046206974266, -0.12902633826007465, -0.09840858765491228, -0.0740295181973631, -0.08216020609993246, -0.19418338417476363, -0.18415527402810508, -0.10014119855728153, -0.08258348828591254, -0.1252469624153938, -0.11717388022508236, -0.18144415162553007, -0.09779133756342827, -0.15706248343506682, -0.18897818477927775, -0.1805816448331003, -0.16249437306344985, -0.17100682600282907, -0.18324245166578587, -0.10688875463379419, -0.18401764290400036, -0.125031177900538, -0.14786238107933516, -0.1125604150199865, -0.09351684857882836, -0.02376846340032919, -0.21094071350830843, -0.1337259570680134], \"xaxis\": \"x\", \"y\": [0.27607374949722446, 0.3315600644096417, 0.3199695302822272, 0.30583464335968175, 0.37847536742540033, 0.31118058221782674, 0.03545471297215769, 0.0736302604988152, 0.035601490992459406, 0.07018465747211206, 0.07280218685228666, 0.09552336197543033, 0.07088755598165496, 0.05448588177807868, 0.07459484639792473, 0.03908565976424512, 0.08751093138207965, 0.05365363865434238, 0.015379756069403457, 0.054780484339513956, 0.03417814594408006, 0.05646531845090034, 0.09399212767744526, 0.08826480612938953, 0.09513215618182627, 0.0983974066346454, 0.11246781521103534, 0.07230672346435298, 0.11406835008777326, 0.11438458932205328, 0.08655475466038338, 0.09314449214615986, 0.04590894691125852, 0.1191114206879192, 0.02369461730014051, 0.08190070881680762, 0.11150466414686823, 0.11933455661407322, 0.09377799501088788], \"yaxis\": \"y\"}, {\"alignmentgroup\": \"True\", \"hoverlabel\": {\"namelength\": 0}, \"hovertemplate\": \"year=1869<br>PC0=%{x}\", \"legendgroup\": \"year=1869\", \"marker\": {\"color\": \"#FFA15A\", \"symbol\": \"circle\"}, \"name\": \"year=1869\", \"notched\": true, \"offsetgroup\": \"year=1869\", \"showlegend\": false, \"type\": \"box\", \"x\": [0.3602079764566606, 0.2856454513413673, 0.40797605838383283, 0.28746414776823154, 0.36385648751788074, 0.40663435301480216, -0.0664311487762579, -0.1499405667484264, -0.12526142434186968, -0.1516454723546851, -0.057658502808915345, -0.13896046206974266, -0.12902633826007465, -0.09840858765491228, -0.0740295181973631, -0.08216020609993246, -0.19418338417476363, -0.18415527402810508, -0.10014119855728153, -0.08258348828591254, -0.1252469624153938, -0.11717388022508236, -0.18144415162553007, -0.09779133756342827, -0.15706248343506682, -0.18897818477927775, -0.1805816448331003, -0.16249437306344985, -0.17100682600282907, -0.18324245166578587, -0.10688875463379419, -0.18401764290400036, -0.125031177900538, -0.14786238107933516, -0.1125604150199865, -0.09351684857882836, -0.02376846340032919, -0.21094071350830843, -0.1337259570680134], \"xaxis\": \"x2\", \"yaxis\": \"y2\"}, {\"hoverlabel\": {\"namelength\": 0}, \"hovertemplate\": \"year=1870<br>PC0=%{x}<br>PC1=%{y}\", \"legendgroup\": \"year=1870\", \"marker\": {\"color\": \"#19d3f3\", \"symbol\": \"circle\"}, \"mode\": \"markers\", \"name\": \"year=1870\", \"showlegend\": true, \"type\": \"scatter\", \"x\": [0.08054263702671673, -0.028507884138331236, 0.1630181819960974, -0.0040435181161207825, 0.12417609100353572, 0.0083071583636089], \"xaxis\": \"x\", \"y\": [0.021674041714297102, -0.013933810609672415, -0.05880583390259789, 0.006177533599944432, -0.0027980400713837976, 0.0542347857951683], \"yaxis\": \"y\"}, {\"alignmentgroup\": \"True\", \"hoverlabel\": {\"namelength\": 0}, \"hovertemplate\": \"year=1870<br>PC0=%{x}\", \"legendgroup\": \"year=1870\", \"marker\": {\"color\": \"#19d3f3\", \"symbol\": \"circle\"}, \"name\": \"year=1870\", \"notched\": true, \"offsetgroup\": \"year=1870\", \"showlegend\": false, \"type\": \"box\", \"x\": [0.08054263702671673, -0.028507884138331236, 0.1630181819960974, -0.0040435181161207825, 0.12417609100353572, 0.0083071583636089], \"xaxis\": \"x2\", \"yaxis\": \"y2\"}, {\"hoverlabel\": {\"namelength\": 0}, \"hovertemplate\": \"year=1857<br>PC0=%{x}<br>PC1=%{y}\", \"legendgroup\": \"year=1857\", \"marker\": {\"color\": \"#FF6692\", \"symbol\": \"circle\"}, \"mode\": \"markers\", \"name\": \"year=1857\", \"showlegend\": true, \"type\": \"scatter\", \"x\": [-0.14794099610103212], \"xaxis\": \"x\", \"y\": [0.07672623495589069], \"yaxis\": \"y\"}, {\"alignmentgroup\": \"True\", \"hoverlabel\": {\"namelength\": 0}, \"hovertemplate\": \"year=1857<br>PC0=%{x}\", \"legendgroup\": \"year=1857\", \"marker\": {\"color\": \"#FF6692\", \"symbol\": \"circle\"}, \"name\": \"year=1857\", \"notched\": true, \"offsetgroup\": \"year=1857\", \"showlegend\": false, \"type\": \"box\", \"x\": [-0.14794099610103212], \"xaxis\": \"x2\", \"yaxis\": \"y2\"}, {\"hoverlabel\": {\"namelength\": 0}, \"hovertemplate\": \"year=1898<br>PC0=%{x}<br>PC1=%{y}\", \"legendgroup\": \"year=1898\", \"marker\": {\"color\": \"#B6E880\", \"symbol\": \"circle\"}, \"mode\": \"markers\", \"name\": \"year=1898\", \"showlegend\": true, \"type\": \"scatter\", \"x\": [-0.018777780440085587], \"xaxis\": \"x\", \"y\": [0.053538149466244384], \"yaxis\": \"y\"}, {\"alignmentgroup\": \"True\", \"hoverlabel\": {\"namelength\": 0}, \"hovertemplate\": \"year=1898<br>PC0=%{x}\", \"legendgroup\": \"year=1898\", \"marker\": {\"color\": \"#B6E880\", \"symbol\": \"circle\"}, \"name\": \"year=1898\", \"notched\": true, \"offsetgroup\": \"year=1898\", \"showlegend\": false, \"type\": \"box\", \"x\": [-0.018777780440085587], \"xaxis\": \"x2\", \"yaxis\": \"y2\"}, {\"hoverlabel\": {\"namelength\": 0}, \"hovertemplate\": \"year=1866<br>PC0=%{x}<br>PC1=%{y}\", \"legendgroup\": \"year=1866\", \"marker\": {\"color\": \"#FF97FF\", \"symbol\": \"circle\"}, \"mode\": \"markers\", \"name\": \"year=1866\", \"showlegend\": true, \"type\": \"scatter\", \"x\": [0.027877009129066658, -0.006322490711278062, -0.007301106035523972, -0.08876783104129914, -0.0740538899153113, -0.19934203131853684, -0.06589590986528651, -0.19219215594172231, -0.08898607403373335, -0.10668297833635787, -0.1809999599585938, -0.07782814868784521, -0.09264931185161798, -0.09182795042578239, -0.1286663150276189, -0.06777643507910437, -0.20619014472816027, -0.12878687363319782, -0.07590808747374733, -0.06852644809174088, -0.08365306692490218, -0.07041245444586675, -0.05703933498871332, -0.10761039251578992, -0.05853797179444475], \"xaxis\": \"x\", \"y\": [-0.02013819260876543, -0.021371080992487246, 0.03912345559127915, 0.04512864448721762, 0.0930543793714522, 0.12104373837070326, 0.021829080443243366, 0.1036004924250678, 0.03497869919965276, 0.02466827173846942, 0.08765559971327179, 0.0022689858905478376, 0.05217292604659985, 0.059932064903224495, 0.10421074150449597, 0.0740283242992779, 0.08740586988469072, 0.07335435732068854, 0.10096110399935973, 0.11078233143928251, 0.038121611648516, 0.021798062199650844, 0.10081160384879699, 0.1412285044842843, 0.15662700078598776], \"yaxis\": \"y\"}, {\"alignmentgroup\": \"True\", \"hoverlabel\": {\"namelength\": 0}, \"hovertemplate\": \"year=1866<br>PC0=%{x}\", \"legendgroup\": \"year=1866\", \"marker\": {\"color\": \"#FF97FF\", \"symbol\": \"circle\"}, \"name\": \"year=1866\", \"notched\": true, \"offsetgroup\": \"year=1866\", \"showlegend\": false, \"type\": \"box\", \"x\": [0.027877009129066658, -0.006322490711278062, -0.007301106035523972, -0.08876783104129914, -0.0740538899153113, -0.19934203131853684, -0.06589590986528651, -0.19219215594172231, -0.08898607403373335, -0.10668297833635787, -0.1809999599585938, -0.07782814868784521, -0.09264931185161798, -0.09182795042578239, -0.1286663150276189, -0.06777643507910437, -0.20619014472816027, -0.12878687363319782, -0.07590808747374733, -0.06852644809174088, -0.08365306692490218, -0.07041245444586675, -0.05703933498871332, -0.10761039251578992, -0.05853797179444475], \"xaxis\": \"x2\", \"yaxis\": \"y2\"}],\n",
       "                        {\"height\": 600, \"legend\": {\"tracegroupgap\": 0}, \"margin\": {\"t\": 60}, \"template\": {\"data\": {\"bar\": [{\"error_x\": {\"color\": \"#2a3f5f\"}, \"error_y\": {\"color\": \"#2a3f5f\"}, \"marker\": {\"line\": {\"color\": \"#E5ECF6\", \"width\": 0.5}}, \"type\": \"bar\"}], \"barpolar\": [{\"marker\": {\"line\": {\"color\": \"#E5ECF6\", \"width\": 0.5}}, \"type\": \"barpolar\"}], \"carpet\": [{\"aaxis\": {\"endlinecolor\": \"#2a3f5f\", \"gridcolor\": \"white\", \"linecolor\": \"white\", \"minorgridcolor\": \"white\", \"startlinecolor\": \"#2a3f5f\"}, \"baxis\": {\"endlinecolor\": \"#2a3f5f\", \"gridcolor\": \"white\", \"linecolor\": \"white\", \"minorgridcolor\": \"white\", \"startlinecolor\": \"#2a3f5f\"}, \"type\": \"carpet\"}], \"choropleth\": [{\"colorbar\": {\"outlinewidth\": 0, \"ticks\": \"\"}, \"type\": \"choropleth\"}], \"contour\": [{\"colorbar\": {\"outlinewidth\": 0, \"ticks\": \"\"}, \"colorscale\": [[0.0, \"#0d0887\"], [0.1111111111111111, \"#46039f\"], [0.2222222222222222, \"#7201a8\"], [0.3333333333333333, \"#9c179e\"], [0.4444444444444444, \"#bd3786\"], [0.5555555555555556, \"#d8576b\"], [0.6666666666666666, \"#ed7953\"], [0.7777777777777778, \"#fb9f3a\"], [0.8888888888888888, \"#fdca26\"], [1.0, \"#f0f921\"]], \"type\": \"contour\"}], \"contourcarpet\": [{\"colorbar\": {\"outlinewidth\": 0, \"ticks\": \"\"}, \"type\": \"contourcarpet\"}], \"heatmap\": [{\"colorbar\": {\"outlinewidth\": 0, \"ticks\": \"\"}, \"colorscale\": [[0.0, \"#0d0887\"], [0.1111111111111111, \"#46039f\"], [0.2222222222222222, \"#7201a8\"], [0.3333333333333333, \"#9c179e\"], [0.4444444444444444, \"#bd3786\"], [0.5555555555555556, \"#d8576b\"], [0.6666666666666666, \"#ed7953\"], [0.7777777777777778, \"#fb9f3a\"], [0.8888888888888888, \"#fdca26\"], [1.0, \"#f0f921\"]], \"type\": \"heatmap\"}], \"heatmapgl\": [{\"colorbar\": {\"outlinewidth\": 0, \"ticks\": \"\"}, \"colorscale\": [[0.0, \"#0d0887\"], [0.1111111111111111, \"#46039f\"], [0.2222222222222222, \"#7201a8\"], [0.3333333333333333, \"#9c179e\"], [0.4444444444444444, \"#bd3786\"], [0.5555555555555556, \"#d8576b\"], [0.6666666666666666, \"#ed7953\"], [0.7777777777777778, \"#fb9f3a\"], [0.8888888888888888, \"#fdca26\"], [1.0, \"#f0f921\"]], \"type\": \"heatmapgl\"}], \"histogram\": [{\"marker\": {\"colorbar\": {\"outlinewidth\": 0, \"ticks\": \"\"}}, \"type\": \"histogram\"}], \"histogram2d\": [{\"colorbar\": {\"outlinewidth\": 0, \"ticks\": \"\"}, \"colorscale\": [[0.0, \"#0d0887\"], [0.1111111111111111, \"#46039f\"], [0.2222222222222222, \"#7201a8\"], [0.3333333333333333, \"#9c179e\"], [0.4444444444444444, \"#bd3786\"], [0.5555555555555556, \"#d8576b\"], [0.6666666666666666, \"#ed7953\"], [0.7777777777777778, \"#fb9f3a\"], [0.8888888888888888, \"#fdca26\"], [1.0, \"#f0f921\"]], \"type\": \"histogram2d\"}], \"histogram2dcontour\": [{\"colorbar\": {\"outlinewidth\": 0, \"ticks\": \"\"}, \"colorscale\": [[0.0, \"#0d0887\"], [0.1111111111111111, \"#46039f\"], [0.2222222222222222, \"#7201a8\"], [0.3333333333333333, \"#9c179e\"], [0.4444444444444444, \"#bd3786\"], [0.5555555555555556, \"#d8576b\"], [0.6666666666666666, \"#ed7953\"], [0.7777777777777778, \"#fb9f3a\"], [0.8888888888888888, \"#fdca26\"], [1.0, \"#f0f921\"]], \"type\": \"histogram2dcontour\"}], \"mesh3d\": [{\"colorbar\": {\"outlinewidth\": 0, \"ticks\": \"\"}, \"type\": \"mesh3d\"}], \"parcoords\": [{\"line\": {\"colorbar\": {\"outlinewidth\": 0, \"ticks\": \"\"}}, \"type\": \"parcoords\"}], \"pie\": [{\"automargin\": true, \"type\": \"pie\"}], \"scatter\": [{\"marker\": {\"colorbar\": {\"outlinewidth\": 0, \"ticks\": \"\"}}, \"type\": \"scatter\"}], \"scatter3d\": [{\"line\": {\"colorbar\": {\"outlinewidth\": 0, \"ticks\": \"\"}}, \"marker\": {\"colorbar\": {\"outlinewidth\": 0, \"ticks\": \"\"}}, \"type\": \"scatter3d\"}], \"scattercarpet\": [{\"marker\": {\"colorbar\": {\"outlinewidth\": 0, \"ticks\": \"\"}}, \"type\": \"scattercarpet\"}], \"scattergeo\": [{\"marker\": {\"colorbar\": {\"outlinewidth\": 0, \"ticks\": \"\"}}, \"type\": \"scattergeo\"}], \"scattergl\": [{\"marker\": {\"colorbar\": {\"outlinewidth\": 0, \"ticks\": \"\"}}, \"type\": \"scattergl\"}], \"scattermapbox\": [{\"marker\": {\"colorbar\": {\"outlinewidth\": 0, \"ticks\": \"\"}}, \"type\": \"scattermapbox\"}], \"scatterpolar\": [{\"marker\": {\"colorbar\": {\"outlinewidth\": 0, \"ticks\": \"\"}}, \"type\": \"scatterpolar\"}], \"scatterpolargl\": [{\"marker\": {\"colorbar\": {\"outlinewidth\": 0, \"ticks\": \"\"}}, \"type\": \"scatterpolargl\"}], \"scatterternary\": [{\"marker\": {\"colorbar\": {\"outlinewidth\": 0, \"ticks\": \"\"}}, \"type\": \"scatterternary\"}], \"surface\": [{\"colorbar\": {\"outlinewidth\": 0, \"ticks\": \"\"}, \"colorscale\": [[0.0, \"#0d0887\"], [0.1111111111111111, \"#46039f\"], [0.2222222222222222, \"#7201a8\"], [0.3333333333333333, \"#9c179e\"], [0.4444444444444444, \"#bd3786\"], [0.5555555555555556, \"#d8576b\"], [0.6666666666666666, \"#ed7953\"], [0.7777777777777778, \"#fb9f3a\"], [0.8888888888888888, \"#fdca26\"], [1.0, \"#f0f921\"]], \"type\": \"surface\"}], \"table\": [{\"cells\": {\"fill\": {\"color\": \"#EBF0F8\"}, \"line\": {\"color\": \"white\"}}, \"header\": {\"fill\": {\"color\": \"#C8D4E3\"}, \"line\": {\"color\": \"white\"}}, \"type\": \"table\"}]}, \"layout\": {\"annotationdefaults\": {\"arrowcolor\": \"#2a3f5f\", \"arrowhead\": 0, \"arrowwidth\": 1}, \"coloraxis\": {\"colorbar\": {\"outlinewidth\": 0, \"ticks\": \"\"}}, \"colorscale\": {\"diverging\": [[0, \"#8e0152\"], [0.1, \"#c51b7d\"], [0.2, \"#de77ae\"], [0.3, \"#f1b6da\"], [0.4, \"#fde0ef\"], [0.5, \"#f7f7f7\"], [0.6, \"#e6f5d0\"], [0.7, \"#b8e186\"], [0.8, \"#7fbc41\"], [0.9, \"#4d9221\"], [1, \"#276419\"]], \"sequential\": [[0.0, \"#0d0887\"], [0.1111111111111111, \"#46039f\"], [0.2222222222222222, \"#7201a8\"], [0.3333333333333333, \"#9c179e\"], [0.4444444444444444, \"#bd3786\"], [0.5555555555555556, \"#d8576b\"], [0.6666666666666666, \"#ed7953\"], [0.7777777777777778, \"#fb9f3a\"], [0.8888888888888888, \"#fdca26\"], [1.0, \"#f0f921\"]], \"sequentialminus\": [[0.0, \"#0d0887\"], [0.1111111111111111, \"#46039f\"], [0.2222222222222222, \"#7201a8\"], [0.3333333333333333, \"#9c179e\"], [0.4444444444444444, \"#bd3786\"], [0.5555555555555556, \"#d8576b\"], [0.6666666666666666, \"#ed7953\"], [0.7777777777777778, \"#fb9f3a\"], [0.8888888888888888, \"#fdca26\"], [1.0, \"#f0f921\"]]}, \"colorway\": [\"#636efa\", \"#EF553B\", \"#00cc96\", \"#ab63fa\", \"#FFA15A\", \"#19d3f3\", \"#FF6692\", \"#B6E880\", \"#FF97FF\", \"#FECB52\"], \"font\": {\"color\": \"#2a3f5f\"}, \"geo\": {\"bgcolor\": \"white\", \"lakecolor\": \"white\", \"landcolor\": \"#E5ECF6\", \"showlakes\": true, \"showland\": true, \"subunitcolor\": \"white\"}, \"hoverlabel\": {\"align\": \"left\"}, \"hovermode\": \"closest\", \"mapbox\": {\"style\": \"light\"}, \"paper_bgcolor\": \"white\", \"plot_bgcolor\": \"#E5ECF6\", \"polar\": {\"angularaxis\": {\"gridcolor\": \"white\", \"linecolor\": \"white\", \"ticks\": \"\"}, \"bgcolor\": \"#E5ECF6\", \"radialaxis\": {\"gridcolor\": \"white\", \"linecolor\": \"white\", \"ticks\": \"\"}}, \"scene\": {\"xaxis\": {\"backgroundcolor\": \"#E5ECF6\", \"gridcolor\": \"white\", \"gridwidth\": 2, \"linecolor\": \"white\", \"showbackground\": true, \"ticks\": \"\", \"zerolinecolor\": \"white\"}, \"yaxis\": {\"backgroundcolor\": \"#E5ECF6\", \"gridcolor\": \"white\", \"gridwidth\": 2, \"linecolor\": \"white\", \"showbackground\": true, \"ticks\": \"\", \"zerolinecolor\": \"white\"}, \"zaxis\": {\"backgroundcolor\": \"#E5ECF6\", \"gridcolor\": \"white\", \"gridwidth\": 2, \"linecolor\": \"white\", \"showbackground\": true, \"ticks\": \"\", \"zerolinecolor\": \"white\"}}, \"shapedefaults\": {\"line\": {\"color\": \"#2a3f5f\"}}, \"ternary\": {\"aaxis\": {\"gridcolor\": \"white\", \"linecolor\": \"white\", \"ticks\": \"\"}, \"baxis\": {\"gridcolor\": \"white\", \"linecolor\": \"white\", \"ticks\": \"\"}, \"bgcolor\": \"#E5ECF6\", \"caxis\": {\"gridcolor\": \"white\", \"linecolor\": \"white\", \"ticks\": \"\"}}, \"title\": {\"x\": 0.05}, \"xaxis\": {\"automargin\": true, \"gridcolor\": \"white\", \"linecolor\": \"white\", \"ticks\": \"\", \"title\": {\"standoff\": 15}, \"zerolinecolor\": \"white\", \"zerolinewidth\": 2}, \"yaxis\": {\"automargin\": true, \"gridcolor\": \"white\", \"linecolor\": \"white\", \"ticks\": \"\", \"title\": {\"standoff\": 15}, \"zerolinecolor\": \"white\", \"zerolinewidth\": 2}}}, \"xaxis\": {\"anchor\": \"y\", \"domain\": [0.0, 1.0], \"title\": {\"text\": \"PC0\"}}, \"xaxis2\": {\"anchor\": \"y2\", \"domain\": [0.0, 1.0], \"matches\": \"x\", \"showgrid\": true, \"showticklabels\": false}, \"yaxis\": {\"anchor\": \"x\", \"domain\": [0.0, 0.7326], \"title\": {\"text\": \"PC1\"}}, \"yaxis2\": {\"anchor\": \"x2\", \"domain\": [0.7426, 1.0], \"matches\": \"y2\", \"showgrid\": false, \"showline\": false, \"showticklabels\": false, \"ticks\": \"\"}},\n",
       "                        {\"responsive\": true}\n",
       "                    ).then(function(){\n",
       "                            \n",
       "var gd = document.getElementById('f56d6b74-fcf1-458e-b94d-860a8a69a91a');\n",
       "var x = new MutationObserver(function (mutations, observer) {{\n",
       "        var display = window.getComputedStyle(gd).display;\n",
       "        if (!display || display === 'none') {{\n",
       "            console.log([gd, 'removed!']);\n",
       "            Plotly.purge(gd);\n",
       "            observer.disconnect();\n",
       "        }}\n",
       "}});\n",
       "\n",
       "// Listen for the removal of the full notebook cells\n",
       "var notebookContainer = gd.closest('#notebook-container');\n",
       "if (notebookContainer) {{\n",
       "    x.observe(notebookContainer, {childList: true});\n",
       "}}\n",
       "\n",
       "// Listen for the clearing of the current output cell\n",
       "var outputEl = gd.closest('.output');\n",
       "if (outputEl) {{\n",
       "    x.observe(outputEl, {childList: true});\n",
       "}}\n",
       "\n",
       "                        })\n",
       "                };\n",
       "                });\n",
       "            </script>\n",
       "        </div>"
      ]
     },
     "metadata": {},
     "output_type": "display_data"
    }
   ],
   "source": [
    "vis_pcs(DCM_civil, 0, 1, 'year')"
   ]
  },
  {
   "cell_type": "code",
   "execution_count": 400,
   "metadata": {},
   "outputs": [
    {
     "name": "stdout",
     "output_type": "stream",
     "text": [
      "Letters PC0+ respectfully honorable schools school chambersburg teachers teacher servant 1 amount colored obedient favor against which check hereby request nomination enclosed\n",
      "\n",
      "Letters PC0- love heart she her nt happy come live home tell how dear see devotion loving so he long did world\n",
      "\n",
      "Letters PC1+ we enemy our wounded got they killed miles men fight river them were yankees camp back battle went army regiment\n",
      "\n",
      "Letters PC1- love heart devotion happy live staunton truly loving ella she world yours soul respectfully unchanging her pa devotedly wish happiness\n"
     ]
    }
   ],
   "source": [
    "print_loadings(\"PC0\", \"PC1\", 20)"
   ]
  },
  {
   "cell_type": "markdown",
   "metadata": {},
   "source": [
    "## Author"
   ]
  },
  {
   "cell_type": "markdown",
   "metadata": {},
   "source": [
    "These components actually separate authors pretty well. "
   ]
  },
  {
   "cell_type": "code",
   "execution_count": 401,
   "metadata": {},
   "outputs": [
    {
     "data": {
      "application/vnd.plotly.v1+json": {
       "config": {
        "plotlyServerURL": "https://plot.ly"
       },
       "data": [
        {
         "hoverlabel": {
          "namelength": 0
         },
         "hovertemplate": "author=Alexander K. McClure<br>PC0=%{x}<br>PC3=%{y}",
         "legendgroup": "author=Alexander K. McClure",
         "marker": {
          "color": "#636efa",
          "symbol": "circle"
         },
         "mode": "markers",
         "name": "author=Alexander K. McClure",
         "showlegend": true,
         "type": "scatter",
         "x": [
          -0.12022856838808774,
          -0.1315141978097858,
          -0.13827354361333966,
          -0.13499271654050912,
          -0.12382719269477717,
          -0.14591838018294911,
          -0.09727605495749943,
          -0.12293070273844403,
          -0.14608496985216438,
          -0.15186151555847066,
          -0.1550741093110274,
          -0.1874315469943231,
          -0.12658109377913795,
          -0.12389349575383111,
          -0.10181036914289755,
          -0.09737878545779434,
          -0.13896384213619545,
          -0.13052305722902816,
          -0.15233864483365647,
          -0.12589485906554065,
          -0.04603534572460868,
          -0.07806146589366746,
          -0.06589425947869561,
          -0.0927839038269944,
          -0.05901576337523176,
          -0.0892060769476256,
          -0.10314996693717449,
          -0.15741359458938667,
          -0.09014623820774575,
          -0.1407818911316782,
          -0.15991616230336342,
          -0.1637337121659128,
          -0.1336820979106068,
          -0.10327509870577542,
          -0.16928355012200824,
          -0.15401839856002913,
          -0.19155084061363428,
          -0.1742081717851159,
          -0.16452512555026477,
          -0.1504456556788381,
          -0.12834325262097765,
          -0.07755545603563475,
          -0.13244846609617728
         ],
         "xaxis": "x",
         "y": [
          0.009379520417190968,
          0.03600800135710343,
          0.03083512670222386,
          -0.011437568902883858,
          -0.0023663905051094845,
          -0.014093850015879266,
          0.034866701758968555,
          0.01099679206133723,
          -0.015376670603795644,
          0.005281054064971208,
          -0.04190699011176058,
          -0.06050291588049529,
          -0.018640050991801896,
          0.02087051958319168,
          0.017138133665426818,
          0.004248465012627129,
          0.007502125908101623,
          -0.04788780022915437,
          -0.05725682473705897,
          0.020170493697512566,
          0.039534354638807986,
          0.048521891368025344,
          0.05037314380441739,
          0.03216655442699447,
          0.007093075616586409,
          0.050038903120256925,
          0.052715117352890875,
          -0.022482028905887182,
          0.0102877495157137,
          -0.050519077732770964,
          -0.05005304594333952,
          -0.0018026985265730067,
          0.014659459424411422,
          -0.01666223545159699,
          -0.04642356517418651,
          -0.018276656483985024,
          -0.01711905265201606,
          -0.05320257180209176,
          -0.08613023934336524,
          -0.030341495396586655,
          0.016294440623047208,
          0.042724379544815935,
          -0.01323136156108123
         ],
         "yaxis": "y"
        },
        {
         "alignmentgroup": "True",
         "hoverlabel": {
          "namelength": 0
         },
         "hovertemplate": "author=Alexander K. McClure<br>PC0=%{x}",
         "legendgroup": "author=Alexander K. McClure",
         "marker": {
          "color": "#636efa",
          "symbol": "circle"
         },
         "name": "author=Alexander K. McClure",
         "notched": true,
         "offsetgroup": "author=Alexander K. McClure",
         "showlegend": false,
         "type": "box",
         "x": [
          -0.12022856838808774,
          -0.1315141978097858,
          -0.13827354361333966,
          -0.13499271654050912,
          -0.12382719269477717,
          -0.14591838018294911,
          -0.09727605495749943,
          -0.12293070273844403,
          -0.14608496985216438,
          -0.15186151555847066,
          -0.1550741093110274,
          -0.1874315469943231,
          -0.12658109377913795,
          -0.12389349575383111,
          -0.10181036914289755,
          -0.09737878545779434,
          -0.13896384213619545,
          -0.13052305722902816,
          -0.15233864483365647,
          -0.12589485906554065,
          -0.04603534572460868,
          -0.07806146589366746,
          -0.06589425947869561,
          -0.0927839038269944,
          -0.05901576337523176,
          -0.0892060769476256,
          -0.10314996693717449,
          -0.15741359458938667,
          -0.09014623820774575,
          -0.1407818911316782,
          -0.15991616230336342,
          -0.1637337121659128,
          -0.1336820979106068,
          -0.10327509870577542,
          -0.16928355012200824,
          -0.15401839856002913,
          -0.19155084061363428,
          -0.1742081717851159,
          -0.16452512555026477,
          -0.1504456556788381,
          -0.12834325262097765,
          -0.07755545603563475,
          -0.13244846609617728
         ],
         "xaxis": "x2",
         "yaxis": "y2"
        },
        {
         "hoverlabel": {
          "namelength": 0
         },
         "hovertemplate": "author=David Demus<br>PC0=%{x}<br>PC3=%{y}",
         "legendgroup": "author=David Demus",
         "marker": {
          "color": "#EF553B",
          "symbol": "circle"
         },
         "mode": "markers",
         "name": "author=David Demus",
         "showlegend": true,
         "type": "scatter",
         "x": [
          0.08852056325694968,
          0.12928670580014892,
          -0.030065627510441385,
          -0.08546983663861339,
          0.08069439977320475,
          0.09298666484448763,
          -0.009879738897472325,
          0.15505171010018012,
          0.09075114567390824,
          0.05186533856841963,
          0.08504010006421665,
          0.03965030080969112,
          0.0959082749670173,
          0.096626681844799,
          0.015929275840100898,
          0.08874097558826051,
          0.1538726342367524,
          0.11675186154035826,
          0.08503736940295427,
          0.08167105767684235,
          0.09984939536869138,
          0.11896158112123172,
          0.21557774430580803,
          0.06801073187241882,
          0.17223429646531943,
          0.11266667248012527,
          0.09338878743053589,
          0.06904308740306007,
          0.13005842173587295,
          0.04069178419167466,
          0.10682179561877386,
          0.15403931588137443,
          0.03074035653618232,
          0.004107341059833379,
          0.09556003701118838,
          0.19045590841798157,
          0.07249637429559354,
          0.18382956251193108,
          0.1411403251590951
         ],
         "xaxis": "x",
         "y": [
          -0.028958089761676197,
          -0.014153357182628754,
          -0.027559958104562916,
          -0.044261553999880826,
          0.013257766292592184,
          -0.011162034217786512,
          -0.0023736213502733587,
          0.03600171369093788,
          0.00280513573464262,
          0.07827809617135342,
          0.0043663209320546,
          -0.0734356975627212,
          -0.01175749576361645,
          -0.004521926753294698,
          -0.02771302707362291,
          -0.007465500259446235,
          0.008211243284701415,
          -0.014950173089157552,
          -0.018740932689234227,
          -0.059490438162090105,
          -0.003983970403551271,
          -0.0060864841300293,
          0.0035808847109729124,
          -0.10281251256203248,
          0.05258655246845236,
          -0.0013380507765135352,
          0.006684326647311101,
          -0.0010611680063659233,
          -0.015594810191811734,
          -0.0025686195040295636,
          0.005147640686244002,
          0.004345762347197981,
          0.023056015442535105,
          -0.01788762236506683,
          -0.004069958438706361,
          0.014625502724502073,
          0.023262499047457048,
          0.013493100179034226,
          0.013015874238221722
         ],
         "yaxis": "y"
        },
        {
         "alignmentgroup": "True",
         "hoverlabel": {
          "namelength": 0
         },
         "hovertemplate": "author=David Demus<br>PC0=%{x}",
         "legendgroup": "author=David Demus",
         "marker": {
          "color": "#EF553B",
          "symbol": "circle"
         },
         "name": "author=David Demus",
         "notched": true,
         "offsetgroup": "author=David Demus",
         "showlegend": false,
         "type": "box",
         "x": [
          0.08852056325694968,
          0.12928670580014892,
          -0.030065627510441385,
          -0.08546983663861339,
          0.08069439977320475,
          0.09298666484448763,
          -0.009879738897472325,
          0.15505171010018012,
          0.09075114567390824,
          0.05186533856841963,
          0.08504010006421665,
          0.03965030080969112,
          0.0959082749670173,
          0.096626681844799,
          0.015929275840100898,
          0.08874097558826051,
          0.1538726342367524,
          0.11675186154035826,
          0.08503736940295427,
          0.08167105767684235,
          0.09984939536869138,
          0.11896158112123172,
          0.21557774430580803,
          0.06801073187241882,
          0.17223429646531943,
          0.11266667248012527,
          0.09338878743053589,
          0.06904308740306007,
          0.13005842173587295,
          0.04069178419167466,
          0.10682179561877386,
          0.15403931588137443,
          0.03074035653618232,
          0.004107341059833379,
          0.09556003701118838,
          0.19045590841798157,
          0.07249637429559354,
          0.18382956251193108,
          0.1411403251590951
         ],
         "xaxis": "x2",
         "yaxis": "y2"
        },
        {
         "hoverlabel": {
          "namelength": 0
         },
         "hovertemplate": "author=David H. Evans<br>PC0=%{x}<br>PC3=%{y}",
         "legendgroup": "author=David H. Evans",
         "marker": {
          "color": "#00cc96",
          "symbol": "circle"
         },
         "mode": "markers",
         "name": "author=David H. Evans",
         "showlegend": true,
         "type": "scatter",
         "x": [
          -0.15217494875012613,
          0.06586097622586551,
          0.14217069874580565,
          0.16967356081985185,
          0.12086265607284323,
          0.1568178095490899,
          0.28138583391007027,
          0.2341078818821612,
          0.1775722596607821,
          0.2697610954409025,
          0.2394956483273887,
          0.28913887601891447,
          0.2367985119053716,
          0.21708930015490752,
          0.2240808799854608,
          0.264022521515816,
          0.20894931261378208,
          0.30998308134958513,
          0.17481665511187036,
          0.28840223287060573,
          0.1993504467202508,
          0.30543159378432916,
          0.24358773390261784,
          0.22624409691845246,
          0.3290271290719629,
          0.2557633223967333,
          0.2906005300356731,
          0.0005637105731150678,
          0.2037001983370899,
          0.2194221993570247,
          0.2231206871911059,
          0.3654695773863264,
          0.35622626404225605,
          0.29940128809803,
          0.31088313671742923,
          0.28202594261531877,
          0.2572774981956293,
          0.16678142705927596,
          0.24529054644588083,
          0.25867679287553896,
          0.21300935165661863,
          0.2429580147916696,
          0.3371972735507404,
          0.16479893794408232,
          0.21902419407493343,
          0.22938347944783494,
          0.3602079764566606,
          0.2856454513413673,
          0.40797605838383283,
          0.28746414776823154,
          0.36385648751788074,
          0.40663435301480216,
          0.08054263702671673
         ],
         "xaxis": "x",
         "y": [
          -0.05719159604008951,
          -0.02941834112633642,
          -0.14268244347861248,
          -0.0226056280236537,
          -0.10418614097859408,
          -0.15373985565124437,
          -0.03460127094817465,
          -0.1417999010853513,
          -0.13395080166937307,
          -0.1950470950841442,
          -0.1751421150660916,
          -0.09791829404724892,
          -0.15597662626677633,
          -0.27539005441490255,
          -0.210418047405727,
          -0.12453149239029575,
          -0.09818838650087446,
          -0.185327905232056,
          -0.17084271521276495,
          -0.22161137610332463,
          -0.22525181800469776,
          -0.27473648660281297,
          -0.20069449624701416,
          -0.1747279150862414,
          -0.15634797937984174,
          -0.16720636312582562,
          -0.15531600280267116,
          -0.09952513581645844,
          -0.2525779753683304,
          -0.07974181028133286,
          -0.2254312552792921,
          -0.21512864511366245,
          -0.2016689354049332,
          -0.1328294105052971,
          -0.24872494447906004,
          -0.28253270781078266,
          -0.2911469676346674,
          -0.30367384854158375,
          -0.12698244035133763,
          -0.28086665420020057,
          -0.12756309762994922,
          -0.20681198636978693,
          -0.09791547767057666,
          -0.19052115130088357,
          -0.28818694036465564,
          -0.22055204877071874,
          -0.24976599901566487,
          -0.3302701447834192,
          -0.3008106091487745,
          -0.22801180615943156,
          -0.2967925015297675,
          -0.2332559573323701,
          -0.022316293435342284
         ],
         "yaxis": "y"
        },
        {
         "alignmentgroup": "True",
         "hoverlabel": {
          "namelength": 0
         },
         "hovertemplate": "author=David H. Evans<br>PC0=%{x}",
         "legendgroup": "author=David H. Evans",
         "marker": {
          "color": "#00cc96",
          "symbol": "circle"
         },
         "name": "author=David H. Evans",
         "notched": true,
         "offsetgroup": "author=David H. Evans",
         "showlegend": false,
         "type": "box",
         "x": [
          -0.15217494875012613,
          0.06586097622586551,
          0.14217069874580565,
          0.16967356081985185,
          0.12086265607284323,
          0.1568178095490899,
          0.28138583391007027,
          0.2341078818821612,
          0.1775722596607821,
          0.2697610954409025,
          0.2394956483273887,
          0.28913887601891447,
          0.2367985119053716,
          0.21708930015490752,
          0.2240808799854608,
          0.264022521515816,
          0.20894931261378208,
          0.30998308134958513,
          0.17481665511187036,
          0.28840223287060573,
          0.1993504467202508,
          0.30543159378432916,
          0.24358773390261784,
          0.22624409691845246,
          0.3290271290719629,
          0.2557633223967333,
          0.2906005300356731,
          0.0005637105731150678,
          0.2037001983370899,
          0.2194221993570247,
          0.2231206871911059,
          0.3654695773863264,
          0.35622626404225605,
          0.29940128809803,
          0.31088313671742923,
          0.28202594261531877,
          0.2572774981956293,
          0.16678142705927596,
          0.24529054644588083,
          0.25867679287553896,
          0.21300935165661863,
          0.2429580147916696,
          0.3371972735507404,
          0.16479893794408232,
          0.21902419407493343,
          0.22938347944783494,
          0.3602079764566606,
          0.2856454513413673,
          0.40797605838383283,
          0.28746414776823154,
          0.36385648751788074,
          0.40663435301480216,
          0.08054263702671673
         ],
         "xaxis": "x2",
         "yaxis": "y2"
        },
        {
         "hoverlabel": {
          "namelength": 0
         },
         "hovertemplate": "author=Jedediah Hotchkiss<br>PC0=%{x}<br>PC3=%{y}",
         "legendgroup": "author=Jedediah Hotchkiss",
         "marker": {
          "color": "#ab63fa",
          "symbol": "circle"
         },
         "mode": "markers",
         "name": "author=Jedediah Hotchkiss",
         "showlegend": true,
         "type": "scatter",
         "x": [
          -0.14794099610103212,
          -0.15080827169364025,
          -0.03513359006104385,
          -0.1207038036496252,
          -0.10547594307869347,
          -0.14565414043009867,
          0.05280747745277102,
          0.08903249905208745,
          0.026911191729739888,
          -0.02999548126210126,
          0.08383875454709049,
          0.08401834263025762,
          -0.09587245642419573,
          0.06792171212591476,
          0.02965875902492697,
          0.034553363937341194,
          0.08684880956440232,
          0.14063380589387517,
          0.07928365604179818,
          -0.078086722083629,
          -0.035488484433400753,
          0.018509381814014177,
          -0.02070385601768947,
          0.03630759166830567,
          -0.06332701568444207,
          -0.05732672905803953,
          0.021178475935894232,
          -0.042468652433431564,
          -0.01145186395508727,
          0.008729609442961495,
          0.057962250421913296,
          -0.07185144428088033,
          -0.00855222227788036,
          0.10493137217107891,
          0.014660532966715246,
          0.011132097781498717,
          0.060411525161118675,
          -0.0026331230399705818,
          -0.03191203282702018,
          -0.09072685894636368,
          -0.10723203331215968,
          -0.0695783813320503,
          -0.1745576216608233,
          -0.034542899624231106,
          -0.11928460408777666,
          -0.09153770052047956,
          0.028221136013003575,
          -0.07490216235326543,
          -0.03450876691969908,
          0.0317843605074239,
          0.02521326345827916,
          -0.02840764483171364,
          0.07771072513850337,
          0.0020150715646367933,
          -0.07453725116984687,
          0.017617807708229193,
          -0.10087366752095059,
          0.035298646633721176,
          0.0012644770127338367,
          0.04645265112109608,
          -0.0526544867250058,
          0.03447850530068109,
          -0.12041012648181423,
          0.10727867975230661,
          0.044534826764860265,
          0.10698503765368175,
          0.0828156080339884,
          0.027825851206059946,
          0.029361336916804034,
          -0.0676289220292715,
          -0.1138155923119064,
          0.032858770785024034,
          -0.15495137755124114,
          0.051146846217205534,
          0.018901434009985705,
          -0.013298679962691377,
          -0.015268378365564167,
          -0.03248923716100159,
          0.031968259513869085,
          -0.010061707881450582,
          0.0020295356539983124,
          0.03360887387590976,
          0.0022896230625115647,
          0.04442416794042964,
          0.00987043881748363,
          0.006545907237056799,
          0.12253464491802767,
          0.08505121776603479,
          0.025465089366603924,
          0.08688049904159052,
          0.13107351352905022,
          0.0643023319554949,
          0.11751850635175641,
          -0.01453328743264019,
          0.07341443622376136,
          0.01034739055438868,
          0.06504917002221249,
          -0.020605608861675846,
          0.005667919676782102,
          0.13211635842934746,
          0.07110225298940646,
          0.05193965168689397,
          0.07127124703130386,
          0.07343570921774806,
          -0.04610469026627792,
          0.02900417193645192,
          0.1050015140210528,
          0.11019798188638988,
          0.08048285603867353,
          -0.10430916109009791,
          0.024876923692749613,
          -0.005905624250212838,
          -0.03667427857824903,
          -0.07279573305598178,
          0.06416968462662351,
          -0.0662063716768809,
          0.017451970835464053,
          0.01828249569451272,
          0.14219130102270938,
          0.0794103052904151,
          0.11050092537525279,
          0.12174667083845207,
          0.08904364625209518,
          -0.054717155179287165,
          -0.08380785833357123,
          0.12315730742226581,
          0.06870102682275048,
          -0.0013361799275730557,
          0.06199840882005572,
          -0.007726621851617626,
          0.16470795042678948,
          -0.14116437595246573,
          -0.03798504884928002,
          0.10786553556999703,
          0.031283270619452345,
          0.08337413139153368,
          0.09104290600206069,
          0.03794384566240214,
          0.07148657261037322,
          0.07795966546323872,
          0.04110896349875571,
          0.07358673580348313,
          0.042598755918869954,
          0.03730216654639185,
          -0.07041071383664596,
          -0.12192420339379857,
          -0.08516875131658382,
          -0.13082634444182145,
          -0.08598791519140182,
          -0.03674686172221322,
          0.001997871916576414,
          -0.05088405468578371,
          -0.05781480634457493,
          -0.026588139087289995,
          0.05825506792824702,
          0.002036012191880376,
          -0.0913663727498055,
          0.008847562664967348,
          -0.005484842909332569,
          0.06277195105778634,
          -0.06761937974571666,
          -0.010222027057854492,
          0.023475137303445887,
          0.05224503555190888,
          0.0013883627946367002,
          -0.07553864766119148,
          -0.018361244763211704,
          0.023151629181411604,
          -0.027577056852452608,
          0.06132935179405944,
          0.02440455833969658,
          -0.07277194203528971,
          0.033034072603373175,
          0.06419050319098768,
          0.05250587757964091,
          0.035112527037366455,
          -0.0012450180836277673,
          -0.028507884138331236,
          0.1630181819960974,
          -0.0040435181161207825,
          0.12417609100353572,
          0.0083071583636089,
          -0.018777780440085587
         ],
         "xaxis": "x",
         "y": [
          -0.0008895236001908323,
          -0.006793455552742892,
          0.0673684153879787,
          0.021116970654694703,
          -0.007144206569635477,
          -0.045496437217499214,
          -0.03568300844722322,
          -0.0431186450870751,
          -0.09194530038306707,
          -0.0782625698415105,
          -0.03413804709345877,
          -0.0530609269591124,
          -0.11623732238109884,
          0.01894051337800783,
          0.01952796146325057,
          -0.02184132116125604,
          0.07366507041938056,
          0.07160396664345356,
          0.01317691445895347,
          -0.07565522574527195,
          -0.1271971560582652,
          -0.07011925713226665,
          -0.08791652729644737,
          -0.019803148930772545,
          -0.08457999069954263,
          -0.17411618609364213,
          -0.08970668732666119,
          -0.13950126890039888,
          -0.039161589143093437,
          -0.14626211239729078,
          0.05381843959717133,
          -0.07593864091093369,
          -0.0022762419429204262,
          0.07746663225149418,
          -0.06352511919266196,
          -0.10181633064899762,
          -0.019762734016599927,
          -0.13685077250271732,
          -0.18832287474270507,
          -0.05054182298809351,
          -0.2061666171622093,
          -0.1493841658514172,
          -0.1269533639851249,
          -0.20258918312944238,
          -0.08045641176776525,
          -0.20114220887252263,
          -0.116389052731361,
          -0.0493891804298906,
          -0.09715882354303905,
          -0.04372188147493896,
          -0.05242984381656499,
          -0.042660586138556916,
          -0.001151888364024826,
          -0.051582400972876426,
          -0.21583690659807342,
          -0.12065162676535482,
          -0.20154217345154088,
          -0.11934518099519356,
          -0.10176735075407664,
          -0.09668021145148281,
          -0.07310164826383876,
          -0.0004956883741081466,
          -0.08840521097456772,
          0.0739539892378579,
          0.020335171866782024,
          -0.019005289685444033,
          0.042066868744789175,
          -0.017712729923376906,
          0.06263128133739823,
          -0.09563388030963627,
          -0.1657922972142283,
          -0.08010379573458946,
          -0.056457001794948246,
          -0.019444455211992083,
          -0.10327032579759073,
          0.030455199883931694,
          -0.016026820596912645,
          -0.22738007748753988,
          -0.012926295712133547,
          -0.08301068764119342,
          -0.05099223874991626,
          0.03334073871734665,
          -0.0957869747921019,
          -0.0004020212831616994,
          0.002470361105815719,
          -0.09963914300458894,
          0.11730069009866582,
          0.05338863035252127,
          -0.05264859315811,
          0.0572383566240829,
          0.051419502143789965,
          0.0015945099723216464,
          -0.026472048814170025,
          -0.021841340688982667,
          0.03812642123378853,
          0.006935504408066541,
          0.025885625503635195,
          -0.05038594971246992,
          0.06707303302038022,
          0.1253036210550164,
          0.032603350214777525,
          0.08233566549554487,
          0.046465238399322026,
          0.04535666031769733,
          -0.16373807076009428,
          -0.03608586978954247,
          -0.05030581644305565,
          0.052674848282292665,
          0.042892152456654654,
          -0.1840136989562896,
          0.05530399481692982,
          0.03921999939729762,
          -0.21814265038643474,
          -0.11052798319788876,
          -0.024113007767369524,
          -0.020572203927357834,
          -0.023826652289853027,
          -0.12209011128740568,
          0.06422056461245881,
          0.06203435188593011,
          0.08143141568522527,
          0.040493637963101375,
          -0.00933367187159566,
          -0.18872149745967284,
          -0.25176043848503915,
          0.0923801824056136,
          0.04096830484197515,
          -0.08683078514381441,
          0.07724181047546548,
          -0.041099527186545706,
          0.07550769884103835,
          -0.18736378022122105,
          -0.19360026686909018,
          0.014655572920116523,
          -0.007661750054842332,
          0.08007091069186342,
          0.09149319739111168,
          -0.017341402903754622,
          -0.04098622031946608,
          0.07464354670791068,
          -0.003662618747808387,
          0.07207860906913312,
          0.01818725651186132,
          -0.011556400180040427,
          -0.18435777632091416,
          -0.17936517109575553,
          -0.19998842875080833,
          -0.19933806466162657,
          -0.24304266765059795,
          -0.12908542114536004,
          -0.06608214789844433,
          -0.041368860240322394,
          -0.10752126519980257,
          -0.15157910822607285,
          0.004253765630462033,
          -0.08656583722655316,
          -0.13055244733569954,
          -0.08465944099945796,
          -0.08410661887932827,
          0.11595509528827805,
          -0.06695119777899636,
          -0.059315178519379175,
          -0.056164307044159416,
          -0.09118931668082318,
          -0.09791782198463855,
          -0.2427191298159621,
          -0.14207623910514122,
          -0.027718035161630898,
          -0.10257184227510609,
          0.001207600877097742,
          -0.06694872752777621,
          -0.20062802879527744,
          0.030745283077286967,
          0.08063750924876674,
          0.09943345882020829,
          -0.052816513807492735,
          0.005640479649745488,
          0.020479306991700284,
          0.12062686783170536,
          -0.01394726845362544,
          0.12171333320894254,
          -0.04035923699154763,
          0.05498114951054306
         ],
         "yaxis": "y"
        },
        {
         "alignmentgroup": "True",
         "hoverlabel": {
          "namelength": 0
         },
         "hovertemplate": "author=Jedediah Hotchkiss<br>PC0=%{x}",
         "legendgroup": "author=Jedediah Hotchkiss",
         "marker": {
          "color": "#ab63fa",
          "symbol": "circle"
         },
         "name": "author=Jedediah Hotchkiss",
         "notched": true,
         "offsetgroup": "author=Jedediah Hotchkiss",
         "showlegend": false,
         "type": "box",
         "x": [
          -0.14794099610103212,
          -0.15080827169364025,
          -0.03513359006104385,
          -0.1207038036496252,
          -0.10547594307869347,
          -0.14565414043009867,
          0.05280747745277102,
          0.08903249905208745,
          0.026911191729739888,
          -0.02999548126210126,
          0.08383875454709049,
          0.08401834263025762,
          -0.09587245642419573,
          0.06792171212591476,
          0.02965875902492697,
          0.034553363937341194,
          0.08684880956440232,
          0.14063380589387517,
          0.07928365604179818,
          -0.078086722083629,
          -0.035488484433400753,
          0.018509381814014177,
          -0.02070385601768947,
          0.03630759166830567,
          -0.06332701568444207,
          -0.05732672905803953,
          0.021178475935894232,
          -0.042468652433431564,
          -0.01145186395508727,
          0.008729609442961495,
          0.057962250421913296,
          -0.07185144428088033,
          -0.00855222227788036,
          0.10493137217107891,
          0.014660532966715246,
          0.011132097781498717,
          0.060411525161118675,
          -0.0026331230399705818,
          -0.03191203282702018,
          -0.09072685894636368,
          -0.10723203331215968,
          -0.0695783813320503,
          -0.1745576216608233,
          -0.034542899624231106,
          -0.11928460408777666,
          -0.09153770052047956,
          0.028221136013003575,
          -0.07490216235326543,
          -0.03450876691969908,
          0.0317843605074239,
          0.02521326345827916,
          -0.02840764483171364,
          0.07771072513850337,
          0.0020150715646367933,
          -0.07453725116984687,
          0.017617807708229193,
          -0.10087366752095059,
          0.035298646633721176,
          0.0012644770127338367,
          0.04645265112109608,
          -0.0526544867250058,
          0.03447850530068109,
          -0.12041012648181423,
          0.10727867975230661,
          0.044534826764860265,
          0.10698503765368175,
          0.0828156080339884,
          0.027825851206059946,
          0.029361336916804034,
          -0.0676289220292715,
          -0.1138155923119064,
          0.032858770785024034,
          -0.15495137755124114,
          0.051146846217205534,
          0.018901434009985705,
          -0.013298679962691377,
          -0.015268378365564167,
          -0.03248923716100159,
          0.031968259513869085,
          -0.010061707881450582,
          0.0020295356539983124,
          0.03360887387590976,
          0.0022896230625115647,
          0.04442416794042964,
          0.00987043881748363,
          0.006545907237056799,
          0.12253464491802767,
          0.08505121776603479,
          0.025465089366603924,
          0.08688049904159052,
          0.13107351352905022,
          0.0643023319554949,
          0.11751850635175641,
          -0.01453328743264019,
          0.07341443622376136,
          0.01034739055438868,
          0.06504917002221249,
          -0.020605608861675846,
          0.005667919676782102,
          0.13211635842934746,
          0.07110225298940646,
          0.05193965168689397,
          0.07127124703130386,
          0.07343570921774806,
          -0.04610469026627792,
          0.02900417193645192,
          0.1050015140210528,
          0.11019798188638988,
          0.08048285603867353,
          -0.10430916109009791,
          0.024876923692749613,
          -0.005905624250212838,
          -0.03667427857824903,
          -0.07279573305598178,
          0.06416968462662351,
          -0.0662063716768809,
          0.017451970835464053,
          0.01828249569451272,
          0.14219130102270938,
          0.0794103052904151,
          0.11050092537525279,
          0.12174667083845207,
          0.08904364625209518,
          -0.054717155179287165,
          -0.08380785833357123,
          0.12315730742226581,
          0.06870102682275048,
          -0.0013361799275730557,
          0.06199840882005572,
          -0.007726621851617626,
          0.16470795042678948,
          -0.14116437595246573,
          -0.03798504884928002,
          0.10786553556999703,
          0.031283270619452345,
          0.08337413139153368,
          0.09104290600206069,
          0.03794384566240214,
          0.07148657261037322,
          0.07795966546323872,
          0.04110896349875571,
          0.07358673580348313,
          0.042598755918869954,
          0.03730216654639185,
          -0.07041071383664596,
          -0.12192420339379857,
          -0.08516875131658382,
          -0.13082634444182145,
          -0.08598791519140182,
          -0.03674686172221322,
          0.001997871916576414,
          -0.05088405468578371,
          -0.05781480634457493,
          -0.026588139087289995,
          0.05825506792824702,
          0.002036012191880376,
          -0.0913663727498055,
          0.008847562664967348,
          -0.005484842909332569,
          0.06277195105778634,
          -0.06761937974571666,
          -0.010222027057854492,
          0.023475137303445887,
          0.05224503555190888,
          0.0013883627946367002,
          -0.07553864766119148,
          -0.018361244763211704,
          0.023151629181411604,
          -0.027577056852452608,
          0.06132935179405944,
          0.02440455833969658,
          -0.07277194203528971,
          0.033034072603373175,
          0.06419050319098768,
          0.05250587757964091,
          0.035112527037366455,
          -0.0012450180836277673,
          -0.028507884138331236,
          0.1630181819960974,
          -0.0040435181161207825,
          0.12417609100353572,
          0.0083071583636089,
          -0.018777780440085587
         ],
         "xaxis": "x2",
         "yaxis": "y2"
        },
        {
         "hoverlabel": {
          "namelength": 0
         },
         "hovertemplate": "author=John Quincy Adams Nadenbousch<br>PC0=%{x}<br>PC3=%{y}",
         "legendgroup": "author=John Quincy Adams Nadenbousch",
         "marker": {
          "color": "#FFA15A",
          "symbol": "circle"
         },
         "mode": "markers",
         "name": "author=John Quincy Adams Nadenbousch",
         "showlegend": true,
         "type": "scatter",
         "x": [
          -0.014834581926660687,
          0.01150662639207195,
          -0.05441374887630983,
          -0.03098849180011604,
          -0.006147567143367025,
          0.05849010010132647,
          -0.09451137733190249,
          0.14597830950672014,
          -0.0238287013716163,
          0.005062422107584267,
          -0.05466630622851759,
          0.013716886850210075,
          0.09391175685593432,
          -0.05752904266927185,
          0.061522133887791215,
          0.017523342809236127,
          0.046826543983512214,
          0.10867805015543107,
          0.0016208230328778519,
          0.12418923652830578,
          -0.0166875208023117,
          0.0044423975919681835,
          0.024085915925463504,
          -0.034323617093136145,
          0.07553986218287788,
          -0.10454478795549939,
          0.00017025273106289828,
          0.045420037758998645,
          0.023294764282725217,
          0.15996052920345286,
          0.12557496009416674,
          0.06981926727194397,
          0.06379451733102921,
          0.03561803125515415,
          0.015243444476708695,
          -0.04904160492552376,
          0.023796038634449544,
          0.05631157317301869,
          -0.031571225887262314,
          0.05819880223016336,
          -0.0876562431302824,
          0.038610757020429494,
          -0.0035818004676663037,
          0.027877009129066658,
          -0.006322490711278062,
          -0.007301106035523972,
          -0.08876783104129914
         ],
         "xaxis": "x",
         "y": [
          0.10625950265774618,
          0.13689880257975112,
          0.06396546037271164,
          0.12803850392365787,
          0.10787717076653423,
          0.15282860093059059,
          -0.03170877650789705,
          0.15825170986641227,
          0.07519298420833506,
          0.08253559427207878,
          0.04158364056537806,
          0.16624271960374698,
          0.1701933069639399,
          0.060622036954954626,
          0.08210160801139407,
          0.10439194163291317,
          0.19688414452737754,
          0.18943915837483585,
          0.05875826771311254,
          0.1673072390626441,
          0.015589311113849598,
          0.051895561690827596,
          0.10723224628196136,
          0.09254793644022972,
          0.16212883808755776,
          0.0029180964564238035,
          0.15086177965598402,
          0.11880110180612602,
          0.11880181466929034,
          0.1790546061943594,
          0.2291670166870362,
          0.11079726675562619,
          0.23528785755004758,
          0.13546543146622786,
          0.08751570942865836,
          0.09780673028087071,
          0.10662914277019984,
          0.14004163196609323,
          0.11251676170910938,
          0.17704364013238139,
          0.03613815321998266,
          0.0093829834435888,
          0.024700058540717884,
          0.0856531080708347,
          0.0901978294477585,
          0.09052579744640503,
          0.07755058135020014
         ],
         "yaxis": "y"
        },
        {
         "alignmentgroup": "True",
         "hoverlabel": {
          "namelength": 0
         },
         "hovertemplate": "author=John Quincy Adams Nadenbousch<br>PC0=%{x}",
         "legendgroup": "author=John Quincy Adams Nadenbousch",
         "marker": {
          "color": "#FFA15A",
          "symbol": "circle"
         },
         "name": "author=John Quincy Adams Nadenbousch",
         "notched": true,
         "offsetgroup": "author=John Quincy Adams Nadenbousch",
         "showlegend": false,
         "type": "box",
         "x": [
          -0.014834581926660687,
          0.01150662639207195,
          -0.05441374887630983,
          -0.03098849180011604,
          -0.006147567143367025,
          0.05849010010132647,
          -0.09451137733190249,
          0.14597830950672014,
          -0.0238287013716163,
          0.005062422107584267,
          -0.05466630622851759,
          0.013716886850210075,
          0.09391175685593432,
          -0.05752904266927185,
          0.061522133887791215,
          0.017523342809236127,
          0.046826543983512214,
          0.10867805015543107,
          0.0016208230328778519,
          0.12418923652830578,
          -0.0166875208023117,
          0.0044423975919681835,
          0.024085915925463504,
          -0.034323617093136145,
          0.07553986218287788,
          -0.10454478795549939,
          0.00017025273106289828,
          0.045420037758998645,
          0.023294764282725217,
          0.15996052920345286,
          0.12557496009416674,
          0.06981926727194397,
          0.06379451733102921,
          0.03561803125515415,
          0.015243444476708695,
          -0.04904160492552376,
          0.023796038634449544,
          0.05631157317301869,
          -0.031571225887262314,
          0.05819880223016336,
          -0.0876562431302824,
          0.038610757020429494,
          -0.0035818004676663037,
          0.027877009129066658,
          -0.006322490711278062,
          -0.007301106035523972,
          -0.08876783104129914
         ],
         "xaxis": "x2",
         "yaxis": "y2"
        },
        {
         "hoverlabel": {
          "namelength": 0
         },
         "hovertemplate": "author=John Scott<br>PC0=%{x}<br>PC3=%{y}",
         "legendgroup": "author=John Scott",
         "marker": {
          "color": "#19d3f3",
          "symbol": "circle"
         },
         "mode": "markers",
         "name": "author=John Scott",
         "showlegend": true,
         "type": "scatter",
         "x": [
          -0.1623743026098337,
          -0.16616149197151067,
          -0.08080367975453656,
          -0.05117854540179437,
          -0.11432555205344593,
          -0.1275047495808836,
          -0.1184935204289813,
          -0.19393333044427588,
          -0.09065427362353622,
          -0.0740538899153113,
          -0.19934203131853684,
          -0.06589590986528651,
          -0.19219215594172231,
          -0.08898607403373335,
          -0.10668297833635787,
          -0.1809999599585938,
          -0.07782814868784521,
          -0.09264931185161798,
          -0.09182795042578239,
          -0.1286663150276189,
          -0.06777643507910437,
          -0.20619014472816027,
          -0.12878687363319782,
          -0.07590808747374733,
          -0.06852644809174088,
          -0.08365306692490218,
          -0.07041245444586675,
          -0.05703933498871332,
          -0.13931449930372472,
          -0.07647875598445936,
          -0.10860230893628396,
          -0.1115587969773729,
          -0.09882386396175337,
          -0.04490025552256335,
          -0.13359457017549883,
          -0.1768752217608629,
          -0.16116527565891806,
          -0.16348679187273038,
          -0.0664311487762579,
          -0.1499405667484264,
          -0.12526142434186968,
          -0.1516454723546851,
          -0.057658502808915345,
          -0.13896046206974266,
          -0.12902633826007465,
          -0.09840858765491228,
          -0.0740295181973631,
          -0.08216020609993246,
          -0.19418338417476363,
          -0.18415527402810508,
          -0.10014119855728153,
          -0.08258348828591254,
          -0.1252469624153938,
          -0.11717388022508236,
          -0.18144415162553007,
          -0.09779133756342827,
          -0.15706248343506682,
          -0.18897818477927775,
          -0.1805816448331003,
          -0.16249437306344985,
          -0.17100682600282907,
          -0.18324245166578587,
          -0.10688875463379419,
          -0.18401764290400036,
          -0.125031177900538,
          -0.14786238107933516,
          -0.1125604150199865,
          -0.09351684857882836,
          -0.02376846340032919,
          -0.21094071350830843,
          -0.1337259570680134
         ],
         "xaxis": "x",
         "y": [
          0.16201476832120545,
          0.059297460459798994,
          0.11667658257803422,
          0.17420618236161264,
          0.13195661083036947,
          -0.042063172507415446,
          0.07396564217502194,
          -0.02281320695505151,
          0.11118484059103642,
          0.24036160014853122,
          -0.04986492179809461,
          0.15672436148921934,
          -0.053906432642837426,
          0.09028607399846873,
          0.10654822071872287,
          0.08311060295163292,
          0.2526066935191713,
          0.15279569112422114,
          0.10335228224024014,
          -0.004876641813131271,
          0.2028130928939891,
          -0.06057509988698716,
          0.12235401020101423,
          0.21989170630010813,
          0.18204812529859254,
          0.18844353403720615,
          0.2180199760413596,
          0.1592185360225576,
          0.08827759046846358,
          0.26998396473559,
          0.0798859687040119,
          0.10289649031821935,
          0.23129884473313364,
          0.2988122838837527,
          0.12257192658149536,
          0.06031493104659266,
          -0.029436088630269353,
          -0.00833440322480707,
          0.24078601400332184,
          0.06521992647791826,
          0.1077096247437089,
          0.09074629149293437,
          0.12903294705058796,
          0.03063032348274114,
          0.12850420457239967,
          0.19868883783073216,
          0.15738485606885017,
          0.2665066199196978,
          -0.028177909552323147,
          -0.03907229379595278,
          0.1578898523346666,
          0.12439188786410069,
          0.10399630950949891,
          0.2290012553079004,
          -0.019334471903988158,
          0.0762864511407279,
          0.017393091990010125,
          -0.06171925336448502,
          -0.07475441309650416,
          0.16737758885509485,
          0.11036712327559661,
          -0.04822442070136894,
          0.1343757382719134,
          0.04207070918438555,
          0.11838928138958835,
          -0.015041653460611117,
          0.15032117601825343,
          0.02643626917755851,
          0.26476275384060505,
          -0.06139346465224466,
          0.10392281237453406
         ],
         "yaxis": "y"
        },
        {
         "alignmentgroup": "True",
         "hoverlabel": {
          "namelength": 0
         },
         "hovertemplate": "author=John Scott<br>PC0=%{x}",
         "legendgroup": "author=John Scott",
         "marker": {
          "color": "#19d3f3",
          "symbol": "circle"
         },
         "name": "author=John Scott",
         "notched": true,
         "offsetgroup": "author=John Scott",
         "showlegend": false,
         "type": "box",
         "x": [
          -0.1623743026098337,
          -0.16616149197151067,
          -0.08080367975453656,
          -0.05117854540179437,
          -0.11432555205344593,
          -0.1275047495808836,
          -0.1184935204289813,
          -0.19393333044427588,
          -0.09065427362353622,
          -0.0740538899153113,
          -0.19934203131853684,
          -0.06589590986528651,
          -0.19219215594172231,
          -0.08898607403373335,
          -0.10668297833635787,
          -0.1809999599585938,
          -0.07782814868784521,
          -0.09264931185161798,
          -0.09182795042578239,
          -0.1286663150276189,
          -0.06777643507910437,
          -0.20619014472816027,
          -0.12878687363319782,
          -0.07590808747374733,
          -0.06852644809174088,
          -0.08365306692490218,
          -0.07041245444586675,
          -0.05703933498871332,
          -0.13931449930372472,
          -0.07647875598445936,
          -0.10860230893628396,
          -0.1115587969773729,
          -0.09882386396175337,
          -0.04490025552256335,
          -0.13359457017549883,
          -0.1768752217608629,
          -0.16116527565891806,
          -0.16348679187273038,
          -0.0664311487762579,
          -0.1499405667484264,
          -0.12526142434186968,
          -0.1516454723546851,
          -0.057658502808915345,
          -0.13896046206974266,
          -0.12902633826007465,
          -0.09840858765491228,
          -0.0740295181973631,
          -0.08216020609993246,
          -0.19418338417476363,
          -0.18415527402810508,
          -0.10014119855728153,
          -0.08258348828591254,
          -0.1252469624153938,
          -0.11717388022508236,
          -0.18144415162553007,
          -0.09779133756342827,
          -0.15706248343506682,
          -0.18897818477927775,
          -0.1805816448331003,
          -0.16249437306344985,
          -0.17100682600282907,
          -0.18324245166578587,
          -0.10688875463379419,
          -0.18401764290400036,
          -0.125031177900538,
          -0.14786238107933516,
          -0.1125604150199865,
          -0.09351684857882836,
          -0.02376846340032919,
          -0.21094071350830843,
          -0.1337259570680134
         ],
         "xaxis": "x2",
         "yaxis": "y2"
        },
        {
         "hoverlabel": {
          "namelength": 0
         },
         "hovertemplate": "author=Mary Anna Sibert<br>PC0=%{x}<br>PC3=%{y}",
         "legendgroup": "author=Mary Anna Sibert",
         "marker": {
          "color": "#FF6692",
          "symbol": "circle"
         },
         "mode": "markers",
         "name": "author=Mary Anna Sibert",
         "showlegend": true,
         "type": "scatter",
         "x": [
          -0.12049794813625828,
          -0.10761039251578992,
          -0.05853797179444475,
          0.35550699905014044,
          0.04435134453377722,
          0.23193576402165098,
          0.21335524156565103,
          0.34752318390906417,
          0.4158547357071276,
          0.11948178257011512,
          0.342405717370068,
          0.40970517012963775,
          0.3657189165767848,
          0.3610078127490661,
          0.3482002356648987,
          0.2599489500462101,
          0.37260745581845556,
          0.35531031700524623,
          0.3477254070913819,
          0.3584899639559421,
          0.36835954676455857,
          0.4168438732445783,
          0.3649767194656356,
          0.3281948665711093,
          0.3535038359321677,
          0.36095583921303165,
          0.3327736355937517,
          0.2590435804817929,
          0.38111932110589625,
          0.296960935755516,
          0.3544400597024496,
          0.3258167857525578,
          0.3005102085194188,
          0.3961522981172102,
          0.3432444738205707,
          0.40209811786597527,
          0.39365221137122136,
          0.3181415999426192,
          0.35261072757743284,
          0.4095220969273387,
          0.1903995548782692,
          0.2494559313034964,
          0.40657741956745463
         ],
         "xaxis": "x",
         "y": [
          -0.061324983862782484,
          -0.03672952536726695,
          -0.05273113968234119,
          -0.07516099898918795,
          -0.03788562759569412,
          0.08296827619965355,
          -0.08169430586228225,
          -0.13290373297689975,
          -0.12847146433974455,
          -0.03732133372973501,
          -0.07599719816808442,
          -0.1467069202082194,
          -0.14284500233195432,
          -0.09072311876238372,
          -0.022180185651245184,
          -0.1575673380392169,
          -0.16033190154412943,
          -0.24286229094504463,
          -0.11648511459892816,
          -0.17099794443940994,
          -0.13579891019500226,
          -0.24229191639140332,
          -0.2989757801716782,
          -0.1372109859333408,
          -0.09391303864418392,
          -0.21350548350131987,
          -0.2047154714643587,
          -0.2393473303722197,
          -0.2500282389890139,
          -0.1896106325269969,
          -0.11303545820272928,
          -0.26828115623172666,
          -0.22125832819207605,
          -0.21106128842141592,
          -0.21654322410961885,
          -0.27957043132759407,
          -0.10717343464344524,
          -0.1072228218602256,
          -0.1385256520009235,
          -0.13812159580388345,
          -0.04281758618112767,
          -0.12770788136441744,
          -0.06974166110046288
         ],
         "yaxis": "y"
        },
        {
         "alignmentgroup": "True",
         "hoverlabel": {
          "namelength": 0
         },
         "hovertemplate": "author=Mary Anna Sibert<br>PC0=%{x}",
         "legendgroup": "author=Mary Anna Sibert",
         "marker": {
          "color": "#FF6692",
          "symbol": "circle"
         },
         "name": "author=Mary Anna Sibert",
         "notched": true,
         "offsetgroup": "author=Mary Anna Sibert",
         "showlegend": false,
         "type": "box",
         "x": [
          -0.12049794813625828,
          -0.10761039251578992,
          -0.05853797179444475,
          0.35550699905014044,
          0.04435134453377722,
          0.23193576402165098,
          0.21335524156565103,
          0.34752318390906417,
          0.4158547357071276,
          0.11948178257011512,
          0.342405717370068,
          0.40970517012963775,
          0.3657189165767848,
          0.3610078127490661,
          0.3482002356648987,
          0.2599489500462101,
          0.37260745581845556,
          0.35531031700524623,
          0.3477254070913819,
          0.3584899639559421,
          0.36835954676455857,
          0.4168438732445783,
          0.3649767194656356,
          0.3281948665711093,
          0.3535038359321677,
          0.36095583921303165,
          0.3327736355937517,
          0.2590435804817929,
          0.38111932110589625,
          0.296960935755516,
          0.3544400597024496,
          0.3258167857525578,
          0.3005102085194188,
          0.3961522981172102,
          0.3432444738205707,
          0.40209811786597527,
          0.39365221137122136,
          0.3181415999426192,
          0.35261072757743284,
          0.4095220969273387,
          0.1903995548782692,
          0.2494559313034964,
          0.40657741956745463
         ],
         "xaxis": "x2",
         "yaxis": "y2"
        },
        {
         "hoverlabel": {
          "namelength": 0
         },
         "hovertemplate": "author=Samuel M. Potter<br>PC0=%{x}<br>PC3=%{y}",
         "legendgroup": "author=Samuel M. Potter",
         "marker": {
          "color": "#B6E880",
          "symbol": "circle"
         },
         "mode": "markers",
         "name": "author=Samuel M. Potter",
         "showlegend": true,
         "type": "scatter",
         "x": [
          0.07032694376917639,
          0.09015763448038727,
          0.05541453267843684,
          0.09394566324128005,
          0.0008833061009586364,
          0.08220939014328409,
          0.07305731038683536,
          0.06637938607218213,
          0.07192795940894105,
          0.15221451820809762,
          0.021392697146703585,
          0.16044775413338647,
          0.09981389000395328,
          0.11400767454090162,
          0.21206885596431382,
          0.08588957285321452,
          0.06641971939296462,
          0.15855681464271806,
          0.06448760577110094,
          0.13117443983183033,
          0.13899682341894823,
          -0.006477037453567225,
          0.09412756412362164,
          0.1285837303445508,
          0.07358315854918074,
          0.1362434862964333,
          -0.044451498422611466,
          0.002403201176547716,
          0.06061943339426466
         ],
         "xaxis": "x",
         "y": [
          -0.010855958275105906,
          0.014538427949131745,
          0.0532119283178235,
          0.05037535326610399,
          0.025332517863670096,
          0.10728152559002088,
          0.021051045239756337,
          -0.01174449022637246,
          0.08953255807774428,
          0.12162086763027405,
          -0.03545245041590262,
          0.06357344532676294,
          0.05029520052436372,
          0.08740987920796744,
          0.09879192030619917,
          0.06800485897050065,
          0.059750882795946,
          0.1061045584677836,
          0.04105298889661427,
          0.05343699112160553,
          0.10445356181727082,
          0.020179416249051466,
          0.051833006086475786,
          0.04988580739109237,
          -0.024557657189293376,
          0.09955137552673952,
          -0.1286106024928073,
          -0.02519605129289021,
          -0.0565301058944491
         ],
         "yaxis": "y"
        },
        {
         "alignmentgroup": "True",
         "hoverlabel": {
          "namelength": 0
         },
         "hovertemplate": "author=Samuel M. Potter<br>PC0=%{x}",
         "legendgroup": "author=Samuel M. Potter",
         "marker": {
          "color": "#B6E880",
          "symbol": "circle"
         },
         "name": "author=Samuel M. Potter",
         "notched": true,
         "offsetgroup": "author=Samuel M. Potter",
         "showlegend": false,
         "type": "box",
         "x": [
          0.07032694376917639,
          0.09015763448038727,
          0.05541453267843684,
          0.09394566324128005,
          0.0008833061009586364,
          0.08220939014328409,
          0.07305731038683536,
          0.06637938607218213,
          0.07192795940894105,
          0.15221451820809762,
          0.021392697146703585,
          0.16044775413338647,
          0.09981389000395328,
          0.11400767454090162,
          0.21206885596431382,
          0.08588957285321452,
          0.06641971939296462,
          0.15855681464271806,
          0.06448760577110094,
          0.13117443983183033,
          0.13899682341894823,
          -0.006477037453567225,
          0.09412756412362164,
          0.1285837303445508,
          0.07358315854918074,
          0.1362434862964333,
          -0.044451498422611466,
          0.002403201176547716,
          0.06061943339426466
         ],
         "xaxis": "x2",
         "yaxis": "y2"
        }
       ],
       "layout": {
        "autosize": true,
        "legend": {
         "tracegroupgap": 0
        },
        "margin": {
         "t": 60
        },
        "template": {
         "data": {
          "bar": [
           {
            "error_x": {
             "color": "#2a3f5f"
            },
            "error_y": {
             "color": "#2a3f5f"
            },
            "marker": {
             "line": {
              "color": "#E5ECF6",
              "width": 0.5
             }
            },
            "type": "bar"
           }
          ],
          "barpolar": [
           {
            "marker": {
             "line": {
              "color": "#E5ECF6",
              "width": 0.5
             }
            },
            "type": "barpolar"
           }
          ],
          "carpet": [
           {
            "aaxis": {
             "endlinecolor": "#2a3f5f",
             "gridcolor": "white",
             "linecolor": "white",
             "minorgridcolor": "white",
             "startlinecolor": "#2a3f5f"
            },
            "baxis": {
             "endlinecolor": "#2a3f5f",
             "gridcolor": "white",
             "linecolor": "white",
             "minorgridcolor": "white",
             "startlinecolor": "#2a3f5f"
            },
            "type": "carpet"
           }
          ],
          "choropleth": [
           {
            "colorbar": {
             "outlinewidth": 0,
             "ticks": ""
            },
            "type": "choropleth"
           }
          ],
          "contour": [
           {
            "colorbar": {
             "outlinewidth": 0,
             "ticks": ""
            },
            "colorscale": [
             [
              0,
              "#0d0887"
             ],
             [
              0.1111111111111111,
              "#46039f"
             ],
             [
              0.2222222222222222,
              "#7201a8"
             ],
             [
              0.3333333333333333,
              "#9c179e"
             ],
             [
              0.4444444444444444,
              "#bd3786"
             ],
             [
              0.5555555555555556,
              "#d8576b"
             ],
             [
              0.6666666666666666,
              "#ed7953"
             ],
             [
              0.7777777777777778,
              "#fb9f3a"
             ],
             [
              0.8888888888888888,
              "#fdca26"
             ],
             [
              1,
              "#f0f921"
             ]
            ],
            "type": "contour"
           }
          ],
          "contourcarpet": [
           {
            "colorbar": {
             "outlinewidth": 0,
             "ticks": ""
            },
            "type": "contourcarpet"
           }
          ],
          "heatmap": [
           {
            "colorbar": {
             "outlinewidth": 0,
             "ticks": ""
            },
            "colorscale": [
             [
              0,
              "#0d0887"
             ],
             [
              0.1111111111111111,
              "#46039f"
             ],
             [
              0.2222222222222222,
              "#7201a8"
             ],
             [
              0.3333333333333333,
              "#9c179e"
             ],
             [
              0.4444444444444444,
              "#bd3786"
             ],
             [
              0.5555555555555556,
              "#d8576b"
             ],
             [
              0.6666666666666666,
              "#ed7953"
             ],
             [
              0.7777777777777778,
              "#fb9f3a"
             ],
             [
              0.8888888888888888,
              "#fdca26"
             ],
             [
              1,
              "#f0f921"
             ]
            ],
            "type": "heatmap"
           }
          ],
          "heatmapgl": [
           {
            "colorbar": {
             "outlinewidth": 0,
             "ticks": ""
            },
            "colorscale": [
             [
              0,
              "#0d0887"
             ],
             [
              0.1111111111111111,
              "#46039f"
             ],
             [
              0.2222222222222222,
              "#7201a8"
             ],
             [
              0.3333333333333333,
              "#9c179e"
             ],
             [
              0.4444444444444444,
              "#bd3786"
             ],
             [
              0.5555555555555556,
              "#d8576b"
             ],
             [
              0.6666666666666666,
              "#ed7953"
             ],
             [
              0.7777777777777778,
              "#fb9f3a"
             ],
             [
              0.8888888888888888,
              "#fdca26"
             ],
             [
              1,
              "#f0f921"
             ]
            ],
            "type": "heatmapgl"
           }
          ],
          "histogram": [
           {
            "marker": {
             "colorbar": {
              "outlinewidth": 0,
              "ticks": ""
             }
            },
            "type": "histogram"
           }
          ],
          "histogram2d": [
           {
            "colorbar": {
             "outlinewidth": 0,
             "ticks": ""
            },
            "colorscale": [
             [
              0,
              "#0d0887"
             ],
             [
              0.1111111111111111,
              "#46039f"
             ],
             [
              0.2222222222222222,
              "#7201a8"
             ],
             [
              0.3333333333333333,
              "#9c179e"
             ],
             [
              0.4444444444444444,
              "#bd3786"
             ],
             [
              0.5555555555555556,
              "#d8576b"
             ],
             [
              0.6666666666666666,
              "#ed7953"
             ],
             [
              0.7777777777777778,
              "#fb9f3a"
             ],
             [
              0.8888888888888888,
              "#fdca26"
             ],
             [
              1,
              "#f0f921"
             ]
            ],
            "type": "histogram2d"
           }
          ],
          "histogram2dcontour": [
           {
            "colorbar": {
             "outlinewidth": 0,
             "ticks": ""
            },
            "colorscale": [
             [
              0,
              "#0d0887"
             ],
             [
              0.1111111111111111,
              "#46039f"
             ],
             [
              0.2222222222222222,
              "#7201a8"
             ],
             [
              0.3333333333333333,
              "#9c179e"
             ],
             [
              0.4444444444444444,
              "#bd3786"
             ],
             [
              0.5555555555555556,
              "#d8576b"
             ],
             [
              0.6666666666666666,
              "#ed7953"
             ],
             [
              0.7777777777777778,
              "#fb9f3a"
             ],
             [
              0.8888888888888888,
              "#fdca26"
             ],
             [
              1,
              "#f0f921"
             ]
            ],
            "type": "histogram2dcontour"
           }
          ],
          "mesh3d": [
           {
            "colorbar": {
             "outlinewidth": 0,
             "ticks": ""
            },
            "type": "mesh3d"
           }
          ],
          "parcoords": [
           {
            "line": {
             "colorbar": {
              "outlinewidth": 0,
              "ticks": ""
             }
            },
            "type": "parcoords"
           }
          ],
          "pie": [
           {
            "automargin": true,
            "type": "pie"
           }
          ],
          "scatter": [
           {
            "marker": {
             "colorbar": {
              "outlinewidth": 0,
              "ticks": ""
             }
            },
            "type": "scatter"
           }
          ],
          "scatter3d": [
           {
            "line": {
             "colorbar": {
              "outlinewidth": 0,
              "ticks": ""
             }
            },
            "marker": {
             "colorbar": {
              "outlinewidth": 0,
              "ticks": ""
             }
            },
            "type": "scatter3d"
           }
          ],
          "scattercarpet": [
           {
            "marker": {
             "colorbar": {
              "outlinewidth": 0,
              "ticks": ""
             }
            },
            "type": "scattercarpet"
           }
          ],
          "scattergeo": [
           {
            "marker": {
             "colorbar": {
              "outlinewidth": 0,
              "ticks": ""
             }
            },
            "type": "scattergeo"
           }
          ],
          "scattergl": [
           {
            "marker": {
             "colorbar": {
              "outlinewidth": 0,
              "ticks": ""
             }
            },
            "type": "scattergl"
           }
          ],
          "scattermapbox": [
           {
            "marker": {
             "colorbar": {
              "outlinewidth": 0,
              "ticks": ""
             }
            },
            "type": "scattermapbox"
           }
          ],
          "scatterpolar": [
           {
            "marker": {
             "colorbar": {
              "outlinewidth": 0,
              "ticks": ""
             }
            },
            "type": "scatterpolar"
           }
          ],
          "scatterpolargl": [
           {
            "marker": {
             "colorbar": {
              "outlinewidth": 0,
              "ticks": ""
             }
            },
            "type": "scatterpolargl"
           }
          ],
          "scatterternary": [
           {
            "marker": {
             "colorbar": {
              "outlinewidth": 0,
              "ticks": ""
             }
            },
            "type": "scatterternary"
           }
          ],
          "surface": [
           {
            "colorbar": {
             "outlinewidth": 0,
             "ticks": ""
            },
            "colorscale": [
             [
              0,
              "#0d0887"
             ],
             [
              0.1111111111111111,
              "#46039f"
             ],
             [
              0.2222222222222222,
              "#7201a8"
             ],
             [
              0.3333333333333333,
              "#9c179e"
             ],
             [
              0.4444444444444444,
              "#bd3786"
             ],
             [
              0.5555555555555556,
              "#d8576b"
             ],
             [
              0.6666666666666666,
              "#ed7953"
             ],
             [
              0.7777777777777778,
              "#fb9f3a"
             ],
             [
              0.8888888888888888,
              "#fdca26"
             ],
             [
              1,
              "#f0f921"
             ]
            ],
            "type": "surface"
           }
          ],
          "table": [
           {
            "cells": {
             "fill": {
              "color": "#EBF0F8"
             },
             "line": {
              "color": "white"
             }
            },
            "header": {
             "fill": {
              "color": "#C8D4E3"
             },
             "line": {
              "color": "white"
             }
            },
            "type": "table"
           }
          ]
         },
         "layout": {
          "annotationdefaults": {
           "arrowcolor": "#2a3f5f",
           "arrowhead": 0,
           "arrowwidth": 1
          },
          "coloraxis": {
           "colorbar": {
            "outlinewidth": 0,
            "ticks": ""
           }
          },
          "colorscale": {
           "diverging": [
            [
             0,
             "#8e0152"
            ],
            [
             0.1,
             "#c51b7d"
            ],
            [
             0.2,
             "#de77ae"
            ],
            [
             0.3,
             "#f1b6da"
            ],
            [
             0.4,
             "#fde0ef"
            ],
            [
             0.5,
             "#f7f7f7"
            ],
            [
             0.6,
             "#e6f5d0"
            ],
            [
             0.7,
             "#b8e186"
            ],
            [
             0.8,
             "#7fbc41"
            ],
            [
             0.9,
             "#4d9221"
            ],
            [
             1,
             "#276419"
            ]
           ],
           "sequential": [
            [
             0,
             "#0d0887"
            ],
            [
             0.1111111111111111,
             "#46039f"
            ],
            [
             0.2222222222222222,
             "#7201a8"
            ],
            [
             0.3333333333333333,
             "#9c179e"
            ],
            [
             0.4444444444444444,
             "#bd3786"
            ],
            [
             0.5555555555555556,
             "#d8576b"
            ],
            [
             0.6666666666666666,
             "#ed7953"
            ],
            [
             0.7777777777777778,
             "#fb9f3a"
            ],
            [
             0.8888888888888888,
             "#fdca26"
            ],
            [
             1,
             "#f0f921"
            ]
           ],
           "sequentialminus": [
            [
             0,
             "#0d0887"
            ],
            [
             0.1111111111111111,
             "#46039f"
            ],
            [
             0.2222222222222222,
             "#7201a8"
            ],
            [
             0.3333333333333333,
             "#9c179e"
            ],
            [
             0.4444444444444444,
             "#bd3786"
            ],
            [
             0.5555555555555556,
             "#d8576b"
            ],
            [
             0.6666666666666666,
             "#ed7953"
            ],
            [
             0.7777777777777778,
             "#fb9f3a"
            ],
            [
             0.8888888888888888,
             "#fdca26"
            ],
            [
             1,
             "#f0f921"
            ]
           ]
          },
          "colorway": [
           "#636efa",
           "#EF553B",
           "#00cc96",
           "#ab63fa",
           "#FFA15A",
           "#19d3f3",
           "#FF6692",
           "#B6E880",
           "#FF97FF",
           "#FECB52"
          ],
          "font": {
           "color": "#2a3f5f"
          },
          "geo": {
           "bgcolor": "white",
           "lakecolor": "white",
           "landcolor": "#E5ECF6",
           "showlakes": true,
           "showland": true,
           "subunitcolor": "white"
          },
          "hoverlabel": {
           "align": "left"
          },
          "hovermode": "closest",
          "mapbox": {
           "style": "light"
          },
          "paper_bgcolor": "white",
          "plot_bgcolor": "#E5ECF6",
          "polar": {
           "angularaxis": {
            "gridcolor": "white",
            "linecolor": "white",
            "ticks": ""
           },
           "bgcolor": "#E5ECF6",
           "radialaxis": {
            "gridcolor": "white",
            "linecolor": "white",
            "ticks": ""
           }
          },
          "scene": {
           "xaxis": {
            "backgroundcolor": "#E5ECF6",
            "gridcolor": "white",
            "gridwidth": 2,
            "linecolor": "white",
            "showbackground": true,
            "ticks": "",
            "zerolinecolor": "white"
           },
           "yaxis": {
            "backgroundcolor": "#E5ECF6",
            "gridcolor": "white",
            "gridwidth": 2,
            "linecolor": "white",
            "showbackground": true,
            "ticks": "",
            "zerolinecolor": "white"
           },
           "zaxis": {
            "backgroundcolor": "#E5ECF6",
            "gridcolor": "white",
            "gridwidth": 2,
            "linecolor": "white",
            "showbackground": true,
            "ticks": "",
            "zerolinecolor": "white"
           }
          },
          "shapedefaults": {
           "line": {
            "color": "#2a3f5f"
           }
          },
          "ternary": {
           "aaxis": {
            "gridcolor": "white",
            "linecolor": "white",
            "ticks": ""
           },
           "baxis": {
            "gridcolor": "white",
            "linecolor": "white",
            "ticks": ""
           },
           "bgcolor": "#E5ECF6",
           "caxis": {
            "gridcolor": "white",
            "linecolor": "white",
            "ticks": ""
           }
          },
          "title": {
           "x": 0.05
          },
          "xaxis": {
           "automargin": true,
           "gridcolor": "white",
           "linecolor": "white",
           "ticks": "",
           "title": {
            "standoff": 15
           },
           "zerolinecolor": "white",
           "zerolinewidth": 2
          },
          "yaxis": {
           "automargin": true,
           "gridcolor": "white",
           "linecolor": "white",
           "ticks": "",
           "title": {
            "standoff": 15
           },
           "zerolinecolor": "white",
           "zerolinewidth": 2
          }
         }
        },
        "xaxis": {
         "anchor": "y",
         "autorange": true,
         "domain": [
          0,
          1
         ],
         "range": [
          -0.2510956194810011,
          0.456998779217271
         ],
         "title": {
          "text": "PC0"
         },
         "type": "linear"
        },
        "xaxis2": {
         "anchor": "y2",
         "autorange": true,
         "domain": [
          0,
          1
         ],
         "matches": "x",
         "range": [
          -0.2510956194810011,
          0.456998779217271
         ],
         "showgrid": true,
         "showticklabels": false,
         "type": "linear"
        },
        "yaxis": {
         "anchor": "x",
         "autorange": true,
         "domain": [
          0,
          0.7326
         ],
         "range": [
          -0.3740805907998616,
          0.3426227299001951
         ],
         "title": {
          "text": "PC3"
         },
         "type": "linear"
        },
        "yaxis2": {
         "anchor": "x2",
         "autorange": true,
         "domain": [
          0.7426,
          1
         ],
         "matches": "y2",
         "range": [
          -0.5,
          7.5
         ],
         "showgrid": false,
         "showline": false,
         "showticklabels": false,
         "ticks": "",
         "type": "category"
        }
       }
      },
      "image/png": "[encoded data removed]",
      "text/html": [
       "<div>\n",
       "        \n",
       "        \n",
       "            <div id=\"8e4343fe-0a88-4f3c-a2f1-45ed65e09d39\" class=\"plotly-graph-div\" style=\"height:600px; width:100%;\"></div>\n",
       "            <script type=\"text/javascript\">\n",
       "                require([\"plotly\"], function(Plotly) {\n",
       "                    window.PLOTLYENV=window.PLOTLYENV || {};\n",
       "                    \n",
       "                if (document.getElementById(\"8e4343fe-0a88-4f3c-a2f1-45ed65e09d39\")) {\n",
       "                    Plotly.newPlot(\n",
       "                        '8e4343fe-0a88-4f3c-a2f1-45ed65e09d39',\n",
       "                        [{\"hoverlabel\": {\"namelength\": 0}, \"hovertemplate\": \"author=Alexander K. McClure<br>PC0=%{x}<br>PC3=%{y}\", \"legendgroup\": \"author=Alexander K. McClure\", \"marker\": {\"color\": \"#636efa\", \"symbol\": \"circle\"}, \"mode\": \"markers\", \"name\": \"author=Alexander K. McClure\", \"showlegend\": true, \"type\": \"scatter\", \"x\": [-0.12022856838808774, -0.1315141978097858, -0.13827354361333966, -0.13499271654050912, -0.12382719269477717, -0.14591838018294911, -0.09727605495749943, -0.12293070273844403, -0.14608496985216438, -0.15186151555847066, -0.1550741093110274, -0.1874315469943231, -0.12658109377913795, -0.12389349575383111, -0.10181036914289755, -0.09737878545779434, -0.13896384213619545, -0.13052305722902816, -0.15233864483365647, -0.12589485906554065, -0.04603534572460868, -0.07806146589366746, -0.06589425947869561, -0.0927839038269944, -0.05901576337523176, -0.0892060769476256, -0.10314996693717449, -0.15741359458938667, -0.09014623820774575, -0.1407818911316782, -0.15991616230336342, -0.1637337121659128, -0.1336820979106068, -0.10327509870577542, -0.16928355012200824, -0.15401839856002913, -0.19155084061363428, -0.1742081717851159, -0.16452512555026477, -0.1504456556788381, -0.12834325262097765, -0.07755545603563475, -0.13244846609617728], \"xaxis\": \"x\", \"y\": [0.009379520417190968, 0.03600800135710343, 0.03083512670222386, -0.011437568902883858, -0.0023663905051094845, -0.014093850015879266, 0.034866701758968555, 0.01099679206133723, -0.015376670603795644, 0.005281054064971208, -0.04190699011176058, -0.06050291588049529, -0.018640050991801896, 0.02087051958319168, 0.017138133665426818, 0.004248465012627129, 0.007502125908101623, -0.04788780022915437, -0.05725682473705897, 0.020170493697512566, 0.039534354638807986, 0.048521891368025344, 0.05037314380441739, 0.03216655442699447, 0.007093075616586409, 0.050038903120256925, 0.052715117352890875, -0.022482028905887182, 0.0102877495157137, -0.050519077732770964, -0.05005304594333952, -0.0018026985265730067, 0.014659459424411422, -0.01666223545159699, -0.04642356517418651, -0.018276656483985024, -0.01711905265201606, -0.05320257180209176, -0.08613023934336524, -0.030341495396586655, 0.016294440623047208, 0.042724379544815935, -0.01323136156108123], \"yaxis\": \"y\"}, {\"alignmentgroup\": \"True\", \"hoverlabel\": {\"namelength\": 0}, \"hovertemplate\": \"author=Alexander K. McClure<br>PC0=%{x}\", \"legendgroup\": \"author=Alexander K. McClure\", \"marker\": {\"color\": \"#636efa\", \"symbol\": \"circle\"}, \"name\": \"author=Alexander K. McClure\", \"notched\": true, \"offsetgroup\": \"author=Alexander K. McClure\", \"showlegend\": false, \"type\": \"box\", \"x\": [-0.12022856838808774, -0.1315141978097858, -0.13827354361333966, -0.13499271654050912, -0.12382719269477717, -0.14591838018294911, -0.09727605495749943, -0.12293070273844403, -0.14608496985216438, -0.15186151555847066, -0.1550741093110274, -0.1874315469943231, -0.12658109377913795, -0.12389349575383111, -0.10181036914289755, -0.09737878545779434, -0.13896384213619545, -0.13052305722902816, -0.15233864483365647, -0.12589485906554065, -0.04603534572460868, -0.07806146589366746, -0.06589425947869561, -0.0927839038269944, -0.05901576337523176, -0.0892060769476256, -0.10314996693717449, -0.15741359458938667, -0.09014623820774575, -0.1407818911316782, -0.15991616230336342, -0.1637337121659128, -0.1336820979106068, -0.10327509870577542, -0.16928355012200824, -0.15401839856002913, -0.19155084061363428, -0.1742081717851159, -0.16452512555026477, -0.1504456556788381, -0.12834325262097765, -0.07755545603563475, -0.13244846609617728], \"xaxis\": \"x2\", \"yaxis\": \"y2\"}, {\"hoverlabel\": {\"namelength\": 0}, \"hovertemplate\": \"author=David Demus<br>PC0=%{x}<br>PC3=%{y}\", \"legendgroup\": \"author=David Demus\", \"marker\": {\"color\": \"#EF553B\", \"symbol\": \"circle\"}, \"mode\": \"markers\", \"name\": \"author=David Demus\", \"showlegend\": true, \"type\": \"scatter\", \"x\": [0.08852056325694968, 0.12928670580014892, -0.030065627510441385, -0.08546983663861339, 0.08069439977320475, 0.09298666484448763, -0.009879738897472325, 0.15505171010018012, 0.09075114567390824, 0.05186533856841963, 0.08504010006421665, 0.03965030080969112, 0.0959082749670173, 0.096626681844799, 0.015929275840100898, 0.08874097558826051, 0.1538726342367524, 0.11675186154035826, 0.08503736940295427, 0.08167105767684235, 0.09984939536869138, 0.11896158112123172, 0.21557774430580803, 0.06801073187241882, 0.17223429646531943, 0.11266667248012527, 0.09338878743053589, 0.06904308740306007, 0.13005842173587295, 0.04069178419167466, 0.10682179561877386, 0.15403931588137443, 0.03074035653618232, 0.004107341059833379, 0.09556003701118838, 0.19045590841798157, 0.07249637429559354, 0.18382956251193108, 0.1411403251590951], \"xaxis\": \"x\", \"y\": [-0.028958089761676197, -0.014153357182628754, -0.027559958104562916, -0.044261553999880826, 0.013257766292592184, -0.011162034217786512, -0.0023736213502733587, 0.03600171369093788, 0.00280513573464262, 0.07827809617135342, 0.0043663209320546, -0.0734356975627212, -0.01175749576361645, -0.004521926753294698, -0.02771302707362291, -0.007465500259446235, 0.008211243284701415, -0.014950173089157552, -0.018740932689234227, -0.059490438162090105, -0.003983970403551271, -0.0060864841300293, 0.0035808847109729124, -0.10281251256203248, 0.05258655246845236, -0.0013380507765135352, 0.006684326647311101, -0.0010611680063659233, -0.015594810191811734, -0.0025686195040295636, 0.005147640686244002, 0.004345762347197981, 0.023056015442535105, -0.01788762236506683, -0.004069958438706361, 0.014625502724502073, 0.023262499047457048, 0.013493100179034226, 0.013015874238221722], \"yaxis\": \"y\"}, {\"alignmentgroup\": \"True\", \"hoverlabel\": {\"namelength\": 0}, \"hovertemplate\": \"author=David Demus<br>PC0=%{x}\", \"legendgroup\": \"author=David Demus\", \"marker\": {\"color\": \"#EF553B\", \"symbol\": \"circle\"}, \"name\": \"author=David Demus\", \"notched\": true, \"offsetgroup\": \"author=David Demus\", \"showlegend\": false, \"type\": \"box\", \"x\": [0.08852056325694968, 0.12928670580014892, -0.030065627510441385, -0.08546983663861339, 0.08069439977320475, 0.09298666484448763, -0.009879738897472325, 0.15505171010018012, 0.09075114567390824, 0.05186533856841963, 0.08504010006421665, 0.03965030080969112, 0.0959082749670173, 0.096626681844799, 0.015929275840100898, 0.08874097558826051, 0.1538726342367524, 0.11675186154035826, 0.08503736940295427, 0.08167105767684235, 0.09984939536869138, 0.11896158112123172, 0.21557774430580803, 0.06801073187241882, 0.17223429646531943, 0.11266667248012527, 0.09338878743053589, 0.06904308740306007, 0.13005842173587295, 0.04069178419167466, 0.10682179561877386, 0.15403931588137443, 0.03074035653618232, 0.004107341059833379, 0.09556003701118838, 0.19045590841798157, 0.07249637429559354, 0.18382956251193108, 0.1411403251590951], \"xaxis\": \"x2\", \"yaxis\": \"y2\"}, {\"hoverlabel\": {\"namelength\": 0}, \"hovertemplate\": \"author=David H. Evans<br>PC0=%{x}<br>PC3=%{y}\", \"legendgroup\": \"author=David H. Evans\", \"marker\": {\"color\": \"#00cc96\", \"symbol\": \"circle\"}, \"mode\": \"markers\", \"name\": \"author=David H. Evans\", \"showlegend\": true, \"type\": \"scatter\", \"x\": [-0.15217494875012613, 0.06586097622586551, 0.14217069874580565, 0.16967356081985185, 0.12086265607284323, 0.1568178095490899, 0.28138583391007027, 0.2341078818821612, 0.1775722596607821, 0.2697610954409025, 0.2394956483273887, 0.28913887601891447, 0.2367985119053716, 0.21708930015490752, 0.2240808799854608, 0.264022521515816, 0.20894931261378208, 0.30998308134958513, 0.17481665511187036, 0.28840223287060573, 0.1993504467202508, 0.30543159378432916, 0.24358773390261784, 0.22624409691845246, 0.3290271290719629, 0.2557633223967333, 0.2906005300356731, 0.0005637105731150678, 0.2037001983370899, 0.2194221993570247, 0.2231206871911059, 0.3654695773863264, 0.35622626404225605, 0.29940128809803, 0.31088313671742923, 0.28202594261531877, 0.2572774981956293, 0.16678142705927596, 0.24529054644588083, 0.25867679287553896, 0.21300935165661863, 0.2429580147916696, 0.3371972735507404, 0.16479893794408232, 0.21902419407493343, 0.22938347944783494, 0.3602079764566606, 0.2856454513413673, 0.40797605838383283, 0.28746414776823154, 0.36385648751788074, 0.40663435301480216, 0.08054263702671673], \"xaxis\": \"x\", \"y\": [-0.05719159604008951, -0.02941834112633642, -0.14268244347861248, -0.0226056280236537, -0.10418614097859408, -0.15373985565124437, -0.03460127094817465, -0.1417999010853513, -0.13395080166937307, -0.1950470950841442, -0.1751421150660916, -0.09791829404724892, -0.15597662626677633, -0.27539005441490255, -0.210418047405727, -0.12453149239029575, -0.09818838650087446, -0.185327905232056, -0.17084271521276495, -0.22161137610332463, -0.22525181800469776, -0.27473648660281297, -0.20069449624701416, -0.1747279150862414, -0.15634797937984174, -0.16720636312582562, -0.15531600280267116, -0.09952513581645844, -0.2525779753683304, -0.07974181028133286, -0.2254312552792921, -0.21512864511366245, -0.2016689354049332, -0.1328294105052971, -0.24872494447906004, -0.28253270781078266, -0.2911469676346674, -0.30367384854158375, -0.12698244035133763, -0.28086665420020057, -0.12756309762994922, -0.20681198636978693, -0.09791547767057666, -0.19052115130088357, -0.28818694036465564, -0.22055204877071874, -0.24976599901566487, -0.3302701447834192, -0.3008106091487745, -0.22801180615943156, -0.2967925015297675, -0.2332559573323701, -0.022316293435342284], \"yaxis\": \"y\"}, {\"alignmentgroup\": \"True\", \"hoverlabel\": {\"namelength\": 0}, \"hovertemplate\": \"author=David H. Evans<br>PC0=%{x}\", \"legendgroup\": \"author=David H. Evans\", \"marker\": {\"color\": \"#00cc96\", \"symbol\": \"circle\"}, \"name\": \"author=David H. Evans\", \"notched\": true, \"offsetgroup\": \"author=David H. Evans\", \"showlegend\": false, \"type\": \"box\", \"x\": [-0.15217494875012613, 0.06586097622586551, 0.14217069874580565, 0.16967356081985185, 0.12086265607284323, 0.1568178095490899, 0.28138583391007027, 0.2341078818821612, 0.1775722596607821, 0.2697610954409025, 0.2394956483273887, 0.28913887601891447, 0.2367985119053716, 0.21708930015490752, 0.2240808799854608, 0.264022521515816, 0.20894931261378208, 0.30998308134958513, 0.17481665511187036, 0.28840223287060573, 0.1993504467202508, 0.30543159378432916, 0.24358773390261784, 0.22624409691845246, 0.3290271290719629, 0.2557633223967333, 0.2906005300356731, 0.0005637105731150678, 0.2037001983370899, 0.2194221993570247, 0.2231206871911059, 0.3654695773863264, 0.35622626404225605, 0.29940128809803, 0.31088313671742923, 0.28202594261531877, 0.2572774981956293, 0.16678142705927596, 0.24529054644588083, 0.25867679287553896, 0.21300935165661863, 0.2429580147916696, 0.3371972735507404, 0.16479893794408232, 0.21902419407493343, 0.22938347944783494, 0.3602079764566606, 0.2856454513413673, 0.40797605838383283, 0.28746414776823154, 0.36385648751788074, 0.40663435301480216, 0.08054263702671673], \"xaxis\": \"x2\", \"yaxis\": \"y2\"}, {\"hoverlabel\": {\"namelength\": 0}, \"hovertemplate\": \"author=Jedediah Hotchkiss<br>PC0=%{x}<br>PC3=%{y}\", \"legendgroup\": \"author=Jedediah Hotchkiss\", \"marker\": {\"color\": \"#ab63fa\", \"symbol\": \"circle\"}, \"mode\": \"markers\", \"name\": \"author=Jedediah Hotchkiss\", \"showlegend\": true, \"type\": \"scatter\", \"x\": [-0.14794099610103212, -0.15080827169364025, -0.03513359006104385, -0.1207038036496252, -0.10547594307869347, -0.14565414043009867, 0.05280747745277102, 0.08903249905208745, 0.026911191729739888, -0.02999548126210126, 0.08383875454709049, 0.08401834263025762, -0.09587245642419573, 0.06792171212591476, 0.02965875902492697, 0.034553363937341194, 0.08684880956440232, 0.14063380589387517, 0.07928365604179818, -0.078086722083629, -0.035488484433400753, 0.018509381814014177, -0.02070385601768947, 0.03630759166830567, -0.06332701568444207, -0.05732672905803953, 0.021178475935894232, -0.042468652433431564, -0.01145186395508727, 0.008729609442961495, 0.057962250421913296, -0.07185144428088033, -0.00855222227788036, 0.10493137217107891, 0.014660532966715246, 0.011132097781498717, 0.060411525161118675, -0.0026331230399705818, -0.03191203282702018, -0.09072685894636368, -0.10723203331215968, -0.0695783813320503, -0.1745576216608233, -0.034542899624231106, -0.11928460408777666, -0.09153770052047956, 0.028221136013003575, -0.07490216235326543, -0.03450876691969908, 0.0317843605074239, 0.02521326345827916, -0.02840764483171364, 0.07771072513850337, 0.0020150715646367933, -0.07453725116984687, 0.017617807708229193, -0.10087366752095059, 0.035298646633721176, 0.0012644770127338367, 0.04645265112109608, -0.0526544867250058, 0.03447850530068109, -0.12041012648181423, 0.10727867975230661, 0.044534826764860265, 0.10698503765368175, 0.0828156080339884, 0.027825851206059946, 0.029361336916804034, -0.0676289220292715, -0.1138155923119064, 0.032858770785024034, -0.15495137755124114, 0.051146846217205534, 0.018901434009985705, -0.013298679962691377, -0.015268378365564167, -0.03248923716100159, 0.031968259513869085, -0.010061707881450582, 0.0020295356539983124, 0.03360887387590976, 0.0022896230625115647, 0.04442416794042964, 0.00987043881748363, 0.006545907237056799, 0.12253464491802767, 0.08505121776603479, 0.025465089366603924, 0.08688049904159052, 0.13107351352905022, 0.0643023319554949, 0.11751850635175641, -0.01453328743264019, 0.07341443622376136, 0.01034739055438868, 0.06504917002221249, -0.020605608861675846, 0.005667919676782102, 0.13211635842934746, 0.07110225298940646, 0.05193965168689397, 0.07127124703130386, 0.07343570921774806, -0.04610469026627792, 0.02900417193645192, 0.1050015140210528, 0.11019798188638988, 0.08048285603867353, -0.10430916109009791, 0.024876923692749613, -0.005905624250212838, -0.03667427857824903, -0.07279573305598178, 0.06416968462662351, -0.0662063716768809, 0.017451970835464053, 0.01828249569451272, 0.14219130102270938, 0.0794103052904151, 0.11050092537525279, 0.12174667083845207, 0.08904364625209518, -0.054717155179287165, -0.08380785833357123, 0.12315730742226581, 0.06870102682275048, -0.0013361799275730557, 0.06199840882005572, -0.007726621851617626, 0.16470795042678948, -0.14116437595246573, -0.03798504884928002, 0.10786553556999703, 0.031283270619452345, 0.08337413139153368, 0.09104290600206069, 0.03794384566240214, 0.07148657261037322, 0.07795966546323872, 0.04110896349875571, 0.07358673580348313, 0.042598755918869954, 0.03730216654639185, -0.07041071383664596, -0.12192420339379857, -0.08516875131658382, -0.13082634444182145, -0.08598791519140182, -0.03674686172221322, 0.001997871916576414, -0.05088405468578371, -0.05781480634457493, -0.026588139087289995, 0.05825506792824702, 0.002036012191880376, -0.0913663727498055, 0.008847562664967348, -0.005484842909332569, 0.06277195105778634, -0.06761937974571666, -0.010222027057854492, 0.023475137303445887, 0.05224503555190888, 0.0013883627946367002, -0.07553864766119148, -0.018361244763211704, 0.023151629181411604, -0.027577056852452608, 0.06132935179405944, 0.02440455833969658, -0.07277194203528971, 0.033034072603373175, 0.06419050319098768, 0.05250587757964091, 0.035112527037366455, -0.0012450180836277673, -0.028507884138331236, 0.1630181819960974, -0.0040435181161207825, 0.12417609100353572, 0.0083071583636089, -0.018777780440085587], \"xaxis\": \"x\", \"y\": [-0.0008895236001908323, -0.006793455552742892, 0.0673684153879787, 0.021116970654694703, -0.007144206569635477, -0.045496437217499214, -0.03568300844722322, -0.0431186450870751, -0.09194530038306707, -0.0782625698415105, -0.03413804709345877, -0.0530609269591124, -0.11623732238109884, 0.01894051337800783, 0.01952796146325057, -0.02184132116125604, 0.07366507041938056, 0.07160396664345356, 0.01317691445895347, -0.07565522574527195, -0.1271971560582652, -0.07011925713226665, -0.08791652729644737, -0.019803148930772545, -0.08457999069954263, -0.17411618609364213, -0.08970668732666119, -0.13950126890039888, -0.039161589143093437, -0.14626211239729078, 0.05381843959717133, -0.07593864091093369, -0.0022762419429204262, 0.07746663225149418, -0.06352511919266196, -0.10181633064899762, -0.019762734016599927, -0.13685077250271732, -0.18832287474270507, -0.05054182298809351, -0.2061666171622093, -0.1493841658514172, -0.1269533639851249, -0.20258918312944238, -0.08045641176776525, -0.20114220887252263, -0.116389052731361, -0.0493891804298906, -0.09715882354303905, -0.04372188147493896, -0.05242984381656499, -0.042660586138556916, -0.001151888364024826, -0.051582400972876426, -0.21583690659807342, -0.12065162676535482, -0.20154217345154088, -0.11934518099519356, -0.10176735075407664, -0.09668021145148281, -0.07310164826383876, -0.0004956883741081466, -0.08840521097456772, 0.0739539892378579, 0.020335171866782024, -0.019005289685444033, 0.042066868744789175, -0.017712729923376906, 0.06263128133739823, -0.09563388030963627, -0.1657922972142283, -0.08010379573458946, -0.056457001794948246, -0.019444455211992083, -0.10327032579759073, 0.030455199883931694, -0.016026820596912645, -0.22738007748753988, -0.012926295712133547, -0.08301068764119342, -0.05099223874991626, 0.03334073871734665, -0.0957869747921019, -0.0004020212831616994, 0.002470361105815719, -0.09963914300458894, 0.11730069009866582, 0.05338863035252127, -0.05264859315811, 0.0572383566240829, 0.051419502143789965, 0.0015945099723216464, -0.026472048814170025, -0.021841340688982667, 0.03812642123378853, 0.006935504408066541, 0.025885625503635195, -0.05038594971246992, 0.06707303302038022, 0.1253036210550164, 0.032603350214777525, 0.08233566549554487, 0.046465238399322026, 0.04535666031769733, -0.16373807076009428, -0.03608586978954247, -0.05030581644305565, 0.052674848282292665, 0.042892152456654654, -0.1840136989562896, 0.05530399481692982, 0.03921999939729762, -0.21814265038643474, -0.11052798319788876, -0.024113007767369524, -0.020572203927357834, -0.023826652289853027, -0.12209011128740568, 0.06422056461245881, 0.06203435188593011, 0.08143141568522527, 0.040493637963101375, -0.00933367187159566, -0.18872149745967284, -0.25176043848503915, 0.0923801824056136, 0.04096830484197515, -0.08683078514381441, 0.07724181047546548, -0.041099527186545706, 0.07550769884103835, -0.18736378022122105, -0.19360026686909018, 0.014655572920116523, -0.007661750054842332, 0.08007091069186342, 0.09149319739111168, -0.017341402903754622, -0.04098622031946608, 0.07464354670791068, -0.003662618747808387, 0.07207860906913312, 0.01818725651186132, -0.011556400180040427, -0.18435777632091416, -0.17936517109575553, -0.19998842875080833, -0.19933806466162657, -0.24304266765059795, -0.12908542114536004, -0.06608214789844433, -0.041368860240322394, -0.10752126519980257, -0.15157910822607285, 0.004253765630462033, -0.08656583722655316, -0.13055244733569954, -0.08465944099945796, -0.08410661887932827, 0.11595509528827805, -0.06695119777899636, -0.059315178519379175, -0.056164307044159416, -0.09118931668082318, -0.09791782198463855, -0.2427191298159621, -0.14207623910514122, -0.027718035161630898, -0.10257184227510609, 0.001207600877097742, -0.06694872752777621, -0.20062802879527744, 0.030745283077286967, 0.08063750924876674, 0.09943345882020829, -0.052816513807492735, 0.005640479649745488, 0.020479306991700284, 0.12062686783170536, -0.01394726845362544, 0.12171333320894254, -0.04035923699154763, 0.05498114951054306], \"yaxis\": \"y\"}, {\"alignmentgroup\": \"True\", \"hoverlabel\": {\"namelength\": 0}, \"hovertemplate\": \"author=Jedediah Hotchkiss<br>PC0=%{x}\", \"legendgroup\": \"author=Jedediah Hotchkiss\", \"marker\": {\"color\": \"#ab63fa\", \"symbol\": \"circle\"}, \"name\": \"author=Jedediah Hotchkiss\", \"notched\": true, \"offsetgroup\": \"author=Jedediah Hotchkiss\", \"showlegend\": false, \"type\": \"box\", \"x\": [-0.14794099610103212, -0.15080827169364025, -0.03513359006104385, -0.1207038036496252, -0.10547594307869347, -0.14565414043009867, 0.05280747745277102, 0.08903249905208745, 0.026911191729739888, -0.02999548126210126, 0.08383875454709049, 0.08401834263025762, -0.09587245642419573, 0.06792171212591476, 0.02965875902492697, 0.034553363937341194, 0.08684880956440232, 0.14063380589387517, 0.07928365604179818, -0.078086722083629, -0.035488484433400753, 0.018509381814014177, -0.02070385601768947, 0.03630759166830567, -0.06332701568444207, -0.05732672905803953, 0.021178475935894232, -0.042468652433431564, -0.01145186395508727, 0.008729609442961495, 0.057962250421913296, -0.07185144428088033, -0.00855222227788036, 0.10493137217107891, 0.014660532966715246, 0.011132097781498717, 0.060411525161118675, -0.0026331230399705818, -0.03191203282702018, -0.09072685894636368, -0.10723203331215968, -0.0695783813320503, -0.1745576216608233, -0.034542899624231106, -0.11928460408777666, -0.09153770052047956, 0.028221136013003575, -0.07490216235326543, -0.03450876691969908, 0.0317843605074239, 0.02521326345827916, -0.02840764483171364, 0.07771072513850337, 0.0020150715646367933, -0.07453725116984687, 0.017617807708229193, -0.10087366752095059, 0.035298646633721176, 0.0012644770127338367, 0.04645265112109608, -0.0526544867250058, 0.03447850530068109, -0.12041012648181423, 0.10727867975230661, 0.044534826764860265, 0.10698503765368175, 0.0828156080339884, 0.027825851206059946, 0.029361336916804034, -0.0676289220292715, -0.1138155923119064, 0.032858770785024034, -0.15495137755124114, 0.051146846217205534, 0.018901434009985705, -0.013298679962691377, -0.015268378365564167, -0.03248923716100159, 0.031968259513869085, -0.010061707881450582, 0.0020295356539983124, 0.03360887387590976, 0.0022896230625115647, 0.04442416794042964, 0.00987043881748363, 0.006545907237056799, 0.12253464491802767, 0.08505121776603479, 0.025465089366603924, 0.08688049904159052, 0.13107351352905022, 0.0643023319554949, 0.11751850635175641, -0.01453328743264019, 0.07341443622376136, 0.01034739055438868, 0.06504917002221249, -0.020605608861675846, 0.005667919676782102, 0.13211635842934746, 0.07110225298940646, 0.05193965168689397, 0.07127124703130386, 0.07343570921774806, -0.04610469026627792, 0.02900417193645192, 0.1050015140210528, 0.11019798188638988, 0.08048285603867353, -0.10430916109009791, 0.024876923692749613, -0.005905624250212838, -0.03667427857824903, -0.07279573305598178, 0.06416968462662351, -0.0662063716768809, 0.017451970835464053, 0.01828249569451272, 0.14219130102270938, 0.0794103052904151, 0.11050092537525279, 0.12174667083845207, 0.08904364625209518, -0.054717155179287165, -0.08380785833357123, 0.12315730742226581, 0.06870102682275048, -0.0013361799275730557, 0.06199840882005572, -0.007726621851617626, 0.16470795042678948, -0.14116437595246573, -0.03798504884928002, 0.10786553556999703, 0.031283270619452345, 0.08337413139153368, 0.09104290600206069, 0.03794384566240214, 0.07148657261037322, 0.07795966546323872, 0.04110896349875571, 0.07358673580348313, 0.042598755918869954, 0.03730216654639185, -0.07041071383664596, -0.12192420339379857, -0.08516875131658382, -0.13082634444182145, -0.08598791519140182, -0.03674686172221322, 0.001997871916576414, -0.05088405468578371, -0.05781480634457493, -0.026588139087289995, 0.05825506792824702, 0.002036012191880376, -0.0913663727498055, 0.008847562664967348, -0.005484842909332569, 0.06277195105778634, -0.06761937974571666, -0.010222027057854492, 0.023475137303445887, 0.05224503555190888, 0.0013883627946367002, -0.07553864766119148, -0.018361244763211704, 0.023151629181411604, -0.027577056852452608, 0.06132935179405944, 0.02440455833969658, -0.07277194203528971, 0.033034072603373175, 0.06419050319098768, 0.05250587757964091, 0.035112527037366455, -0.0012450180836277673, -0.028507884138331236, 0.1630181819960974, -0.0040435181161207825, 0.12417609100353572, 0.0083071583636089, -0.018777780440085587], \"xaxis\": \"x2\", \"yaxis\": \"y2\"}, {\"hoverlabel\": {\"namelength\": 0}, \"hovertemplate\": \"author=John Quincy Adams Nadenbousch<br>PC0=%{x}<br>PC3=%{y}\", \"legendgroup\": \"author=John Quincy Adams Nadenbousch\", \"marker\": {\"color\": \"#FFA15A\", \"symbol\": \"circle\"}, \"mode\": \"markers\", \"name\": \"author=John Quincy Adams Nadenbousch\", \"showlegend\": true, \"type\": \"scatter\", \"x\": [-0.014834581926660687, 0.01150662639207195, -0.05441374887630983, -0.03098849180011604, -0.006147567143367025, 0.05849010010132647, -0.09451137733190249, 0.14597830950672014, -0.0238287013716163, 0.005062422107584267, -0.05466630622851759, 0.013716886850210075, 0.09391175685593432, -0.05752904266927185, 0.061522133887791215, 0.017523342809236127, 0.046826543983512214, 0.10867805015543107, 0.0016208230328778519, 0.12418923652830578, -0.0166875208023117, 0.0044423975919681835, 0.024085915925463504, -0.034323617093136145, 0.07553986218287788, -0.10454478795549939, 0.00017025273106289828, 0.045420037758998645, 0.023294764282725217, 0.15996052920345286, 0.12557496009416674, 0.06981926727194397, 0.06379451733102921, 0.03561803125515415, 0.015243444476708695, -0.04904160492552376, 0.023796038634449544, 0.05631157317301869, -0.031571225887262314, 0.05819880223016336, -0.0876562431302824, 0.038610757020429494, -0.0035818004676663037, 0.027877009129066658, -0.006322490711278062, -0.007301106035523972, -0.08876783104129914], \"xaxis\": \"x\", \"y\": [0.10625950265774618, 0.13689880257975112, 0.06396546037271164, 0.12803850392365787, 0.10787717076653423, 0.15282860093059059, -0.03170877650789705, 0.15825170986641227, 0.07519298420833506, 0.08253559427207878, 0.04158364056537806, 0.16624271960374698, 0.1701933069639399, 0.060622036954954626, 0.08210160801139407, 0.10439194163291317, 0.19688414452737754, 0.18943915837483585, 0.05875826771311254, 0.1673072390626441, 0.015589311113849598, 0.051895561690827596, 0.10723224628196136, 0.09254793644022972, 0.16212883808755776, 0.0029180964564238035, 0.15086177965598402, 0.11880110180612602, 0.11880181466929034, 0.1790546061943594, 0.2291670166870362, 0.11079726675562619, 0.23528785755004758, 0.13546543146622786, 0.08751570942865836, 0.09780673028087071, 0.10662914277019984, 0.14004163196609323, 0.11251676170910938, 0.17704364013238139, 0.03613815321998266, 0.0093829834435888, 0.024700058540717884, 0.0856531080708347, 0.0901978294477585, 0.09052579744640503, 0.07755058135020014], \"yaxis\": \"y\"}, {\"alignmentgroup\": \"True\", \"hoverlabel\": {\"namelength\": 0}, \"hovertemplate\": \"author=John Quincy Adams Nadenbousch<br>PC0=%{x}\", \"legendgroup\": \"author=John Quincy Adams Nadenbousch\", \"marker\": {\"color\": \"#FFA15A\", \"symbol\": \"circle\"}, \"name\": \"author=John Quincy Adams Nadenbousch\", \"notched\": true, \"offsetgroup\": \"author=John Quincy Adams Nadenbousch\", \"showlegend\": false, \"type\": \"box\", \"x\": [-0.014834581926660687, 0.01150662639207195, -0.05441374887630983, -0.03098849180011604, -0.006147567143367025, 0.05849010010132647, -0.09451137733190249, 0.14597830950672014, -0.0238287013716163, 0.005062422107584267, -0.05466630622851759, 0.013716886850210075, 0.09391175685593432, -0.05752904266927185, 0.061522133887791215, 0.017523342809236127, 0.046826543983512214, 0.10867805015543107, 0.0016208230328778519, 0.12418923652830578, -0.0166875208023117, 0.0044423975919681835, 0.024085915925463504, -0.034323617093136145, 0.07553986218287788, -0.10454478795549939, 0.00017025273106289828, 0.045420037758998645, 0.023294764282725217, 0.15996052920345286, 0.12557496009416674, 0.06981926727194397, 0.06379451733102921, 0.03561803125515415, 0.015243444476708695, -0.04904160492552376, 0.023796038634449544, 0.05631157317301869, -0.031571225887262314, 0.05819880223016336, -0.0876562431302824, 0.038610757020429494, -0.0035818004676663037, 0.027877009129066658, -0.006322490711278062, -0.007301106035523972, -0.08876783104129914], \"xaxis\": \"x2\", \"yaxis\": \"y2\"}, {\"hoverlabel\": {\"namelength\": 0}, \"hovertemplate\": \"author=John Scott<br>PC0=%{x}<br>PC3=%{y}\", \"legendgroup\": \"author=John Scott\", \"marker\": {\"color\": \"#19d3f3\", \"symbol\": \"circle\"}, \"mode\": \"markers\", \"name\": \"author=John Scott\", \"showlegend\": true, \"type\": \"scatter\", \"x\": [-0.1623743026098337, -0.16616149197151067, -0.08080367975453656, -0.05117854540179437, -0.11432555205344593, -0.1275047495808836, -0.1184935204289813, -0.19393333044427588, -0.09065427362353622, -0.0740538899153113, -0.19934203131853684, -0.06589590986528651, -0.19219215594172231, -0.08898607403373335, -0.10668297833635787, -0.1809999599585938, -0.07782814868784521, -0.09264931185161798, -0.09182795042578239, -0.1286663150276189, -0.06777643507910437, -0.20619014472816027, -0.12878687363319782, -0.07590808747374733, -0.06852644809174088, -0.08365306692490218, -0.07041245444586675, -0.05703933498871332, -0.13931449930372472, -0.07647875598445936, -0.10860230893628396, -0.1115587969773729, -0.09882386396175337, -0.04490025552256335, -0.13359457017549883, -0.1768752217608629, -0.16116527565891806, -0.16348679187273038, -0.0664311487762579, -0.1499405667484264, -0.12526142434186968, -0.1516454723546851, -0.057658502808915345, -0.13896046206974266, -0.12902633826007465, -0.09840858765491228, -0.0740295181973631, -0.08216020609993246, -0.19418338417476363, -0.18415527402810508, -0.10014119855728153, -0.08258348828591254, -0.1252469624153938, -0.11717388022508236, -0.18144415162553007, -0.09779133756342827, -0.15706248343506682, -0.18897818477927775, -0.1805816448331003, -0.16249437306344985, -0.17100682600282907, -0.18324245166578587, -0.10688875463379419, -0.18401764290400036, -0.125031177900538, -0.14786238107933516, -0.1125604150199865, -0.09351684857882836, -0.02376846340032919, -0.21094071350830843, -0.1337259570680134], \"xaxis\": \"x\", \"y\": [0.16201476832120545, 0.059297460459798994, 0.11667658257803422, 0.17420618236161264, 0.13195661083036947, -0.042063172507415446, 0.07396564217502194, -0.02281320695505151, 0.11118484059103642, 0.24036160014853122, -0.04986492179809461, 0.15672436148921934, -0.053906432642837426, 0.09028607399846873, 0.10654822071872287, 0.08311060295163292, 0.2526066935191713, 0.15279569112422114, 0.10335228224024014, -0.004876641813131271, 0.2028130928939891, -0.06057509988698716, 0.12235401020101423, 0.21989170630010813, 0.18204812529859254, 0.18844353403720615, 0.2180199760413596, 0.1592185360225576, 0.08827759046846358, 0.26998396473559, 0.0798859687040119, 0.10289649031821935, 0.23129884473313364, 0.2988122838837527, 0.12257192658149536, 0.06031493104659266, -0.029436088630269353, -0.00833440322480707, 0.24078601400332184, 0.06521992647791826, 0.1077096247437089, 0.09074629149293437, 0.12903294705058796, 0.03063032348274114, 0.12850420457239967, 0.19868883783073216, 0.15738485606885017, 0.2665066199196978, -0.028177909552323147, -0.03907229379595278, 0.1578898523346666, 0.12439188786410069, 0.10399630950949891, 0.2290012553079004, -0.019334471903988158, 0.0762864511407279, 0.017393091990010125, -0.06171925336448502, -0.07475441309650416, 0.16737758885509485, 0.11036712327559661, -0.04822442070136894, 0.1343757382719134, 0.04207070918438555, 0.11838928138958835, -0.015041653460611117, 0.15032117601825343, 0.02643626917755851, 0.26476275384060505, -0.06139346465224466, 0.10392281237453406], \"yaxis\": \"y\"}, {\"alignmentgroup\": \"True\", \"hoverlabel\": {\"namelength\": 0}, \"hovertemplate\": \"author=John Scott<br>PC0=%{x}\", \"legendgroup\": \"author=John Scott\", \"marker\": {\"color\": \"#19d3f3\", \"symbol\": \"circle\"}, \"name\": \"author=John Scott\", \"notched\": true, \"offsetgroup\": \"author=John Scott\", \"showlegend\": false, \"type\": \"box\", \"x\": [-0.1623743026098337, -0.16616149197151067, -0.08080367975453656, -0.05117854540179437, -0.11432555205344593, -0.1275047495808836, -0.1184935204289813, -0.19393333044427588, -0.09065427362353622, -0.0740538899153113, -0.19934203131853684, -0.06589590986528651, -0.19219215594172231, -0.08898607403373335, -0.10668297833635787, -0.1809999599585938, -0.07782814868784521, -0.09264931185161798, -0.09182795042578239, -0.1286663150276189, -0.06777643507910437, -0.20619014472816027, -0.12878687363319782, -0.07590808747374733, -0.06852644809174088, -0.08365306692490218, -0.07041245444586675, -0.05703933498871332, -0.13931449930372472, -0.07647875598445936, -0.10860230893628396, -0.1115587969773729, -0.09882386396175337, -0.04490025552256335, -0.13359457017549883, -0.1768752217608629, -0.16116527565891806, -0.16348679187273038, -0.0664311487762579, -0.1499405667484264, -0.12526142434186968, -0.1516454723546851, -0.057658502808915345, -0.13896046206974266, -0.12902633826007465, -0.09840858765491228, -0.0740295181973631, -0.08216020609993246, -0.19418338417476363, -0.18415527402810508, -0.10014119855728153, -0.08258348828591254, -0.1252469624153938, -0.11717388022508236, -0.18144415162553007, -0.09779133756342827, -0.15706248343506682, -0.18897818477927775, -0.1805816448331003, -0.16249437306344985, -0.17100682600282907, -0.18324245166578587, -0.10688875463379419, -0.18401764290400036, -0.125031177900538, -0.14786238107933516, -0.1125604150199865, -0.09351684857882836, -0.02376846340032919, -0.21094071350830843, -0.1337259570680134], \"xaxis\": \"x2\", \"yaxis\": \"y2\"}, {\"hoverlabel\": {\"namelength\": 0}, \"hovertemplate\": \"author=Mary Anna Sibert<br>PC0=%{x}<br>PC3=%{y}\", \"legendgroup\": \"author=Mary Anna Sibert\", \"marker\": {\"color\": \"#FF6692\", \"symbol\": \"circle\"}, \"mode\": \"markers\", \"name\": \"author=Mary Anna Sibert\", \"showlegend\": true, \"type\": \"scatter\", \"x\": [-0.12049794813625828, -0.10761039251578992, -0.05853797179444475, 0.35550699905014044, 0.04435134453377722, 0.23193576402165098, 0.21335524156565103, 0.34752318390906417, 0.4158547357071276, 0.11948178257011512, 0.342405717370068, 0.40970517012963775, 0.3657189165767848, 0.3610078127490661, 0.3482002356648987, 0.2599489500462101, 0.37260745581845556, 0.35531031700524623, 0.3477254070913819, 0.3584899639559421, 0.36835954676455857, 0.4168438732445783, 0.3649767194656356, 0.3281948665711093, 0.3535038359321677, 0.36095583921303165, 0.3327736355937517, 0.2590435804817929, 0.38111932110589625, 0.296960935755516, 0.3544400597024496, 0.3258167857525578, 0.3005102085194188, 0.3961522981172102, 0.3432444738205707, 0.40209811786597527, 0.39365221137122136, 0.3181415999426192, 0.35261072757743284, 0.4095220969273387, 0.1903995548782692, 0.2494559313034964, 0.40657741956745463], \"xaxis\": \"x\", \"y\": [-0.061324983862782484, -0.03672952536726695, -0.05273113968234119, -0.07516099898918795, -0.03788562759569412, 0.08296827619965355, -0.08169430586228225, -0.13290373297689975, -0.12847146433974455, -0.03732133372973501, -0.07599719816808442, -0.1467069202082194, -0.14284500233195432, -0.09072311876238372, -0.022180185651245184, -0.1575673380392169, -0.16033190154412943, -0.24286229094504463, -0.11648511459892816, -0.17099794443940994, -0.13579891019500226, -0.24229191639140332, -0.2989757801716782, -0.1372109859333408, -0.09391303864418392, -0.21350548350131987, -0.2047154714643587, -0.2393473303722197, -0.2500282389890139, -0.1896106325269969, -0.11303545820272928, -0.26828115623172666, -0.22125832819207605, -0.21106128842141592, -0.21654322410961885, -0.27957043132759407, -0.10717343464344524, -0.1072228218602256, -0.1385256520009235, -0.13812159580388345, -0.04281758618112767, -0.12770788136441744, -0.06974166110046288], \"yaxis\": \"y\"}, {\"alignmentgroup\": \"True\", \"hoverlabel\": {\"namelength\": 0}, \"hovertemplate\": \"author=Mary Anna Sibert<br>PC0=%{x}\", \"legendgroup\": \"author=Mary Anna Sibert\", \"marker\": {\"color\": \"#FF6692\", \"symbol\": \"circle\"}, \"name\": \"author=Mary Anna Sibert\", \"notched\": true, \"offsetgroup\": \"author=Mary Anna Sibert\", \"showlegend\": false, \"type\": \"box\", \"x\": [-0.12049794813625828, -0.10761039251578992, -0.05853797179444475, 0.35550699905014044, 0.04435134453377722, 0.23193576402165098, 0.21335524156565103, 0.34752318390906417, 0.4158547357071276, 0.11948178257011512, 0.342405717370068, 0.40970517012963775, 0.3657189165767848, 0.3610078127490661, 0.3482002356648987, 0.2599489500462101, 0.37260745581845556, 0.35531031700524623, 0.3477254070913819, 0.3584899639559421, 0.36835954676455857, 0.4168438732445783, 0.3649767194656356, 0.3281948665711093, 0.3535038359321677, 0.36095583921303165, 0.3327736355937517, 0.2590435804817929, 0.38111932110589625, 0.296960935755516, 0.3544400597024496, 0.3258167857525578, 0.3005102085194188, 0.3961522981172102, 0.3432444738205707, 0.40209811786597527, 0.39365221137122136, 0.3181415999426192, 0.35261072757743284, 0.4095220969273387, 0.1903995548782692, 0.2494559313034964, 0.40657741956745463], \"xaxis\": \"x2\", \"yaxis\": \"y2\"}, {\"hoverlabel\": {\"namelength\": 0}, \"hovertemplate\": \"author=Samuel M. Potter<br>PC0=%{x}<br>PC3=%{y}\", \"legendgroup\": \"author=Samuel M. Potter\", \"marker\": {\"color\": \"#B6E880\", \"symbol\": \"circle\"}, \"mode\": \"markers\", \"name\": \"author=Samuel M. Potter\", \"showlegend\": true, \"type\": \"scatter\", \"x\": [0.07032694376917639, 0.09015763448038727, 0.05541453267843684, 0.09394566324128005, 0.0008833061009586364, 0.08220939014328409, 0.07305731038683536, 0.06637938607218213, 0.07192795940894105, 0.15221451820809762, 0.021392697146703585, 0.16044775413338647, 0.09981389000395328, 0.11400767454090162, 0.21206885596431382, 0.08588957285321452, 0.06641971939296462, 0.15855681464271806, 0.06448760577110094, 0.13117443983183033, 0.13899682341894823, -0.006477037453567225, 0.09412756412362164, 0.1285837303445508, 0.07358315854918074, 0.1362434862964333, -0.044451498422611466, 0.002403201176547716, 0.06061943339426466], \"xaxis\": \"x\", \"y\": [-0.010855958275105906, 0.014538427949131745, 0.0532119283178235, 0.05037535326610399, 0.025332517863670096, 0.10728152559002088, 0.021051045239756337, -0.01174449022637246, 0.08953255807774428, 0.12162086763027405, -0.03545245041590262, 0.06357344532676294, 0.05029520052436372, 0.08740987920796744, 0.09879192030619917, 0.06800485897050065, 0.059750882795946, 0.1061045584677836, 0.04105298889661427, 0.05343699112160553, 0.10445356181727082, 0.020179416249051466, 0.051833006086475786, 0.04988580739109237, -0.024557657189293376, 0.09955137552673952, -0.1286106024928073, -0.02519605129289021, -0.0565301058944491], \"yaxis\": \"y\"}, {\"alignmentgroup\": \"True\", \"hoverlabel\": {\"namelength\": 0}, \"hovertemplate\": \"author=Samuel M. Potter<br>PC0=%{x}\", \"legendgroup\": \"author=Samuel M. Potter\", \"marker\": {\"color\": \"#B6E880\", \"symbol\": \"circle\"}, \"name\": \"author=Samuel M. Potter\", \"notched\": true, \"offsetgroup\": \"author=Samuel M. Potter\", \"showlegend\": false, \"type\": \"box\", \"x\": [0.07032694376917639, 0.09015763448038727, 0.05541453267843684, 0.09394566324128005, 0.0008833061009586364, 0.08220939014328409, 0.07305731038683536, 0.06637938607218213, 0.07192795940894105, 0.15221451820809762, 0.021392697146703585, 0.16044775413338647, 0.09981389000395328, 0.11400767454090162, 0.21206885596431382, 0.08588957285321452, 0.06641971939296462, 0.15855681464271806, 0.06448760577110094, 0.13117443983183033, 0.13899682341894823, -0.006477037453567225, 0.09412756412362164, 0.1285837303445508, 0.07358315854918074, 0.1362434862964333, -0.044451498422611466, 0.002403201176547716, 0.06061943339426466], \"xaxis\": \"x2\", \"yaxis\": \"y2\"}],\n",
       "                        {\"height\": 600, \"legend\": {\"tracegroupgap\": 0}, \"margin\": {\"t\": 60}, \"template\": {\"data\": {\"bar\": [{\"error_x\": {\"color\": \"#2a3f5f\"}, \"error_y\": {\"color\": \"#2a3f5f\"}, \"marker\": {\"line\": {\"color\": \"#E5ECF6\", \"width\": 0.5}}, \"type\": \"bar\"}], \"barpolar\": [{\"marker\": {\"line\": {\"color\": \"#E5ECF6\", \"width\": 0.5}}, \"type\": \"barpolar\"}], \"carpet\": [{\"aaxis\": {\"endlinecolor\": \"#2a3f5f\", \"gridcolor\": \"white\", \"linecolor\": \"white\", \"minorgridcolor\": \"white\", \"startlinecolor\": \"#2a3f5f\"}, \"baxis\": {\"endlinecolor\": \"#2a3f5f\", \"gridcolor\": \"white\", \"linecolor\": \"white\", \"minorgridcolor\": \"white\", \"startlinecolor\": \"#2a3f5f\"}, \"type\": \"carpet\"}], \"choropleth\": [{\"colorbar\": {\"outlinewidth\": 0, \"ticks\": \"\"}, \"type\": \"choropleth\"}], \"contour\": [{\"colorbar\": {\"outlinewidth\": 0, \"ticks\": \"\"}, \"colorscale\": [[0.0, \"#0d0887\"], [0.1111111111111111, \"#46039f\"], [0.2222222222222222, \"#7201a8\"], [0.3333333333333333, \"#9c179e\"], [0.4444444444444444, \"#bd3786\"], [0.5555555555555556, \"#d8576b\"], [0.6666666666666666, \"#ed7953\"], [0.7777777777777778, \"#fb9f3a\"], [0.8888888888888888, \"#fdca26\"], [1.0, \"#f0f921\"]], \"type\": \"contour\"}], \"contourcarpet\": [{\"colorbar\": {\"outlinewidth\": 0, \"ticks\": \"\"}, \"type\": \"contourcarpet\"}], \"heatmap\": [{\"colorbar\": {\"outlinewidth\": 0, \"ticks\": \"\"}, \"colorscale\": [[0.0, \"#0d0887\"], [0.1111111111111111, \"#46039f\"], [0.2222222222222222, \"#7201a8\"], [0.3333333333333333, \"#9c179e\"], [0.4444444444444444, \"#bd3786\"], [0.5555555555555556, \"#d8576b\"], [0.6666666666666666, \"#ed7953\"], [0.7777777777777778, \"#fb9f3a\"], [0.8888888888888888, \"#fdca26\"], [1.0, \"#f0f921\"]], \"type\": \"heatmap\"}], \"heatmapgl\": [{\"colorbar\": {\"outlinewidth\": 0, \"ticks\": \"\"}, \"colorscale\": [[0.0, \"#0d0887\"], [0.1111111111111111, \"#46039f\"], [0.2222222222222222, \"#7201a8\"], [0.3333333333333333, \"#9c179e\"], [0.4444444444444444, \"#bd3786\"], [0.5555555555555556, \"#d8576b\"], [0.6666666666666666, \"#ed7953\"], [0.7777777777777778, \"#fb9f3a\"], [0.8888888888888888, \"#fdca26\"], [1.0, \"#f0f921\"]], \"type\": \"heatmapgl\"}], \"histogram\": [{\"marker\": {\"colorbar\": {\"outlinewidth\": 0, \"ticks\": \"\"}}, \"type\": \"histogram\"}], \"histogram2d\": [{\"colorbar\": {\"outlinewidth\": 0, \"ticks\": \"\"}, \"colorscale\": [[0.0, \"#0d0887\"], [0.1111111111111111, \"#46039f\"], [0.2222222222222222, \"#7201a8\"], [0.3333333333333333, \"#9c179e\"], [0.4444444444444444, \"#bd3786\"], [0.5555555555555556, \"#d8576b\"], [0.6666666666666666, \"#ed7953\"], [0.7777777777777778, \"#fb9f3a\"], [0.8888888888888888, \"#fdca26\"], [1.0, \"#f0f921\"]], \"type\": \"histogram2d\"}], \"histogram2dcontour\": [{\"colorbar\": {\"outlinewidth\": 0, \"ticks\": \"\"}, \"colorscale\": [[0.0, \"#0d0887\"], [0.1111111111111111, \"#46039f\"], [0.2222222222222222, \"#7201a8\"], [0.3333333333333333, \"#9c179e\"], [0.4444444444444444, \"#bd3786\"], [0.5555555555555556, \"#d8576b\"], [0.6666666666666666, \"#ed7953\"], [0.7777777777777778, \"#fb9f3a\"], [0.8888888888888888, \"#fdca26\"], [1.0, \"#f0f921\"]], \"type\": \"histogram2dcontour\"}], \"mesh3d\": [{\"colorbar\": {\"outlinewidth\": 0, \"ticks\": \"\"}, \"type\": \"mesh3d\"}], \"parcoords\": [{\"line\": {\"colorbar\": {\"outlinewidth\": 0, \"ticks\": \"\"}}, \"type\": \"parcoords\"}], \"pie\": [{\"automargin\": true, \"type\": \"pie\"}], \"scatter\": [{\"marker\": {\"colorbar\": {\"outlinewidth\": 0, \"ticks\": \"\"}}, \"type\": \"scatter\"}], \"scatter3d\": [{\"line\": {\"colorbar\": {\"outlinewidth\": 0, \"ticks\": \"\"}}, \"marker\": {\"colorbar\": {\"outlinewidth\": 0, \"ticks\": \"\"}}, \"type\": \"scatter3d\"}], \"scattercarpet\": [{\"marker\": {\"colorbar\": {\"outlinewidth\": 0, \"ticks\": \"\"}}, \"type\": \"scattercarpet\"}], \"scattergeo\": [{\"marker\": {\"colorbar\": {\"outlinewidth\": 0, \"ticks\": \"\"}}, \"type\": \"scattergeo\"}], \"scattergl\": [{\"marker\": {\"colorbar\": {\"outlinewidth\": 0, \"ticks\": \"\"}}, \"type\": \"scattergl\"}], \"scattermapbox\": [{\"marker\": {\"colorbar\": {\"outlinewidth\": 0, \"ticks\": \"\"}}, \"type\": \"scattermapbox\"}], \"scatterpolar\": [{\"marker\": {\"colorbar\": {\"outlinewidth\": 0, \"ticks\": \"\"}}, \"type\": \"scatterpolar\"}], \"scatterpolargl\": [{\"marker\": {\"colorbar\": {\"outlinewidth\": 0, \"ticks\": \"\"}}, \"type\": \"scatterpolargl\"}], \"scatterternary\": [{\"marker\": {\"colorbar\": {\"outlinewidth\": 0, \"ticks\": \"\"}}, \"type\": \"scatterternary\"}], \"surface\": [{\"colorbar\": {\"outlinewidth\": 0, \"ticks\": \"\"}, \"colorscale\": [[0.0, \"#0d0887\"], [0.1111111111111111, \"#46039f\"], [0.2222222222222222, \"#7201a8\"], [0.3333333333333333, \"#9c179e\"], [0.4444444444444444, \"#bd3786\"], [0.5555555555555556, \"#d8576b\"], [0.6666666666666666, \"#ed7953\"], [0.7777777777777778, \"#fb9f3a\"], [0.8888888888888888, \"#fdca26\"], [1.0, \"#f0f921\"]], \"type\": \"surface\"}], \"table\": [{\"cells\": {\"fill\": {\"color\": \"#EBF0F8\"}, \"line\": {\"color\": \"white\"}}, \"header\": {\"fill\": {\"color\": \"#C8D4E3\"}, \"line\": {\"color\": \"white\"}}, \"type\": \"table\"}]}, \"layout\": {\"annotationdefaults\": {\"arrowcolor\": \"#2a3f5f\", \"arrowhead\": 0, \"arrowwidth\": 1}, \"coloraxis\": {\"colorbar\": {\"outlinewidth\": 0, \"ticks\": \"\"}}, \"colorscale\": {\"diverging\": [[0, \"#8e0152\"], [0.1, \"#c51b7d\"], [0.2, \"#de77ae\"], [0.3, \"#f1b6da\"], [0.4, \"#fde0ef\"], [0.5, \"#f7f7f7\"], [0.6, \"#e6f5d0\"], [0.7, \"#b8e186\"], [0.8, \"#7fbc41\"], [0.9, \"#4d9221\"], [1, \"#276419\"]], \"sequential\": [[0.0, \"#0d0887\"], [0.1111111111111111, \"#46039f\"], [0.2222222222222222, \"#7201a8\"], [0.3333333333333333, \"#9c179e\"], [0.4444444444444444, \"#bd3786\"], [0.5555555555555556, \"#d8576b\"], [0.6666666666666666, \"#ed7953\"], [0.7777777777777778, \"#fb9f3a\"], [0.8888888888888888, \"#fdca26\"], [1.0, \"#f0f921\"]], \"sequentialminus\": [[0.0, \"#0d0887\"], [0.1111111111111111, \"#46039f\"], [0.2222222222222222, \"#7201a8\"], [0.3333333333333333, \"#9c179e\"], [0.4444444444444444, \"#bd3786\"], [0.5555555555555556, \"#d8576b\"], [0.6666666666666666, \"#ed7953\"], [0.7777777777777778, \"#fb9f3a\"], [0.8888888888888888, \"#fdca26\"], [1.0, \"#f0f921\"]]}, \"colorway\": [\"#636efa\", \"#EF553B\", \"#00cc96\", \"#ab63fa\", \"#FFA15A\", \"#19d3f3\", \"#FF6692\", \"#B6E880\", \"#FF97FF\", \"#FECB52\"], \"font\": {\"color\": \"#2a3f5f\"}, \"geo\": {\"bgcolor\": \"white\", \"lakecolor\": \"white\", \"landcolor\": \"#E5ECF6\", \"showlakes\": true, \"showland\": true, \"subunitcolor\": \"white\"}, \"hoverlabel\": {\"align\": \"left\"}, \"hovermode\": \"closest\", \"mapbox\": {\"style\": \"light\"}, \"paper_bgcolor\": \"white\", \"plot_bgcolor\": \"#E5ECF6\", \"polar\": {\"angularaxis\": {\"gridcolor\": \"white\", \"linecolor\": \"white\", \"ticks\": \"\"}, \"bgcolor\": \"#E5ECF6\", \"radialaxis\": {\"gridcolor\": \"white\", \"linecolor\": \"white\", \"ticks\": \"\"}}, \"scene\": {\"xaxis\": {\"backgroundcolor\": \"#E5ECF6\", \"gridcolor\": \"white\", \"gridwidth\": 2, \"linecolor\": \"white\", \"showbackground\": true, \"ticks\": \"\", \"zerolinecolor\": \"white\"}, \"yaxis\": {\"backgroundcolor\": \"#E5ECF6\", \"gridcolor\": \"white\", \"gridwidth\": 2, \"linecolor\": \"white\", \"showbackground\": true, \"ticks\": \"\", \"zerolinecolor\": \"white\"}, \"zaxis\": {\"backgroundcolor\": \"#E5ECF6\", \"gridcolor\": \"white\", \"gridwidth\": 2, \"linecolor\": \"white\", \"showbackground\": true, \"ticks\": \"\", \"zerolinecolor\": \"white\"}}, \"shapedefaults\": {\"line\": {\"color\": \"#2a3f5f\"}}, \"ternary\": {\"aaxis\": {\"gridcolor\": \"white\", \"linecolor\": \"white\", \"ticks\": \"\"}, \"baxis\": {\"gridcolor\": \"white\", \"linecolor\": \"white\", \"ticks\": \"\"}, \"bgcolor\": \"#E5ECF6\", \"caxis\": {\"gridcolor\": \"white\", \"linecolor\": \"white\", \"ticks\": \"\"}}, \"title\": {\"x\": 0.05}, \"xaxis\": {\"automargin\": true, \"gridcolor\": \"white\", \"linecolor\": \"white\", \"ticks\": \"\", \"title\": {\"standoff\": 15}, \"zerolinecolor\": \"white\", \"zerolinewidth\": 2}, \"yaxis\": {\"automargin\": true, \"gridcolor\": \"white\", \"linecolor\": \"white\", \"ticks\": \"\", \"title\": {\"standoff\": 15}, \"zerolinecolor\": \"white\", \"zerolinewidth\": 2}}}, \"xaxis\": {\"anchor\": \"y\", \"domain\": [0.0, 1.0], \"title\": {\"text\": \"PC0\"}}, \"xaxis2\": {\"anchor\": \"y2\", \"domain\": [0.0, 1.0], \"matches\": \"x\", \"showgrid\": true, \"showticklabels\": false}, \"yaxis\": {\"anchor\": \"x\", \"domain\": [0.0, 0.7326], \"title\": {\"text\": \"PC3\"}}, \"yaxis2\": {\"anchor\": \"x2\", \"domain\": [0.7426, 1.0], \"matches\": \"y2\", \"showgrid\": false, \"showline\": false, \"showticklabels\": false, \"ticks\": \"\"}},\n",
       "                        {\"responsive\": true}\n",
       "                    ).then(function(){\n",
       "                            \n",
       "var gd = document.getElementById('8e4343fe-0a88-4f3c-a2f1-45ed65e09d39');\n",
       "var x = new MutationObserver(function (mutations, observer) {{\n",
       "        var display = window.getComputedStyle(gd).display;\n",
       "        if (!display || display === 'none') {{\n",
       "            console.log([gd, 'removed!']);\n",
       "            Plotly.purge(gd);\n",
       "            observer.disconnect();\n",
       "        }}\n",
       "}});\n",
       "\n",
       "// Listen for the removal of the full notebook cells\n",
       "var notebookContainer = gd.closest('#notebook-container');\n",
       "if (notebookContainer) {{\n",
       "    x.observe(notebookContainer, {childList: true});\n",
       "}}\n",
       "\n",
       "// Listen for the clearing of the current output cell\n",
       "var outputEl = gd.closest('.output');\n",
       "if (outputEl) {{\n",
       "    x.observe(outputEl, {childList: true});\n",
       "}}\n",
       "\n",
       "                        })\n",
       "                };\n",
       "                });\n",
       "            </script>\n",
       "        </div>"
      ]
     },
     "metadata": {},
     "output_type": "display_data"
    }
   ],
   "source": [
    "vis_pcs(DCM_civil, 0, 3, 'author')"
   ]
  },
  {
   "cell_type": "code",
   "execution_count": 384,
   "metadata": {},
   "outputs": [
    {
     "name": "stdout",
     "output_type": "stream",
     "text": [
      "Letters PC0+ respectfully honorable schools school chambersburg teachers teacher servant 1 amount colored obedient favor against which check hereby request nomination enclosed\n",
      "\n",
      "Letters PC0- love heart she her nt happy come live home tell how dear see devotion loving so he long did world\n",
      "\n",
      "Letters PC3+ love heart wounded enemy killed devotion loving ella fight battle miles staunton back prisoners live bless artillery unchanging river men\n",
      "\n",
      "Letters PC3- she her school colored people teacher house work little money children schools scholars teachers better room he has might get\n"
     ]
    }
   ],
   "source": [
    "print_loadings(\"PC0\", \"PC3\", 20)"
   ]
  },
  {
   "cell_type": "markdown",
   "metadata": {},
   "source": [
    "## County"
   ]
  },
  {
   "cell_type": "markdown",
   "metadata": {},
   "source": [
    "County also kinda gets separated but something happening with Franklin"
   ]
  },
  {
   "cell_type": "code",
   "execution_count": 332,
   "metadata": {},
   "outputs": [
    {
     "data": {
      "application/vnd.plotly.v1+json": {
       "config": {
        "plotlyServerURL": "https://plot.ly"
       },
       "data": [
        {
         "hoverlabel": {
          "namelength": 0
         },
         "hovertemplate": "county=Franklin<br>PC4=%{x}<br>PC2=%{y}",
         "legendgroup": "county=Franklin",
         "marker": {
          "color": "#636efa",
          "symbol": "circle"
         },
         "mode": "markers",
         "name": "county=Franklin",
         "showlegend": true,
         "type": "scatter",
         "x": [
          -0.0751207822565567,
          -0.07840607130401248,
          -0.11423237492878796,
          -0.07803823434159311,
          -0.08571031493535858,
          -0.029600220008920083,
          -0.06478290492402473,
          -0.07699329666036905,
          -0.09342559845759948,
          -0.12077417883353425,
          -0.046325867937679906,
          -0.018743136607941708,
          -0.06332439502328478,
          -0.08610286511913069,
          -0.09898049871158493,
          -0.12603373803994794,
          -0.09048574082065895,
          -0.047902316644443284,
          0.025465233113566833,
          -0.06800488932554047,
          -0.12153620580256766,
          -0.12692954875576476,
          -0.11062954760598412,
          -0.10854044925257797,
          -0.06504331067273623,
          -0.09577235015954966,
          -0.11951640695101788,
          -0.01197844299154548,
          -0.0635528769275631,
          -0.0014837829028398716,
          -0.03431760924186766,
          -0.05416825012773813,
          -0.059363168418399004,
          -0.017276571009126256,
          -0.013762924262295697,
          -0.044638034925058745,
          -0.003068265201713849,
          -0.04419845773853884,
          -0.02417851816286794,
          -0.041993659493953645,
          0.01232648430073177,
          0.016618695580923364,
          -0.022181195033930092,
          -0.032717478869717244,
          -0.004012307710956574,
          -0.05643475670251825,
          -0.034757097847147124,
          -0.0452541513912018,
          -0.05933139117996727,
          -0.01582721815976767,
          -0.021722510920463834,
          -0.029474409520745034,
          0.014346982775768347,
          -0.04147880334134278,
          -0.06515403738202825,
          0.002070096250691728,
          -0.05201796596834047,
          -0.08280151695324357,
          -0.03782892112293866,
          -0.03863550203468214,
          -0.05020793455411472,
          -0.08060934481981047,
          -0.06268381378567031,
          -0.03235553561658197,
          -0.06199785038219816,
          -0.052421427044751535,
          -0.04912929055905687,
          -0.037434031047195414,
          -0.009898793659770849,
          0.034050842174833014,
          -0.04543534381007326,
          -0.008631696506147186,
          -0.02890975705863601,
          -0.11785151170796512,
          -0.051008211561022365,
          -0.05986997383166295,
          -0.05512078882134088,
          0.0014224488557584172,
          -0.05831989108373404,
          -0.0237660056790908,
          -0.04422342945276712,
          -0.05867054875619875,
          0.010439551199503122,
          0.02467294069258087,
          -0.03106813918304049,
          0.03656223002118691,
          -0.011077937345340075,
          0.08650876172409379,
          -0.002041207556184833,
          0.06213170214124558,
          0.04554451875466231,
          -0.018560019944320372,
          -0.01634769617247727,
          -0.021151075689319374,
          -0.026798011257694612,
          0.059004618292514285,
          -0.017437422974058446,
          0.032778867937010424,
          0.04910324387818533,
          -0.010265063381816365,
          -0.022910832271780122,
          0.033249233444428095,
          0.010805944578006573,
          0.06318305984686137,
          -0.00816897428046436,
          -0.04105926059615005,
          -0.04435341995397348,
          0.02920098834408805,
          0.012957490872446296,
          0.05558841494780362,
          0.04555436141394843
         ],
         "xaxis": "x",
         "y": [
          0.00914627663683646,
          0.06710799581637333,
          0.02652741627215588,
          0.026530121036544296,
          0.05295178130646724,
          0.009995057753514024,
          0.012203620131876442,
          -0.02631423420189457,
          0.017333970101104403,
          0.05475952708339569,
          -0.0010790067706014286,
          -0.015386940499339126,
          0.013365897979944596,
          0.0379280589760073,
          0.03340003575258164,
          0.05688507369040102,
          0.03781492599552568,
          0.054214606733462574,
          -0.03617947375407999,
          0.003499628160881926,
          0.057743703228927204,
          0.07385052654917454,
          0.04253886289670768,
          0.06651492118585788,
          0.03600868449217127,
          0.07689290194738524,
          0.06208030110590266,
          -0.007117369678180853,
          0.07118571676273355,
          0.020396347453070448,
          -0.00927389078736979,
          0.022144894794808048,
          0.043466181166107336,
          0.005505232311352917,
          -0.03582878541757355,
          0.010626453642463996,
          0.00427323047324611,
          -0.0013227724012612153,
          0.021259349489217913,
          -0.004026225646372832,
          0.0193819772631131,
          0.03137485241603034,
          -0.017185846752354805,
          -0.3481270920654209,
          -0.272540843722568,
          -0.2839457200469656,
          -0.20779316022776506,
          -0.31288463845497066,
          -0.3330763492955532,
          -0.289634996033549,
          -0.34683817381382376,
          -0.33005366863780194,
          -0.30466524657890864,
          -0.34996127178167435,
          -0.24166226531912113,
          -0.3009257648688993,
          -0.37971372824648764,
          -0.20691320296009133,
          -0.4168272766653974,
          -0.4106682671547945,
          -0.34780652290838265,
          -0.3613764668495891,
          -0.24165798960798923,
          -0.3264501246104655,
          -0.3208235432866353,
          -0.3227641761660216,
          -0.2582229082651686,
          -0.291877251382653,
          -0.32578361111648335,
          -0.36721578577894964,
          -0.3636717529775993,
          -0.3202293159596944,
          -0.39657847355272113,
          -0.3019533489065914,
          -0.3888535482218696,
          -0.2956271906158757,
          -0.2466908159710378,
          -0.301931517993594,
          -0.31395930631423624,
          -0.33513912962588155,
          -0.33812339745924774,
          -0.2908320620978448,
          -0.11635306722600157,
          -0.03895404780161444,
          -0.037755744348968036,
          0.02040679569076125,
          -0.02254913491097834,
          -0.05515116241765575,
          0.04104561747977114,
          -0.04379988764063617,
          0.063314171363913,
          -0.02519132696061967,
          0.03518162533416989,
          -0.015120160797277545,
          -0.07317905104891377,
          0.010170597136532487,
          -0.041841072521412614,
          -0.05638018291717924,
          -0.014271628639340908,
          -0.004017319258715544,
          0.04853773620545448,
          -0.08199950924117741,
          -0.03213229140855367,
          -0.034705408544908715,
          -0.04836287711215281,
          -0.05783834222303242,
          -0.0313429222110314,
          -0.014240415008393618,
          -0.025116826604495567,
          -0.052391686313251404,
          0.02781109076420184
         ],
         "yaxis": "y"
        },
        {
         "alignmentgroup": "True",
         "hoverlabel": {
          "namelength": 0
         },
         "hovertemplate": "county=Franklin<br>PC4=%{x}",
         "legendgroup": "county=Franklin",
         "marker": {
          "color": "#636efa",
          "symbol": "circle"
         },
         "name": "county=Franklin",
         "notched": true,
         "offsetgroup": "county=Franklin",
         "showlegend": false,
         "type": "box",
         "x": [
          -0.0751207822565567,
          -0.07840607130401248,
          -0.11423237492878796,
          -0.07803823434159311,
          -0.08571031493535858,
          -0.029600220008920083,
          -0.06478290492402473,
          -0.07699329666036905,
          -0.09342559845759948,
          -0.12077417883353425,
          -0.046325867937679906,
          -0.018743136607941708,
          -0.06332439502328478,
          -0.08610286511913069,
          -0.09898049871158493,
          -0.12603373803994794,
          -0.09048574082065895,
          -0.047902316644443284,
          0.025465233113566833,
          -0.06800488932554047,
          -0.12153620580256766,
          -0.12692954875576476,
          -0.11062954760598412,
          -0.10854044925257797,
          -0.06504331067273623,
          -0.09577235015954966,
          -0.11951640695101788,
          -0.01197844299154548,
          -0.0635528769275631,
          -0.0014837829028398716,
          -0.03431760924186766,
          -0.05416825012773813,
          -0.059363168418399004,
          -0.017276571009126256,
          -0.013762924262295697,
          -0.044638034925058745,
          -0.003068265201713849,
          -0.04419845773853884,
          -0.02417851816286794,
          -0.041993659493953645,
          0.01232648430073177,
          0.016618695580923364,
          -0.022181195033930092,
          -0.032717478869717244,
          -0.004012307710956574,
          -0.05643475670251825,
          -0.034757097847147124,
          -0.0452541513912018,
          -0.05933139117996727,
          -0.01582721815976767,
          -0.021722510920463834,
          -0.029474409520745034,
          0.014346982775768347,
          -0.04147880334134278,
          -0.06515403738202825,
          0.002070096250691728,
          -0.05201796596834047,
          -0.08280151695324357,
          -0.03782892112293866,
          -0.03863550203468214,
          -0.05020793455411472,
          -0.08060934481981047,
          -0.06268381378567031,
          -0.03235553561658197,
          -0.06199785038219816,
          -0.052421427044751535,
          -0.04912929055905687,
          -0.037434031047195414,
          -0.009898793659770849,
          0.034050842174833014,
          -0.04543534381007326,
          -0.008631696506147186,
          -0.02890975705863601,
          -0.11785151170796512,
          -0.051008211561022365,
          -0.05986997383166295,
          -0.05512078882134088,
          0.0014224488557584172,
          -0.05831989108373404,
          -0.0237660056790908,
          -0.04422342945276712,
          -0.05867054875619875,
          0.010439551199503122,
          0.02467294069258087,
          -0.03106813918304049,
          0.03656223002118691,
          -0.011077937345340075,
          0.08650876172409379,
          -0.002041207556184833,
          0.06213170214124558,
          0.04554451875466231,
          -0.018560019944320372,
          -0.01634769617247727,
          -0.021151075689319374,
          -0.026798011257694612,
          0.059004618292514285,
          -0.017437422974058446,
          0.032778867937010424,
          0.04910324387818533,
          -0.010265063381816365,
          -0.022910832271780122,
          0.033249233444428095,
          0.010805944578006573,
          0.06318305984686137,
          -0.00816897428046436,
          -0.04105926059615005,
          -0.04435341995397348,
          0.02920098834408805,
          0.012957490872446296,
          0.05558841494780362,
          0.04555436141394843
         ],
         "xaxis": "x2",
         "yaxis": "y2"
        },
        {
         "hoverlabel": {
          "namelength": 0
         },
         "hovertemplate": "county=Augusta<br>PC4=%{x}<br>PC2=%{y}",
         "legendgroup": "county=Augusta",
         "marker": {
          "color": "#EF553B",
          "symbol": "circle"
         },
         "mode": "markers",
         "name": "county=Augusta",
         "showlegend": true,
         "type": "scatter",
         "x": [
          -0.016871156157164603,
          0.07945366671856652,
          0.06105868256665812,
          0.03064741298300395,
          0.020506468397492518,
          0.10073446642679333,
          0.09620176459483006,
          0.10995812691660987,
          0.08917211584268436,
          0.09279354374169156,
          0.06207676634387497,
          0.04231815444822052,
          0.10951713576917528,
          0.08038886826537094,
          0.006371329050417535,
          0.09027711227257225,
          0.1028666671517999,
          0.07474349758852641,
          0.015422379474789992,
          0.10002111371768861,
          0.050378390530682035,
          0.10767002516992429,
          0.11167776737058228,
          0.011469482858381877,
          0.14610499296287693,
          0.07940633583696899,
          0.06821822550809813,
          0.059056319293786984,
          0.07915129764259884,
          0.04638462849322899,
          0.04792388964418482,
          0.18579647464231508,
          0.2057932591708651,
          0.1481473818158588,
          0.08512731107353677,
          0.12597195651349372,
          0.114775012297609,
          0.1609436994247443,
          0.1244564742770685,
          0.03646168128350839,
          0.133048614154498,
          0.07982479866156415,
          0.1273381716741889,
          0.06397331990378949,
          0.10279159760657781,
          0.11017114402848367,
          0.1596612064198732,
          0.15305091543651453,
          0.10937912426698625,
          0.10086072629110958,
          0.10254769146967829,
          0.1842147560788339,
          0.03462637497405837,
          0.029725270956706424,
          0.036873803921631976,
          -0.029912480272273806,
          0.008309288720087035,
          -0.0004194307727467019,
          -0.10386395989146231,
          0.11295956339026897,
          0.15989395947880017,
          0.02855668369739444,
          0.019057103036358818,
          0.061441139862547,
          0.1131538446483262,
          -0.0147142346880152,
          0.12756212558959762,
          0.04441477127379053,
          0.081157118930342,
          0.11530885772025691,
          0.07738337947117999,
          0.15557498428809077,
          0.0568436984611295,
          0.11417335042435503,
          0.04927598883671652,
          0.11167479421756629,
          0.08306410174126375,
          0.03665985718082442,
          -0.01844312513307746,
          0.04092913508858313,
          -0.015428252389594303,
          0.002961223614717361,
          0.06372544306550208,
          0.004002037811742791,
          0.0268439036257478,
          0.07116742093429332,
          -0.03581056142499872,
          0.04277177901171252,
          0.01087859529313542,
          -0.018033939213052547,
          0.0924146039590104,
          0.12398878277064714,
          0.13208466096681595,
          0.024728940650398594,
          0.07221593193938095,
          0.033256990451313216,
          0.034481805052035505,
          0.060590665083848604,
          0.06379984606966332,
          0.00047289778213550275,
          0.14414896409165184,
          0.0898498669397356,
          0.10286928227638376,
          0.10285839842453628,
          0.05506929881388986,
          0.12430283316085325,
          0.07468257005539336,
          0.045539287833366505,
          0.004828121117071275,
          0.05114979867094271,
          0.013834914624687406,
          0.04710307149316316,
          0.06776229364208182,
          0.1683098265222295,
          -0.03679935039063117,
          0.10884390013681676,
          0.03408627334586223,
          -0.014800818190768289,
          0.08649688800684958,
          0.017776571429009715,
          0.06222108134776698,
          0.12214640016249352,
          -0.023764611534012336,
          0.020507538039488734,
          -0.027884055680103055,
          0.08502702066491848,
          0.022039517633867717,
          0.05503622488263972,
          0.009509257664936937,
          0.12190669358637563,
          -0.003314560912515678,
          0.05115576511311814,
          0.04431774605624486,
          0.10669874134033475,
          0.09258488982428584,
          0.04599285533520644,
          0.14579220300774426,
          0.019746892345589188,
          -0.010840807157895396,
          0.0005347519100056474,
          -0.04406720778631488,
          -0.009859479594326953,
          0.03741096342219822,
          0.0389709736942348,
          -0.06480059681978671,
          0.15939344219589202,
          0.07338689417042887,
          0.024680919325583854,
          0.058636247182903486,
          -0.04281461578069347,
          0.08139142968965861,
          -0.07812328306969517,
          0.08074161544787775,
          -0.0010014545182218417,
          0.13147171298938803,
          0.06684933868482944,
          0.015628696230288782,
          -0.04906224842679459,
          -0.018388193176349116,
          -0.04695091471132445,
          0.00565740061428724,
          -0.0131781297075922,
          0.06100395936416255,
          0.0906772597183477,
          0.04966247197157914,
          0.025184607301226063,
          0.04241537414709371,
          0.0743708172090937,
          0.16967162879778303,
          0.04767058431628983,
          0.011524086693082731,
          0.025894271210794715,
          -0.022920596518152297,
          0.012404584158041316,
          0.008520653827497055,
          0.13043172606980344,
          0.12093748184379992,
          0.03203312783592971,
          -0.042391333944894694,
          0.10701342819758834,
          0.08378535862775835,
          0.08862965906781606,
          0.07629354110589659,
          0.0676237407780211,
          0.051772020930850746,
          0.05889675481217035,
          0.02726153318301795,
          0.000623956866181962,
          0.0767962683448474,
          0.03235655396432389,
          0.026882437336610922,
          0.08239028515037891,
          0.08210832735115603,
          0.10453257266190448,
          0.05779716166118636,
          0.06844660993861734,
          -0.012970715716707545,
          0.06491006418037819,
          0.04472628007410175,
          0.014179554200398901,
          0.007288370044234801,
          0.005514786647306078,
          -0.07251726021963309,
          0.001941763283071798,
          0.012650732443820855,
          0.15733110795082964,
          0.11491017740519216,
          0.05305981637315043,
          0.06902155911985404,
          0.14907294225252538,
          0.0004904978284478668,
          0.07661135638514677,
          0.13655271768891622,
          0.0883100590632256,
          0.14230156725214474,
          0.09765399274412939,
          0.09985935011349921,
          -0.010151799092910673,
          0.03483729119731086,
          0.05945375027201103,
          0.12228449356290493,
          0.10240969429396043,
          0.03431655302363408,
          -0.004098615908097594,
          0.03075460437465088,
          0.13633735337522854,
          0.09042938134747995,
          0.017505041191476986,
          0.12999080033689028,
          0.11088831766320563,
          0.1313141619755048,
          0.046241904723802046,
          0.1014972851604973,
          0.004191539543369887,
          0.0984375375380163,
          0.03194947869748388,
          0.06454947892968368,
          0.16022800080223476,
          0.15825904414715447,
          0.061033657937390275,
          0.02879086164220271,
          0.08359504731653374,
          -0.022189431407450458,
          0.07368033566747076,
          0.0567429491854643,
          0.12650094554109473,
          0.1261849142027696,
          0.11355345609774782,
          0.0948502587534502,
          0.04455877458177069,
          0.06271742533830295,
          0.07514542787694542,
          0.10020256549917184,
          0.055742920863791984,
          -0.02236226370493236,
          0.048251549838873295,
          -0.03585500101498492,
          -0.013097681237225526,
          0.03440214229153702,
          0.045306559026821194,
          0.030786219733060602,
          0.051632548527031544,
          0.1677280281947144,
          0.1045703531815422,
          0.1496719239518419,
          0.1392059391444616,
          0.12630566958445058,
          0.11656781346196375,
          0.049208834014092456,
          0.08240459659826026,
          0.0869996957796198,
          0.09494412985287007,
          -0.021523812720027385,
          0.01280251553384269,
          0.04129423581344488,
          0.11814935845629569,
          0.11598900513151662,
          0.15597395328088168,
          0.14255761823959778,
          0.09475170212102657,
          0.135299184558995,
          -0.003507870818410729,
          0.13936107023514163,
          0.24380404581723542,
          0.19745570104851876,
          0.12689987933826347,
          0.17199866520162047,
          0.15945327451121488,
          0.08228333693708359,
          0.19049273804494543,
          0.16310982325783707,
          -0.09639008078019673,
          0.11596087158668258,
          0.05365875165859705,
          0.18323296409616754,
          0.06905940791454881,
          0.18044403225320824,
          0.13423574454768064,
          0.18234728635544767,
          0.21838318011328448,
          0.06555339958878588,
          0.08606400214415925,
          0.10700083273893762,
          0.1408957524416798,
          0.17133520009741524,
          0.15216763425433816,
          0.18724902430288332,
          0.09599511241284815,
          0.15740718931362652,
          0.13184515600186822,
          0.021342613389260332,
          0.16979082765239728,
          0.23279309008089738,
          0.21919282469375478,
          0.11777255285729846,
          0.17661588635189882,
          0.2268440293088974,
          0.16773724648292065,
          0.20472249160667505,
          0.07603071218158018,
          0.14567655793244508,
          0.1555787208180864,
          0.149721704971671,
          0.16032855864911685,
          0.18449919704110251,
          0.14856859754433874,
          0.04742884211902296,
          0.09497305661879146,
          0.1915369124603115,
          0.09365790069803193,
          0.17740257495204212,
          0.12268595113160131,
          0.18212609427717688,
          0.18759829782975934,
          0.07863662999349283,
          0.06253479290147954,
          0.1993610455335078,
          0.10259220631589681,
          0.018746998723187216,
          0.0863884819504649,
          0.07241446054995135,
          0.03759960888309793,
          0.18971952881970322,
          0.21435899331354077,
          0.06149872282297314,
          0.12202438599185957,
          0.1245900031923686,
          0.1128357497091879,
          -0.009088446510417958,
          0.10125914350765902,
          0.14997292941868529,
          0.148896192449227,
          0.06680781931105202,
          0.10350070000453204,
          -0.007187053762590226,
          -0.03875496548377781,
          -0.09194095282904889,
          -0.01792174893083088,
          -0.018123356132584124,
          0.07844529772877426,
          -0.08525163181434015,
          -0.0062862322989107105,
          -0.07196608325277326,
          0.0023704396932195866,
          -0.017564256097109158,
          -0.010712442397432903,
          0.02781743282861525,
          -0.06659629635714806,
          0.01271795907710405,
          -0.010441749140890818,
          0.05743614575574745,
          -0.012246391111448589,
          0.003681305789014899,
          -0.025296119187974555,
          -0.055419027858832626,
          0.009490310436358859,
          0.027708790606320706,
          0.05717048058910401,
          -0.00505980255874051,
          0.01798385938198947,
          0.01806730232176457,
          0.029779629138160384,
          0.03652409322474872,
          0.04828782098831169,
          0.08220164363535562,
          0.04160643841459345,
          0.036486398222213896,
          0.081172836319935,
          0.13567616448507083,
          0.012026049433876623,
          -0.03138802491320801,
          0.012932178091251911,
          -0.01895012988715631,
          -0.04396852862066435,
          -0.03526044623408455,
          -0.024919425217822765,
          -0.00225668321871824
         ],
         "xaxis": "x",
         "y": [
          -0.017082025562142382,
          -0.041260418715891624,
          -0.03041797091263891,
          0.055590775138262896,
          -0.08324902520440541,
          -0.10336812993825838,
          0.042311319402063174,
          0.01851323364325864,
          0.01707296733143854,
          0.046325783342965894,
          0.06307980302878587,
          -0.01890980984542922,
          0.010795253377797428,
          0.047958301162098316,
          0.08376179092822322,
          0.043392928154118514,
          -0.07976233736716293,
          0.0469572574253922,
          0.06559699876747367,
          0.006742514640582156,
          -0.009223215069321998,
          0.03539432912515611,
          0.03245327991242153,
          0.05153694749441574,
          0.020296161312201993,
          0.03375516235332648,
          0.010882873997894166,
          -0.03428440301922065,
          0.08167406206779139,
          0.15087682287895685,
          0.0721690681117293,
          0.0548622392610041,
          0.07533731449070483,
          0.045584723904418624,
          0.0575393635155192,
          0.039255404508182,
          0.07178596974175869,
          0.01619883373139268,
          0.07118281496213189,
          0.050775089437926434,
          -0.003642376169785305,
          0.012080496932293896,
          0.08052953068290436,
          -0.03199997606434043,
          0.008063150459029897,
          0.05179090458704863,
          0.07275812046602849,
          0.0376927494771629,
          0.06901419011608502,
          0.05878296736187756,
          0.05566444492561667,
          0.08132881729890809,
          -0.031945341106516825,
          -0.032920325236139164,
          -0.006510163475065769,
          0.06970835548995342,
          0.02131493569526649,
          -0.03971273177648485,
          0.05175590484257817,
          0.08396864585340597,
          0.07251389793285448,
          0.1335544168786075,
          0.05909357856532903,
          0.07647968040955608,
          0.05523812632739251,
          0.09275434134743869,
          0.06628015009903541,
          0.03876634026967105,
          0.02853020592954768,
          0.07272524562151904,
          0.14325563862648133,
          0.07953366419933122,
          -0.01661535217637,
          0.03402329747240102,
          0.03890582744784446,
          0.09431072746296067,
          0.06414940516909087,
          0.021263609297175735,
          0.10173092222913731,
          0.08046564343151107,
          0.11886197523185588,
          0.13026559107681893,
          0.11615774370185263,
          0.08652893908091765,
          -0.013622685036263002,
          0.024679163616563957,
          0.11276505456650358,
          0.09696152464211374,
          0.17485260842354025,
          0.13965275323391882,
          0.07930963907575429,
          0.042896864359160285,
          -0.013777218548833842,
          0.08381122610970199,
          0.052781841645186914,
          0.003398539760898385,
          0.23437318143315056,
          -0.03175022097324754,
          0.10702436317788853,
          0.11829516660663561,
          -0.02260454741570359,
          0.06464686627141716,
          0.04868811403709885,
          0.10177777037932362,
          0.05545790469594045,
          0.014763149889150073,
          0.07675029006619644,
          0.14382211590123511,
          0.1452363609403646,
          0.12373464825862643,
          0.2531727621817693,
          0.11962438223422406,
          0.1836121195214594,
          0.017361045850873547,
          0.10450994948974877,
          0.037567267899044944,
          0.08874906299813158,
          0.10502210047315955,
          0.13574135106541188,
          0.1241665501321168,
          0.032720119089663664,
          -0.00038415575132938126,
          0.10684824075420117,
          0.05887938976270065,
          0.13081519587380527,
          -0.053887151627545135,
          0.018282952307939703,
          -0.03778483393141176,
          0.07272651786715818,
          -0.00912413947233974,
          0.22338304881265977,
          0.11977187909915853,
          0.04660532744405369,
          0.014572930961524382,
          -0.0007599924590125458,
          0.07409930990049701,
          0.0660171188801262,
          0.017106776776068477,
          0.14968796292280998,
          0.038261863687759703,
          0.08805290218948497,
          0.09743213781544598,
          0.1205506672677473,
          0.11909088433692695,
          0.14891412627303513,
          0.09121916354179908,
          -0.036786666929763304,
          0.11326470147179869,
          -0.030284937599866873,
          0.09339903908887112,
          0.05643846863976758,
          0.15455254577438565,
          0.04984682956384811,
          0.011510481327847988,
          -0.0015725915628526771,
          0.07477253934765614,
          0.12943879876701192,
          0.15844966863429097,
          0.09785544818647003,
          0.25888990048996813,
          0.07525810453256267,
          0.09218877401515879,
          0.030123748365011225,
          0.03359916064947797,
          0.09382701311349755,
          0.20912205024708172,
          0.017412585627615884,
          0.15681595363473722,
          0.03114197838901899,
          0.13627890474389728,
          0.04758771947278552,
          0.11589654848288988,
          0.10774418228142439,
          0.08507396985173733,
          0.09031409269103693,
          0.021361966844082703,
          -0.024315297461165227,
          0.10218662231882183,
          0.1063103848013282,
          0.022338597862220373,
          0.05547372429833668,
          0.03457272754482521,
          0.02454233132854266,
          0.12212328331570015,
          0.044951545019772415,
          0.13233534266188776,
          0.1262617528142761,
          0.10832549123291992,
          0.11371218602656229,
          0.07259929985113549,
          0.11106630787381869,
          0.10211926769049084,
          0.034091428004325686,
          -0.0020318960024960546,
          0.08953379946308031,
          0.047667102137811626,
          0.06688327090273095,
          -0.02345943604614673,
          0.09381110310277585,
          0.07298561673740209,
          0.11469471535888637,
          0.14320360640843524,
          0.13740651617447464,
          0.08467961021074362,
          0.009848260263407953,
          0.058763977951053134,
          0.15471887778635254,
          -0.009086593740989128,
          0.1255635107166281,
          0.09351595038374466,
          0.13432824500021218,
          0.0041705575110614875,
          0.03989327021595941,
          0.06544359902160898,
          0.06953611020030495,
          0.09364170366949182,
          0.09295583855036862,
          0.13202872407868335,
          0.1625661079324772,
          0.06331512249948824,
          0.002700497522194341,
          -0.0038251515586016065,
          0.10234716617122937,
          0.09395645964131308,
          0.15927427176764355,
          -0.0018405701583201716,
          0.04280376796570403,
          0.10150058490806607,
          0.06311078848638134,
          -0.033346433134573146,
          0.004691712018373911,
          0.028574322476552016,
          -0.0132812101586424,
          0.06440062297404496,
          -0.00764459714996876,
          0.04259859927365693,
          -0.019249870586909686,
          -0.029893466428572425,
          -0.018951557046698195,
          -0.03440320718712449,
          0.01535793821975981,
          -0.048465266893219214,
          -0.031103868519067917,
          -0.03668070966462156,
          -0.019650911147629593,
          -0.08492929779347382,
          -0.043966725853174196,
          -0.02073193393275156,
          -0.02223381361964852,
          -0.0380106997166693,
          -0.0888340341707587,
          -0.022839376141270587,
          -0.03641919069705005,
          0.036535481695171956,
          -0.0004057217111710815,
          -0.06804168495341559,
          0.02459472471727541,
          -0.015965432239698884,
          -0.046671610466643206,
          -0.02115134288537209,
          -0.01771592481254915,
          -0.03168750786144172,
          -0.017386815174534713,
          -0.03689908217097548,
          -0.06705066670671886,
          -0.01493284779365074,
          -0.013123535409459642,
          -0.011075039068081839,
          -0.025912670525042574,
          -0.0561480877274244,
          -0.04013807528721089,
          -0.03128893488773943,
          -0.0220927659868873,
          -0.04198257771132859,
          -0.04899963733747413,
          0.022752251271867672,
          -0.07087443648128451,
          -0.0580083167392477,
          -0.02886971612230357,
          -0.08357795765860897,
          -0.04176689921406748,
          -0.005385143426585347,
          -0.026314298508850704,
          0.12705453753329912,
          0.042386889222098885,
          0.09768393405117805,
          0.11164492913115419,
          0.14367918085806522,
          0.04438590169112644,
          0.06596883319935667,
          -0.017943384841525533,
          0.13998527427459376,
          0.1734170637991779,
          -0.04162755661058289,
          0.057488121062513886,
          -0.0465838962730253,
          0.07365197208566356,
          0.0772853075306312,
          0.06353596641072552,
          0.15412038554542998,
          0.10651207602832773,
          0.0684264083881774,
          -0.019962557814052456,
          0.1402784751509943,
          -0.037497958551190196,
          0.00892291469998137,
          0.1068211925625057,
          0.10168319381262057,
          0.10864767953566418,
          0.12469392527469926,
          0.10176935670887521,
          0.005425942838174146,
          0.1769990000607819,
          0.03162472536999129,
          0.058192595361987946,
          0.13709376581835298,
          0.17837593070236227,
          0.07802778417572917,
          -0.0008329335491891313,
          -0.018671425755898995,
          -0.02166022016138704,
          0.176518212266653,
          0.033726697121207606,
          0.10095297461713801,
          0.04200034581272892,
          0.07543479425371513,
          0.04362971625312707,
          0.11284798137229662,
          0.10665043227499542,
          0.08596236295389315,
          0.18633105880551018,
          -0.047975715761920085,
          0.00399714534369594,
          0.10040324020312819,
          0.044043569342742735,
          0.0843257423697345,
          0.14918379756949815,
          -0.03573811989008709,
          0.04225294718729527,
          0.0038307475509314235,
          -0.041354701715939135,
          -0.032407771436016766,
          0.06999404843268082,
          0.03883946480246197,
          -0.056941214255109125,
          0.04588977297893891,
          0.010524316279249692,
          0.06404032236621095,
          -0.055364681268765654,
          0.06062749163590174,
          -0.003077556208949269,
          0.11103849039999408,
          -0.03632678175887742,
          -0.000857197361320175,
          -0.03293153289471221,
          0.027511674028036864,
          0.016784717663589795,
          0.09265218767180566,
          0.005312837463646408,
          0.027457827320903707,
          0.06569958447235293,
          0.06894676375481901,
          0.08921638039844847,
          0.021942091909711116,
          0.06521179295355213,
          0.08705800624415008,
          0.09204691076724826,
          0.13413221073408774,
          0.04444944726384566,
          0.08866124206335006,
          0.04091147944641089,
          0.07219459304520895,
          0.12306738721108089,
          0.08276991512567575,
          0.07202908175577802,
          0.0800013671232094,
          0.12675599594708029,
          0.06264033621116423,
          0.18187032082011462,
          0.09365024146954269,
          0.07610240816142115,
          0.11396104708717526,
          0.06215700665390639,
          0.1001499418336094,
          0.07322789111850073,
          0.09098168826360896,
          0.07890347072694585,
          0.08751361315442747,
          0.03879848071208745,
          0.08295521885367185,
          0.07438127343299142,
          0.08109510680564284,
          0.11205962095986977,
          0.04445260135009758,
          0.0891054996181889,
          0.05680684495266501,
          0.09296875245713818
         ],
         "yaxis": "y"
        },
        {
         "alignmentgroup": "True",
         "hoverlabel": {
          "namelength": 0
         },
         "hovertemplate": "county=Augusta<br>PC4=%{x}",
         "legendgroup": "county=Augusta",
         "marker": {
          "color": "#EF553B",
          "symbol": "circle"
         },
         "name": "county=Augusta",
         "notched": true,
         "offsetgroup": "county=Augusta",
         "showlegend": false,
         "type": "box",
         "x": [
          -0.016871156157164603,
          0.07945366671856652,
          0.06105868256665812,
          0.03064741298300395,
          0.020506468397492518,
          0.10073446642679333,
          0.09620176459483006,
          0.10995812691660987,
          0.08917211584268436,
          0.09279354374169156,
          0.06207676634387497,
          0.04231815444822052,
          0.10951713576917528,
          0.08038886826537094,
          0.006371329050417535,
          0.09027711227257225,
          0.1028666671517999,
          0.07474349758852641,
          0.015422379474789992,
          0.10002111371768861,
          0.050378390530682035,
          0.10767002516992429,
          0.11167776737058228,
          0.011469482858381877,
          0.14610499296287693,
          0.07940633583696899,
          0.06821822550809813,
          0.059056319293786984,
          0.07915129764259884,
          0.04638462849322899,
          0.04792388964418482,
          0.18579647464231508,
          0.2057932591708651,
          0.1481473818158588,
          0.08512731107353677,
          0.12597195651349372,
          0.114775012297609,
          0.1609436994247443,
          0.1244564742770685,
          0.03646168128350839,
          0.133048614154498,
          0.07982479866156415,
          0.1273381716741889,
          0.06397331990378949,
          0.10279159760657781,
          0.11017114402848367,
          0.1596612064198732,
          0.15305091543651453,
          0.10937912426698625,
          0.10086072629110958,
          0.10254769146967829,
          0.1842147560788339,
          0.03462637497405837,
          0.029725270956706424,
          0.036873803921631976,
          -0.029912480272273806,
          0.008309288720087035,
          -0.0004194307727467019,
          -0.10386395989146231,
          0.11295956339026897,
          0.15989395947880017,
          0.02855668369739444,
          0.019057103036358818,
          0.061441139862547,
          0.1131538446483262,
          -0.0147142346880152,
          0.12756212558959762,
          0.04441477127379053,
          0.081157118930342,
          0.11530885772025691,
          0.07738337947117999,
          0.15557498428809077,
          0.0568436984611295,
          0.11417335042435503,
          0.04927598883671652,
          0.11167479421756629,
          0.08306410174126375,
          0.03665985718082442,
          -0.01844312513307746,
          0.04092913508858313,
          -0.015428252389594303,
          0.002961223614717361,
          0.06372544306550208,
          0.004002037811742791,
          0.0268439036257478,
          0.07116742093429332,
          -0.03581056142499872,
          0.04277177901171252,
          0.01087859529313542,
          -0.018033939213052547,
          0.0924146039590104,
          0.12398878277064714,
          0.13208466096681595,
          0.024728940650398594,
          0.07221593193938095,
          0.033256990451313216,
          0.034481805052035505,
          0.060590665083848604,
          0.06379984606966332,
          0.00047289778213550275,
          0.14414896409165184,
          0.0898498669397356,
          0.10286928227638376,
          0.10285839842453628,
          0.05506929881388986,
          0.12430283316085325,
          0.07468257005539336,
          0.045539287833366505,
          0.004828121117071275,
          0.05114979867094271,
          0.013834914624687406,
          0.04710307149316316,
          0.06776229364208182,
          0.1683098265222295,
          -0.03679935039063117,
          0.10884390013681676,
          0.03408627334586223,
          -0.014800818190768289,
          0.08649688800684958,
          0.017776571429009715,
          0.06222108134776698,
          0.12214640016249352,
          -0.023764611534012336,
          0.020507538039488734,
          -0.027884055680103055,
          0.08502702066491848,
          0.022039517633867717,
          0.05503622488263972,
          0.009509257664936937,
          0.12190669358637563,
          -0.003314560912515678,
          0.05115576511311814,
          0.04431774605624486,
          0.10669874134033475,
          0.09258488982428584,
          0.04599285533520644,
          0.14579220300774426,
          0.019746892345589188,
          -0.010840807157895396,
          0.0005347519100056474,
          -0.04406720778631488,
          -0.009859479594326953,
          0.03741096342219822,
          0.0389709736942348,
          -0.06480059681978671,
          0.15939344219589202,
          0.07338689417042887,
          0.024680919325583854,
          0.058636247182903486,
          -0.04281461578069347,
          0.08139142968965861,
          -0.07812328306969517,
          0.08074161544787775,
          -0.0010014545182218417,
          0.13147171298938803,
          0.06684933868482944,
          0.015628696230288782,
          -0.04906224842679459,
          -0.018388193176349116,
          -0.04695091471132445,
          0.00565740061428724,
          -0.0131781297075922,
          0.06100395936416255,
          0.0906772597183477,
          0.04966247197157914,
          0.025184607301226063,
          0.04241537414709371,
          0.0743708172090937,
          0.16967162879778303,
          0.04767058431628983,
          0.011524086693082731,
          0.025894271210794715,
          -0.022920596518152297,
          0.012404584158041316,
          0.008520653827497055,
          0.13043172606980344,
          0.12093748184379992,
          0.03203312783592971,
          -0.042391333944894694,
          0.10701342819758834,
          0.08378535862775835,
          0.08862965906781606,
          0.07629354110589659,
          0.0676237407780211,
          0.051772020930850746,
          0.05889675481217035,
          0.02726153318301795,
          0.000623956866181962,
          0.0767962683448474,
          0.03235655396432389,
          0.026882437336610922,
          0.08239028515037891,
          0.08210832735115603,
          0.10453257266190448,
          0.05779716166118636,
          0.06844660993861734,
          -0.012970715716707545,
          0.06491006418037819,
          0.04472628007410175,
          0.014179554200398901,
          0.007288370044234801,
          0.005514786647306078,
          -0.07251726021963309,
          0.001941763283071798,
          0.012650732443820855,
          0.15733110795082964,
          0.11491017740519216,
          0.05305981637315043,
          0.06902155911985404,
          0.14907294225252538,
          0.0004904978284478668,
          0.07661135638514677,
          0.13655271768891622,
          0.0883100590632256,
          0.14230156725214474,
          0.09765399274412939,
          0.09985935011349921,
          -0.010151799092910673,
          0.03483729119731086,
          0.05945375027201103,
          0.12228449356290493,
          0.10240969429396043,
          0.03431655302363408,
          -0.004098615908097594,
          0.03075460437465088,
          0.13633735337522854,
          0.09042938134747995,
          0.017505041191476986,
          0.12999080033689028,
          0.11088831766320563,
          0.1313141619755048,
          0.046241904723802046,
          0.1014972851604973,
          0.004191539543369887,
          0.0984375375380163,
          0.03194947869748388,
          0.06454947892968368,
          0.16022800080223476,
          0.15825904414715447,
          0.061033657937390275,
          0.02879086164220271,
          0.08359504731653374,
          -0.022189431407450458,
          0.07368033566747076,
          0.0567429491854643,
          0.12650094554109473,
          0.1261849142027696,
          0.11355345609774782,
          0.0948502587534502,
          0.04455877458177069,
          0.06271742533830295,
          0.07514542787694542,
          0.10020256549917184,
          0.055742920863791984,
          -0.02236226370493236,
          0.048251549838873295,
          -0.03585500101498492,
          -0.013097681237225526,
          0.03440214229153702,
          0.045306559026821194,
          0.030786219733060602,
          0.051632548527031544,
          0.1677280281947144,
          0.1045703531815422,
          0.1496719239518419,
          0.1392059391444616,
          0.12630566958445058,
          0.11656781346196375,
          0.049208834014092456,
          0.08240459659826026,
          0.0869996957796198,
          0.09494412985287007,
          -0.021523812720027385,
          0.01280251553384269,
          0.04129423581344488,
          0.11814935845629569,
          0.11598900513151662,
          0.15597395328088168,
          0.14255761823959778,
          0.09475170212102657,
          0.135299184558995,
          -0.003507870818410729,
          0.13936107023514163,
          0.24380404581723542,
          0.19745570104851876,
          0.12689987933826347,
          0.17199866520162047,
          0.15945327451121488,
          0.08228333693708359,
          0.19049273804494543,
          0.16310982325783707,
          -0.09639008078019673,
          0.11596087158668258,
          0.05365875165859705,
          0.18323296409616754,
          0.06905940791454881,
          0.18044403225320824,
          0.13423574454768064,
          0.18234728635544767,
          0.21838318011328448,
          0.06555339958878588,
          0.08606400214415925,
          0.10700083273893762,
          0.1408957524416798,
          0.17133520009741524,
          0.15216763425433816,
          0.18724902430288332,
          0.09599511241284815,
          0.15740718931362652,
          0.13184515600186822,
          0.021342613389260332,
          0.16979082765239728,
          0.23279309008089738,
          0.21919282469375478,
          0.11777255285729846,
          0.17661588635189882,
          0.2268440293088974,
          0.16773724648292065,
          0.20472249160667505,
          0.07603071218158018,
          0.14567655793244508,
          0.1555787208180864,
          0.149721704971671,
          0.16032855864911685,
          0.18449919704110251,
          0.14856859754433874,
          0.04742884211902296,
          0.09497305661879146,
          0.1915369124603115,
          0.09365790069803193,
          0.17740257495204212,
          0.12268595113160131,
          0.18212609427717688,
          0.18759829782975934,
          0.07863662999349283,
          0.06253479290147954,
          0.1993610455335078,
          0.10259220631589681,
          0.018746998723187216,
          0.0863884819504649,
          0.07241446054995135,
          0.03759960888309793,
          0.18971952881970322,
          0.21435899331354077,
          0.06149872282297314,
          0.12202438599185957,
          0.1245900031923686,
          0.1128357497091879,
          -0.009088446510417958,
          0.10125914350765902,
          0.14997292941868529,
          0.148896192449227,
          0.06680781931105202,
          0.10350070000453204,
          -0.007187053762590226,
          -0.03875496548377781,
          -0.09194095282904889,
          -0.01792174893083088,
          -0.018123356132584124,
          0.07844529772877426,
          -0.08525163181434015,
          -0.0062862322989107105,
          -0.07196608325277326,
          0.0023704396932195866,
          -0.017564256097109158,
          -0.010712442397432903,
          0.02781743282861525,
          -0.06659629635714806,
          0.01271795907710405,
          -0.010441749140890818,
          0.05743614575574745,
          -0.012246391111448589,
          0.003681305789014899,
          -0.025296119187974555,
          -0.055419027858832626,
          0.009490310436358859,
          0.027708790606320706,
          0.05717048058910401,
          -0.00505980255874051,
          0.01798385938198947,
          0.01806730232176457,
          0.029779629138160384,
          0.03652409322474872,
          0.04828782098831169,
          0.08220164363535562,
          0.04160643841459345,
          0.036486398222213896,
          0.081172836319935,
          0.13567616448507083,
          0.012026049433876623,
          -0.03138802491320801,
          0.012932178091251911,
          -0.01895012988715631,
          -0.04396852862066435,
          -0.03526044623408455,
          -0.024919425217822765,
          -0.00225668321871824
         ],
         "xaxis": "x2",
         "yaxis": "y2"
        }
       ],
       "layout": {
        "autosize": true,
        "legend": {
         "tracegroupgap": 0
        },
        "margin": {
         "t": 60
        },
        "template": {
         "data": {
          "bar": [
           {
            "error_x": {
             "color": "#2a3f5f"
            },
            "error_y": {
             "color": "#2a3f5f"
            },
            "marker": {
             "line": {
              "color": "#E5ECF6",
              "width": 0.5
             }
            },
            "type": "bar"
           }
          ],
          "barpolar": [
           {
            "marker": {
             "line": {
              "color": "#E5ECF6",
              "width": 0.5
             }
            },
            "type": "barpolar"
           }
          ],
          "carpet": [
           {
            "aaxis": {
             "endlinecolor": "#2a3f5f",
             "gridcolor": "white",
             "linecolor": "white",
             "minorgridcolor": "white",
             "startlinecolor": "#2a3f5f"
            },
            "baxis": {
             "endlinecolor": "#2a3f5f",
             "gridcolor": "white",
             "linecolor": "white",
             "minorgridcolor": "white",
             "startlinecolor": "#2a3f5f"
            },
            "type": "carpet"
           }
          ],
          "choropleth": [
           {
            "colorbar": {
             "outlinewidth": 0,
             "ticks": ""
            },
            "type": "choropleth"
           }
          ],
          "contour": [
           {
            "colorbar": {
             "outlinewidth": 0,
             "ticks": ""
            },
            "colorscale": [
             [
              0,
              "#0d0887"
             ],
             [
              0.1111111111111111,
              "#46039f"
             ],
             [
              0.2222222222222222,
              "#7201a8"
             ],
             [
              0.3333333333333333,
              "#9c179e"
             ],
             [
              0.4444444444444444,
              "#bd3786"
             ],
             [
              0.5555555555555556,
              "#d8576b"
             ],
             [
              0.6666666666666666,
              "#ed7953"
             ],
             [
              0.7777777777777778,
              "#fb9f3a"
             ],
             [
              0.8888888888888888,
              "#fdca26"
             ],
             [
              1,
              "#f0f921"
             ]
            ],
            "type": "contour"
           }
          ],
          "contourcarpet": [
           {
            "colorbar": {
             "outlinewidth": 0,
             "ticks": ""
            },
            "type": "contourcarpet"
           }
          ],
          "heatmap": [
           {
            "colorbar": {
             "outlinewidth": 0,
             "ticks": ""
            },
            "colorscale": [
             [
              0,
              "#0d0887"
             ],
             [
              0.1111111111111111,
              "#46039f"
             ],
             [
              0.2222222222222222,
              "#7201a8"
             ],
             [
              0.3333333333333333,
              "#9c179e"
             ],
             [
              0.4444444444444444,
              "#bd3786"
             ],
             [
              0.5555555555555556,
              "#d8576b"
             ],
             [
              0.6666666666666666,
              "#ed7953"
             ],
             [
              0.7777777777777778,
              "#fb9f3a"
             ],
             [
              0.8888888888888888,
              "#fdca26"
             ],
             [
              1,
              "#f0f921"
             ]
            ],
            "type": "heatmap"
           }
          ],
          "heatmapgl": [
           {
            "colorbar": {
             "outlinewidth": 0,
             "ticks": ""
            },
            "colorscale": [
             [
              0,
              "#0d0887"
             ],
             [
              0.1111111111111111,
              "#46039f"
             ],
             [
              0.2222222222222222,
              "#7201a8"
             ],
             [
              0.3333333333333333,
              "#9c179e"
             ],
             [
              0.4444444444444444,
              "#bd3786"
             ],
             [
              0.5555555555555556,
              "#d8576b"
             ],
             [
              0.6666666666666666,
              "#ed7953"
             ],
             [
              0.7777777777777778,
              "#fb9f3a"
             ],
             [
              0.8888888888888888,
              "#fdca26"
             ],
             [
              1,
              "#f0f921"
             ]
            ],
            "type": "heatmapgl"
           }
          ],
          "histogram": [
           {
            "marker": {
             "colorbar": {
              "outlinewidth": 0,
              "ticks": ""
             }
            },
            "type": "histogram"
           }
          ],
          "histogram2d": [
           {
            "colorbar": {
             "outlinewidth": 0,
             "ticks": ""
            },
            "colorscale": [
             [
              0,
              "#0d0887"
             ],
             [
              0.1111111111111111,
              "#46039f"
             ],
             [
              0.2222222222222222,
              "#7201a8"
             ],
             [
              0.3333333333333333,
              "#9c179e"
             ],
             [
              0.4444444444444444,
              "#bd3786"
             ],
             [
              0.5555555555555556,
              "#d8576b"
             ],
             [
              0.6666666666666666,
              "#ed7953"
             ],
             [
              0.7777777777777778,
              "#fb9f3a"
             ],
             [
              0.8888888888888888,
              "#fdca26"
             ],
             [
              1,
              "#f0f921"
             ]
            ],
            "type": "histogram2d"
           }
          ],
          "histogram2dcontour": [
           {
            "colorbar": {
             "outlinewidth": 0,
             "ticks": ""
            },
            "colorscale": [
             [
              0,
              "#0d0887"
             ],
             [
              0.1111111111111111,
              "#46039f"
             ],
             [
              0.2222222222222222,
              "#7201a8"
             ],
             [
              0.3333333333333333,
              "#9c179e"
             ],
             [
              0.4444444444444444,
              "#bd3786"
             ],
             [
              0.5555555555555556,
              "#d8576b"
             ],
             [
              0.6666666666666666,
              "#ed7953"
             ],
             [
              0.7777777777777778,
              "#fb9f3a"
             ],
             [
              0.8888888888888888,
              "#fdca26"
             ],
             [
              1,
              "#f0f921"
             ]
            ],
            "type": "histogram2dcontour"
           }
          ],
          "mesh3d": [
           {
            "colorbar": {
             "outlinewidth": 0,
             "ticks": ""
            },
            "type": "mesh3d"
           }
          ],
          "parcoords": [
           {
            "line": {
             "colorbar": {
              "outlinewidth": 0,
              "ticks": ""
             }
            },
            "type": "parcoords"
           }
          ],
          "pie": [
           {
            "automargin": true,
            "type": "pie"
           }
          ],
          "scatter": [
           {
            "marker": {
             "colorbar": {
              "outlinewidth": 0,
              "ticks": ""
             }
            },
            "type": "scatter"
           }
          ],
          "scatter3d": [
           {
            "line": {
             "colorbar": {
              "outlinewidth": 0,
              "ticks": ""
             }
            },
            "marker": {
             "colorbar": {
              "outlinewidth": 0,
              "ticks": ""
             }
            },
            "type": "scatter3d"
           }
          ],
          "scattercarpet": [
           {
            "marker": {
             "colorbar": {
              "outlinewidth": 0,
              "ticks": ""
             }
            },
            "type": "scattercarpet"
           }
          ],
          "scattergeo": [
           {
            "marker": {
             "colorbar": {
              "outlinewidth": 0,
              "ticks": ""
             }
            },
            "type": "scattergeo"
           }
          ],
          "scattergl": [
           {
            "marker": {
             "colorbar": {
              "outlinewidth": 0,
              "ticks": ""
             }
            },
            "type": "scattergl"
           }
          ],
          "scattermapbox": [
           {
            "marker": {
             "colorbar": {
              "outlinewidth": 0,
              "ticks": ""
             }
            },
            "type": "scattermapbox"
           }
          ],
          "scatterpolar": [
           {
            "marker": {
             "colorbar": {
              "outlinewidth": 0,
              "ticks": ""
             }
            },
            "type": "scatterpolar"
           }
          ],
          "scatterpolargl": [
           {
            "marker": {
             "colorbar": {
              "outlinewidth": 0,
              "ticks": ""
             }
            },
            "type": "scatterpolargl"
           }
          ],
          "scatterternary": [
           {
            "marker": {
             "colorbar": {
              "outlinewidth": 0,
              "ticks": ""
             }
            },
            "type": "scatterternary"
           }
          ],
          "surface": [
           {
            "colorbar": {
             "outlinewidth": 0,
             "ticks": ""
            },
            "colorscale": [
             [
              0,
              "#0d0887"
             ],
             [
              0.1111111111111111,
              "#46039f"
             ],
             [
              0.2222222222222222,
              "#7201a8"
             ],
             [
              0.3333333333333333,
              "#9c179e"
             ],
             [
              0.4444444444444444,
              "#bd3786"
             ],
             [
              0.5555555555555556,
              "#d8576b"
             ],
             [
              0.6666666666666666,
              "#ed7953"
             ],
             [
              0.7777777777777778,
              "#fb9f3a"
             ],
             [
              0.8888888888888888,
              "#fdca26"
             ],
             [
              1,
              "#f0f921"
             ]
            ],
            "type": "surface"
           }
          ],
          "table": [
           {
            "cells": {
             "fill": {
              "color": "#EBF0F8"
             },
             "line": {
              "color": "white"
             }
            },
            "header": {
             "fill": {
              "color": "#C8D4E3"
             },
             "line": {
              "color": "white"
             }
            },
            "type": "table"
           }
          ]
         },
         "layout": {
          "annotationdefaults": {
           "arrowcolor": "#2a3f5f",
           "arrowhead": 0,
           "arrowwidth": 1
          },
          "coloraxis": {
           "colorbar": {
            "outlinewidth": 0,
            "ticks": ""
           }
          },
          "colorscale": {
           "diverging": [
            [
             0,
             "#8e0152"
            ],
            [
             0.1,
             "#c51b7d"
            ],
            [
             0.2,
             "#de77ae"
            ],
            [
             0.3,
             "#f1b6da"
            ],
            [
             0.4,
             "#fde0ef"
            ],
            [
             0.5,
             "#f7f7f7"
            ],
            [
             0.6,
             "#e6f5d0"
            ],
            [
             0.7,
             "#b8e186"
            ],
            [
             0.8,
             "#7fbc41"
            ],
            [
             0.9,
             "#4d9221"
            ],
            [
             1,
             "#276419"
            ]
           ],
           "sequential": [
            [
             0,
             "#0d0887"
            ],
            [
             0.1111111111111111,
             "#46039f"
            ],
            [
             0.2222222222222222,
             "#7201a8"
            ],
            [
             0.3333333333333333,
             "#9c179e"
            ],
            [
             0.4444444444444444,
             "#bd3786"
            ],
            [
             0.5555555555555556,
             "#d8576b"
            ],
            [
             0.6666666666666666,
             "#ed7953"
            ],
            [
             0.7777777777777778,
             "#fb9f3a"
            ],
            [
             0.8888888888888888,
             "#fdca26"
            ],
            [
             1,
             "#f0f921"
            ]
           ],
           "sequentialminus": [
            [
             0,
             "#0d0887"
            ],
            [
             0.1111111111111111,
             "#46039f"
            ],
            [
             0.2222222222222222,
             "#7201a8"
            ],
            [
             0.3333333333333333,
             "#9c179e"
            ],
            [
             0.4444444444444444,
             "#bd3786"
            ],
            [
             0.5555555555555556,
             "#d8576b"
            ],
            [
             0.6666666666666666,
             "#ed7953"
            ],
            [
             0.7777777777777778,
             "#fb9f3a"
            ],
            [
             0.8888888888888888,
             "#fdca26"
            ],
            [
             1,
             "#f0f921"
            ]
           ]
          },
          "colorway": [
           "#636efa",
           "#EF553B",
           "#00cc96",
           "#ab63fa",
           "#FFA15A",
           "#19d3f3",
           "#FF6692",
           "#B6E880",
           "#FF97FF",
           "#FECB52"
          ],
          "font": {
           "color": "#2a3f5f"
          },
          "geo": {
           "bgcolor": "white",
           "lakecolor": "white",
           "landcolor": "#E5ECF6",
           "showlakes": true,
           "showland": true,
           "subunitcolor": "white"
          },
          "hoverlabel": {
           "align": "left"
          },
          "hovermode": "closest",
          "mapbox": {
           "style": "light"
          },
          "paper_bgcolor": "white",
          "plot_bgcolor": "#E5ECF6",
          "polar": {
           "angularaxis": {
            "gridcolor": "white",
            "linecolor": "white",
            "ticks": ""
           },
           "bgcolor": "#E5ECF6",
           "radialaxis": {
            "gridcolor": "white",
            "linecolor": "white",
            "ticks": ""
           }
          },
          "scene": {
           "xaxis": {
            "backgroundcolor": "#E5ECF6",
            "gridcolor": "white",
            "gridwidth": 2,
            "linecolor": "white",
            "showbackground": true,
            "ticks": "",
            "zerolinecolor": "white"
           },
           "yaxis": {
            "backgroundcolor": "#E5ECF6",
            "gridcolor": "white",
            "gridwidth": 2,
            "linecolor": "white",
            "showbackground": true,
            "ticks": "",
            "zerolinecolor": "white"
           },
           "zaxis": {
            "backgroundcolor": "#E5ECF6",
            "gridcolor": "white",
            "gridwidth": 2,
            "linecolor": "white",
            "showbackground": true,
            "ticks": "",
            "zerolinecolor": "white"
           }
          },
          "shapedefaults": {
           "line": {
            "color": "#2a3f5f"
           }
          },
          "ternary": {
           "aaxis": {
            "gridcolor": "white",
            "linecolor": "white",
            "ticks": ""
           },
           "baxis": {
            "gridcolor": "white",
            "linecolor": "white",
            "ticks": ""
           },
           "bgcolor": "#E5ECF6",
           "caxis": {
            "gridcolor": "white",
            "linecolor": "white",
            "ticks": ""
           }
          },
          "title": {
           "x": 0.05
          },
          "xaxis": {
           "automargin": true,
           "gridcolor": "white",
           "linecolor": "white",
           "ticks": "",
           "title": {
            "standoff": 15
           },
           "zerolinecolor": "white",
           "zerolinewidth": 2
          },
          "yaxis": {
           "automargin": true,
           "gridcolor": "white",
           "linecolor": "white",
           "ticks": "",
           "title": {
            "standoff": 15
           },
           "zerolinecolor": "white",
           "zerolinewidth": 2
          }
         }
        },
        "xaxis": {
         "anchor": "y",
         "autorange": true,
         "domain": [
          0,
          1
         ],
         "range": [
          -0.14997546836766074,
          0.2668499654291314
         ],
         "title": {
          "text": "PC4"
         },
         "type": "linear"
        },
        "xaxis2": {
         "anchor": "y2",
         "autorange": true,
         "domain": [
          0,
          1
         ],
         "matches": "x",
         "range": [
          -0.14997546836766074,
          0.2668499654291314
         ],
         "showgrid": true,
         "showticklabels": false,
         "type": "linear"
        },
        "yaxis": {
         "anchor": "x",
         "autorange": true,
         "domain": [
          0,
          0.7326
         ],
         "range": [
          -0.47483524045987674,
          0.3168978642844475
         ],
         "title": {
          "text": "PC2"
         },
         "type": "linear"
        },
        "yaxis2": {
         "anchor": "x2",
         "autorange": true,
         "domain": [
          0.7426,
          1
         ],
         "matches": "y2",
         "range": [
          -0.5,
          1.5
         ],
         "showgrid": false,
         "showline": false,
         "showticklabels": false,
         "ticks": "",
         "type": "category"
        }
       }
      },
      "image/png": "[encoded data removed]",
      "text/html": [
       "<div>\n",
       "        \n",
       "        \n",
       "            <div id=\"09cbaf5e-623e-4a0d-84e6-12bda44a9148\" class=\"plotly-graph-div\" style=\"height:600px; width:100%;\"></div>\n",
       "            <script type=\"text/javascript\">\n",
       "                require([\"plotly\"], function(Plotly) {\n",
       "                    window.PLOTLYENV=window.PLOTLYENV || {};\n",
       "                    \n",
       "                if (document.getElementById(\"09cbaf5e-623e-4a0d-84e6-12bda44a9148\")) {\n",
       "                    Plotly.newPlot(\n",
       "                        '09cbaf5e-623e-4a0d-84e6-12bda44a9148',\n",
       "                        [{\"hoverlabel\": {\"namelength\": 0}, \"hovertemplate\": \"county=Franklin<br>PC4=%{x}<br>PC2=%{y}\", \"legendgroup\": \"county=Franklin\", \"marker\": {\"color\": \"#636efa\", \"symbol\": \"circle\"}, \"mode\": \"markers\", \"name\": \"county=Franklin\", \"showlegend\": true, \"type\": \"scatter\", \"x\": [-0.0751207822565567, -0.07840607130401248, -0.11423237492878796, -0.07803823434159311, -0.08571031493535858, -0.029600220008920083, -0.06478290492402473, -0.07699329666036905, -0.09342559845759948, -0.12077417883353425, -0.046325867937679906, -0.018743136607941708, -0.06332439502328478, -0.08610286511913069, -0.09898049871158493, -0.12603373803994794, -0.09048574082065895, -0.047902316644443284, 0.025465233113566833, -0.06800488932554047, -0.12153620580256766, -0.12692954875576476, -0.11062954760598412, -0.10854044925257797, -0.06504331067273623, -0.09577235015954966, -0.11951640695101788, -0.01197844299154548, -0.0635528769275631, -0.0014837829028398716, -0.03431760924186766, -0.05416825012773813, -0.059363168418399004, -0.017276571009126256, -0.013762924262295697, -0.044638034925058745, -0.003068265201713849, -0.04419845773853884, -0.02417851816286794, -0.041993659493953645, 0.01232648430073177, 0.016618695580923364, -0.022181195033930092, -0.032717478869717244, -0.004012307710956574, -0.05643475670251825, -0.034757097847147124, -0.0452541513912018, -0.05933139117996727, -0.01582721815976767, -0.021722510920463834, -0.029474409520745034, 0.014346982775768347, -0.04147880334134278, -0.06515403738202825, 0.002070096250691728, -0.05201796596834047, -0.08280151695324357, -0.03782892112293866, -0.03863550203468214, -0.05020793455411472, -0.08060934481981047, -0.06268381378567031, -0.03235553561658197, -0.06199785038219816, -0.052421427044751535, -0.04912929055905687, -0.037434031047195414, -0.009898793659770849, 0.034050842174833014, -0.04543534381007326, -0.008631696506147186, -0.02890975705863601, -0.11785151170796512, -0.051008211561022365, -0.05986997383166295, -0.05512078882134088, 0.0014224488557584172, -0.05831989108373404, -0.0237660056790908, -0.04422342945276712, -0.05867054875619875, 0.010439551199503122, 0.02467294069258087, -0.03106813918304049, 0.03656223002118691, -0.011077937345340075, 0.08650876172409379, -0.002041207556184833, 0.06213170214124558, 0.04554451875466231, -0.018560019944320372, -0.01634769617247727, -0.021151075689319374, -0.026798011257694612, 0.059004618292514285, -0.017437422974058446, 0.032778867937010424, 0.04910324387818533, -0.010265063381816365, -0.022910832271780122, 0.033249233444428095, 0.010805944578006573, 0.06318305984686137, -0.00816897428046436, -0.04105926059615005, -0.04435341995397348, 0.02920098834408805, 0.012957490872446296, 0.05558841494780362, 0.04555436141394843], \"xaxis\": \"x\", \"y\": [0.00914627663683646, 0.06710799581637333, 0.02652741627215588, 0.026530121036544296, 0.05295178130646724, 0.009995057753514024, 0.012203620131876442, -0.02631423420189457, 0.017333970101104403, 0.05475952708339569, -0.0010790067706014286, -0.015386940499339126, 0.013365897979944596, 0.0379280589760073, 0.03340003575258164, 0.05688507369040102, 0.03781492599552568, 0.054214606733462574, -0.03617947375407999, 0.003499628160881926, 0.057743703228927204, 0.07385052654917454, 0.04253886289670768, 0.06651492118585788, 0.03600868449217127, 0.07689290194738524, 0.06208030110590266, -0.007117369678180853, 0.07118571676273355, 0.020396347453070448, -0.00927389078736979, 0.022144894794808048, 0.043466181166107336, 0.005505232311352917, -0.03582878541757355, 0.010626453642463996, 0.00427323047324611, -0.0013227724012612153, 0.021259349489217913, -0.004026225646372832, 0.0193819772631131, 0.03137485241603034, -0.017185846752354805, -0.3481270920654209, -0.272540843722568, -0.2839457200469656, -0.20779316022776506, -0.31288463845497066, -0.3330763492955532, -0.289634996033549, -0.34683817381382376, -0.33005366863780194, -0.30466524657890864, -0.34996127178167435, -0.24166226531912113, -0.3009257648688993, -0.37971372824648764, -0.20691320296009133, -0.4168272766653974, -0.4106682671547945, -0.34780652290838265, -0.3613764668495891, -0.24165798960798923, -0.3264501246104655, -0.3208235432866353, -0.3227641761660216, -0.2582229082651686, -0.291877251382653, -0.32578361111648335, -0.36721578577894964, -0.3636717529775993, -0.3202293159596944, -0.39657847355272113, -0.3019533489065914, -0.3888535482218696, -0.2956271906158757, -0.2466908159710378, -0.301931517993594, -0.31395930631423624, -0.33513912962588155, -0.33812339745924774, -0.2908320620978448, -0.11635306722600157, -0.03895404780161444, -0.037755744348968036, 0.02040679569076125, -0.02254913491097834, -0.05515116241765575, 0.04104561747977114, -0.04379988764063617, 0.063314171363913, -0.02519132696061967, 0.03518162533416989, -0.015120160797277545, -0.07317905104891377, 0.010170597136532487, -0.041841072521412614, -0.05638018291717924, -0.014271628639340908, -0.004017319258715544, 0.04853773620545448, -0.08199950924117741, -0.03213229140855367, -0.034705408544908715, -0.04836287711215281, -0.05783834222303242, -0.0313429222110314, -0.014240415008393618, -0.025116826604495567, -0.052391686313251404, 0.02781109076420184], \"yaxis\": \"y\"}, {\"alignmentgroup\": \"True\", \"hoverlabel\": {\"namelength\": 0}, \"hovertemplate\": \"county=Franklin<br>PC4=%{x}\", \"legendgroup\": \"county=Franklin\", \"marker\": {\"color\": \"#636efa\", \"symbol\": \"circle\"}, \"name\": \"county=Franklin\", \"notched\": true, \"offsetgroup\": \"county=Franklin\", \"showlegend\": false, \"type\": \"box\", \"x\": [-0.0751207822565567, -0.07840607130401248, -0.11423237492878796, -0.07803823434159311, -0.08571031493535858, -0.029600220008920083, -0.06478290492402473, -0.07699329666036905, -0.09342559845759948, -0.12077417883353425, -0.046325867937679906, -0.018743136607941708, -0.06332439502328478, -0.08610286511913069, -0.09898049871158493, -0.12603373803994794, -0.09048574082065895, -0.047902316644443284, 0.025465233113566833, -0.06800488932554047, -0.12153620580256766, -0.12692954875576476, -0.11062954760598412, -0.10854044925257797, -0.06504331067273623, -0.09577235015954966, -0.11951640695101788, -0.01197844299154548, -0.0635528769275631, -0.0014837829028398716, -0.03431760924186766, -0.05416825012773813, -0.059363168418399004, -0.017276571009126256, -0.013762924262295697, -0.044638034925058745, -0.003068265201713849, -0.04419845773853884, -0.02417851816286794, -0.041993659493953645, 0.01232648430073177, 0.016618695580923364, -0.022181195033930092, -0.032717478869717244, -0.004012307710956574, -0.05643475670251825, -0.034757097847147124, -0.0452541513912018, -0.05933139117996727, -0.01582721815976767, -0.021722510920463834, -0.029474409520745034, 0.014346982775768347, -0.04147880334134278, -0.06515403738202825, 0.002070096250691728, -0.05201796596834047, -0.08280151695324357, -0.03782892112293866, -0.03863550203468214, -0.05020793455411472, -0.08060934481981047, -0.06268381378567031, -0.03235553561658197, -0.06199785038219816, -0.052421427044751535, -0.04912929055905687, -0.037434031047195414, -0.009898793659770849, 0.034050842174833014, -0.04543534381007326, -0.008631696506147186, -0.02890975705863601, -0.11785151170796512, -0.051008211561022365, -0.05986997383166295, -0.05512078882134088, 0.0014224488557584172, -0.05831989108373404, -0.0237660056790908, -0.04422342945276712, -0.05867054875619875, 0.010439551199503122, 0.02467294069258087, -0.03106813918304049, 0.03656223002118691, -0.011077937345340075, 0.08650876172409379, -0.002041207556184833, 0.06213170214124558, 0.04554451875466231, -0.018560019944320372, -0.01634769617247727, -0.021151075689319374, -0.026798011257694612, 0.059004618292514285, -0.017437422974058446, 0.032778867937010424, 0.04910324387818533, -0.010265063381816365, -0.022910832271780122, 0.033249233444428095, 0.010805944578006573, 0.06318305984686137, -0.00816897428046436, -0.04105926059615005, -0.04435341995397348, 0.02920098834408805, 0.012957490872446296, 0.05558841494780362, 0.04555436141394843], \"xaxis\": \"x2\", \"yaxis\": \"y2\"}, {\"hoverlabel\": {\"namelength\": 0}, \"hovertemplate\": \"county=Augusta<br>PC4=%{x}<br>PC2=%{y}\", \"legendgroup\": \"county=Augusta\", \"marker\": {\"color\": \"#EF553B\", \"symbol\": \"circle\"}, \"mode\": \"markers\", \"name\": \"county=Augusta\", \"showlegend\": true, \"type\": \"scatter\", \"x\": [-0.016871156157164603, 0.07945366671856652, 0.06105868256665812, 0.03064741298300395, 0.020506468397492518, 0.10073446642679333, 0.09620176459483006, 0.10995812691660987, 0.08917211584268436, 0.09279354374169156, 0.06207676634387497, 0.04231815444822052, 0.10951713576917528, 0.08038886826537094, 0.006371329050417535, 0.09027711227257225, 0.1028666671517999, 0.07474349758852641, 0.015422379474789992, 0.10002111371768861, 0.050378390530682035, 0.10767002516992429, 0.11167776737058228, 0.011469482858381877, 0.14610499296287693, 0.07940633583696899, 0.06821822550809813, 0.059056319293786984, 0.07915129764259884, 0.04638462849322899, 0.04792388964418482, 0.18579647464231508, 0.2057932591708651, 0.1481473818158588, 0.08512731107353677, 0.12597195651349372, 0.114775012297609, 0.1609436994247443, 0.1244564742770685, 0.03646168128350839, 0.133048614154498, 0.07982479866156415, 0.1273381716741889, 0.06397331990378949, 0.10279159760657781, 0.11017114402848367, 0.1596612064198732, 0.15305091543651453, 0.10937912426698625, 0.10086072629110958, 0.10254769146967829, 0.1842147560788339, 0.03462637497405837, 0.029725270956706424, 0.036873803921631976, -0.029912480272273806, 0.008309288720087035, -0.0004194307727467019, -0.10386395989146231, 0.11295956339026897, 0.15989395947880017, 0.02855668369739444, 0.019057103036358818, 0.061441139862547, 0.1131538446483262, -0.0147142346880152, 0.12756212558959762, 0.04441477127379053, 0.081157118930342, 0.11530885772025691, 0.07738337947117999, 0.15557498428809077, 0.0568436984611295, 0.11417335042435503, 0.04927598883671652, 0.11167479421756629, 0.08306410174126375, 0.03665985718082442, -0.01844312513307746, 0.04092913508858313, -0.015428252389594303, 0.002961223614717361, 0.06372544306550208, 0.004002037811742791, 0.0268439036257478, 0.07116742093429332, -0.03581056142499872, 0.04277177901171252, 0.01087859529313542, -0.018033939213052547, 0.0924146039590104, 0.12398878277064714, 0.13208466096681595, 0.024728940650398594, 0.07221593193938095, 0.033256990451313216, 0.034481805052035505, 0.060590665083848604, 0.06379984606966332, 0.00047289778213550275, 0.14414896409165184, 0.0898498669397356, 0.10286928227638376, 0.10285839842453628, 0.05506929881388986, 0.12430283316085325, 0.07468257005539336, 0.045539287833366505, 0.004828121117071275, 0.05114979867094271, 0.013834914624687406, 0.04710307149316316, 0.06776229364208182, 0.1683098265222295, -0.03679935039063117, 0.10884390013681676, 0.03408627334586223, -0.014800818190768289, 0.08649688800684958, 0.017776571429009715, 0.06222108134776698, 0.12214640016249352, -0.023764611534012336, 0.020507538039488734, -0.027884055680103055, 0.08502702066491848, 0.022039517633867717, 0.05503622488263972, 0.009509257664936937, 0.12190669358637563, -0.003314560912515678, 0.05115576511311814, 0.04431774605624486, 0.10669874134033475, 0.09258488982428584, 0.04599285533520644, 0.14579220300774426, 0.019746892345589188, -0.010840807157895396, 0.0005347519100056474, -0.04406720778631488, -0.009859479594326953, 0.03741096342219822, 0.0389709736942348, -0.06480059681978671, 0.15939344219589202, 0.07338689417042887, 0.024680919325583854, 0.058636247182903486, -0.04281461578069347, 0.08139142968965861, -0.07812328306969517, 0.08074161544787775, -0.0010014545182218417, 0.13147171298938803, 0.06684933868482944, 0.015628696230288782, -0.04906224842679459, -0.018388193176349116, -0.04695091471132445, 0.00565740061428724, -0.0131781297075922, 0.06100395936416255, 0.0906772597183477, 0.04966247197157914, 0.025184607301226063, 0.04241537414709371, 0.0743708172090937, 0.16967162879778303, 0.04767058431628983, 0.011524086693082731, 0.025894271210794715, -0.022920596518152297, 0.012404584158041316, 0.008520653827497055, 0.13043172606980344, 0.12093748184379992, 0.03203312783592971, -0.042391333944894694, 0.10701342819758834, 0.08378535862775835, 0.08862965906781606, 0.07629354110589659, 0.0676237407780211, 0.051772020930850746, 0.05889675481217035, 0.02726153318301795, 0.000623956866181962, 0.0767962683448474, 0.03235655396432389, 0.026882437336610922, 0.08239028515037891, 0.08210832735115603, 0.10453257266190448, 0.05779716166118636, 0.06844660993861734, -0.012970715716707545, 0.06491006418037819, 0.04472628007410175, 0.014179554200398901, 0.007288370044234801, 0.005514786647306078, -0.07251726021963309, 0.001941763283071798, 0.012650732443820855, 0.15733110795082964, 0.11491017740519216, 0.05305981637315043, 0.06902155911985404, 0.14907294225252538, 0.0004904978284478668, 0.07661135638514677, 0.13655271768891622, 0.0883100590632256, 0.14230156725214474, 0.09765399274412939, 0.09985935011349921, -0.010151799092910673, 0.03483729119731086, 0.05945375027201103, 0.12228449356290493, 0.10240969429396043, 0.03431655302363408, -0.004098615908097594, 0.03075460437465088, 0.13633735337522854, 0.09042938134747995, 0.017505041191476986, 0.12999080033689028, 0.11088831766320563, 0.1313141619755048, 0.046241904723802046, 0.1014972851604973, 0.004191539543369887, 0.0984375375380163, 0.03194947869748388, 0.06454947892968368, 0.16022800080223476, 0.15825904414715447, 0.061033657937390275, 0.02879086164220271, 0.08359504731653374, -0.022189431407450458, 0.07368033566747076, 0.0567429491854643, 0.12650094554109473, 0.1261849142027696, 0.11355345609774782, 0.0948502587534502, 0.04455877458177069, 0.06271742533830295, 0.07514542787694542, 0.10020256549917184, 0.055742920863791984, -0.02236226370493236, 0.048251549838873295, -0.03585500101498492, -0.013097681237225526, 0.03440214229153702, 0.045306559026821194, 0.030786219733060602, 0.051632548527031544, 0.1677280281947144, 0.1045703531815422, 0.1496719239518419, 0.1392059391444616, 0.12630566958445058, 0.11656781346196375, 0.049208834014092456, 0.08240459659826026, 0.0869996957796198, 0.09494412985287007, -0.021523812720027385, 0.01280251553384269, 0.04129423581344488, 0.11814935845629569, 0.11598900513151662, 0.15597395328088168, 0.14255761823959778, 0.09475170212102657, 0.135299184558995, -0.003507870818410729, 0.13936107023514163, 0.24380404581723542, 0.19745570104851876, 0.12689987933826347, 0.17199866520162047, 0.15945327451121488, 0.08228333693708359, 0.19049273804494543, 0.16310982325783707, -0.09639008078019673, 0.11596087158668258, 0.05365875165859705, 0.18323296409616754, 0.06905940791454881, 0.18044403225320824, 0.13423574454768064, 0.18234728635544767, 0.21838318011328448, 0.06555339958878588, 0.08606400214415925, 0.10700083273893762, 0.1408957524416798, 0.17133520009741524, 0.15216763425433816, 0.18724902430288332, 0.09599511241284815, 0.15740718931362652, 0.13184515600186822, 0.021342613389260332, 0.16979082765239728, 0.23279309008089738, 0.21919282469375478, 0.11777255285729846, 0.17661588635189882, 0.2268440293088974, 0.16773724648292065, 0.20472249160667505, 0.07603071218158018, 0.14567655793244508, 0.1555787208180864, 0.149721704971671, 0.16032855864911685, 0.18449919704110251, 0.14856859754433874, 0.04742884211902296, 0.09497305661879146, 0.1915369124603115, 0.09365790069803193, 0.17740257495204212, 0.12268595113160131, 0.18212609427717688, 0.18759829782975934, 0.07863662999349283, 0.06253479290147954, 0.1993610455335078, 0.10259220631589681, 0.018746998723187216, 0.0863884819504649, 0.07241446054995135, 0.03759960888309793, 0.18971952881970322, 0.21435899331354077, 0.06149872282297314, 0.12202438599185957, 0.1245900031923686, 0.1128357497091879, -0.009088446510417958, 0.10125914350765902, 0.14997292941868529, 0.148896192449227, 0.06680781931105202, 0.10350070000453204, -0.007187053762590226, -0.03875496548377781, -0.09194095282904889, -0.01792174893083088, -0.018123356132584124, 0.07844529772877426, -0.08525163181434015, -0.0062862322989107105, -0.07196608325277326, 0.0023704396932195866, -0.017564256097109158, -0.010712442397432903, 0.02781743282861525, -0.06659629635714806, 0.01271795907710405, -0.010441749140890818, 0.05743614575574745, -0.012246391111448589, 0.003681305789014899, -0.025296119187974555, -0.055419027858832626, 0.009490310436358859, 0.027708790606320706, 0.05717048058910401, -0.00505980255874051, 0.01798385938198947, 0.01806730232176457, 0.029779629138160384, 0.03652409322474872, 0.04828782098831169, 0.08220164363535562, 0.04160643841459345, 0.036486398222213896, 0.081172836319935, 0.13567616448507083, 0.012026049433876623, -0.03138802491320801, 0.012932178091251911, -0.01895012988715631, -0.04396852862066435, -0.03526044623408455, -0.024919425217822765, -0.00225668321871824], \"xaxis\": \"x\", \"y\": [-0.017082025562142382, -0.041260418715891624, -0.03041797091263891, 0.055590775138262896, -0.08324902520440541, -0.10336812993825838, 0.042311319402063174, 0.01851323364325864, 0.01707296733143854, 0.046325783342965894, 0.06307980302878587, -0.01890980984542922, 0.010795253377797428, 0.047958301162098316, 0.08376179092822322, 0.043392928154118514, -0.07976233736716293, 0.0469572574253922, 0.06559699876747367, 0.006742514640582156, -0.009223215069321998, 0.03539432912515611, 0.03245327991242153, 0.05153694749441574, 0.020296161312201993, 0.03375516235332648, 0.010882873997894166, -0.03428440301922065, 0.08167406206779139, 0.15087682287895685, 0.0721690681117293, 0.0548622392610041, 0.07533731449070483, 0.045584723904418624, 0.0575393635155192, 0.039255404508182, 0.07178596974175869, 0.01619883373139268, 0.07118281496213189, 0.050775089437926434, -0.003642376169785305, 0.012080496932293896, 0.08052953068290436, -0.03199997606434043, 0.008063150459029897, 0.05179090458704863, 0.07275812046602849, 0.0376927494771629, 0.06901419011608502, 0.05878296736187756, 0.05566444492561667, 0.08132881729890809, -0.031945341106516825, -0.032920325236139164, -0.006510163475065769, 0.06970835548995342, 0.02131493569526649, -0.03971273177648485, 0.05175590484257817, 0.08396864585340597, 0.07251389793285448, 0.1335544168786075, 0.05909357856532903, 0.07647968040955608, 0.05523812632739251, 0.09275434134743869, 0.06628015009903541, 0.03876634026967105, 0.02853020592954768, 0.07272524562151904, 0.14325563862648133, 0.07953366419933122, -0.01661535217637, 0.03402329747240102, 0.03890582744784446, 0.09431072746296067, 0.06414940516909087, 0.021263609297175735, 0.10173092222913731, 0.08046564343151107, 0.11886197523185588, 0.13026559107681893, 0.11615774370185263, 0.08652893908091765, -0.013622685036263002, 0.024679163616563957, 0.11276505456650358, 0.09696152464211374, 0.17485260842354025, 0.13965275323391882, 0.07930963907575429, 0.042896864359160285, -0.013777218548833842, 0.08381122610970199, 0.052781841645186914, 0.003398539760898385, 0.23437318143315056, -0.03175022097324754, 0.10702436317788853, 0.11829516660663561, -0.02260454741570359, 0.06464686627141716, 0.04868811403709885, 0.10177777037932362, 0.05545790469594045, 0.014763149889150073, 0.07675029006619644, 0.14382211590123511, 0.1452363609403646, 0.12373464825862643, 0.2531727621817693, 0.11962438223422406, 0.1836121195214594, 0.017361045850873547, 0.10450994948974877, 0.037567267899044944, 0.08874906299813158, 0.10502210047315955, 0.13574135106541188, 0.1241665501321168, 0.032720119089663664, -0.00038415575132938126, 0.10684824075420117, 0.05887938976270065, 0.13081519587380527, -0.053887151627545135, 0.018282952307939703, -0.03778483393141176, 0.07272651786715818, -0.00912413947233974, 0.22338304881265977, 0.11977187909915853, 0.04660532744405369, 0.014572930961524382, -0.0007599924590125458, 0.07409930990049701, 0.0660171188801262, 0.017106776776068477, 0.14968796292280998, 0.038261863687759703, 0.08805290218948497, 0.09743213781544598, 0.1205506672677473, 0.11909088433692695, 0.14891412627303513, 0.09121916354179908, -0.036786666929763304, 0.11326470147179869, -0.030284937599866873, 0.09339903908887112, 0.05643846863976758, 0.15455254577438565, 0.04984682956384811, 0.011510481327847988, -0.0015725915628526771, 0.07477253934765614, 0.12943879876701192, 0.15844966863429097, 0.09785544818647003, 0.25888990048996813, 0.07525810453256267, 0.09218877401515879, 0.030123748365011225, 0.03359916064947797, 0.09382701311349755, 0.20912205024708172, 0.017412585627615884, 0.15681595363473722, 0.03114197838901899, 0.13627890474389728, 0.04758771947278552, 0.11589654848288988, 0.10774418228142439, 0.08507396985173733, 0.09031409269103693, 0.021361966844082703, -0.024315297461165227, 0.10218662231882183, 0.1063103848013282, 0.022338597862220373, 0.05547372429833668, 0.03457272754482521, 0.02454233132854266, 0.12212328331570015, 0.044951545019772415, 0.13233534266188776, 0.1262617528142761, 0.10832549123291992, 0.11371218602656229, 0.07259929985113549, 0.11106630787381869, 0.10211926769049084, 0.034091428004325686, -0.0020318960024960546, 0.08953379946308031, 0.047667102137811626, 0.06688327090273095, -0.02345943604614673, 0.09381110310277585, 0.07298561673740209, 0.11469471535888637, 0.14320360640843524, 0.13740651617447464, 0.08467961021074362, 0.009848260263407953, 0.058763977951053134, 0.15471887778635254, -0.009086593740989128, 0.1255635107166281, 0.09351595038374466, 0.13432824500021218, 0.0041705575110614875, 0.03989327021595941, 0.06544359902160898, 0.06953611020030495, 0.09364170366949182, 0.09295583855036862, 0.13202872407868335, 0.1625661079324772, 0.06331512249948824, 0.002700497522194341, -0.0038251515586016065, 0.10234716617122937, 0.09395645964131308, 0.15927427176764355, -0.0018405701583201716, 0.04280376796570403, 0.10150058490806607, 0.06311078848638134, -0.033346433134573146, 0.004691712018373911, 0.028574322476552016, -0.0132812101586424, 0.06440062297404496, -0.00764459714996876, 0.04259859927365693, -0.019249870586909686, -0.029893466428572425, -0.018951557046698195, -0.03440320718712449, 0.01535793821975981, -0.048465266893219214, -0.031103868519067917, -0.03668070966462156, -0.019650911147629593, -0.08492929779347382, -0.043966725853174196, -0.02073193393275156, -0.02223381361964852, -0.0380106997166693, -0.0888340341707587, -0.022839376141270587, -0.03641919069705005, 0.036535481695171956, -0.0004057217111710815, -0.06804168495341559, 0.02459472471727541, -0.015965432239698884, -0.046671610466643206, -0.02115134288537209, -0.01771592481254915, -0.03168750786144172, -0.017386815174534713, -0.03689908217097548, -0.06705066670671886, -0.01493284779365074, -0.013123535409459642, -0.011075039068081839, -0.025912670525042574, -0.0561480877274244, -0.04013807528721089, -0.03128893488773943, -0.0220927659868873, -0.04198257771132859, -0.04899963733747413, 0.022752251271867672, -0.07087443648128451, -0.0580083167392477, -0.02886971612230357, -0.08357795765860897, -0.04176689921406748, -0.005385143426585347, -0.026314298508850704, 0.12705453753329912, 0.042386889222098885, 0.09768393405117805, 0.11164492913115419, 0.14367918085806522, 0.04438590169112644, 0.06596883319935667, -0.017943384841525533, 0.13998527427459376, 0.1734170637991779, -0.04162755661058289, 0.057488121062513886, -0.0465838962730253, 0.07365197208566356, 0.0772853075306312, 0.06353596641072552, 0.15412038554542998, 0.10651207602832773, 0.0684264083881774, -0.019962557814052456, 0.1402784751509943, -0.037497958551190196, 0.00892291469998137, 0.1068211925625057, 0.10168319381262057, 0.10864767953566418, 0.12469392527469926, 0.10176935670887521, 0.005425942838174146, 0.1769990000607819, 0.03162472536999129, 0.058192595361987946, 0.13709376581835298, 0.17837593070236227, 0.07802778417572917, -0.0008329335491891313, -0.018671425755898995, -0.02166022016138704, 0.176518212266653, 0.033726697121207606, 0.10095297461713801, 0.04200034581272892, 0.07543479425371513, 0.04362971625312707, 0.11284798137229662, 0.10665043227499542, 0.08596236295389315, 0.18633105880551018, -0.047975715761920085, 0.00399714534369594, 0.10040324020312819, 0.044043569342742735, 0.0843257423697345, 0.14918379756949815, -0.03573811989008709, 0.04225294718729527, 0.0038307475509314235, -0.041354701715939135, -0.032407771436016766, 0.06999404843268082, 0.03883946480246197, -0.056941214255109125, 0.04588977297893891, 0.010524316279249692, 0.06404032236621095, -0.055364681268765654, 0.06062749163590174, -0.003077556208949269, 0.11103849039999408, -0.03632678175887742, -0.000857197361320175, -0.03293153289471221, 0.027511674028036864, 0.016784717663589795, 0.09265218767180566, 0.005312837463646408, 0.027457827320903707, 0.06569958447235293, 0.06894676375481901, 0.08921638039844847, 0.021942091909711116, 0.06521179295355213, 0.08705800624415008, 0.09204691076724826, 0.13413221073408774, 0.04444944726384566, 0.08866124206335006, 0.04091147944641089, 0.07219459304520895, 0.12306738721108089, 0.08276991512567575, 0.07202908175577802, 0.0800013671232094, 0.12675599594708029, 0.06264033621116423, 0.18187032082011462, 0.09365024146954269, 0.07610240816142115, 0.11396104708717526, 0.06215700665390639, 0.1001499418336094, 0.07322789111850073, 0.09098168826360896, 0.07890347072694585, 0.08751361315442747, 0.03879848071208745, 0.08295521885367185, 0.07438127343299142, 0.08109510680564284, 0.11205962095986977, 0.04445260135009758, 0.0891054996181889, 0.05680684495266501, 0.09296875245713818], \"yaxis\": \"y\"}, {\"alignmentgroup\": \"True\", \"hoverlabel\": {\"namelength\": 0}, \"hovertemplate\": \"county=Augusta<br>PC4=%{x}\", \"legendgroup\": \"county=Augusta\", \"marker\": {\"color\": \"#EF553B\", \"symbol\": \"circle\"}, \"name\": \"county=Augusta\", \"notched\": true, \"offsetgroup\": \"county=Augusta\", \"showlegend\": false, \"type\": \"box\", \"x\": [-0.016871156157164603, 0.07945366671856652, 0.06105868256665812, 0.03064741298300395, 0.020506468397492518, 0.10073446642679333, 0.09620176459483006, 0.10995812691660987, 0.08917211584268436, 0.09279354374169156, 0.06207676634387497, 0.04231815444822052, 0.10951713576917528, 0.08038886826537094, 0.006371329050417535, 0.09027711227257225, 0.1028666671517999, 0.07474349758852641, 0.015422379474789992, 0.10002111371768861, 0.050378390530682035, 0.10767002516992429, 0.11167776737058228, 0.011469482858381877, 0.14610499296287693, 0.07940633583696899, 0.06821822550809813, 0.059056319293786984, 0.07915129764259884, 0.04638462849322899, 0.04792388964418482, 0.18579647464231508, 0.2057932591708651, 0.1481473818158588, 0.08512731107353677, 0.12597195651349372, 0.114775012297609, 0.1609436994247443, 0.1244564742770685, 0.03646168128350839, 0.133048614154498, 0.07982479866156415, 0.1273381716741889, 0.06397331990378949, 0.10279159760657781, 0.11017114402848367, 0.1596612064198732, 0.15305091543651453, 0.10937912426698625, 0.10086072629110958, 0.10254769146967829, 0.1842147560788339, 0.03462637497405837, 0.029725270956706424, 0.036873803921631976, -0.029912480272273806, 0.008309288720087035, -0.0004194307727467019, -0.10386395989146231, 0.11295956339026897, 0.15989395947880017, 0.02855668369739444, 0.019057103036358818, 0.061441139862547, 0.1131538446483262, -0.0147142346880152, 0.12756212558959762, 0.04441477127379053, 0.081157118930342, 0.11530885772025691, 0.07738337947117999, 0.15557498428809077, 0.0568436984611295, 0.11417335042435503, 0.04927598883671652, 0.11167479421756629, 0.08306410174126375, 0.03665985718082442, -0.01844312513307746, 0.04092913508858313, -0.015428252389594303, 0.002961223614717361, 0.06372544306550208, 0.004002037811742791, 0.0268439036257478, 0.07116742093429332, -0.03581056142499872, 0.04277177901171252, 0.01087859529313542, -0.018033939213052547, 0.0924146039590104, 0.12398878277064714, 0.13208466096681595, 0.024728940650398594, 0.07221593193938095, 0.033256990451313216, 0.034481805052035505, 0.060590665083848604, 0.06379984606966332, 0.00047289778213550275, 0.14414896409165184, 0.0898498669397356, 0.10286928227638376, 0.10285839842453628, 0.05506929881388986, 0.12430283316085325, 0.07468257005539336, 0.045539287833366505, 0.004828121117071275, 0.05114979867094271, 0.013834914624687406, 0.04710307149316316, 0.06776229364208182, 0.1683098265222295, -0.03679935039063117, 0.10884390013681676, 0.03408627334586223, -0.014800818190768289, 0.08649688800684958, 0.017776571429009715, 0.06222108134776698, 0.12214640016249352, -0.023764611534012336, 0.020507538039488734, -0.027884055680103055, 0.08502702066491848, 0.022039517633867717, 0.05503622488263972, 0.009509257664936937, 0.12190669358637563, -0.003314560912515678, 0.05115576511311814, 0.04431774605624486, 0.10669874134033475, 0.09258488982428584, 0.04599285533520644, 0.14579220300774426, 0.019746892345589188, -0.010840807157895396, 0.0005347519100056474, -0.04406720778631488, -0.009859479594326953, 0.03741096342219822, 0.0389709736942348, -0.06480059681978671, 0.15939344219589202, 0.07338689417042887, 0.024680919325583854, 0.058636247182903486, -0.04281461578069347, 0.08139142968965861, -0.07812328306969517, 0.08074161544787775, -0.0010014545182218417, 0.13147171298938803, 0.06684933868482944, 0.015628696230288782, -0.04906224842679459, -0.018388193176349116, -0.04695091471132445, 0.00565740061428724, -0.0131781297075922, 0.06100395936416255, 0.0906772597183477, 0.04966247197157914, 0.025184607301226063, 0.04241537414709371, 0.0743708172090937, 0.16967162879778303, 0.04767058431628983, 0.011524086693082731, 0.025894271210794715, -0.022920596518152297, 0.012404584158041316, 0.008520653827497055, 0.13043172606980344, 0.12093748184379992, 0.03203312783592971, -0.042391333944894694, 0.10701342819758834, 0.08378535862775835, 0.08862965906781606, 0.07629354110589659, 0.0676237407780211, 0.051772020930850746, 0.05889675481217035, 0.02726153318301795, 0.000623956866181962, 0.0767962683448474, 0.03235655396432389, 0.026882437336610922, 0.08239028515037891, 0.08210832735115603, 0.10453257266190448, 0.05779716166118636, 0.06844660993861734, -0.012970715716707545, 0.06491006418037819, 0.04472628007410175, 0.014179554200398901, 0.007288370044234801, 0.005514786647306078, -0.07251726021963309, 0.001941763283071798, 0.012650732443820855, 0.15733110795082964, 0.11491017740519216, 0.05305981637315043, 0.06902155911985404, 0.14907294225252538, 0.0004904978284478668, 0.07661135638514677, 0.13655271768891622, 0.0883100590632256, 0.14230156725214474, 0.09765399274412939, 0.09985935011349921, -0.010151799092910673, 0.03483729119731086, 0.05945375027201103, 0.12228449356290493, 0.10240969429396043, 0.03431655302363408, -0.004098615908097594, 0.03075460437465088, 0.13633735337522854, 0.09042938134747995, 0.017505041191476986, 0.12999080033689028, 0.11088831766320563, 0.1313141619755048, 0.046241904723802046, 0.1014972851604973, 0.004191539543369887, 0.0984375375380163, 0.03194947869748388, 0.06454947892968368, 0.16022800080223476, 0.15825904414715447, 0.061033657937390275, 0.02879086164220271, 0.08359504731653374, -0.022189431407450458, 0.07368033566747076, 0.0567429491854643, 0.12650094554109473, 0.1261849142027696, 0.11355345609774782, 0.0948502587534502, 0.04455877458177069, 0.06271742533830295, 0.07514542787694542, 0.10020256549917184, 0.055742920863791984, -0.02236226370493236, 0.048251549838873295, -0.03585500101498492, -0.013097681237225526, 0.03440214229153702, 0.045306559026821194, 0.030786219733060602, 0.051632548527031544, 0.1677280281947144, 0.1045703531815422, 0.1496719239518419, 0.1392059391444616, 0.12630566958445058, 0.11656781346196375, 0.049208834014092456, 0.08240459659826026, 0.0869996957796198, 0.09494412985287007, -0.021523812720027385, 0.01280251553384269, 0.04129423581344488, 0.11814935845629569, 0.11598900513151662, 0.15597395328088168, 0.14255761823959778, 0.09475170212102657, 0.135299184558995, -0.003507870818410729, 0.13936107023514163, 0.24380404581723542, 0.19745570104851876, 0.12689987933826347, 0.17199866520162047, 0.15945327451121488, 0.08228333693708359, 0.19049273804494543, 0.16310982325783707, -0.09639008078019673, 0.11596087158668258, 0.05365875165859705, 0.18323296409616754, 0.06905940791454881, 0.18044403225320824, 0.13423574454768064, 0.18234728635544767, 0.21838318011328448, 0.06555339958878588, 0.08606400214415925, 0.10700083273893762, 0.1408957524416798, 0.17133520009741524, 0.15216763425433816, 0.18724902430288332, 0.09599511241284815, 0.15740718931362652, 0.13184515600186822, 0.021342613389260332, 0.16979082765239728, 0.23279309008089738, 0.21919282469375478, 0.11777255285729846, 0.17661588635189882, 0.2268440293088974, 0.16773724648292065, 0.20472249160667505, 0.07603071218158018, 0.14567655793244508, 0.1555787208180864, 0.149721704971671, 0.16032855864911685, 0.18449919704110251, 0.14856859754433874, 0.04742884211902296, 0.09497305661879146, 0.1915369124603115, 0.09365790069803193, 0.17740257495204212, 0.12268595113160131, 0.18212609427717688, 0.18759829782975934, 0.07863662999349283, 0.06253479290147954, 0.1993610455335078, 0.10259220631589681, 0.018746998723187216, 0.0863884819504649, 0.07241446054995135, 0.03759960888309793, 0.18971952881970322, 0.21435899331354077, 0.06149872282297314, 0.12202438599185957, 0.1245900031923686, 0.1128357497091879, -0.009088446510417958, 0.10125914350765902, 0.14997292941868529, 0.148896192449227, 0.06680781931105202, 0.10350070000453204, -0.007187053762590226, -0.03875496548377781, -0.09194095282904889, -0.01792174893083088, -0.018123356132584124, 0.07844529772877426, -0.08525163181434015, -0.0062862322989107105, -0.07196608325277326, 0.0023704396932195866, -0.017564256097109158, -0.010712442397432903, 0.02781743282861525, -0.06659629635714806, 0.01271795907710405, -0.010441749140890818, 0.05743614575574745, -0.012246391111448589, 0.003681305789014899, -0.025296119187974555, -0.055419027858832626, 0.009490310436358859, 0.027708790606320706, 0.05717048058910401, -0.00505980255874051, 0.01798385938198947, 0.01806730232176457, 0.029779629138160384, 0.03652409322474872, 0.04828782098831169, 0.08220164363535562, 0.04160643841459345, 0.036486398222213896, 0.081172836319935, 0.13567616448507083, 0.012026049433876623, -0.03138802491320801, 0.012932178091251911, -0.01895012988715631, -0.04396852862066435, -0.03526044623408455, -0.024919425217822765, -0.00225668321871824], \"xaxis\": \"x2\", \"yaxis\": \"y2\"}],\n",
       "                        {\"height\": 600, \"legend\": {\"tracegroupgap\": 0}, \"margin\": {\"t\": 60}, \"template\": {\"data\": {\"bar\": [{\"error_x\": {\"color\": \"#2a3f5f\"}, \"error_y\": {\"color\": \"#2a3f5f\"}, \"marker\": {\"line\": {\"color\": \"#E5ECF6\", \"width\": 0.5}}, \"type\": \"bar\"}], \"barpolar\": [{\"marker\": {\"line\": {\"color\": \"#E5ECF6\", \"width\": 0.5}}, \"type\": \"barpolar\"}], \"carpet\": [{\"aaxis\": {\"endlinecolor\": \"#2a3f5f\", \"gridcolor\": \"white\", \"linecolor\": \"white\", \"minorgridcolor\": \"white\", \"startlinecolor\": \"#2a3f5f\"}, \"baxis\": {\"endlinecolor\": \"#2a3f5f\", \"gridcolor\": \"white\", \"linecolor\": \"white\", \"minorgridcolor\": \"white\", \"startlinecolor\": \"#2a3f5f\"}, \"type\": \"carpet\"}], \"choropleth\": [{\"colorbar\": {\"outlinewidth\": 0, \"ticks\": \"\"}, \"type\": \"choropleth\"}], \"contour\": [{\"colorbar\": {\"outlinewidth\": 0, \"ticks\": \"\"}, \"colorscale\": [[0.0, \"#0d0887\"], [0.1111111111111111, \"#46039f\"], [0.2222222222222222, \"#7201a8\"], [0.3333333333333333, \"#9c179e\"], [0.4444444444444444, \"#bd3786\"], [0.5555555555555556, \"#d8576b\"], [0.6666666666666666, \"#ed7953\"], [0.7777777777777778, \"#fb9f3a\"], [0.8888888888888888, \"#fdca26\"], [1.0, \"#f0f921\"]], \"type\": \"contour\"}], \"contourcarpet\": [{\"colorbar\": {\"outlinewidth\": 0, \"ticks\": \"\"}, \"type\": \"contourcarpet\"}], \"heatmap\": [{\"colorbar\": {\"outlinewidth\": 0, \"ticks\": \"\"}, \"colorscale\": [[0.0, \"#0d0887\"], [0.1111111111111111, \"#46039f\"], [0.2222222222222222, \"#7201a8\"], [0.3333333333333333, \"#9c179e\"], [0.4444444444444444, \"#bd3786\"], [0.5555555555555556, \"#d8576b\"], [0.6666666666666666, \"#ed7953\"], [0.7777777777777778, \"#fb9f3a\"], [0.8888888888888888, \"#fdca26\"], [1.0, \"#f0f921\"]], \"type\": \"heatmap\"}], \"heatmapgl\": [{\"colorbar\": {\"outlinewidth\": 0, \"ticks\": \"\"}, \"colorscale\": [[0.0, \"#0d0887\"], [0.1111111111111111, \"#46039f\"], [0.2222222222222222, \"#7201a8\"], [0.3333333333333333, \"#9c179e\"], [0.4444444444444444, \"#bd3786\"], [0.5555555555555556, \"#d8576b\"], [0.6666666666666666, \"#ed7953\"], [0.7777777777777778, \"#fb9f3a\"], [0.8888888888888888, \"#fdca26\"], [1.0, \"#f0f921\"]], \"type\": \"heatmapgl\"}], \"histogram\": [{\"marker\": {\"colorbar\": {\"outlinewidth\": 0, \"ticks\": \"\"}}, \"type\": \"histogram\"}], \"histogram2d\": [{\"colorbar\": {\"outlinewidth\": 0, \"ticks\": \"\"}, \"colorscale\": [[0.0, \"#0d0887\"], [0.1111111111111111, \"#46039f\"], [0.2222222222222222, \"#7201a8\"], [0.3333333333333333, \"#9c179e\"], [0.4444444444444444, \"#bd3786\"], [0.5555555555555556, \"#d8576b\"], [0.6666666666666666, \"#ed7953\"], [0.7777777777777778, \"#fb9f3a\"], [0.8888888888888888, \"#fdca26\"], [1.0, \"#f0f921\"]], \"type\": \"histogram2d\"}], \"histogram2dcontour\": [{\"colorbar\": {\"outlinewidth\": 0, \"ticks\": \"\"}, \"colorscale\": [[0.0, \"#0d0887\"], [0.1111111111111111, \"#46039f\"], [0.2222222222222222, \"#7201a8\"], [0.3333333333333333, \"#9c179e\"], [0.4444444444444444, \"#bd3786\"], [0.5555555555555556, \"#d8576b\"], [0.6666666666666666, \"#ed7953\"], [0.7777777777777778, \"#fb9f3a\"], [0.8888888888888888, \"#fdca26\"], [1.0, \"#f0f921\"]], \"type\": \"histogram2dcontour\"}], \"mesh3d\": [{\"colorbar\": {\"outlinewidth\": 0, \"ticks\": \"\"}, \"type\": \"mesh3d\"}], \"parcoords\": [{\"line\": {\"colorbar\": {\"outlinewidth\": 0, \"ticks\": \"\"}}, \"type\": \"parcoords\"}], \"pie\": [{\"automargin\": true, \"type\": \"pie\"}], \"scatter\": [{\"marker\": {\"colorbar\": {\"outlinewidth\": 0, \"ticks\": \"\"}}, \"type\": \"scatter\"}], \"scatter3d\": [{\"line\": {\"colorbar\": {\"outlinewidth\": 0, \"ticks\": \"\"}}, \"marker\": {\"colorbar\": {\"outlinewidth\": 0, \"ticks\": \"\"}}, \"type\": \"scatter3d\"}], \"scattercarpet\": [{\"marker\": {\"colorbar\": {\"outlinewidth\": 0, \"ticks\": \"\"}}, \"type\": \"scattercarpet\"}], \"scattergeo\": [{\"marker\": {\"colorbar\": {\"outlinewidth\": 0, \"ticks\": \"\"}}, \"type\": \"scattergeo\"}], \"scattergl\": [{\"marker\": {\"colorbar\": {\"outlinewidth\": 0, \"ticks\": \"\"}}, \"type\": \"scattergl\"}], \"scattermapbox\": [{\"marker\": {\"colorbar\": {\"outlinewidth\": 0, \"ticks\": \"\"}}, \"type\": \"scattermapbox\"}], \"scatterpolar\": [{\"marker\": {\"colorbar\": {\"outlinewidth\": 0, \"ticks\": \"\"}}, \"type\": \"scatterpolar\"}], \"scatterpolargl\": [{\"marker\": {\"colorbar\": {\"outlinewidth\": 0, \"ticks\": \"\"}}, \"type\": \"scatterpolargl\"}], \"scatterternary\": [{\"marker\": {\"colorbar\": {\"outlinewidth\": 0, \"ticks\": \"\"}}, \"type\": \"scatterternary\"}], \"surface\": [{\"colorbar\": {\"outlinewidth\": 0, \"ticks\": \"\"}, \"colorscale\": [[0.0, \"#0d0887\"], [0.1111111111111111, \"#46039f\"], [0.2222222222222222, \"#7201a8\"], [0.3333333333333333, \"#9c179e\"], [0.4444444444444444, \"#bd3786\"], [0.5555555555555556, \"#d8576b\"], [0.6666666666666666, \"#ed7953\"], [0.7777777777777778, \"#fb9f3a\"], [0.8888888888888888, \"#fdca26\"], [1.0, \"#f0f921\"]], \"type\": \"surface\"}], \"table\": [{\"cells\": {\"fill\": {\"color\": \"#EBF0F8\"}, \"line\": {\"color\": \"white\"}}, \"header\": {\"fill\": {\"color\": \"#C8D4E3\"}, \"line\": {\"color\": \"white\"}}, \"type\": \"table\"}]}, \"layout\": {\"annotationdefaults\": {\"arrowcolor\": \"#2a3f5f\", \"arrowhead\": 0, \"arrowwidth\": 1}, \"coloraxis\": {\"colorbar\": {\"outlinewidth\": 0, \"ticks\": \"\"}}, \"colorscale\": {\"diverging\": [[0, \"#8e0152\"], [0.1, \"#c51b7d\"], [0.2, \"#de77ae\"], [0.3, \"#f1b6da\"], [0.4, \"#fde0ef\"], [0.5, \"#f7f7f7\"], [0.6, \"#e6f5d0\"], [0.7, \"#b8e186\"], [0.8, \"#7fbc41\"], [0.9, \"#4d9221\"], [1, \"#276419\"]], \"sequential\": [[0.0, \"#0d0887\"], [0.1111111111111111, \"#46039f\"], [0.2222222222222222, \"#7201a8\"], [0.3333333333333333, \"#9c179e\"], [0.4444444444444444, \"#bd3786\"], [0.5555555555555556, \"#d8576b\"], [0.6666666666666666, \"#ed7953\"], [0.7777777777777778, \"#fb9f3a\"], [0.8888888888888888, \"#fdca26\"], [1.0, \"#f0f921\"]], \"sequentialminus\": [[0.0, \"#0d0887\"], [0.1111111111111111, \"#46039f\"], [0.2222222222222222, \"#7201a8\"], [0.3333333333333333, \"#9c179e\"], [0.4444444444444444, \"#bd3786\"], [0.5555555555555556, \"#d8576b\"], [0.6666666666666666, \"#ed7953\"], [0.7777777777777778, \"#fb9f3a\"], [0.8888888888888888, \"#fdca26\"], [1.0, \"#f0f921\"]]}, \"colorway\": [\"#636efa\", \"#EF553B\", \"#00cc96\", \"#ab63fa\", \"#FFA15A\", \"#19d3f3\", \"#FF6692\", \"#B6E880\", \"#FF97FF\", \"#FECB52\"], \"font\": {\"color\": \"#2a3f5f\"}, \"geo\": {\"bgcolor\": \"white\", \"lakecolor\": \"white\", \"landcolor\": \"#E5ECF6\", \"showlakes\": true, \"showland\": true, \"subunitcolor\": \"white\"}, \"hoverlabel\": {\"align\": \"left\"}, \"hovermode\": \"closest\", \"mapbox\": {\"style\": \"light\"}, \"paper_bgcolor\": \"white\", \"plot_bgcolor\": \"#E5ECF6\", \"polar\": {\"angularaxis\": {\"gridcolor\": \"white\", \"linecolor\": \"white\", \"ticks\": \"\"}, \"bgcolor\": \"#E5ECF6\", \"radialaxis\": {\"gridcolor\": \"white\", \"linecolor\": \"white\", \"ticks\": \"\"}}, \"scene\": {\"xaxis\": {\"backgroundcolor\": \"#E5ECF6\", \"gridcolor\": \"white\", \"gridwidth\": 2, \"linecolor\": \"white\", \"showbackground\": true, \"ticks\": \"\", \"zerolinecolor\": \"white\"}, \"yaxis\": {\"backgroundcolor\": \"#E5ECF6\", \"gridcolor\": \"white\", \"gridwidth\": 2, \"linecolor\": \"white\", \"showbackground\": true, \"ticks\": \"\", \"zerolinecolor\": \"white\"}, \"zaxis\": {\"backgroundcolor\": \"#E5ECF6\", \"gridcolor\": \"white\", \"gridwidth\": 2, \"linecolor\": \"white\", \"showbackground\": true, \"ticks\": \"\", \"zerolinecolor\": \"white\"}}, \"shapedefaults\": {\"line\": {\"color\": \"#2a3f5f\"}}, \"ternary\": {\"aaxis\": {\"gridcolor\": \"white\", \"linecolor\": \"white\", \"ticks\": \"\"}, \"baxis\": {\"gridcolor\": \"white\", \"linecolor\": \"white\", \"ticks\": \"\"}, \"bgcolor\": \"#E5ECF6\", \"caxis\": {\"gridcolor\": \"white\", \"linecolor\": \"white\", \"ticks\": \"\"}}, \"title\": {\"x\": 0.05}, \"xaxis\": {\"automargin\": true, \"gridcolor\": \"white\", \"linecolor\": \"white\", \"ticks\": \"\", \"title\": {\"standoff\": 15}, \"zerolinecolor\": \"white\", \"zerolinewidth\": 2}, \"yaxis\": {\"automargin\": true, \"gridcolor\": \"white\", \"linecolor\": \"white\", \"ticks\": \"\", \"title\": {\"standoff\": 15}, \"zerolinecolor\": \"white\", \"zerolinewidth\": 2}}}, \"xaxis\": {\"anchor\": \"y\", \"domain\": [0.0, 1.0], \"title\": {\"text\": \"PC4\"}}, \"xaxis2\": {\"anchor\": \"y2\", \"domain\": [0.0, 1.0], \"matches\": \"x\", \"showgrid\": true, \"showticklabels\": false}, \"yaxis\": {\"anchor\": \"x\", \"domain\": [0.0, 0.7326], \"title\": {\"text\": \"PC2\"}}, \"yaxis2\": {\"anchor\": \"x2\", \"domain\": [0.7426, 1.0], \"matches\": \"y2\", \"showgrid\": false, \"showline\": false, \"showticklabels\": false, \"ticks\": \"\"}},\n",
       "                        {\"responsive\": true}\n",
       "                    ).then(function(){\n",
       "                            \n",
       "var gd = document.getElementById('09cbaf5e-623e-4a0d-84e6-12bda44a9148');\n",
       "var x = new MutationObserver(function (mutations, observer) {{\n",
       "        var display = window.getComputedStyle(gd).display;\n",
       "        if (!display || display === 'none') {{\n",
       "            console.log([gd, 'removed!']);\n",
       "            Plotly.purge(gd);\n",
       "            observer.disconnect();\n",
       "        }}\n",
       "}});\n",
       "\n",
       "// Listen for the removal of the full notebook cells\n",
       "var notebookContainer = gd.closest('#notebook-container');\n",
       "if (notebookContainer) {{\n",
       "    x.observe(notebookContainer, {childList: true});\n",
       "}}\n",
       "\n",
       "// Listen for the clearing of the current output cell\n",
       "var outputEl = gd.closest('.output');\n",
       "if (outputEl) {{\n",
       "    x.observe(outputEl, {childList: true});\n",
       "}}\n",
       "\n",
       "                        })\n",
       "                };\n",
       "                });\n",
       "            </script>\n",
       "        </div>"
      ]
     },
     "metadata": {},
     "output_type": "display_data"
    }
   ],
   "source": [
    "vis_pcs(DCM_civil, 4, 2, 'county')"
   ]
  },
  {
   "cell_type": "code",
   "execution_count": 301,
   "metadata": {},
   "outputs": [
    {
     "name": "stdout",
     "output_type": "stream",
     "text": [
      "Letters PC2+ nt why lines present island got inform ca 54th get likeness tell letter health let write well please find these\n",
      "\n",
      "Letters PC2- she enemy s school heart her were their who his upon which our people shall should though love only by\n",
      "\n",
      "Letters PC4+ friend his friends upon present never happy should party health he feel state pleasure letter believe life our may subject\n",
      "\n",
      "Letters PC4- school send teacher love 1 colored schools teachers she andc scholars 2 come want box books got work money up\n"
     ]
    }
   ],
   "source": [
    "print_loadings(\"PC2\", \"PC4\", 20)"
   ]
  }
 ],
 "metadata": {
  "kernelspec": {
   "display_name": "Python 3 (ipykernel)",
   "language": "python",
   "name": "python3"
  },
  "language_info": {
   "codemirror_mode": {
    "name": "ipython",
    "version": 3
   },
   "file_extension": ".py",
   "mimetype": "text/x-python",
   "name": "python",
   "nbconvert_exporter": "python",
   "pygments_lexer": "ipython3",
   "version": "3.11.7"
  }
 },
 "nbformat": 4,
 "nbformat_minor": 4
}
